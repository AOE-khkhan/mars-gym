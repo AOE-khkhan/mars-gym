{
 "cells": [
  {
   "cell_type": "code",
   "execution_count": 1,
   "metadata": {},
   "outputs": [],
   "source": [
    "import findspark\n",
    "import os\n",
    "findspark.init()\n",
    "\n",
    "\n",
    "memory = '4g'\n",
    "os.environ[\"PYSPARK_SUBMIT_ARGS\"] = ' --driver-memory ' + memory + ' pyspark-shell'\n",
    "\n",
    "import pyspark\n",
    "import random\n",
    "\n",
    "from pyspark.sql import SparkSession\n",
    "spark = SparkSession.builder.appName('abc').getOrCreate()"
   ]
  },
  {
   "cell_type": "code",
   "execution_count": 2,
   "metadata": {},
   "outputs": [
    {
     "data": {
      "text/html": [
       "\n",
       "            <div>\n",
       "                <p><b>SparkSession - in-memory</b></p>\n",
       "                \n",
       "        <div>\n",
       "            <p><b>SparkContext</b></p>\n",
       "\n",
       "            <p><a href=\"http://192.168.1.4:4040\">Spark UI</a></p>\n",
       "\n",
       "            <dl>\n",
       "              <dt>Version</dt>\n",
       "                <dd><code>v2.3.3</code></dd>\n",
       "              <dt>Master</dt>\n",
       "                <dd><code>local[*]</code></dd>\n",
       "              <dt>AppName</dt>\n",
       "                <dd><code>abc</code></dd>\n",
       "            </dl>\n",
       "        </div>\n",
       "        \n",
       "            </div>\n",
       "        "
      ],
      "text/plain": [
       "<pyspark.sql.session.SparkSession at 0x7fdf6b7b5240>"
      ]
     },
     "execution_count": 2,
     "metadata": {},
     "output_type": "execute_result"
    }
   ],
   "source": [
    "spark"
   ]
  },
  {
   "cell_type": "code",
   "execution_count": 3,
   "metadata": {},
   "outputs": [],
   "source": [
    "from pyspark.sql.functions import explode, first\n",
    "import pyspark.sql.functions as f\n",
    "from pyspark.sql.functions import col, expr, when\n",
    "from pyspark.sql.types import DateType"
   ]
  },
  {
   "cell_type": "code",
   "execution_count": 4,
   "metadata": {},
   "outputs": [
    {
     "data": {
      "text/plain": [
       "'output/ifood/dataset/window_filter/accounts_indices_for_interactions_data.csv'"
      ]
     },
     "execution_count": 4,
     "metadata": {},
     "output_type": "execute_result"
    }
   ],
   "source": [
    "BASE_DIR: str = os.path.join(\"output\", \"ifood\")\n",
    "DATASET_DIR: str = os.path.join(BASE_DIR, \"dataset\")\n",
    "os.path.join(DATASET_DIR, 'window_filter', \"accounts_indices_for_interactions_data.csv\")"
   ]
  },
  {
   "cell_type": "code",
   "execution_count": 5,
   "metadata": {},
   "outputs": [],
   "source": [
    "df = spark.read.parquet('../../dataset/ufg_training_data')\n",
    "df_test = spark.read.parquet('../../dataset/ufg_test_data')"
   ]
  },
  {
   "cell_type": "code",
   "execution_count": 6,
   "metadata": {},
   "outputs": [
    {
     "name": "stdout",
     "output_type": "stream",
     "text": [
      "root\n",
      " |-- order_id: string (nullable = true)\n",
      " |-- search_id: string (nullable = true)\n",
      " |-- account_id: string (nullable = true)\n",
      " |-- merchant_id: string (nullable = true)\n",
      " |-- merc_list: array (nullable = true)\n",
      " |    |-- element: string (containsNull = true)\n",
      " |-- merc_score: array (nullable = true)\n",
      " |    |-- element: double (containsNull = true)\n",
      " |-- delivery_fee: array (nullable = true)\n",
      " |    |-- element: double (containsNull = true)\n",
      " |-- delivery_time: array (nullable = true)\n",
      " |    |-- element: integer (containsNull = true)\n",
      " |-- distance: array (nullable = true)\n",
      " |    |-- element: double (containsNull = true)\n",
      " |-- original_ranking_size: integer (nullable = true)\n",
      " |-- week_day: string (nullable = true)\n",
      " |-- shift: string (nullable = true)\n",
      " |-- order_date_local: date (nullable = true)\n",
      "\n"
     ]
    }
   ],
   "source": [
    "df_test.printSchema()"
   ]
  },
  {
   "cell_type": "code",
   "execution_count": 7,
   "metadata": {},
   "outputs": [
    {
     "data": {
      "text/plain": [
       "3764773"
      ]
     },
     "execution_count": 7,
     "metadata": {},
     "output_type": "execute_result"
    }
   ],
   "source": [
    "df_test.count()"
   ]
  },
  {
   "cell_type": "code",
   "execution_count": 6,
   "metadata": {},
   "outputs": [
    {
     "name": "stdout",
     "output_type": "stream",
     "text": [
      "+-----+--------------------+--------------------+------+--------------------+----+---------------+\n",
      "|shift|          account_id|         merchant_id|visits|        visit_events|buys|purchase_events|\n",
      "+-----+--------------------+--------------------+------+--------------------+----+---------------+\n",
      "| Dawn|00001c30-68c0-489...|01bc7956-e370-4cb...|     1|        [2019-03-30]|null|           null|\n",
      "| Dawn|00001ec2-8a94-43c...|66948144-76f8-493...|     1|        [2019-03-31]|null|           null|\n",
      "| Dawn|000033a9-c4f4-404...|9a657957-af83-41c...|     1|        [2019-06-03]|null|           null|\n",
      "| Dawn|00006865-47ca-467...|4e48a8a3-b851-420...|     1|        [2019-06-03]|null|           null|\n",
      "| Dawn|00008681-46b5-448...|8c69dce9-e1c4-48b...|     3|[2019-06-15, 2019...|   1|   [2019-06-15]|\n",
      "+-----+--------------------+--------------------+------+--------------------+----+---------------+\n",
      "only showing top 5 rows\n",
      "\n"
     ]
    }
   ],
   "source": [
    "#df_sample = df.limit(5).cache()\n",
    "df.show(5)"
   ]
  },
  {
   "cell_type": "code",
   "execution_count": 7,
   "metadata": {},
   "outputs": [
    {
     "name": "stdout",
     "output_type": "stream",
     "text": [
      "root\n",
      " |-- order_id: string (nullable = true)\n",
      " |-- search_id: string (nullable = true)\n",
      " |-- account_id: string (nullable = true)\n",
      " |-- merchant_id: string (nullable = true)\n",
      " |-- merc_list: array (nullable = true)\n",
      " |    |-- element: string (containsNull = true)\n",
      " |-- merc_score: array (nullable = true)\n",
      " |    |-- element: double (containsNull = true)\n",
      " |-- delivery_fee: array (nullable = true)\n",
      " |    |-- element: double (containsNull = true)\n",
      " |-- delivery_time: array (nullable = true)\n",
      " |    |-- element: integer (containsNull = true)\n",
      " |-- distance: array (nullable = true)\n",
      " |    |-- element: double (containsNull = true)\n",
      " |-- original_ranking_size: integer (nullable = true)\n",
      " |-- week_day: string (nullable = true)\n",
      " |-- shift: string (nullable = true)\n",
      " |-- order_date_local: date (nullable = true)\n",
      "\n"
     ]
    }
   ],
   "source": [
    "df_test.printSchema()"
   ]
  },
  {
   "cell_type": "code",
   "execution_count": 8,
   "metadata": {},
   "outputs": [
    {
     "name": "stdout",
     "output_type": "stream",
     "text": [
      "+--------------------+--------------------+--------------------+--------------------+----------------+\n",
      "|            order_id|          account_id|         merchant_id|           merc_list|order_date_local|\n",
      "+--------------------+--------------------+--------------------+--------------------+----------------+\n",
      "|f2f028cb-5e00-43b...|11090744-4b7d-444...|7b126ecc-ec86-45d...|[fe2f0c1b-d024-4b...|      2019-06-19|\n",
      "+--------------------+--------------------+--------------------+--------------------+----------------+\n",
      "only showing top 1 row\n",
      "\n"
     ]
    }
   ],
   "source": [
    "df_test.select(['order_id', 'account_id', 'merchant_id', 'merc_list', 'order_date_local']).show(1)"
   ]
  },
  {
   "cell_type": "code",
   "execution_count": 11,
   "metadata": {},
   "outputs": [
    {
     "name": "stdout",
     "output_type": "stream",
     "text": [
      "+---------------------+\n",
      "|min(order_date_local)|\n",
      "+---------------------+\n",
      "|           2019-06-17|\n",
      "+---------------------+\n",
      "\n"
     ]
    }
   ],
   "source": [
    "df_test.select(f.min('order_date_local')).show()"
   ]
  },
  {
   "cell_type": "code",
   "execution_count": 12,
   "metadata": {},
   "outputs": [
    {
     "name": "stdout",
     "output_type": "stream",
     "text": [
      "+---------------------+\n",
      "|max(order_date_local)|\n",
      "+---------------------+\n",
      "|           2019-06-24|\n",
      "+---------------------+\n",
      "\n"
     ]
    }
   ],
   "source": [
    "df_test.select(f.max('order_date_local')).show()"
   ]
  },
  {
   "cell_type": "markdown",
   "metadata": {},
   "source": [
    "### Explode "
   ]
  },
  {
   "cell_type": "code",
   "execution_count": 11,
   "metadata": {},
   "outputs": [
    {
     "name": "stdout",
     "output_type": "stream",
     "text": [
      "+--------------------+--------------------+------------+--------------+----+\n",
      "|          account_id|         merchant_id|visit_entent|purchase_event|buys|\n",
      "+--------------------+--------------------+------------+--------------+----+\n",
      "|00001c30-68c0-489...|01bc7956-e370-4cb...|  2019-03-30|          null|   0|\n",
      "|00001ec2-8a94-43c...|66948144-76f8-493...|  2019-03-31|          null|   0|\n",
      "|000033a9-c4f4-404...|9a657957-af83-41c...|  2019-06-03|          null|   0|\n",
      "|00006865-47ca-467...|4e48a8a3-b851-420...|  2019-06-03|          null|   0|\n",
      "|00008681-46b5-448...|8c69dce9-e1c4-48b...|  2019-06-15|    2019-06-15|   1|\n",
      "|00008681-46b5-448...|8c69dce9-e1c4-48b...|  2019-06-17|    2019-06-15|   0|\n",
      "|00008681-46b5-448...|8c69dce9-e1c4-48b...|  2019-03-31|    2019-06-15|   0|\n",
      "|0000a894-0e1d-4fb...|abff5b83-6a67-461...|  2019-05-30|          null|   0|\n",
      "|0000bba0-80b8-4e6...|11266bdb-617c-4ed...|  2019-03-27|    2019-03-27|   1|\n",
      "|0000bba0-80b8-4e6...|11266bdb-617c-4ed...|  2019-03-27|    2019-03-27|   1|\n",
      "|0000bba0-80b8-4e6...|11266bdb-617c-4ed...|  2019-03-27|    2019-03-27|   1|\n",
      "|0000bba0-80b8-4e6...|11266bdb-617c-4ed...|  2019-03-27|    2019-03-27|   1|\n",
      "|0000bba0-80b8-4e6...|11266bdb-617c-4ed...|  2019-05-29|    2019-03-27|   0|\n",
      "|0000bba0-80b8-4e6...|11266bdb-617c-4ed...|  2019-05-29|    2019-03-27|   0|\n",
      "|0000bba0-80b8-4e6...|11266bdb-617c-4ed...|  2019-05-29|    2019-03-27|   0|\n",
      "|0000c002-c5f2-4b6...|58d515e3-f752-4a8...|  2019-06-07|          null|   0|\n",
      "|0000c002-c5f2-4b6...|58d515e3-f752-4a8...|  2019-04-20|          null|   0|\n",
      "|0000c002-c5f2-4b6...|58d515e3-f752-4a8...|  2019-04-20|          null|   0|\n",
      "|0000ced9-7fdc-429...|889ebd06-d0f6-4c5...|  2019-06-04|          null|   0|\n",
      "|00010251-a9d7-4cf...|29c17dfb-e53b-471...|  2019-06-13|          null|   0|\n",
      "+--------------------+--------------------+------------+--------------+----+\n",
      "only showing top 20 rows\n",
      "\n"
     ]
    }
   ],
   "source": [
    "\n",
    "\n",
    "df_t = df.select(df.account_id, df.merchant_id, \n",
    "                 explode(df.visit_events).alias('visit_entent'),\n",
    "                 f.col('purchase_events')[0].alias('purchase_event'))\n",
    "df_t = df_t.withColumn(\"visit_entent\",df_t['visit_entent'].cast(DateType()))\n",
    "df_t = df_t.withColumn('buys', when(df_t.purchase_event == df_t.visit_entent, 1).otherwise(0)).persist( pyspark.StorageLevel.MEMORY_AND_DISK_2 )\n",
    "\n",
    "df_t.show()"
   ]
  },
  {
   "cell_type": "code",
   "execution_count": 12,
   "metadata": {},
   "outputs": [
    {
     "name": "stdout",
     "output_type": "stream",
     "text": [
      "root\n",
      " |-- account_id: string (nullable = true)\n",
      " |-- merchant_id: string (nullable = true)\n",
      " |-- visit_entent: date (nullable = true)\n",
      " |-- purchase_event: string (nullable = true)\n",
      " |-- buys: integer (nullable = false)\n",
      "\n"
     ]
    }
   ],
   "source": [
    "df_t.printSchema()"
   ]
  },
  {
   "cell_type": "code",
   "execution_count": 13,
   "metadata": {},
   "outputs": [
    {
     "name": "stdout",
     "output_type": "stream",
     "text": [
      "+-----------------+\n",
      "|min(visit_entent)|\n",
      "+-----------------+\n",
      "|       2019-03-26|\n",
      "+-----------------+\n",
      "\n"
     ]
    }
   ],
   "source": [
    "df_t.select(f.min('visit_entent')).show()"
   ]
  },
  {
   "cell_type": "code",
   "execution_count": 14,
   "metadata": {},
   "outputs": [
    {
     "name": "stdout",
     "output_type": "stream",
     "text": [
      "+-----------------+\n",
      "|max(visit_entent)|\n",
      "+-----------------+\n",
      "|       2019-06-17|\n",
      "+-----------------+\n",
      "\n"
     ]
    }
   ],
   "source": [
    "df_t.select(f.max('visit_entent')).show()"
   ]
  },
  {
   "cell_type": "code",
   "execution_count": 15,
   "metadata": {},
   "outputs": [],
   "source": [
    "#df_t.select(f.max('visit_entent_date')).show()"
   ]
  },
  {
   "cell_type": "code",
   "execution_count": 16,
   "metadata": {},
   "outputs": [],
   "source": [
    "#df_t.persist( pyspark.StorageLevel.MEMORY_AND_DISK_2 )"
   ]
  },
  {
   "cell_type": "code",
   "execution_count": 17,
   "metadata": {},
   "outputs": [],
   "source": [
    "df_t.write.parquet('/media/marlesson/Backup/dataset/ifood_interactions')"
   ]
  },
  {
   "cell_type": "markdown",
   "metadata": {},
   "source": [
    "### Filter"
   ]
  },
  {
   "cell_type": "code",
   "execution_count": 18,
   "metadata": {},
   "outputs": [
    {
     "name": "stdout",
     "output_type": "stream",
     "text": [
      "+--------------------+--------------------+------------+--------------+----+\n",
      "|          account_id|         merchant_id|visit_entent|purchase_event|buys|\n",
      "+--------------------+--------------------+------------+--------------+----+\n",
      "|00001c30-68c0-489...|01bc7956-e370-4cb...|  2019-03-30|          null|   0|\n",
      "|00001ec2-8a94-43c...|66948144-76f8-493...|  2019-03-31|          null|   0|\n",
      "+--------------------+--------------------+------------+--------------+----+\n",
      "only showing top 2 rows\n",
      "\n"
     ]
    }
   ],
   "source": [
    "df_t.show(2)"
   ]
  },
  {
   "cell_type": "code",
   "execution_count": 19,
   "metadata": {},
   "outputs": [
    {
     "data": {
      "text/plain": [
       "28272839"
      ]
     },
     "execution_count": 19,
     "metadata": {},
     "output_type": "execute_result"
    }
   ],
   "source": [
    "df_1w = df_t.filter(f.col(\"visit_entent\") > f.lit(\"2019-06-10\")).cache()\n",
    "df_1w.count()"
   ]
  },
  {
   "cell_type": "code",
   "execution_count": 20,
   "metadata": {},
   "outputs": [
    {
     "data": {
      "text/plain": [
       "91571810"
      ]
     },
     "execution_count": 20,
     "metadata": {},
     "output_type": "execute_result"
    }
   ],
   "source": [
    "df_1m = df_t.filter(f.col(\"visit_entent\") > f.lit(\"2019-05-17\")).cache()\n",
    "df_1m.count()"
   ]
  },
  {
   "cell_type": "code",
   "execution_count": 21,
   "metadata": {},
   "outputs": [],
   "source": [
    "# all        - 127.407.924\n",
    "# 2019-06-10 - 28.272.839\n",
    "# 2019-05-17 - 91.571.810"
   ]
  },
  {
   "cell_type": "markdown",
   "metadata": {},
   "source": [
    "### Implode"
   ]
  },
  {
   "cell_type": "code",
   "execution_count": 22,
   "metadata": {},
   "outputs": [],
   "source": [
    "#df_f.show()"
   ]
  },
  {
   "cell_type": "code",
   "execution_count": 23,
   "metadata": {},
   "outputs": [],
   "source": [
    "#df.show(5)"
   ]
  },
  {
   "cell_type": "code",
   "execution_count": 24,
   "metadata": {},
   "outputs": [
    {
     "name": "stdout",
     "output_type": "stream",
     "text": [
      "+--------------------+--------------------+------+--------------------+----+---------------+\n",
      "|          account_id|         merchant_id|visits|       visit_entents|buys|purchase_events|\n",
      "+--------------------+--------------------+------+--------------------+----+---------------+\n",
      "|00002a9b-c04b-487...|61540dea-fea3-4a4...|     1|        [2019-06-13]|null|           null|\n",
      "|00002a9b-c04b-487...|f5068902-033e-425...|     1|        [2019-06-13]|null|   [2019-05-11]|\n",
      "|00006d0a-8a5e-40a...|25b28f17-bcf2-47a...|     1|        [2019-06-17]|null|           null|\n",
      "|000135d6-78f9-409...|58d4f0c8-4a4e-4ef...|     2|[2019-06-16, 2019...|null|           null|\n",
      "|00027048-30c0-490...|54c9b5dd-39ac-410...|     1|        [2019-06-16]|null|           null|\n",
      "|00029e81-e550-47d...|2722a841-fcf4-4ae...|     1|        [2019-06-12]|null|   [2019-06-06]|\n",
      "|0003749a-d3a4-425...|731f5850-fc71-47e...|     1|        [2019-06-14]|null|           null|\n",
      "|00046739-a44e-46d...|3eadb121-25d4-4b3...|     3|[2019-06-16, 2019...|null|           null|\n",
      "|000486ed-3839-4d0...|6665d7ed-4a8b-448...|     3|[2019-06-13, 2019...|   1|   [2019-06-13]|\n",
      "|00050f0d-29b4-4b0...|7e8d275c-cc3d-41f...|     1|        [2019-06-12]|null|           null|\n",
      "|00054e58-1e47-4de...|feaf2b7d-12fd-4e0...|     2|[2019-06-14, 2019...|null|           null|\n",
      "|00055270-ac3f-4a0...|b829b409-910a-44e...|     1|        [2019-06-16]|null|           null|\n",
      "|00055ddf-6ac4-48d...|ea90e17f-b357-430...|     5|[2019-06-17, 2019...|null|           null|\n",
      "|0005b8e9-40d1-474...|33055073-4841-4db...|     4|[2019-06-12, 2019...|null|           null|\n",
      "|000606dd-3a06-4cd...|1cf7c56c-2b6e-41e...|     1|        [2019-06-11]|null|           null|\n",
      "|0006ba2a-e00b-489...|447accda-92fb-4fd...|     1|        [2019-06-13]|null|           null|\n",
      "|0007d4c8-f451-4d4...|cc9c0757-b3c8-422...|     1|        [2019-06-15]|null|           null|\n",
      "|00097850-f3e1-41a...|e18b8197-c320-4ba...|     2|[2019-06-11, 2019...|null|           null|\n",
      "|000af5a7-c559-454...|21a6658d-b999-4f9...|     1|        [2019-06-17]|null|           null|\n",
      "|000b6cb7-4069-4d5...|88fea281-7040-4ec...|     1|        [2019-06-12]|null|           null|\n",
      "+--------------------+--------------------+------+--------------------+----+---------------+\n",
      "only showing top 20 rows\n",
      "\n"
     ]
    }
   ],
   "source": [
    "df_1w_t = df_1w.groupby([df_1w.account_id, df_1w.merchant_id]).agg(\n",
    "            f.count('visit_entent').alias('visits'),\n",
    "            f.collect_list('visit_entent').alias('visit_entents'),\n",
    "            when(f.sum('buys') >= 1, 1).alias('buys'),\n",
    "            when(f.size(f.collect_set('purchase_event')) == 0, f.lit(None)).otherwise(f.collect_set('purchase_event')).alias('purchase_events')\n",
    "        ).cache()\n",
    "\n",
    "df_1w_t.show()"
   ]
  },
  {
   "cell_type": "code",
   "execution_count": 25,
   "metadata": {},
   "outputs": [],
   "source": [
    "df_1w_t.write.parquet('/media/marlesson/Backup/dataset/ifood_training_1w')"
   ]
  },
  {
   "cell_type": "code",
   "execution_count": 26,
   "metadata": {},
   "outputs": [
    {
     "name": "stdout",
     "output_type": "stream",
     "text": [
      "+--------------------+--------------------+------+--------------------+----+---------------+\n",
      "|          account_id|         merchant_id|visits|       visit_entents|buys|purchase_events|\n",
      "+--------------------+--------------------+------+--------------------+----+---------------+\n",
      "|00002a9b-c04b-487...|61540dea-fea3-4a4...|     1|        [2019-06-13]|null|           null|\n",
      "|00002a9b-c04b-487...|f5068902-033e-425...|     1|        [2019-06-13]|null|   [2019-05-11]|\n",
      "|00006d0a-8a5e-40a...|25b28f17-bcf2-47a...|     1|        [2019-06-17]|null|           null|\n",
      "|000135d6-78f9-409...|58d4f0c8-4a4e-4ef...|     2|[2019-06-16, 2019...|null|           null|\n",
      "|00027048-30c0-490...|54c9b5dd-39ac-410...|     1|        [2019-06-16]|null|           null|\n",
      "|00029e81-e550-47d...|2722a841-fcf4-4ae...|     1|        [2019-06-12]|null|   [2019-06-06]|\n",
      "|0003749a-d3a4-425...|731f5850-fc71-47e...|     1|        [2019-06-14]|null|           null|\n",
      "|00046739-a44e-46d...|3eadb121-25d4-4b3...|     3|[2019-06-16, 2019...|null|           null|\n",
      "|000486ed-3839-4d0...|6665d7ed-4a8b-448...|     3|[2019-06-13, 2019...|   1|   [2019-06-13]|\n",
      "|00050f0d-29b4-4b0...|7e8d275c-cc3d-41f...|     1|        [2019-06-12]|null|           null|\n",
      "|00054e58-1e47-4de...|feaf2b7d-12fd-4e0...|     2|[2019-06-14, 2019...|null|           null|\n",
      "|00055270-ac3f-4a0...|b829b409-910a-44e...|     1|        [2019-06-16]|null|           null|\n",
      "|00055ddf-6ac4-48d...|ea90e17f-b357-430...|     5|[2019-06-17, 2019...|null|           null|\n",
      "|0005b8e9-40d1-474...|33055073-4841-4db...|     4|[2019-06-12, 2019...|null|           null|\n",
      "|000606dd-3a06-4cd...|1cf7c56c-2b6e-41e...|     1|        [2019-06-11]|null|           null|\n",
      "|0006ba2a-e00b-489...|447accda-92fb-4fd...|     1|        [2019-06-13]|null|           null|\n",
      "|0007d4c8-f451-4d4...|cc9c0757-b3c8-422...|     1|        [2019-06-15]|null|           null|\n",
      "|00097850-f3e1-41a...|e18b8197-c320-4ba...|     2|[2019-06-11, 2019...|null|           null|\n",
      "|000af5a7-c559-454...|21a6658d-b999-4f9...|     1|        [2019-06-17]|null|           null|\n",
      "|000b6cb7-4069-4d5...|88fea281-7040-4ec...|     1|        [2019-06-12]|null|           null|\n",
      "+--------------------+--------------------+------+--------------------+----+---------------+\n",
      "only showing top 20 rows\n",
      "\n"
     ]
    }
   ],
   "source": [
    "df_1m_t = df_1w.groupby([df_1m.account_id, df_1m.merchant_id]).agg(\n",
    "            f.count('visit_entent').alias('visits'),\n",
    "            f.collect_list('visit_entent').alias('visit_entents'),\n",
    "            when(f.sum('buys') >= 1, 1).alias('buys'),\n",
    "            when(f.size(f.collect_set('purchase_event')) == 0, f.lit(None)).otherwise(f.collect_set('purchase_event')).alias('purchase_events')\n",
    "        ).cache()\n",
    "\n",
    "df_1m_t.show()"
   ]
  },
  {
   "cell_type": "code",
   "execution_count": 27,
   "metadata": {},
   "outputs": [],
   "source": [
    "df_1m_t.write.parquet('/media/marlesson/Backup/dataset/ifood_training_1m')"
   ]
  }
 ],
 "metadata": {
  "kernelspec": {
   "display_name": "Python 3",
   "language": "python",
   "name": "python3"
  },
  "language_info": {
   "codemirror_mode": {
    "name": "ipython",
    "version": 3
   },
   "file_extension": ".py",
   "mimetype": "text/x-python",
   "name": "python",
   "nbconvert_exporter": "python",
   "pygments_lexer": "ipython3",
   "version": "3.6.5"
  },
  "toc": {
   "base_numbering": 1,
   "nav_menu": {},
   "number_sections": true,
   "sideBar": true,
   "skip_h1_title": false,
   "title_cell": "Table of Contents",
   "title_sidebar": "Contents",
   "toc_cell": false,
   "toc_position": {},
   "toc_section_display": true,
   "toc_window_display": false
  }
 },
 "nbformat": 4,
 "nbformat_minor": 2
}
