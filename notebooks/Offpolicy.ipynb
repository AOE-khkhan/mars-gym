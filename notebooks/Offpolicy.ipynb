{
 "cells": [
  {
   "cell_type": "code",
   "execution_count": 1,
   "metadata": {},
   "outputs": [],
   "source": [
    "import pandas as pd\n",
    "import numpy as np\n",
    "import seaborn as sns\n",
    "import matplotlib.pyplot as plt"
   ]
  },
  {
   "cell_type": "code",
   "execution_count": 82,
   "metadata": {
    "scrolled": true
   },
   "outputs": [
    {
     "data": {
      "text/html": [
       "<div>\n",
       "<style scoped>\n",
       "    .dataframe tbody tr th:only-of-type {\n",
       "        vertical-align: middle;\n",
       "    }\n",
       "\n",
       "    .dataframe tbody tr th {\n",
       "        vertical-align: top;\n",
       "    }\n",
       "\n",
       "    .dataframe thead th {\n",
       "        text-align: right;\n",
       "    }\n",
       "</style>\n",
       "<table border=\"1\" class=\"dataframe\">\n",
       "  <thead>\n",
       "    <tr style=\"text-align: right;\">\n",
       "      <th></th>\n",
       "      <th>timestamp</th>\n",
       "      <th>timestamp_diff</th>\n",
       "      <th>step</th>\n",
       "      <th>user_idx</th>\n",
       "      <th>session_idx</th>\n",
       "      <th>sum_action_item_before</th>\n",
       "      <th>action_type_item_idx</th>\n",
       "      <th>action_type_idx</th>\n",
       "      <th>list_action_type_idx</th>\n",
       "      <th>list_reference_search_for_poi</th>\n",
       "      <th>...</th>\n",
       "      <th>water slide</th>\n",
       "      <th>wheelchair accessible</th>\n",
       "      <th>wifi (public areas)</th>\n",
       "      <th>wifi (rooms)</th>\n",
       "      <th>star</th>\n",
       "      <th>list_metadata</th>\n",
       "      <th>item_idx_action</th>\n",
       "      <th>rewards</th>\n",
       "      <th>rhat_rewards</th>\n",
       "      <th>ps_eval</th>\n",
       "    </tr>\n",
       "  </thead>\n",
       "  <tbody>\n",
       "    <tr>\n",
       "      <td>0</td>\n",
       "      <td>1541461727</td>\n",
       "      <td>1541461708</td>\n",
       "      <td>2.0</td>\n",
       "      <td>3674</td>\n",
       "      <td>3219</td>\n",
       "      <td>0.0</td>\n",
       "      <td>809</td>\n",
       "      <td>2</td>\n",
       "      <td>[0, 0, 0, 0, 0, 0, 0, 0, 0, 2]</td>\n",
       "      <td>[0, 0, 0, 0, 0, 0, 0, 0, 0, 0]</td>\n",
       "      <td>...</td>\n",
       "      <td>0</td>\n",
       "      <td>0</td>\n",
       "      <td>1</td>\n",
       "      <td>1</td>\n",
       "      <td>5</td>\n",
       "      <td>[0, 0, 0, 0, 1, 1, 0, 0, 1, 0, 0, 0, 0, 0, 1, ...</td>\n",
       "      <td>798</td>\n",
       "      <td>0.0</td>\n",
       "      <td>0.007804</td>\n",
       "      <td>2.440238e-12</td>\n",
       "    </tr>\n",
       "    <tr>\n",
       "      <td>1</td>\n",
       "      <td>1541461727</td>\n",
       "      <td>1541461708</td>\n",
       "      <td>2.0</td>\n",
       "      <td>3674</td>\n",
       "      <td>3219</td>\n",
       "      <td>0.0</td>\n",
       "      <td>809</td>\n",
       "      <td>2</td>\n",
       "      <td>[0, 0, 0, 0, 0, 0, 0, 0, 0, 2]</td>\n",
       "      <td>[0, 0, 0, 0, 0, 0, 0, 0, 0, 0]</td>\n",
       "      <td>...</td>\n",
       "      <td>0</td>\n",
       "      <td>0</td>\n",
       "      <td>1</td>\n",
       "      <td>1</td>\n",
       "      <td>5</td>\n",
       "      <td>[0, 0, 0, 0, 1, 1, 0, 0, 1, 0, 0, 0, 0, 0, 1, ...</td>\n",
       "      <td>798</td>\n",
       "      <td>1.0</td>\n",
       "      <td>0.038406</td>\n",
       "      <td>2.547993e-08</td>\n",
       "    </tr>\n",
       "    <tr>\n",
       "      <td>2</td>\n",
       "      <td>1541461727</td>\n",
       "      <td>1541461708</td>\n",
       "      <td>2.0</td>\n",
       "      <td>3674</td>\n",
       "      <td>3219</td>\n",
       "      <td>0.0</td>\n",
       "      <td>809</td>\n",
       "      <td>2</td>\n",
       "      <td>[0, 0, 0, 0, 0, 0, 0, 0, 0, 2]</td>\n",
       "      <td>[0, 0, 0, 0, 0, 0, 0, 0, 0, 0]</td>\n",
       "      <td>...</td>\n",
       "      <td>0</td>\n",
       "      <td>0</td>\n",
       "      <td>1</td>\n",
       "      <td>1</td>\n",
       "      <td>5</td>\n",
       "      <td>[0, 0, 0, 0, 1, 1, 0, 0, 1, 0, 0, 0, 0, 0, 1, ...</td>\n",
       "      <td>798</td>\n",
       "      <td>0.0</td>\n",
       "      <td>0.018580</td>\n",
       "      <td>6.610930e-12</td>\n",
       "    </tr>\n",
       "    <tr>\n",
       "      <td>3</td>\n",
       "      <td>1541461727</td>\n",
       "      <td>1541461708</td>\n",
       "      <td>2.0</td>\n",
       "      <td>3674</td>\n",
       "      <td>3219</td>\n",
       "      <td>0.0</td>\n",
       "      <td>809</td>\n",
       "      <td>2</td>\n",
       "      <td>[0, 0, 0, 0, 0, 0, 0, 0, 0, 2]</td>\n",
       "      <td>[0, 0, 0, 0, 0, 0, 0, 0, 0, 0]</td>\n",
       "      <td>...</td>\n",
       "      <td>0</td>\n",
       "      <td>0</td>\n",
       "      <td>1</td>\n",
       "      <td>1</td>\n",
       "      <td>5</td>\n",
       "      <td>[0, 0, 0, 0, 1, 1, 0, 0, 1, 0, 0, 0, 0, 0, 1, ...</td>\n",
       "      <td>798</td>\n",
       "      <td>0.0</td>\n",
       "      <td>0.248508</td>\n",
       "      <td>1.308573e-11</td>\n",
       "    </tr>\n",
       "    <tr>\n",
       "      <td>4</td>\n",
       "      <td>1541461727</td>\n",
       "      <td>1541461708</td>\n",
       "      <td>2.0</td>\n",
       "      <td>3674</td>\n",
       "      <td>3219</td>\n",
       "      <td>0.0</td>\n",
       "      <td>809</td>\n",
       "      <td>2</td>\n",
       "      <td>[0, 0, 0, 0, 0, 0, 0, 0, 0, 2]</td>\n",
       "      <td>[0, 0, 0, 0, 0, 0, 0, 0, 0, 0]</td>\n",
       "      <td>...</td>\n",
       "      <td>0</td>\n",
       "      <td>0</td>\n",
       "      <td>1</td>\n",
       "      <td>1</td>\n",
       "      <td>5</td>\n",
       "      <td>[0, 0, 0, 0, 1, 1, 0, 0, 1, 0, 0, 0, 0, 0, 1, ...</td>\n",
       "      <td>798</td>\n",
       "      <td>0.0</td>\n",
       "      <td>0.030177</td>\n",
       "      <td>6.378095e-12</td>\n",
       "    </tr>\n",
       "  </tbody>\n",
       "</table>\n",
       "<p>5 rows × 207 columns</p>\n",
       "</div>"
      ],
      "text/plain": [
       "    timestamp  timestamp_diff  step  user_idx  session_idx  \\\n",
       "0  1541461727      1541461708   2.0      3674         3219   \n",
       "1  1541461727      1541461708   2.0      3674         3219   \n",
       "2  1541461727      1541461708   2.0      3674         3219   \n",
       "3  1541461727      1541461708   2.0      3674         3219   \n",
       "4  1541461727      1541461708   2.0      3674         3219   \n",
       "\n",
       "   sum_action_item_before  action_type_item_idx  action_type_idx  \\\n",
       "0                     0.0                   809                2   \n",
       "1                     0.0                   809                2   \n",
       "2                     0.0                   809                2   \n",
       "3                     0.0                   809                2   \n",
       "4                     0.0                   809                2   \n",
       "\n",
       "             list_action_type_idx   list_reference_search_for_poi  ...  \\\n",
       "0  [0, 0, 0, 0, 0, 0, 0, 0, 0, 2]  [0, 0, 0, 0, 0, 0, 0, 0, 0, 0]  ...   \n",
       "1  [0, 0, 0, 0, 0, 0, 0, 0, 0, 2]  [0, 0, 0, 0, 0, 0, 0, 0, 0, 0]  ...   \n",
       "2  [0, 0, 0, 0, 0, 0, 0, 0, 0, 2]  [0, 0, 0, 0, 0, 0, 0, 0, 0, 0]  ...   \n",
       "3  [0, 0, 0, 0, 0, 0, 0, 0, 0, 2]  [0, 0, 0, 0, 0, 0, 0, 0, 0, 0]  ...   \n",
       "4  [0, 0, 0, 0, 0, 0, 0, 0, 0, 2]  [0, 0, 0, 0, 0, 0, 0, 0, 0, 0]  ...   \n",
       "\n",
       "  water slide wheelchair accessible wifi (public areas) wifi (rooms) star  \\\n",
       "0           0                     0                   1            1    5   \n",
       "1           0                     0                   1            1    5   \n",
       "2           0                     0                   1            1    5   \n",
       "3           0                     0                   1            1    5   \n",
       "4           0                     0                   1            1    5   \n",
       "\n",
       "                                       list_metadata item_idx_action rewards  \\\n",
       "0  [0, 0, 0, 0, 1, 1, 0, 0, 1, 0, 0, 0, 0, 0, 1, ...             798     0.0   \n",
       "1  [0, 0, 0, 0, 1, 1, 0, 0, 1, 0, 0, 0, 0, 0, 1, ...             798     1.0   \n",
       "2  [0, 0, 0, 0, 1, 1, 0, 0, 1, 0, 0, 0, 0, 0, 1, ...             798     0.0   \n",
       "3  [0, 0, 0, 0, 1, 1, 0, 0, 1, 0, 0, 0, 0, 0, 1, ...             798     0.0   \n",
       "4  [0, 0, 0, 0, 1, 1, 0, 0, 1, 0, 0, 0, 0, 0, 1, ...             798     0.0   \n",
       "\n",
       "  rhat_rewards       ps_eval  \n",
       "0     0.007804  2.440238e-12  \n",
       "1     0.038406  2.547993e-08  \n",
       "2     0.018580  6.610930e-12  \n",
       "3     0.248508  1.308573e-11  \n",
       "4     0.030177  6.378095e-12  \n",
       "\n",
       "[5 rows x 207 columns]"
      ]
     },
     "execution_count": 82,
     "metadata": {},
     "output_type": "execute_result"
    }
   ],
   "source": [
    "df = pd.read_csv(\"/media/workspace/DeepFood/deep-reco-gym/output/evaluation/EvaluateTestSetPredictions/results/TrivagoLogisticModelInteraction_selu____softmax_explorer_d7902efca1_34dbc9138e/df_offpolicy.csv\")\n",
    "df.head()"
   ]
  },
  {
   "cell_type": "code",
   "execution_count": 3,
   "metadata": {},
   "outputs": [
    {
     "data": {
      "text/plain": [
       "'[0.9999282055683116, 6.955616451138966e-05, 1.5154572772004513e-06, 4.315934298994599e-07, 1.0893306581278131e-07, 3.657221298788441e-08, 8.459710114704969e-08, 3.1949079736511446e-08, 1.056222243110857e-08, 1.0614308481084835e-08, 2.599742261007149e-09, 3.864398555311322e-09, 9.324816822930879e-10, 1.7410071501981902e-10, 2.785469753378462e-10, 1.0710699140037128e-10, 2.58242707124984e-12, 7.342539831924105e-12, 1.4253484302402852e-13, 1.1381402531245562e-11, 4.109880313633144e-12, 2.3619644681925827e-13, 3.43057421071957e-12, 1.31863029660487e-12, 1.5580622260355701e-12]'"
      ]
     },
     "execution_count": 3,
     "metadata": {},
     "output_type": "execute_result"
    }
   ],
   "source": [
    "df.iloc[10].prob_actions"
   ]
  },
  {
   "cell_type": "code",
   "execution_count": null,
   "metadata": {
    "scrolled": true
   },
   "outputs": [],
   "source": []
  },
  {
   "cell_type": "code",
   "execution_count": 4,
   "metadata": {},
   "outputs": [
    {
     "data": {
      "text/plain": [
       "(0.033223639698000386, 0.03532803679772114)"
      ]
     },
     "execution_count": 4,
     "metadata": {},
     "output_type": "execute_result"
    }
   ],
   "source": [
    "import numpy as np, scipy.stats as st\n",
    "\n",
    "a = df.rhat_rewards\n",
    "\n",
    "st.t.interval(0.95, len(a)-1, loc=np.mean(a), scale=st.sem(a))"
   ]
  },
  {
   "cell_type": "code",
   "execution_count": 5,
   "metadata": {},
   "outputs": [
    {
     "name": "stdout",
     "output_type": "stream",
     "text": [
      "[1. 2.]\n"
     ]
    }
   ],
   "source": [
    "array1 = np.array([np.nan, 1, 2])\n",
    "array2 = array1[~np.isnan(array1)]\n",
    "\n",
    "print(array2)"
   ]
  },
  {
   "cell_type": "code",
   "execution_count": 6,
   "metadata": {},
   "outputs": [
    {
     "data": {
      "text/plain": [
       "0.03427583824786076"
      ]
     },
     "execution_count": 6,
     "metadata": {},
     "output_type": "execute_result"
    }
   ],
   "source": [
    "np.mean(a)"
   ]
  },
  {
   "cell_type": "code",
   "execution_count": 7,
   "metadata": {},
   "outputs": [
    {
     "data": {
      "text/plain": [
       "(0.03427583824786076, 0.033223639698000386, 0.03532803679772114)"
      ]
     },
     "execution_count": 7,
     "metadata": {},
     "output_type": "execute_result"
    }
   ],
   "source": [
    "import numpy as np\n",
    "import scipy.stats\n",
    "\n",
    "\n",
    "def mean_confidence_interval(data, confidence=0.95):\n",
    "    a = 1.0 * np.array(data)\n",
    "    n = len(a)\n",
    "    m, se = np.mean(a), scipy.stats.sem(a)\n",
    "    h = se * scipy.stats.t.ppf((1 + confidence) / 2., n-1)\n",
    "    return m, m-h, m+h\n",
    "mean_confidence_interval(a)"
   ]
  },
  {
   "cell_type": "code",
   "execution_count": 8,
   "metadata": {},
   "outputs": [],
   "source": [
    "#sns.distplot(df.rhat_rewards)"
   ]
  },
  {
   "cell_type": "code",
   "execution_count": 9,
   "metadata": {},
   "outputs": [
    {
     "name": "stderr",
     "output_type": "stream",
     "text": [
      "/home/marlesson/anaconda3/envs/deep-reco-gym/lib/python3.6/site-packages/matplotlib/axes/_axes.py:6462: UserWarning: The 'normed' kwarg is deprecated, and has been replaced by the 'density' kwarg.\n",
      "  warnings.warn(\"The 'normed' kwarg is deprecated, and has been \"\n"
     ]
    },
    {
     "data": {
      "text/plain": [
       "<matplotlib.axes._subplots.AxesSubplot at 0x7f7b297597b8>"
      ]
     },
     "execution_count": 9,
     "metadata": {},
     "output_type": "execute_result"
    },
    {
     "data": {
      "image/png": "[encoded data removed]",
      "text/plain": [
       "<Figure size 432x288 with 1 Axes>"
      ]
     },
     "metadata": {
      "needs_background": "light"
     },
     "output_type": "display_data"
    }
   ],
   "source": [
    "sns.distplot(df.ps)"
   ]
  },
  {
   "cell_type": "code",
   "execution_count": 65,
   "metadata": {},
   "outputs": [
    {
     "name": "stderr",
     "output_type": "stream",
     "text": [
      "/home/marlesson/anaconda3/envs/deep-reco-gym/lib/python3.6/site-packages/matplotlib/axes/_axes.py:6462: UserWarning: The 'normed' kwarg is deprecated, and has been replaced by the 'density' kwarg.\n",
      "  warnings.warn(\"The 'normed' kwarg is deprecated, and has been \"\n"
     ]
    },
    {
     "data": {
      "text/plain": [
       "<matplotlib.axes._subplots.AxesSubplot at 0x7f7b0e40a2b0>"
      ]
     },
     "execution_count": 65,
     "metadata": {},
     "output_type": "execute_result"
    },
    {
     "data": {
      "image/png": "[encoded data removed]",
      "text/plain": [
       "<Figure size 432x288 with 1 Axes>"
      ]
     },
     "metadata": {
      "needs_background": "light"
     },
     "output_type": "display_data"
    }
   ],
   "source": [
    "sns.distplot(df[df.ps_eval > 0.001].ps_eval.values)"
   ]
  },
  {
   "cell_type": "code",
   "execution_count": 11,
   "metadata": {},
   "outputs": [
    {
     "ename": "NameError",
     "evalue": "name 'e' is not defined",
     "output_type": "error",
     "traceback": [
      "\u001b[0;31m---------------------------------------------------------------------------\u001b[0m",
      "\u001b[0;31mNameError\u001b[0m                                 Traceback (most recent call last)",
      "\u001b[0;32m<ipython-input-11-cf9c35490256>\u001b[0m in \u001b[0;36m<module>\u001b[0;34m\u001b[0m\n\u001b[0;32m----> 1\u001b[0;31m \u001b[0mdf\u001b[0m\u001b[0;34m[\u001b[0m\u001b[0;34m[\u001b[0m\u001b[0;34m'ps'\u001b[0m\u001b[0;34m,\u001b[0m \u001b[0;34m'ps_eval'\u001b[0m\u001b[0;34m]\u001b[0m\u001b[0;34m]\u001b[0m\u001b[0;34m[\u001b[0m\u001b[0mdf\u001b[0m\u001b[0;34m.\u001b[0m\u001b[0mps\u001b[0m \u001b[0;34m>=\u001b[0m \u001b[0;36m0\u001b[0m \u001b[0;34m+\u001b[0m \u001b[0me\u001b[0m\u001b[0;34m]\u001b[0m\u001b[0;34m.\u001b[0m\u001b[0msort_values\u001b[0m\u001b[0;34m(\u001b[0m\u001b[0;34m'ps'\u001b[0m\u001b[0;34m)\u001b[0m\u001b[0;34m\u001b[0m\u001b[0;34m\u001b[0m\u001b[0m\n\u001b[0m",
      "\u001b[0;31mNameError\u001b[0m: name 'e' is not defined"
     ]
    }
   ],
   "source": [
    "df[['ps', 'ps_eval']][df.ps >= 0 + e].sort_values('ps')"
   ]
  },
  {
   "cell_type": "code",
   "execution_count": 14,
   "metadata": {},
   "outputs": [
    {
     "data": {
      "text/plain": [
       "(28407, 207)"
      ]
     },
     "execution_count": 14,
     "metadata": {},
     "output_type": "execute_result"
    }
   ],
   "source": [
    "e = 0.01\n",
    "df2 = df[df.ps >= 0 + e]\n",
    "df2.shape"
   ]
  },
  {
   "cell_type": "code",
   "execution_count": 15,
   "metadata": {},
   "outputs": [
    {
     "data": {
      "text/plain": [
       "<matplotlib.axes._subplots.AxesSubplot at 0x7f7b2936f748>"
      ]
     },
     "execution_count": 15,
     "metadata": {},
     "output_type": "execute_result"
    },
    {
     "data": {
      "image/png": "[encoded data removed]",
      "text/plain": [
       "<Figure size 432x288 with 1 Axes>"
      ]
     },
     "metadata": {
      "needs_background": "light"
     },
     "output_type": "display_data"
    }
   ],
   "source": [
    "sns.distplot(df2.ps)"
   ]
  },
  {
   "cell_type": "code",
   "execution_count": 16,
   "metadata": {},
   "outputs": [
    {
     "data": {
      "text/plain": [
       "<seaborn.axisgrid.PairGrid at 0x7f7b293d7908>"
      ]
     },
     "execution_count": 16,
     "metadata": {},
     "output_type": "execute_result"
    },
    {
     "data": {
      "image/png": "[encoded data removed]",
      "text/plain": [
       "<Figure size 591.875x540 with 12 Axes>"
      ]
     },
     "metadata": {
      "needs_background": "light"
     },
     "output_type": "display_data"
    }
   ],
   "source": [
    "sns.pairplot(df2[[\"ps\", \"ps_eval\", \"rewards\"]], hue=\"rewards\")"
   ]
  },
  {
   "cell_type": "code",
   "execution_count": null,
   "metadata": {},
   "outputs": [],
   "source": []
  },
  {
   "cell_type": "code",
   "execution_count": null,
   "metadata": {},
   "outputs": [],
   "source": []
  },
  {
   "cell_type": "markdown",
   "metadata": {},
   "source": [
    "## Offpolicy"
   ]
  },
  {
   "cell_type": "code",
   "execution_count": 55,
   "metadata": {},
   "outputs": [],
   "source": [
    "def _calc_sample_weigths(rewards, t_props, l_props):\n",
    "  # Compute the sample weights - propensity ratios\n",
    "  p_ratio = t_props / l_props\n",
    "\n",
    "  # Effective sample size for E_t estimate (from A. Owen)\n",
    "  n_e = len(rewards) * (np.mean(p_ratio) ** 2) / (p_ratio ** 2).mean()\n",
    "\n",
    "  # Critical value from t-distribution as we have unknown variance\n",
    "  alpha = .00125\n",
    "  cv = scipy.stats.t.ppf(1 - alpha, df=int(n_e) - 1)\n",
    "\n",
    "  return p_ratio, n_e, cv\n",
    "\n",
    "def eval_IPS(rewards, t_props, l_props):\n",
    "  # Calculate Sample Weigths\n",
    "  p_ratio, n_e, cv =  _calc_sample_weigths(rewards, t_props, l_props)\n",
    "\n",
    "  ###############\n",
    "  # VANILLA IPS #\n",
    "  ###############\n",
    "  # Expected reward for pi_t\n",
    "  E_t = np.mean(rewards * p_ratio)\n",
    "\n",
    "  # Variance of the estimate\n",
    "  var = ((rewards * p_ratio - E_t) ** 2).mean()\n",
    "  stddev = np.sqrt(var)\n",
    "\n",
    "  # C.I. assuming unknown variance - use t-distribution and effective sample size\n",
    "  c = cv * stddev / np.sqrt(int(n_e))\n",
    "  min_bound = E_t - c\n",
    "  max_bound = E_t + c\n",
    "\n",
    "  result = (E_t, c) # 0.025, 0.500, 0.975\n",
    "  return result\n",
    "\n",
    "\n",
    "def eval_CIPS(rewards, t_props, l_props, cap=15):\n",
    "  # Calculate Sample Weigths\n",
    "  p_ratio, n_e, cv =  _calc_sample_weigths(rewards, t_props, l_props)\n",
    "\n",
    "\n",
    "  ############## \n",
    "  # CAPPED IPS #\n",
    "  ##############\n",
    "  # Cap ratios\n",
    "  p_ratio_capped = np.clip(p_ratio, a_min=None, a_max=cap)\n",
    "\n",
    "  # Expected reward for pi_t\n",
    "  E_t_capped = np.mean(rewards * p_ratio_capped)\n",
    "\n",
    "  # Variance of the estimate\n",
    "  var_capped = ((rewards * p_ratio_capped - E_t_capped) ** 2).mean()\n",
    "  stddev_capped = np.sqrt(var_capped)\n",
    "\n",
    "  # C.I. assuming unknown variance - use t-distribution and effective sample size\n",
    "  c = cv * stddev_capped / np.sqrt(int(n_e))\n",
    "\n",
    "  min_bound_capped = E_t_capped - c\n",
    "  max_bound_capped = E_t_capped + c\n",
    "\n",
    "  result = (E_t_capped, c) # 0.025, 0.500, 0.975\n",
    "\n",
    "  return result"
   ]
  },
  {
   "cell_type": "code",
   "execution_count": 41,
   "metadata": {},
   "outputs": [
    {
     "data": {
      "text/plain": [
       "0.040897688586274863"
      ]
     },
     "execution_count": 41,
     "metadata": {},
     "output_type": "execute_result"
    }
   ],
   "source": [
    "df.rewards.mean()"
   ]
  },
  {
   "cell_type": "code",
   "execution_count": 42,
   "metadata": {},
   "outputs": [
    {
     "data": {
      "text/plain": [
       "0.020920908226726348"
      ]
     },
     "execution_count": 42,
     "metadata": {},
     "output_type": "execute_result"
    }
   ],
   "source": [
    "v = []\n",
    "for i, row in df.iterrows():\n",
    "    #if row.ps > 0.01:\n",
    "    #v.append((row.rewards * row.ps_eval)/row.ps)\n",
    "    v.append((row.rewards * row.ps))\n",
    "np.mean(v)"
   ]
  },
  {
   "cell_type": "code",
   "execution_count": 43,
   "metadata": {},
   "outputs": [
    {
     "data": {
      "text/plain": [
       "count    44648.000000\n",
       "mean         0.356866\n",
       "std          0.416333\n",
       "min          0.000000\n",
       "25%          0.000403\n",
       "50%          0.089758\n",
       "75%          0.868436\n",
       "max          1.000000\n",
       "Name: ps, dtype: float64"
      ]
     },
     "execution_count": 43,
     "metadata": {},
     "output_type": "execute_result"
    }
   ],
   "source": [
    "df.ps.describe()"
   ]
  },
  {
   "cell_type": "code",
   "execution_count": 62,
   "metadata": {},
   "outputs": [
    {
     "name": "stdout",
     "output_type": "stream",
     "text": [
      "eval_IPS 0.07526260142105747 0.2562972989629092\n",
      "eval_CIPS 0.041784055891381656 0.07949155145410722\n"
     ]
    },
    {
     "name": "stderr",
     "output_type": "stream",
     "text": [
      "/home/marlesson/anaconda3/envs/deep-reco-gym/lib/python3.6/site-packages/ipykernel_launcher.py:4: SettingWithCopyWarning: \n",
      "A value is trying to be set on a copy of a slice from a DataFrame.\n",
      "Try using .loc[row_indexer,col_indexer] = value instead\n",
      "\n",
      "See the caveats in the documentation: http://pandas.pydata.org/pandas-docs/stable/user_guide/indexing.html#returning-a-view-versus-a-copy\n",
      "  after removing the cwd from sys.path.\n"
     ]
    }
   ],
   "source": [
    "_df = df[df.ps > 0.01]\n",
    "\n",
    "p_ratio, n_e, cv = _calc_sample_weigths(_df.rewards, _df.ps_eval, _df.ps)\n",
    "_df['p_ratio'] = p_ratio\n",
    "\n",
    "ips, c_ips = eval_IPS(_df.rewards, _df.ps_eval, _df.ps)\n",
    "print(\"eval_IPS\", ips, c_ips)\n",
    "\n",
    "ips, c_ips = eval_CIPS(_df.rewards, _df.ps_eval, _df.ps, cap=10)\n",
    "print(\"eval_CIPS\", ips, c_ips)"
   ]
  },
  {
   "cell_type": "code",
   "execution_count": 49,
   "metadata": {},
   "outputs": [
    {
     "name": "stderr",
     "output_type": "stream",
     "text": [
      "/home/marlesson/anaconda3/envs/deep-reco-gym/lib/python3.6/site-packages/matplotlib/axes/_axes.py:6462: UserWarning: The 'normed' kwarg is deprecated, and has been replaced by the 'density' kwarg.\n",
      "  warnings.warn(\"The 'normed' kwarg is deprecated, and has been \"\n"
     ]
    },
    {
     "data": {
      "text/plain": [
       "<matplotlib.axes._subplots.AxesSubplot at 0x7f7b0e3ee828>"
      ]
     },
     "execution_count": 49,
     "metadata": {},
     "output_type": "execute_result"
    },
    {
     "data": {
      "image/png": "[encoded data removed]",
      "text/plain": [
       "<Figure size 432x288 with 1 Axes>"
      ]
     },
     "metadata": {
      "needs_background": "light"
     },
     "output_type": "display_data"
    }
   ],
   "source": [
    "sns.distplot(p_ratio)"
   ]
  },
  {
   "cell_type": "code",
   "execution_count": 54,
   "metadata": {},
   "outputs": [
    {
     "data": {
      "text/html": [
       "<div>\n",
       "<style scoped>\n",
       "    .dataframe tbody tr th:only-of-type {\n",
       "        vertical-align: middle;\n",
       "    }\n",
       "\n",
       "    .dataframe tbody tr th {\n",
       "        vertical-align: top;\n",
       "    }\n",
       "\n",
       "    .dataframe thead th {\n",
       "        text-align: right;\n",
       "    }\n",
       "</style>\n",
       "<table border=\"1\" class=\"dataframe\">\n",
       "  <thead>\n",
       "    <tr style=\"text-align: right;\">\n",
       "      <th></th>\n",
       "      <th>ps</th>\n",
       "      <th>ps_eval</th>\n",
       "      <th>p_ratio</th>\n",
       "    </tr>\n",
       "  </thead>\n",
       "  <tbody>\n",
       "    <tr>\n",
       "      <td>41666</td>\n",
       "      <td>0.824045</td>\n",
       "      <td>2.154552e-37</td>\n",
       "      <td>2.614605e-37</td>\n",
       "    </tr>\n",
       "    <tr>\n",
       "      <td>17548</td>\n",
       "      <td>1.000000</td>\n",
       "      <td>1.812494e-36</td>\n",
       "      <td>1.812494e-36</td>\n",
       "    </tr>\n",
       "    <tr>\n",
       "      <td>31179</td>\n",
       "      <td>0.126838</td>\n",
       "      <td>4.696489e-36</td>\n",
       "      <td>3.702759e-35</td>\n",
       "    </tr>\n",
       "    <tr>\n",
       "      <td>22808</td>\n",
       "      <td>0.995459</td>\n",
       "      <td>4.448276e-35</td>\n",
       "      <td>4.468567e-35</td>\n",
       "    </tr>\n",
       "    <tr>\n",
       "      <td>124</td>\n",
       "      <td>0.963712</td>\n",
       "      <td>1.761215e-34</td>\n",
       "      <td>1.827532e-34</td>\n",
       "    </tr>\n",
       "    <tr>\n",
       "      <td>...</td>\n",
       "      <td>...</td>\n",
       "      <td>...</td>\n",
       "      <td>...</td>\n",
       "    </tr>\n",
       "    <tr>\n",
       "      <td>4375</td>\n",
       "      <td>0.011437</td>\n",
       "      <td>9.980435e-01</td>\n",
       "      <td>8.726803e+01</td>\n",
       "    </tr>\n",
       "    <tr>\n",
       "      <td>26577</td>\n",
       "      <td>0.011252</td>\n",
       "      <td>9.999974e-01</td>\n",
       "      <td>8.887013e+01</td>\n",
       "    </tr>\n",
       "    <tr>\n",
       "      <td>25366</td>\n",
       "      <td>0.010766</td>\n",
       "      <td>9.669741e-01</td>\n",
       "      <td>8.982154e+01</td>\n",
       "    </tr>\n",
       "    <tr>\n",
       "      <td>18255</td>\n",
       "      <td>0.010258</td>\n",
       "      <td>9.810455e-01</td>\n",
       "      <td>9.563888e+01</td>\n",
       "    </tr>\n",
       "    <tr>\n",
       "      <td>5164</td>\n",
       "      <td>0.010113</td>\n",
       "      <td>9.858354e-01</td>\n",
       "      <td>9.748417e+01</td>\n",
       "    </tr>\n",
       "  </tbody>\n",
       "</table>\n",
       "<p>28407 rows × 3 columns</p>\n",
       "</div>"
      ],
      "text/plain": [
       "             ps       ps_eval       p_ratio\n",
       "41666  0.824045  2.154552e-37  2.614605e-37\n",
       "17548  1.000000  1.812494e-36  1.812494e-36\n",
       "31179  0.126838  4.696489e-36  3.702759e-35\n",
       "22808  0.995459  4.448276e-35  4.468567e-35\n",
       "124    0.963712  1.761215e-34  1.827532e-34\n",
       "...         ...           ...           ...\n",
       "4375   0.011437  9.980435e-01  8.726803e+01\n",
       "26577  0.011252  9.999974e-01  8.887013e+01\n",
       "25366  0.010766  9.669741e-01  8.982154e+01\n",
       "18255  0.010258  9.810455e-01  9.563888e+01\n",
       "5164   0.010113  9.858354e-01  9.748417e+01\n",
       "\n",
       "[28407 rows x 3 columns]"
      ]
     },
     "execution_count": 54,
     "metadata": {},
     "output_type": "execute_result"
    }
   ],
   "source": [
    "_df[['ps', 'ps_eval', 'p_ratio']].sort_values('p_ratio')"
   ]
  },
  {
   "cell_type": "code",
   "execution_count": null,
   "metadata": {},
   "outputs": [],
   "source": []
  },
  {
   "cell_type": "code",
   "execution_count": null,
   "metadata": {},
   "outputs": [],
   "source": []
  },
  {
   "cell_type": "markdown",
   "metadata": {},
   "source": [
    "## Fainess"
   ]
  },
  {
   "cell_type": "code",
   "execution_count": 93,
   "metadata": {},
   "outputs": [],
   "source": [
    "from typing import List, Dict, Any\n",
    "\n",
    "import numpy as np\n",
    "import pandas as pd\n",
    "from sklearn.metrics import confusion_matrix, multilabel_confusion_matrix, classification_report\n",
    "\n",
    "def mean_confidence_interval(data, confidence=0.95):\n",
    "    data = np.array(data)\n",
    "    data = data[~np.isnan(data)]\n",
    "    a = 1.0 * data\n",
    "    n = len(a)\n",
    "    m, se = np.mean(a), scipy.stats.sem(a)\n",
    "    h = se * scipy.stats.t.ppf((1 + confidence) / 2., n-1)\n",
    "    return m, h\n",
    "\n",
    "# https://stackoverflow.com/questions/50666091/true-positive-rate-and-false-positive-rate-tpr-fpr-for-multi-class-data-in-py\n",
    "# https://en.wikipedia.org/wiki/Sensitivity_and_specificity\n",
    "def calculate_fairness_metrics(df: pd.DataFrame, sub_keys: List[str], ground_truth_key: str,\n",
    "                               prediction_key: str) -> pd.DataFrame:\n",
    "    rows: List[Dict[str, Any]] = []\n",
    "\n",
    "    for sub_key in sub_keys:\n",
    "        subs = df[sub_key].unique()\n",
    "\n",
    "        for sub in subs:\n",
    "            sub_df = df[df[sub_key] == sub]\n",
    "\n",
    "            y_true, y_pred = sub_df[ground_truth_key], sub_df[prediction_key]\n",
    "\n",
    "            cnf_matrix     = confusion_matrix(y_true, y_pred)\n",
    "\n",
    "            num_positives  = np.sum(np.diag(cnf_matrix))\n",
    "            num_negatives  = np.sum(cnf_matrix) - num_positives\n",
    "\n",
    "            fp = cnf_matrix.sum(axis=0) - np.diag(cnf_matrix)  \n",
    "            fn = cnf_matrix.sum(axis=1) - np.diag(cnf_matrix)\n",
    "            tp = np.diag(cnf_matrix)\n",
    "            tn = cnf_matrix.sum() - (fp + fn + tp)\n",
    "\n",
    "            fp = fp.astype(float)\n",
    "            fn = fn.astype(float)\n",
    "            tp = tp.astype(float)\n",
    "            tn = tn.astype(float)\n",
    "\n",
    "            # Sensitivity, hit rate, recall, or true positive rate\n",
    "            tpr = tp/(tp+fn)\n",
    "            # Specificity or true negative rate\n",
    "            tnr = tn/(tn+fp) \n",
    "            # Precision or positive predictive value\n",
    "            ppv = tp/(tp+fp)\n",
    "            # Negative predictive value\n",
    "            npv = tn/(tn+fn)\n",
    "            # Fall out or false positive rate\n",
    "            fpr = fp/(fp+tn)\n",
    "            # False negative rate\n",
    "            fnr = fn/(tp+fn)\n",
    "            # False discovery rate\n",
    "            fdr = fp/(tp+fp)\n",
    "            # positive rate\n",
    "            pr  = (tp+fp)/(tp+fp+fn+tn)\n",
    "            # positive rate\n",
    "            nr  = (tn+fn)/(tp+fp+fn+tn)\n",
    "\n",
    "            # Overall accuracy\n",
    "            acc = (tp+tn)/(tp+fp+fn+tn)\n",
    "\n",
    "            # Balanced Accuracy (BA)\n",
    "            bacc =  (tpr+tnr)/2\n",
    "\n",
    "            #print(classification_report(y_true,y_pred))\n",
    "            fpr, fpr_c  = mean_confidence_interval(fpr)\n",
    "            fnr, fnr_c  = mean_confidence_interval(fnr)\n",
    "            tpr, tpr_c  = mean_confidence_interval(tpr)\n",
    "            tnr, tnr_c  = mean_confidence_interval(tnr)\n",
    "            pr,  pr_c   = mean_confidence_interval(pr)\n",
    "            nr,  nr_c   = mean_confidence_interval(nr)\n",
    "            acc, acc_c  = mean_confidence_interval(acc)\n",
    "            bacc, bacc_c  = mean_confidence_interval(bacc)\n",
    "\n",
    "            rows.append({\n",
    "                \"sub_key\": sub_key,\n",
    "                \"sub\": sub,\n",
    "                \"total_class\": len(tp),\n",
    "                \"false_positive_rate\": fpr,\n",
    "                \"false_positive_rate_C\": fpr_c,\n",
    "                \"false_negative_rate\": fnr,\n",
    "                \"false_negative_rate_C\": fnr_c,\n",
    "                \"true_positive_rate\": tpr,\n",
    "                \"true_positive_rate_C\": tpr_c,\n",
    "                \"true_negative_rate\": tnr,\n",
    "                \"true_negative_rate_C\": tnr_c,\n",
    "                \"positive_rate\": pr,\n",
    "                \"positive_rate_C\": pr_c,\n",
    "                \"negative_rate\": nr,\n",
    "                \"negative_rate_C\": nr_c,\n",
    "                \"accuracy\": acc,\n",
    "                \"accuracy_C\": acc_c,\n",
    "                \"balance_accuracy\": bacc,\n",
    "                \"balance_accuracy_C\": bacc_c,\n",
    "                \"total_positives\": num_positives,\n",
    "                \"total_negatives\": num_negatives,\n",
    "                \"total_individuals\": num_positives+ num_negatives,\n",
    "            })\n",
    "\n",
    "    return pd.DataFrame(data=rows).sort_values([\"sub_key\", \"sub\"])\n",
    "\n",
    "from typing import List, Union, Dict, Tuple\n",
    "from multiprocessing.pool import Pool\n",
    "import os\n",
    "import ast\n",
    "\n",
    "from tqdm import tqdm\n",
    "\n",
    "def parallel_literal_eval(series: Union[pd.Series, np.ndarray], pool: Pool = None, use_tqdm: bool = True) -> list:\n",
    "    if pool:\n",
    "        return _parallel_literal_eval(series, pool, use_tqdm)\n",
    "    else:\n",
    "        with Pool(os.cpu_count()) as p:\n",
    "            return _parallel_literal_eval(series, p, use_tqdm)\n",
    "def _parallel_literal_eval(series: Union[pd.Series, np.ndarray], pool: Pool, use_tqdm: bool = True) -> list:\n",
    "    if use_tqdm:\n",
    "        return list(tqdm(pool.map(literal_eval_if_str, series), total=len(series)))\n",
    "    else:\n",
    "        return pool.map(literal_eval_if_str, series)\n",
    "\n",
    "def literal_eval_if_str(element):\n",
    "    if isinstance(element, str):\n",
    "        return ast.literal_eval(element)\n",
    "    return element\n"
   ]
  },
  {
   "cell_type": "code",
   "execution_count": 119,
   "metadata": {},
   "outputs": [
    {
     "data": {
      "text/html": [
       "<div>\n",
       "<style scoped>\n",
       "    .dataframe tbody tr th:only-of-type {\n",
       "        vertical-align: middle;\n",
       "    }\n",
       "\n",
       "    .dataframe tbody tr th {\n",
       "        vertical-align: top;\n",
       "    }\n",
       "\n",
       "    .dataframe thead th {\n",
       "        text-align: right;\n",
       "    }\n",
       "</style>\n",
       "<table border=\"1\" class=\"dataframe\">\n",
       "  <thead>\n",
       "    <tr style=\"text-align: right;\">\n",
       "      <th></th>\n",
       "      <th>timestamp</th>\n",
       "      <th>timestamp_diff</th>\n",
       "      <th>step</th>\n",
       "      <th>user_idx</th>\n",
       "      <th>session_idx</th>\n",
       "      <th>sum_action_item_before</th>\n",
       "      <th>action_type_item_idx</th>\n",
       "      <th>action_type_idx</th>\n",
       "      <th>list_action_type_idx</th>\n",
       "      <th>list_reference_search_for_poi</th>\n",
       "      <th>...</th>\n",
       "      <th>user_view</th>\n",
       "      <th>hist_views</th>\n",
       "      <th>ps</th>\n",
       "      <th>n_users</th>\n",
       "      <th>n_items</th>\n",
       "      <th>vocab_size</th>\n",
       "      <th>window_hist_size</th>\n",
       "      <th>sorted_actions</th>\n",
       "      <th>prob_actions</th>\n",
       "      <th>action_scores</th>\n",
       "    </tr>\n",
       "  </thead>\n",
       "  <tbody>\n",
       "    <tr>\n",
       "      <td>0</td>\n",
       "      <td>1541461727</td>\n",
       "      <td>1541461708</td>\n",
       "      <td>2.0</td>\n",
       "      <td>3674</td>\n",
       "      <td>3219</td>\n",
       "      <td>0.0</td>\n",
       "      <td>809</td>\n",
       "      <td>2</td>\n",
       "      <td>[0, 0, 0, 0, 0, 0, 0, 0, 0, 2]</td>\n",
       "      <td>[0, 0, 0, 0, 0, 0, 0, 0, 0, 0]</td>\n",
       "      <td>...</td>\n",
       "      <td>51.0</td>\n",
       "      <td>3.0</td>\n",
       "      <td>0.058824</td>\n",
       "      <td>4429</td>\n",
       "      <td>2192</td>\n",
       "      <td>241</td>\n",
       "      <td>10</td>\n",
       "      <td>[798, 625, 1113, 1048, 97, 359, 1034, 32, 1088...</td>\n",
       "      <td>[0.9999252311742941, 7.254023358704723e-05, 1....</td>\n",
       "      <td>[0.4124569892883301, 0.061305705457925797, 0.0...</td>\n",
       "    </tr>\n",
       "    <tr>\n",
       "      <td>1</td>\n",
       "      <td>1541461727</td>\n",
       "      <td>1541461708</td>\n",
       "      <td>2.0</td>\n",
       "      <td>3674</td>\n",
       "      <td>3219</td>\n",
       "      <td>0.0</td>\n",
       "      <td>809</td>\n",
       "      <td>2</td>\n",
       "      <td>[0, 0, 0, 0, 0, 0, 0, 0, 0, 2]</td>\n",
       "      <td>[0, 0, 0, 0, 0, 0, 0, 0, 0, 0]</td>\n",
       "      <td>...</td>\n",
       "      <td>51.0</td>\n",
       "      <td>2.0</td>\n",
       "      <td>0.039216</td>\n",
       "      <td>4429</td>\n",
       "      <td>2192</td>\n",
       "      <td>241</td>\n",
       "      <td>10</td>\n",
       "      <td>[798, 625, 1048, 359, 1113, 1034, 1088, 128, 9...</td>\n",
       "      <td>[0.9999330729093207, 6.374167871741254e-05, 5....</td>\n",
       "      <td>[0.41690123081207275, 0.06038424372673035, 0.0...</td>\n",
       "    </tr>\n",
       "    <tr>\n",
       "      <td>2</td>\n",
       "      <td>1541461727</td>\n",
       "      <td>1541461708</td>\n",
       "      <td>2.0</td>\n",
       "      <td>3674</td>\n",
       "      <td>3219</td>\n",
       "      <td>0.0</td>\n",
       "      <td>809</td>\n",
       "      <td>2</td>\n",
       "      <td>[0, 0, 0, 0, 0, 0, 0, 0, 0, 2]</td>\n",
       "      <td>[0, 0, 0, 0, 0, 0, 0, 0, 0, 0]</td>\n",
       "      <td>...</td>\n",
       "      <td>51.0</td>\n",
       "      <td>3.0</td>\n",
       "      <td>0.058824</td>\n",
       "      <td>4429</td>\n",
       "      <td>2192</td>\n",
       "      <td>241</td>\n",
       "      <td>10</td>\n",
       "      <td>[798, 625, 1113, 359, 1048, 97, 1088, 1034, 32...</td>\n",
       "      <td>[0.9999333004006552, 6.369663054488575e-05, 2....</td>\n",
       "      <td>[0.41783884167671204, 0.06051148846745491, 0.0...</td>\n",
       "    </tr>\n",
       "    <tr>\n",
       "      <td>3</td>\n",
       "      <td>1541461727</td>\n",
       "      <td>1541461708</td>\n",
       "      <td>2.0</td>\n",
       "      <td>3674</td>\n",
       "      <td>3219</td>\n",
       "      <td>0.0</td>\n",
       "      <td>809</td>\n",
       "      <td>2</td>\n",
       "      <td>[0, 0, 0, 0, 0, 0, 0, 0, 0, 2]</td>\n",
       "      <td>[0, 0, 0, 0, 0, 0, 0, 0, 0, 0]</td>\n",
       "      <td>...</td>\n",
       "      <td>51.0</td>\n",
       "      <td>3.0</td>\n",
       "      <td>0.058824</td>\n",
       "      <td>4429</td>\n",
       "      <td>2192</td>\n",
       "      <td>241</td>\n",
       "      <td>10</td>\n",
       "      <td>[798, 625, 1113, 1034, 1048, 359, 1088, 97, 80...</td>\n",
       "      <td>[0.9999339458798858, 6.323330934774128e-05, 1....</td>\n",
       "      <td>[0.41789254546165466, 0.06043095886707306, 0.0...</td>\n",
       "    </tr>\n",
       "    <tr>\n",
       "      <td>4</td>\n",
       "      <td>1541461727</td>\n",
       "      <td>1541461708</td>\n",
       "      <td>2.0</td>\n",
       "      <td>3674</td>\n",
       "      <td>3219</td>\n",
       "      <td>0.0</td>\n",
       "      <td>809</td>\n",
       "      <td>2</td>\n",
       "      <td>[0, 0, 0, 0, 0, 0, 0, 0, 0, 2]</td>\n",
       "      <td>[0, 0, 0, 0, 0, 0, 0, 0, 0, 0]</td>\n",
       "      <td>...</td>\n",
       "      <td>51.0</td>\n",
       "      <td>2.0</td>\n",
       "      <td>0.039216</td>\n",
       "      <td>4429</td>\n",
       "      <td>2192</td>\n",
       "      <td>241</td>\n",
       "      <td>10</td>\n",
       "      <td>[798, 625, 1048, 1113, 359, 1088, 97, 32, 1034...</td>\n",
       "      <td>[0.9999338903373622, 6.342121798125168e-05, 4....</td>\n",
       "      <td>[0.4180438816547394, 0.060488730669021606, 0.0...</td>\n",
       "    </tr>\n",
       "  </tbody>\n",
       "</table>\n",
       "<p>5 rows × 46 columns</p>\n",
       "</div>"
      ],
      "text/plain": [
       "    timestamp  timestamp_diff  step  user_idx  session_idx  \\\n",
       "0  1541461727      1541461708   2.0      3674         3219   \n",
       "1  1541461727      1541461708   2.0      3674         3219   \n",
       "2  1541461727      1541461708   2.0      3674         3219   \n",
       "3  1541461727      1541461708   2.0      3674         3219   \n",
       "4  1541461727      1541461708   2.0      3674         3219   \n",
       "\n",
       "   sum_action_item_before  action_type_item_idx  action_type_idx  \\\n",
       "0                     0.0                   809                2   \n",
       "1                     0.0                   809                2   \n",
       "2                     0.0                   809                2   \n",
       "3                     0.0                   809                2   \n",
       "4                     0.0                   809                2   \n",
       "\n",
       "             list_action_type_idx   list_reference_search_for_poi  ...  \\\n",
       "0  [0, 0, 0, 0, 0, 0, 0, 0, 0, 2]  [0, 0, 0, 0, 0, 0, 0, 0, 0, 0]  ...   \n",
       "1  [0, 0, 0, 0, 0, 0, 0, 0, 0, 2]  [0, 0, 0, 0, 0, 0, 0, 0, 0, 0]  ...   \n",
       "2  [0, 0, 0, 0, 0, 0, 0, 0, 0, 2]  [0, 0, 0, 0, 0, 0, 0, 0, 0, 0]  ...   \n",
       "3  [0, 0, 0, 0, 0, 0, 0, 0, 0, 2]  [0, 0, 0, 0, 0, 0, 0, 0, 0, 0]  ...   \n",
       "4  [0, 0, 0, 0, 0, 0, 0, 0, 0, 2]  [0, 0, 0, 0, 0, 0, 0, 0, 0, 0]  ...   \n",
       "\n",
       "  user_view hist_views        ps n_users n_items vocab_size window_hist_size  \\\n",
       "0      51.0        3.0  0.058824    4429    2192        241               10   \n",
       "1      51.0        2.0  0.039216    4429    2192        241               10   \n",
       "2      51.0        3.0  0.058824    4429    2192        241               10   \n",
       "3      51.0        3.0  0.058824    4429    2192        241               10   \n",
       "4      51.0        2.0  0.039216    4429    2192        241               10   \n",
       "\n",
       "                                      sorted_actions  \\\n",
       "0  [798, 625, 1113, 1048, 97, 359, 1034, 32, 1088...   \n",
       "1  [798, 625, 1048, 359, 1113, 1034, 1088, 128, 9...   \n",
       "2  [798, 625, 1113, 359, 1048, 97, 1088, 1034, 32...   \n",
       "3  [798, 625, 1113, 1034, 1048, 359, 1088, 97, 80...   \n",
       "4  [798, 625, 1048, 1113, 359, 1088, 97, 32, 1034...   \n",
       "\n",
       "                                        prob_actions  \\\n",
       "0  [0.9999252311742941, 7.254023358704723e-05, 1....   \n",
       "1  [0.9999330729093207, 6.374167871741254e-05, 5....   \n",
       "2  [0.9999333004006552, 6.369663054488575e-05, 2....   \n",
       "3  [0.9999339458798858, 6.323330934774128e-05, 1....   \n",
       "4  [0.9999338903373622, 6.342121798125168e-05, 4....   \n",
       "\n",
       "                                       action_scores  \n",
       "0  [0.4124569892883301, 0.061305705457925797, 0.0...  \n",
       "1  [0.41690123081207275, 0.06038424372673035, 0.0...  \n",
       "2  [0.41783884167671204, 0.06051148846745491, 0.0...  \n",
       "3  [0.41789254546165466, 0.06043095886707306, 0.0...  \n",
       "4  [0.4180438816547394, 0.060488730669021606, 0.0...  \n",
       "\n",
       "[5 rows x 46 columns]"
      ]
     },
     "execution_count": 119,
     "metadata": {},
     "output_type": "execute_result"
    }
   ],
   "source": [
    "#df = pd.read_csv(\"/media/workspace/DeepFood/deep-reco-gym/output/trivago/dataset/Rio_de_Janeiro_Brazil/test_0.20_test=time_42_PrepareTrivagoSessionsDataFrames____None_time_170e5151cd.csv\")\n",
    "#\n",
    "df = pd.read_csv(\"/media/workspace/DeepFood/deep-reco-gym/output/interaction/TrivagoLogisticModelInteraction/results/TrivagoLogisticModelInteraction_selu____softmax_explorer_d7902efca1/test_set_predictions.csv\")\n",
    "df.head()\n",
    "\n"
   ]
  },
  {
   "cell_type": "code",
   "execution_count": 120,
   "metadata": {},
   "outputs": [
    {
     "name": "stderr",
     "output_type": "stream",
     "text": [
      "100%|██████████| 44648/44648 [00:00<00:00, 4591009.68it/s]\n",
      "100%|██████████| 44648/44648 [00:00<00:00, 4547861.31it/s]\n",
      "100%|██████████| 44648/44648 [00:00<00:00, 4418348.55it/s]\n"
     ]
    }
   ],
   "source": [
    "df[\"sorted_actions\"] = parallel_literal_eval(df[\"sorted_actions\"])\n",
    "df[\"prob_actions\"]   = parallel_literal_eval(df[\"prob_actions\"])\n",
    "df[\"action_scores\"]  = parallel_literal_eval(df[\"action_scores\"])\n",
    "df[\"action\"]         = df[\"sorted_actions\"].apply(lambda sorted_actions: sorted_actions[0])"
   ]
  },
  {
   "cell_type": "code",
   "execution_count": 124,
   "metadata": {},
   "outputs": [
    {
     "name": "stderr",
     "output_type": "stream",
     "text": [
      "/home/marlesson/anaconda3/envs/deep-reco-gym/lib/python3.6/site-packages/ipykernel_launcher.py:46: RuntimeWarning: invalid value encountered in true_divide\n",
      "/home/marlesson/anaconda3/envs/deep-reco-gym/lib/python3.6/site-packages/ipykernel_launcher.py:50: RuntimeWarning: invalid value encountered in true_divide\n",
      "/home/marlesson/anaconda3/envs/deep-reco-gym/lib/python3.6/site-packages/ipykernel_launcher.py:56: RuntimeWarning: invalid value encountered in true_divide\n",
      "/home/marlesson/anaconda3/envs/deep-reco-gym/lib/python3.6/site-packages/ipykernel_launcher.py:58: RuntimeWarning: invalid value encountered in true_divide\n"
     ]
    },
    {
     "data": {
      "text/html": [
       "<div>\n",
       "<style scoped>\n",
       "    .dataframe tbody tr th:only-of-type {\n",
       "        vertical-align: middle;\n",
       "    }\n",
       "\n",
       "    .dataframe tbody tr th {\n",
       "        vertical-align: top;\n",
       "    }\n",
       "\n",
       "    .dataframe thead th {\n",
       "        text-align: right;\n",
       "    }\n",
       "</style>\n",
       "<table border=\"1\" class=\"dataframe\">\n",
       "  <thead>\n",
       "    <tr style=\"text-align: right;\">\n",
       "      <th></th>\n",
       "      <th>sub_key</th>\n",
       "      <th>sub</th>\n",
       "      <th>total_class</th>\n",
       "      <th>false_positive_rate</th>\n",
       "      <th>false_positive_rate_C</th>\n",
       "      <th>false_negative_rate</th>\n",
       "      <th>false_negative_rate_C</th>\n",
       "      <th>true_positive_rate</th>\n",
       "      <th>true_positive_rate_C</th>\n",
       "      <th>true_negative_rate</th>\n",
       "      <th>...</th>\n",
       "      <th>positive_rate_C</th>\n",
       "      <th>negative_rate</th>\n",
       "      <th>negative_rate_C</th>\n",
       "      <th>accuracy</th>\n",
       "      <th>accuracy_C</th>\n",
       "      <th>balance_accuracy</th>\n",
       "      <th>balance_accuracy_C</th>\n",
       "      <th>total_positives</th>\n",
       "      <th>total_negatives</th>\n",
       "      <th>total_individuals</th>\n",
       "    </tr>\n",
       "  </thead>\n",
       "  <tbody>\n",
       "    <tr>\n",
       "      <td>1</td>\n",
       "      <td>device_idx</td>\n",
       "      <td>0</td>\n",
       "      <td>389</td>\n",
       "      <td>0.001698</td>\n",
       "      <td>0.000397</td>\n",
       "      <td>0.705532</td>\n",
       "      <td>0.039549</td>\n",
       "      <td>0.294468</td>\n",
       "      <td>0.039549</td>\n",
       "      <td>0.998302</td>\n",
       "      <td>...</td>\n",
       "      <td>0.000490</td>\n",
       "      <td>0.997429</td>\n",
       "      <td>0.000490</td>\n",
       "      <td>0.996625</td>\n",
       "      <td>0.000498</td>\n",
       "      <td>0.646377</td>\n",
       "      <td>0.019734</td>\n",
       "      <td>327</td>\n",
       "      <td>625</td>\n",
       "      <td>952</td>\n",
       "    </tr>\n",
       "    <tr>\n",
       "      <td>0</td>\n",
       "      <td>device_idx</td>\n",
       "      <td>1</td>\n",
       "      <td>336</td>\n",
       "      <td>0.001965</td>\n",
       "      <td>0.000643</td>\n",
       "      <td>0.721392</td>\n",
       "      <td>0.041428</td>\n",
       "      <td>0.278608</td>\n",
       "      <td>0.041428</td>\n",
       "      <td>0.998035</td>\n",
       "      <td>...</td>\n",
       "      <td>0.000765</td>\n",
       "      <td>0.997024</td>\n",
       "      <td>0.000765</td>\n",
       "      <td>0.996104</td>\n",
       "      <td>0.000773</td>\n",
       "      <td>0.638294</td>\n",
       "      <td>0.020649</td>\n",
       "      <td>293</td>\n",
       "      <td>555</td>\n",
       "      <td>848</td>\n",
       "    </tr>\n",
       "    <tr>\n",
       "      <td>2</td>\n",
       "      <td>device_idx</td>\n",
       "      <td>2</td>\n",
       "      <td>36</td>\n",
       "      <td>0.023675</td>\n",
       "      <td>0.011848</td>\n",
       "      <td>0.854167</td>\n",
       "      <td>0.145734</td>\n",
       "      <td>0.145833</td>\n",
       "      <td>0.145734</td>\n",
       "      <td>0.976325</td>\n",
       "      <td>...</td>\n",
       "      <td>0.011477</td>\n",
       "      <td>0.972222</td>\n",
       "      <td>0.011477</td>\n",
       "      <td>0.952991</td>\n",
       "      <td>0.009892</td>\n",
       "      <td>0.569583</td>\n",
       "      <td>0.073640</td>\n",
       "      <td>4</td>\n",
       "      <td>22</td>\n",
       "      <td>26</td>\n",
       "    </tr>\n",
       "  </tbody>\n",
       "</table>\n",
       "<p>3 rows × 22 columns</p>\n",
       "</div>"
      ],
      "text/plain": [
       "      sub_key  sub  total_class  false_positive_rate  false_positive_rate_C  \\\n",
       "1  device_idx    0          389             0.001698               0.000397   \n",
       "0  device_idx    1          336             0.001965               0.000643   \n",
       "2  device_idx    2           36             0.023675               0.011848   \n",
       "\n",
       "   false_negative_rate  false_negative_rate_C  true_positive_rate  \\\n",
       "1             0.705532               0.039549            0.294468   \n",
       "0             0.721392               0.041428            0.278608   \n",
       "2             0.854167               0.145734            0.145833   \n",
       "\n",
       "   true_positive_rate_C  true_negative_rate  ...  positive_rate_C  \\\n",
       "1              0.039549            0.998302  ...         0.000490   \n",
       "0              0.041428            0.998035  ...         0.000765   \n",
       "2              0.145734            0.976325  ...         0.011477   \n",
       "\n",
       "   negative_rate  negative_rate_C  accuracy  accuracy_C  balance_accuracy  \\\n",
       "1       0.997429         0.000490  0.996625    0.000498          0.646377   \n",
       "0       0.997024         0.000765  0.996104    0.000773          0.638294   \n",
       "2       0.972222         0.011477  0.952991    0.009892          0.569583   \n",
       "\n",
       "   balance_accuracy_C  total_positives  total_negatives  total_individuals  \n",
       "1            0.019734              327              625                952  \n",
       "0            0.020649              293              555                848  \n",
       "2            0.073640                4               22                 26  \n",
       "\n",
       "[3 rows x 22 columns]"
      ]
     },
     "execution_count": 124,
     "metadata": {},
     "output_type": "execute_result"
    }
   ],
   "source": [
    "ground_truth_df = df[df['clicked'] == 1]\n",
    "\n",
    "fairness_columns = ['device_idx']\n",
    "fairness_df       = ground_truth_df[['item_idx', \"action\",  *fairness_columns]]\n",
    "fairness_metrics  = calculate_fairness_metrics(fairness_df, fairness_columns,\n",
    "                                              'item_idx', \"action\")\n",
    "fairness_metrics"
   ]
  },
  {
   "cell_type": "code",
   "execution_count": 122,
   "metadata": {},
   "outputs": [
    {
     "data": {
      "text/html": [
       "<div>\n",
       "<style scoped>\n",
       "    .dataframe tbody tr th:only-of-type {\n",
       "        vertical-align: middle;\n",
       "    }\n",
       "\n",
       "    .dataframe tbody tr th {\n",
       "        vertical-align: top;\n",
       "    }\n",
       "\n",
       "    .dataframe thead th {\n",
       "        text-align: right;\n",
       "    }\n",
       "</style>\n",
       "<table border=\"1\" class=\"dataframe\">\n",
       "  <thead>\n",
       "    <tr style=\"text-align: right;\">\n",
       "      <th></th>\n",
       "      <th>sub_key</th>\n",
       "      <th>sub</th>\n",
       "      <th>total_class</th>\n",
       "      <th>total_individuals</th>\n",
       "      <th>true_positive_rate</th>\n",
       "    </tr>\n",
       "  </thead>\n",
       "  <tbody>\n",
       "    <tr>\n",
       "      <td>1</td>\n",
       "      <td>device_idx</td>\n",
       "      <td>0</td>\n",
       "      <td>389</td>\n",
       "      <td>952</td>\n",
       "      <td>0.294468</td>\n",
       "    </tr>\n",
       "    <tr>\n",
       "      <td>0</td>\n",
       "      <td>device_idx</td>\n",
       "      <td>1</td>\n",
       "      <td>336</td>\n",
       "      <td>848</td>\n",
       "      <td>0.278608</td>\n",
       "    </tr>\n",
       "    <tr>\n",
       "      <td>2</td>\n",
       "      <td>device_idx</td>\n",
       "      <td>2</td>\n",
       "      <td>36</td>\n",
       "      <td>26</td>\n",
       "      <td>0.145833</td>\n",
       "    </tr>\n",
       "  </tbody>\n",
       "</table>\n",
       "</div>"
      ],
      "text/plain": [
       "      sub_key  sub  total_class  total_individuals  true_positive_rate\n",
       "1  device_idx    0          389                952            0.294468\n",
       "0  device_idx    1          336                848            0.278608\n",
       "2  device_idx    2           36                 26            0.145833"
      ]
     },
     "execution_count": 122,
     "metadata": {},
     "output_type": "execute_result"
    }
   ],
   "source": [
    "fairness_metrics[['sub_key', 'sub', 'total_class', 'total_individuals', 'true_positive_rate']]"
   ]
  },
  {
   "cell_type": "code",
   "execution_count": 123,
   "metadata": {},
   "outputs": [
    {
     "data": {
      "text/plain": [
       "total_class           761\n",
       "total_individuals    1826\n",
       "dtype: int64"
      ]
     },
     "execution_count": 123,
     "metadata": {},
     "output_type": "execute_result"
    }
   ],
   "source": [
    "fairness_metrics[['total_class', 'total_individuals']].sum()"
   ]
  },
  {
   "cell_type": "code",
   "execution_count": 140,
   "metadata": {},
   "outputs": [
    {
     "data": {
      "text/html": [
       "<div>\n",
       "<style scoped>\n",
       "    .dataframe tbody tr th:only-of-type {\n",
       "        vertical-align: middle;\n",
       "    }\n",
       "\n",
       "    .dataframe tbody tr th {\n",
       "        vertical-align: top;\n",
       "    }\n",
       "\n",
       "    .dataframe thead th {\n",
       "        text-align: right;\n",
       "    }\n",
       "</style>\n",
       "<table border=\"1\" class=\"dataframe\">\n",
       "  <thead>\n",
       "    <tr style=\"text-align: right;\">\n",
       "      <th></th>\n",
       "      <th>item_idx</th>\n",
       "      <th>action</th>\n",
       "      <th>device_idx</th>\n",
       "    </tr>\n",
       "  </thead>\n",
       "  <tbody>\n",
       "    <tr>\n",
       "      <td>3539</td>\n",
       "      <td>21</td>\n",
       "      <td>41</td>\n",
       "      <td>2</td>\n",
       "    </tr>\n",
       "    <tr>\n",
       "      <td>3601</td>\n",
       "      <td>799</td>\n",
       "      <td>106</td>\n",
       "      <td>2</td>\n",
       "    </tr>\n",
       "    <tr>\n",
       "      <td>3724</td>\n",
       "      <td>798</td>\n",
       "      <td>106</td>\n",
       "      <td>2</td>\n",
       "    </tr>\n",
       "    <tr>\n",
       "      <td>3868</td>\n",
       "      <td>623</td>\n",
       "      <td>792</td>\n",
       "      <td>2</td>\n",
       "    </tr>\n",
       "    <tr>\n",
       "      <td>3980</td>\n",
       "      <td>1056</td>\n",
       "      <td>802</td>\n",
       "      <td>2</td>\n",
       "    </tr>\n",
       "  </tbody>\n",
       "</table>\n",
       "</div>"
      ],
      "text/plain": [
       "      item_idx  action  device_idx\n",
       "3539        21      41           2\n",
       "3601       799     106           2\n",
       "3724       798     106           2\n",
       "3868       623     792           2\n",
       "3980      1056     802           2"
      ]
     },
     "execution_count": 140,
     "metadata": {},
     "output_type": "execute_result"
    }
   ],
   "source": [
    "_df = fairness_df[fairness_df.device_idx == 2]\n",
    "_df.head()"
   ]
  },
  {
   "cell_type": "code",
   "execution_count": 141,
   "metadata": {},
   "outputs": [
    {
     "data": {
      "text/plain": [
       "array([  21,  799,  798,  623, 1056,  956,  603,  143,  292,  625,  626,\n",
       "        152,   27,  278,  108,  235,  235,    2,  809,   19,   72,  508,\n",
       "        251,  565,  970,  809])"
      ]
     },
     "execution_count": 141,
     "metadata": {},
     "output_type": "execute_result"
    }
   ],
   "source": [
    "_df.item_idx.values#_df.action.values#"
   ]
  },
  {
   "cell_type": "code",
   "execution_count": 146,
   "metadata": {},
   "outputs": [
    {
     "data": {
      "text/plain": [
       "36"
      ]
     },
     "execution_count": 146,
     "metadata": {},
     "output_type": "execute_result"
    }
   ],
   "source": [
    "items = np.unique(list(_df.action.values) + list(_df.item_idx.values))\n",
    "len(items)"
   ]
  },
  {
   "cell_type": "code",
   "execution_count": null,
   "metadata": {},
   "outputs": [],
   "source": []
  }
 ],
 "metadata": {
  "kernelspec": {
   "display_name": "Python 3",
   "language": "python",
   "name": "python3"
  },
  "language_info": {
   "codemirror_mode": {
    "name": "ipython",
    "version": 3
   },
   "file_extension": ".py",
   "mimetype": "text/x-python",
   "name": "python",
   "nbconvert_exporter": "python",
   "pygments_lexer": "ipython3",
   "version": "3.6.7"
  },
  "toc": {
   "base_numbering": 1,
   "nav_menu": {},
   "number_sections": true,
   "sideBar": true,
   "skip_h1_title": false,
   "title_cell": "Table of Contents",
   "title_sidebar": "Contents",
   "toc_cell": false,
   "toc_position": {},
   "toc_section_display": true,
   "toc_window_display": false
  }
 },
 "nbformat": 4,
 "nbformat_minor": 4
}
