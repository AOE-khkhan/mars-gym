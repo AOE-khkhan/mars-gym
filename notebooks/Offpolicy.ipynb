{
 "cells": [
  {
   "cell_type": "code",
   "execution_count": 2,
   "metadata": {},
   "outputs": [],
   "source": [
    "import pandas as pd\n",
    "import numpy as np\n",
    "import seaborn as sns\n",
    "import matplotlib.pyplot as plt"
   ]
  },
  {
   "cell_type": "code",
   "execution_count": 42,
   "metadata": {
    "scrolled": true
   },
   "outputs": [
    {
     "data": {
      "text/html": [
       "<div>\n",
       "<style scoped>\n",
       "    .dataframe tbody tr th:only-of-type {\n",
       "        vertical-align: middle;\n",
       "    }\n",
       "\n",
       "    .dataframe tbody tr th {\n",
       "        vertical-align: top;\n",
       "    }\n",
       "\n",
       "    .dataframe thead th {\n",
       "        text-align: right;\n",
       "    }\n",
       "</style>\n",
       "<table border=\"1\" class=\"dataframe\">\n",
       "  <thead>\n",
       "    <tr style=\"text-align: right;\">\n",
       "      <th></th>\n",
       "      <th>timestamp</th>\n",
       "      <th>timestamp_diff</th>\n",
       "      <th>step</th>\n",
       "      <th>user_idx</th>\n",
       "      <th>session_idx</th>\n",
       "      <th>city_idx</th>\n",
       "      <th>sum_action_item_before</th>\n",
       "      <th>action_type_item_idx</th>\n",
       "      <th>action_type_idx</th>\n",
       "      <th>list_action_type_idx</th>\n",
       "      <th>...</th>\n",
       "      <th>wheelchair accessible</th>\n",
       "      <th>wifi (public areas)</th>\n",
       "      <th>wifi (rooms)</th>\n",
       "      <th>star</th>\n",
       "      <th>list_metadata</th>\n",
       "      <th>item_idx_action</th>\n",
       "      <th>rewards</th>\n",
       "      <th>actions_rhat_rewards</th>\n",
       "      <th>rhat_rewards</th>\n",
       "      <th>ps_eval</th>\n",
       "    </tr>\n",
       "  </thead>\n",
       "  <tbody>\n",
       "    <tr>\n",
       "      <td>0</td>\n",
       "      <td>1541544053</td>\n",
       "      <td>1541543974</td>\n",
       "      <td>2.0</td>\n",
       "      <td>8181</td>\n",
       "      <td>537</td>\n",
       "      <td>0</td>\n",
       "      <td>0.0</td>\n",
       "      <td>122</td>\n",
       "      <td>2</td>\n",
       "      <td>[0, 0, 0, 0, 0, 0, 0, 0, 0, 2]</td>\n",
       "      <td>...</td>\n",
       "      <td>1</td>\n",
       "      <td>1</td>\n",
       "      <td>1</td>\n",
       "      <td>3</td>\n",
       "      <td>[0, 0, 1, 0, 0, 1, 1, 0, 1, 0, 0, 0, 0, 0, 1, ...</td>\n",
       "      <td>33</td>\n",
       "      <td>0.0</td>\n",
       "      <td>[0.0625884011387825, 0.011670851148664951, 0.0...</td>\n",
       "      <td>0.062588</td>\n",
       "      <td>0.0</td>\n",
       "    </tr>\n",
       "    <tr>\n",
       "      <td>1</td>\n",
       "      <td>1541540804</td>\n",
       "      <td>41621565816</td>\n",
       "      <td>28.0</td>\n",
       "      <td>4485</td>\n",
       "      <td>10810</td>\n",
       "      <td>0</td>\n",
       "      <td>0.0</td>\n",
       "      <td>120</td>\n",
       "      <td>2</td>\n",
       "      <td>[6, 3, 10, 5, 2, 5, 1, 1, 1, 3]</td>\n",
       "      <td>...</td>\n",
       "      <td>1</td>\n",
       "      <td>1</td>\n",
       "      <td>1</td>\n",
       "      <td>3</td>\n",
       "      <td>[0, 0, 1, 0, 0, 1, 1, 0, 1, 0, 0, 0, 0, 0, 1, ...</td>\n",
       "      <td>33</td>\n",
       "      <td>0.0</td>\n",
       "      <td>[0.2016054391860962, 0.14201219379901886, 0.24...</td>\n",
       "      <td>0.201605</td>\n",
       "      <td>0.0</td>\n",
       "    </tr>\n",
       "    <tr>\n",
       "      <td>2</td>\n",
       "      <td>1541467809</td>\n",
       "      <td>7707338299</td>\n",
       "      <td>9.0</td>\n",
       "      <td>2252</td>\n",
       "      <td>5735</td>\n",
       "      <td>0</td>\n",
       "      <td>0.0</td>\n",
       "      <td>458</td>\n",
       "      <td>2</td>\n",
       "      <td>[0, 0, 0, 0, 0, 8, 2, 2, 1, 1]</td>\n",
       "      <td>...</td>\n",
       "      <td>1</td>\n",
       "      <td>1</td>\n",
       "      <td>1</td>\n",
       "      <td>3</td>\n",
       "      <td>[0, 0, 1, 0, 0, 1, 1, 0, 1, 0, 0, 0, 0, 0, 1, ...</td>\n",
       "      <td>33</td>\n",
       "      <td>0.0</td>\n",
       "      <td>[0.21878178417682648, 0.21895451843738556, 0.2...</td>\n",
       "      <td>0.218782</td>\n",
       "      <td>0.0</td>\n",
       "    </tr>\n",
       "    <tr>\n",
       "      <td>3</td>\n",
       "      <td>1541541228</td>\n",
       "      <td>1541541130</td>\n",
       "      <td>2.0</td>\n",
       "      <td>6595</td>\n",
       "      <td>10036</td>\n",
       "      <td>0</td>\n",
       "      <td>0.0</td>\n",
       "      <td>33</td>\n",
       "      <td>2</td>\n",
       "      <td>[0, 0, 0, 0, 0, 0, 0, 0, 0, 10]</td>\n",
       "      <td>...</td>\n",
       "      <td>1</td>\n",
       "      <td>1</td>\n",
       "      <td>1</td>\n",
       "      <td>3</td>\n",
       "      <td>[0, 0, 1, 0, 0, 1, 1, 0, 1, 0, 0, 0, 0, 0, 1, ...</td>\n",
       "      <td>33</td>\n",
       "      <td>0.0</td>\n",
       "      <td>[0.01658455841243267, 0.019832748919725418, 0....</td>\n",
       "      <td>0.016585</td>\n",
       "      <td>0.0</td>\n",
       "    </tr>\n",
       "    <tr>\n",
       "      <td>4</td>\n",
       "      <td>1541468545</td>\n",
       "      <td>4624403937</td>\n",
       "      <td>4.0</td>\n",
       "      <td>6817</td>\n",
       "      <td>9857</td>\n",
       "      <td>0</td>\n",
       "      <td>0.0</td>\n",
       "      <td>680</td>\n",
       "      <td>2</td>\n",
       "      <td>[0, 0, 0, 0, 0, 0, 0, 2, 2, 2]</td>\n",
       "      <td>...</td>\n",
       "      <td>1</td>\n",
       "      <td>1</td>\n",
       "      <td>1</td>\n",
       "      <td>3</td>\n",
       "      <td>[0, 0, 1, 0, 0, 1, 1, 0, 1, 0, 0, 0, 0, 0, 1, ...</td>\n",
       "      <td>33</td>\n",
       "      <td>0.0</td>\n",
       "      <td>[0.09425625950098038, 0.18421410024166107, 0.1...</td>\n",
       "      <td>0.094256</td>\n",
       "      <td>0.0</td>\n",
       "    </tr>\n",
       "  </tbody>\n",
       "</table>\n",
       "<p>5 rows × 287 columns</p>\n",
       "</div>"
      ],
      "text/plain": [
       "    timestamp  timestamp_diff  step  user_idx  session_idx  city_idx  \\\n",
       "0  1541544053      1541543974   2.0      8181          537         0   \n",
       "1  1541540804     41621565816  28.0      4485        10810         0   \n",
       "2  1541467809      7707338299   9.0      2252         5735         0   \n",
       "3  1541541228      1541541130   2.0      6595        10036         0   \n",
       "4  1541468545      4624403937   4.0      6817         9857         0   \n",
       "\n",
       "   sum_action_item_before  action_type_item_idx  action_type_idx  \\\n",
       "0                     0.0                   122                2   \n",
       "1                     0.0                   120                2   \n",
       "2                     0.0                   458                2   \n",
       "3                     0.0                    33                2   \n",
       "4                     0.0                   680                2   \n",
       "\n",
       "              list_action_type_idx  ... wheelchair accessible  \\\n",
       "0   [0, 0, 0, 0, 0, 0, 0, 0, 0, 2]  ...                     1   \n",
       "1  [6, 3, 10, 5, 2, 5, 1, 1, 1, 3]  ...                     1   \n",
       "2   [0, 0, 0, 0, 0, 8, 2, 2, 1, 1]  ...                     1   \n",
       "3  [0, 0, 0, 0, 0, 0, 0, 0, 0, 10]  ...                     1   \n",
       "4   [0, 0, 0, 0, 0, 0, 0, 2, 2, 2]  ...                     1   \n",
       "\n",
       "  wifi (public areas) wifi (rooms) star  \\\n",
       "0                   1            1    3   \n",
       "1                   1            1    3   \n",
       "2                   1            1    3   \n",
       "3                   1            1    3   \n",
       "4                   1            1    3   \n",
       "\n",
       "                                       list_metadata item_idx_action rewards  \\\n",
       "0  [0, 0, 1, 0, 0, 1, 1, 0, 1, 0, 0, 0, 0, 0, 1, ...              33     0.0   \n",
       "1  [0, 0, 1, 0, 0, 1, 1, 0, 1, 0, 0, 0, 0, 0, 1, ...              33     0.0   \n",
       "2  [0, 0, 1, 0, 0, 1, 1, 0, 1, 0, 0, 0, 0, 0, 1, ...              33     0.0   \n",
       "3  [0, 0, 1, 0, 0, 1, 1, 0, 1, 0, 0, 0, 0, 0, 1, ...              33     0.0   \n",
       "4  [0, 0, 1, 0, 0, 1, 1, 0, 1, 0, 0, 0, 0, 0, 1, ...              33     0.0   \n",
       "\n",
       "                                actions_rhat_rewards rhat_rewards ps_eval  \n",
       "0  [0.0625884011387825, 0.011670851148664951, 0.0...     0.062588     0.0  \n",
       "1  [0.2016054391860962, 0.14201219379901886, 0.24...     0.201605     0.0  \n",
       "2  [0.21878178417682648, 0.21895451843738556, 0.2...     0.218782     0.0  \n",
       "3  [0.01658455841243267, 0.019832748919725418, 0....     0.016585     0.0  \n",
       "4  [0.09425625950098038, 0.18421410024166107, 0.1...     0.094256     0.0  \n",
       "\n",
       "[5 rows x 287 columns]"
      ]
     },
     "execution_count": 42,
     "metadata": {},
     "output_type": "execute_result"
    }
   ],
   "source": [
    "df = pd.read_csv(\"/media/workspace/DeepFood/deep-reco-gym/output/evaluation/EvaluateTestSetPredictions/results/TrivagoLogisticModelInteraction_selu____model_b9e11389ff_7faabc6274/df_offpolicy.csv\")\n",
    "df.head()"
   ]
  },
  {
   "cell_type": "code",
   "execution_count": 43,
   "metadata": {},
   "outputs": [
    {
     "data": {
      "text/plain": [
       "(10000, 287)"
      ]
     },
     "execution_count": 43,
     "metadata": {},
     "output_type": "execute_result"
    }
   ],
   "source": [
    "#df = df[df.clicked == 1]\n",
    "df.shape"
   ]
  },
  {
   "cell_type": "code",
   "execution_count": 44,
   "metadata": {},
   "outputs": [
    {
     "data": {
      "text/plain": [
       "'[0.05816490575671196, 0.10027596354484558, 0.030479300767183304, 0.06241748109459877, 0.030343353748321533, 0.09400835633277893, 0.009717929176986217, 0.07504048198461533, 0.04357972368597984, 0.01785987615585327, 0.038707584142684937, 0.0806737020611763, 0.05475740134716034, 0.026183629408478737, 0.04079347476363182, 0.023196816444396973, 0.06356530636548996, 0.012192214839160442, 0.06070176512002945, 0.06399010866880417, 0.030090706422924995, 0.0375983864068985, 0.099886454641819, 0.006939127575606108, 0.04446110129356384]'"
      ]
     },
     "execution_count": 44,
     "metadata": {},
     "output_type": "execute_result"
    }
   ],
   "source": [
    "df.iloc[10].actions_rhat_rewards"
   ]
  },
  {
   "cell_type": "code",
   "execution_count": null,
   "metadata": {
    "scrolled": true
   },
   "outputs": [],
   "source": []
  },
  {
   "cell_type": "code",
   "execution_count": 45,
   "metadata": {},
   "outputs": [],
   "source": [
    "import numpy as np\n",
    "import scipy.stats\n",
    "\n",
    "\n",
    "def mean_confidence_interval(data, confidence=0.95):\n",
    "    a = 1.0 * np.array(data)\n",
    "    n = len(a)\n",
    "    m, se = np.mean(a), scipy.stats.sem(a)\n",
    "    h = se * scipy.stats.t.ppf((1 + confidence) / 2., n-1)\n",
    "    return m, m-h, m+h\n"
   ]
  },
  {
   "cell_type": "code",
   "execution_count": 46,
   "metadata": {},
   "outputs": [],
   "source": [
    "#sns.distplot(df.rhat_rewards)"
   ]
  },
  {
   "cell_type": "code",
   "execution_count": 47,
   "metadata": {},
   "outputs": [
    {
     "data": {
      "text/plain": [
       "(7773, 287)"
      ]
     },
     "execution_count": 47,
     "metadata": {},
     "output_type": "execute_result"
    }
   ],
   "source": [
    "e = 0.01\n",
    "df2 = df[df.ps >= 0 + e]\n",
    "df2.shape"
   ]
  },
  {
   "cell_type": "code",
   "execution_count": 48,
   "metadata": {},
   "outputs": [
    {
     "name": "stderr",
     "output_type": "stream",
     "text": [
      "/home/marlesson/anaconda3/envs/deep-reco-gym/lib/python3.6/site-packages/matplotlib/axes/_axes.py:6462: UserWarning: The 'normed' kwarg is deprecated, and has been replaced by the 'density' kwarg.\n",
      "  warnings.warn(\"The 'normed' kwarg is deprecated, and has been \"\n"
     ]
    },
    {
     "data": {
      "text/plain": [
       "<matplotlib.axes._subplots.AxesSubplot at 0x7fe0fdd7f780>"
      ]
     },
     "execution_count": 48,
     "metadata": {},
     "output_type": "execute_result"
    },
    {
     "data": {
      "image/png": "[encoded data removed]",
      "text/plain": [
       "<Figure size 432x288 with 1 Axes>"
      ]
     },
     "metadata": {
      "needs_background": "light"
     },
     "output_type": "display_data"
    }
   ],
   "source": [
    "sns.distplot(df2.ps)"
   ]
  },
  {
   "cell_type": "code",
   "execution_count": 49,
   "metadata": {},
   "outputs": [
    {
     "ename": "RuntimeError",
     "evalue": "Selected KDE bandwidth is 0. Cannot estiamte density.",
     "output_type": "error",
     "traceback": [
      "\u001b[0;31m---------------------------------------------------------------------------\u001b[0m",
      "\u001b[0;31mValueError\u001b[0m                                Traceback (most recent call last)",
      "\u001b[0;32m~/anaconda3/envs/deep-reco-gym/lib/python3.6/site-packages/statsmodels/nonparametric/kde.py\u001b[0m in \u001b[0;36mkdensityfft\u001b[0;34m(X, kernel, bw, weights, gridsize, adjust, clip, cut, retgrid)\u001b[0m\n\u001b[1;32m    450\u001b[0m     \u001b[0;32mtry\u001b[0m\u001b[0;34m:\u001b[0m\u001b[0;34m\u001b[0m\u001b[0;34m\u001b[0m\u001b[0m\n\u001b[0;32m--> 451\u001b[0;31m         \u001b[0mbw\u001b[0m \u001b[0;34m=\u001b[0m \u001b[0mfloat\u001b[0m\u001b[0;34m(\u001b[0m\u001b[0mbw\u001b[0m\u001b[0;34m)\u001b[0m\u001b[0;34m\u001b[0m\u001b[0;34m\u001b[0m\u001b[0m\n\u001b[0m\u001b[1;32m    452\u001b[0m     \u001b[0;32mexcept\u001b[0m\u001b[0;34m:\u001b[0m\u001b[0;34m\u001b[0m\u001b[0;34m\u001b[0m\u001b[0m\n",
      "\u001b[0;31mValueError\u001b[0m: could not convert string to float: 'scott'",
      "\nDuring handling of the above exception, another exception occurred:\n",
      "\u001b[0;31mRuntimeError\u001b[0m                              Traceback (most recent call last)",
      "\u001b[0;32m<ipython-input-49-e967f12d10f8>\u001b[0m in \u001b[0;36m<module>\u001b[0;34m\u001b[0m\n\u001b[0;32m----> 1\u001b[0;31m \u001b[0msns\u001b[0m\u001b[0;34m.\u001b[0m\u001b[0mdistplot\u001b[0m\u001b[0;34m(\u001b[0m\u001b[0mdf2\u001b[0m\u001b[0;34m.\u001b[0m\u001b[0mps_eval\u001b[0m\u001b[0;34m)\u001b[0m\u001b[0;34m\u001b[0m\u001b[0;34m\u001b[0m\u001b[0m\n\u001b[0m",
      "\u001b[0;32m~/anaconda3/envs/deep-reco-gym/lib/python3.6/site-packages/seaborn/distributions.py\u001b[0m in \u001b[0;36mdistplot\u001b[0;34m(a, bins, hist, kde, rug, fit, hist_kws, kde_kws, rug_kws, fit_kws, color, vertical, norm_hist, axlabel, label, ax)\u001b[0m\n\u001b[1;32m    222\u001b[0m     \u001b[0;32mif\u001b[0m \u001b[0mkde\u001b[0m\u001b[0;34m:\u001b[0m\u001b[0;34m\u001b[0m\u001b[0;34m\u001b[0m\u001b[0m\n\u001b[1;32m    223\u001b[0m         \u001b[0mkde_color\u001b[0m \u001b[0;34m=\u001b[0m \u001b[0mkde_kws\u001b[0m\u001b[0;34m.\u001b[0m\u001b[0mpop\u001b[0m\u001b[0;34m(\u001b[0m\u001b[0;34m\"color\"\u001b[0m\u001b[0;34m,\u001b[0m \u001b[0mcolor\u001b[0m\u001b[0;34m)\u001b[0m\u001b[0;34m\u001b[0m\u001b[0;34m\u001b[0m\u001b[0m\n\u001b[0;32m--> 224\u001b[0;31m         \u001b[0mkdeplot\u001b[0m\u001b[0;34m(\u001b[0m\u001b[0ma\u001b[0m\u001b[0;34m,\u001b[0m \u001b[0mvertical\u001b[0m\u001b[0;34m=\u001b[0m\u001b[0mvertical\u001b[0m\u001b[0;34m,\u001b[0m \u001b[0max\u001b[0m\u001b[0;34m=\u001b[0m\u001b[0max\u001b[0m\u001b[0;34m,\u001b[0m \u001b[0mcolor\u001b[0m\u001b[0;34m=\u001b[0m\u001b[0mkde_color\u001b[0m\u001b[0;34m,\u001b[0m \u001b[0;34m**\u001b[0m\u001b[0mkde_kws\u001b[0m\u001b[0;34m)\u001b[0m\u001b[0;34m\u001b[0m\u001b[0;34m\u001b[0m\u001b[0m\n\u001b[0m\u001b[1;32m    225\u001b[0m         \u001b[0;32mif\u001b[0m \u001b[0mkde_color\u001b[0m \u001b[0;34m!=\u001b[0m \u001b[0mcolor\u001b[0m\u001b[0;34m:\u001b[0m\u001b[0;34m\u001b[0m\u001b[0;34m\u001b[0m\u001b[0m\n\u001b[1;32m    226\u001b[0m             \u001b[0mkde_kws\u001b[0m\u001b[0;34m[\u001b[0m\u001b[0;34m\"color\"\u001b[0m\u001b[0;34m]\u001b[0m \u001b[0;34m=\u001b[0m \u001b[0mkde_color\u001b[0m\u001b[0;34m\u001b[0m\u001b[0;34m\u001b[0m\u001b[0m\n",
      "\u001b[0;32m~/anaconda3/envs/deep-reco-gym/lib/python3.6/site-packages/seaborn/distributions.py\u001b[0m in \u001b[0;36mkdeplot\u001b[0;34m(data, data2, shade, vertical, kernel, bw, gridsize, cut, clip, legend, cumulative, shade_lowest, cbar, cbar_ax, cbar_kws, ax, **kwargs)\u001b[0m\n\u001b[1;32m    655\u001b[0m         ax = _univariate_kdeplot(data, shade, vertical, kernel, bw,\n\u001b[1;32m    656\u001b[0m                                  \u001b[0mgridsize\u001b[0m\u001b[0;34m,\u001b[0m \u001b[0mcut\u001b[0m\u001b[0;34m,\u001b[0m \u001b[0mclip\u001b[0m\u001b[0;34m,\u001b[0m \u001b[0mlegend\u001b[0m\u001b[0;34m,\u001b[0m \u001b[0max\u001b[0m\u001b[0;34m,\u001b[0m\u001b[0;34m\u001b[0m\u001b[0;34m\u001b[0m\u001b[0m\n\u001b[0;32m--> 657\u001b[0;31m                                  cumulative=cumulative, **kwargs)\n\u001b[0m\u001b[1;32m    658\u001b[0m \u001b[0;34m\u001b[0m\u001b[0m\n\u001b[1;32m    659\u001b[0m     \u001b[0;32mreturn\u001b[0m \u001b[0max\u001b[0m\u001b[0;34m\u001b[0m\u001b[0;34m\u001b[0m\u001b[0m\n",
      "\u001b[0;32m~/anaconda3/envs/deep-reco-gym/lib/python3.6/site-packages/seaborn/distributions.py\u001b[0m in \u001b[0;36m_univariate_kdeplot\u001b[0;34m(data, shade, vertical, kernel, bw, gridsize, cut, clip, legend, ax, cumulative, **kwargs)\u001b[0m\n\u001b[1;32m    271\u001b[0m         x, y = _statsmodels_univariate_kde(data, kernel, bw,\n\u001b[1;32m    272\u001b[0m                                            \u001b[0mgridsize\u001b[0m\u001b[0;34m,\u001b[0m \u001b[0mcut\u001b[0m\u001b[0;34m,\u001b[0m \u001b[0mclip\u001b[0m\u001b[0;34m,\u001b[0m\u001b[0;34m\u001b[0m\u001b[0;34m\u001b[0m\u001b[0m\n\u001b[0;32m--> 273\u001b[0;31m                                            cumulative=cumulative)\n\u001b[0m\u001b[1;32m    274\u001b[0m     \u001b[0;32melse\u001b[0m\u001b[0;34m:\u001b[0m\u001b[0;34m\u001b[0m\u001b[0;34m\u001b[0m\u001b[0m\n\u001b[1;32m    275\u001b[0m         \u001b[0;31m# Fall back to scipy if missing statsmodels\u001b[0m\u001b[0;34m\u001b[0m\u001b[0;34m\u001b[0m\u001b[0;34m\u001b[0m\u001b[0m\n",
      "\u001b[0;32m~/anaconda3/envs/deep-reco-gym/lib/python3.6/site-packages/seaborn/distributions.py\u001b[0m in \u001b[0;36m_statsmodels_univariate_kde\u001b[0;34m(data, kernel, bw, gridsize, cut, clip, cumulative)\u001b[0m\n\u001b[1;32m    343\u001b[0m     \u001b[0mfft\u001b[0m \u001b[0;34m=\u001b[0m \u001b[0mkernel\u001b[0m \u001b[0;34m==\u001b[0m \u001b[0;34m\"gau\"\u001b[0m\u001b[0;34m\u001b[0m\u001b[0;34m\u001b[0m\u001b[0m\n\u001b[1;32m    344\u001b[0m     \u001b[0mkde\u001b[0m \u001b[0;34m=\u001b[0m \u001b[0msmnp\u001b[0m\u001b[0;34m.\u001b[0m\u001b[0mKDEUnivariate\u001b[0m\u001b[0;34m(\u001b[0m\u001b[0mdata\u001b[0m\u001b[0;34m)\u001b[0m\u001b[0;34m\u001b[0m\u001b[0;34m\u001b[0m\u001b[0m\n\u001b[0;32m--> 345\u001b[0;31m     \u001b[0mkde\u001b[0m\u001b[0;34m.\u001b[0m\u001b[0mfit\u001b[0m\u001b[0;34m(\u001b[0m\u001b[0mkernel\u001b[0m\u001b[0;34m,\u001b[0m \u001b[0mbw\u001b[0m\u001b[0;34m,\u001b[0m \u001b[0mfft\u001b[0m\u001b[0;34m,\u001b[0m \u001b[0mgridsize\u001b[0m\u001b[0;34m=\u001b[0m\u001b[0mgridsize\u001b[0m\u001b[0;34m,\u001b[0m \u001b[0mcut\u001b[0m\u001b[0;34m=\u001b[0m\u001b[0mcut\u001b[0m\u001b[0;34m,\u001b[0m \u001b[0mclip\u001b[0m\u001b[0;34m=\u001b[0m\u001b[0mclip\u001b[0m\u001b[0;34m)\u001b[0m\u001b[0;34m\u001b[0m\u001b[0;34m\u001b[0m\u001b[0m\n\u001b[0m\u001b[1;32m    346\u001b[0m     \u001b[0;32mif\u001b[0m \u001b[0mcumulative\u001b[0m\u001b[0;34m:\u001b[0m\u001b[0;34m\u001b[0m\u001b[0;34m\u001b[0m\u001b[0m\n\u001b[1;32m    347\u001b[0m         \u001b[0mgrid\u001b[0m\u001b[0;34m,\u001b[0m \u001b[0my\u001b[0m \u001b[0;34m=\u001b[0m \u001b[0mkde\u001b[0m\u001b[0;34m.\u001b[0m\u001b[0msupport\u001b[0m\u001b[0;34m,\u001b[0m \u001b[0mkde\u001b[0m\u001b[0;34m.\u001b[0m\u001b[0mcdf\u001b[0m\u001b[0;34m\u001b[0m\u001b[0;34m\u001b[0m\u001b[0m\n",
      "\u001b[0;32m~/anaconda3/envs/deep-reco-gym/lib/python3.6/site-packages/statsmodels/nonparametric/kde.py\u001b[0m in \u001b[0;36mfit\u001b[0;34m(self, kernel, bw, fft, weights, gridsize, adjust, cut, clip)\u001b[0m\n\u001b[1;32m    138\u001b[0m             density, grid, bw = kdensityfft(endog, kernel=kernel, bw=bw,\n\u001b[1;32m    139\u001b[0m                     \u001b[0madjust\u001b[0m\u001b[0;34m=\u001b[0m\u001b[0madjust\u001b[0m\u001b[0;34m,\u001b[0m \u001b[0mweights\u001b[0m\u001b[0;34m=\u001b[0m\u001b[0mweights\u001b[0m\u001b[0;34m,\u001b[0m \u001b[0mgridsize\u001b[0m\u001b[0;34m=\u001b[0m\u001b[0mgridsize\u001b[0m\u001b[0;34m,\u001b[0m\u001b[0;34m\u001b[0m\u001b[0;34m\u001b[0m\u001b[0m\n\u001b[0;32m--> 140\u001b[0;31m                     clip=clip, cut=cut)\n\u001b[0m\u001b[1;32m    141\u001b[0m         \u001b[0;32melse\u001b[0m\u001b[0;34m:\u001b[0m\u001b[0;34m\u001b[0m\u001b[0;34m\u001b[0m\u001b[0m\n\u001b[1;32m    142\u001b[0m             density, grid, bw = kdensity(endog, kernel=kernel, bw=bw,\n",
      "\u001b[0;32m~/anaconda3/envs/deep-reco-gym/lib/python3.6/site-packages/statsmodels/nonparametric/kde.py\u001b[0m in \u001b[0;36mkdensityfft\u001b[0;34m(X, kernel, bw, weights, gridsize, adjust, clip, cut, retgrid)\u001b[0m\n\u001b[1;32m    451\u001b[0m         \u001b[0mbw\u001b[0m \u001b[0;34m=\u001b[0m \u001b[0mfloat\u001b[0m\u001b[0;34m(\u001b[0m\u001b[0mbw\u001b[0m\u001b[0;34m)\u001b[0m\u001b[0;34m\u001b[0m\u001b[0;34m\u001b[0m\u001b[0m\n\u001b[1;32m    452\u001b[0m     \u001b[0;32mexcept\u001b[0m\u001b[0;34m:\u001b[0m\u001b[0;34m\u001b[0m\u001b[0;34m\u001b[0m\u001b[0m\n\u001b[0;32m--> 453\u001b[0;31m         \u001b[0mbw\u001b[0m \u001b[0;34m=\u001b[0m \u001b[0mbandwidths\u001b[0m\u001b[0;34m.\u001b[0m\u001b[0mselect_bandwidth\u001b[0m\u001b[0;34m(\u001b[0m\u001b[0mX\u001b[0m\u001b[0;34m,\u001b[0m \u001b[0mbw\u001b[0m\u001b[0;34m,\u001b[0m \u001b[0mkern\u001b[0m\u001b[0;34m)\u001b[0m \u001b[0;31m# will cross-val fit this pattern?\u001b[0m\u001b[0;34m\u001b[0m\u001b[0;34m\u001b[0m\u001b[0m\n\u001b[0m\u001b[1;32m    454\u001b[0m     \u001b[0mbw\u001b[0m \u001b[0;34m*=\u001b[0m \u001b[0madjust\u001b[0m\u001b[0;34m\u001b[0m\u001b[0;34m\u001b[0m\u001b[0m\n\u001b[1;32m    455\u001b[0m \u001b[0;34m\u001b[0m\u001b[0m\n",
      "\u001b[0;32m~/anaconda3/envs/deep-reco-gym/lib/python3.6/site-packages/statsmodels/nonparametric/bandwidths.py\u001b[0m in \u001b[0;36mselect_bandwidth\u001b[0;34m(x, bw, kernel)\u001b[0m\n\u001b[1;32m    172\u001b[0m         \u001b[0;31m# eventually this can fall back on another selection criterion.\u001b[0m\u001b[0;34m\u001b[0m\u001b[0;34m\u001b[0m\u001b[0;34m\u001b[0m\u001b[0m\n\u001b[1;32m    173\u001b[0m         \u001b[0merr\u001b[0m \u001b[0;34m=\u001b[0m \u001b[0;34m\"Selected KDE bandwidth is 0. Cannot estiamte density.\"\u001b[0m\u001b[0;34m\u001b[0m\u001b[0;34m\u001b[0m\u001b[0m\n\u001b[0;32m--> 174\u001b[0;31m         \u001b[0;32mraise\u001b[0m \u001b[0mRuntimeError\u001b[0m\u001b[0;34m(\u001b[0m\u001b[0merr\u001b[0m\u001b[0;34m)\u001b[0m\u001b[0;34m\u001b[0m\u001b[0;34m\u001b[0m\u001b[0m\n\u001b[0m\u001b[1;32m    175\u001b[0m     \u001b[0;32melse\u001b[0m\u001b[0;34m:\u001b[0m\u001b[0;34m\u001b[0m\u001b[0;34m\u001b[0m\u001b[0m\n\u001b[1;32m    176\u001b[0m         \u001b[0;32mreturn\u001b[0m \u001b[0mbandwidth\u001b[0m\u001b[0;34m\u001b[0m\u001b[0;34m\u001b[0m\u001b[0m\n",
      "\u001b[0;31mRuntimeError\u001b[0m: Selected KDE bandwidth is 0. Cannot estiamte density."
     ]
    },
    {
     "data": {
      "image/png": "[encoded data removed]",
      "text/plain": [
       "<Figure size 432x288 with 1 Axes>"
      ]
     },
     "metadata": {
      "needs_background": "light"
     },
     "output_type": "display_data"
    }
   ],
   "source": [
    "sns.distplot(df2.ps_eval)"
   ]
  },
  {
   "cell_type": "code",
   "execution_count": 50,
   "metadata": {},
   "outputs": [
    {
     "data": {
      "text/plain": [
       "<seaborn.axisgrid.PairGrid at 0x7fe0fe46fcc0>"
      ]
     },
     "execution_count": 50,
     "metadata": {},
     "output_type": "execute_result"
    },
    {
     "data": {
      "image/png": "[encoded data removed]",
      "text/plain": [
       "<Figure size 591.875x540 with 12 Axes>"
      ]
     },
     "metadata": {
      "needs_background": "light"
     },
     "output_type": "display_data"
    }
   ],
   "source": [
    "sns.pairplot(df2[[\"ps\", \"ps_eval\", \"rewards\"]], hue=\"rewards\")"
   ]
  },
  {
   "cell_type": "code",
   "execution_count": null,
   "metadata": {},
   "outputs": [],
   "source": []
  },
  {
   "cell_type": "code",
   "execution_count": null,
   "metadata": {},
   "outputs": [],
   "source": []
  },
  {
   "cell_type": "markdown",
   "metadata": {},
   "source": [
    "## Offpolicy"
   ]
  },
  {
   "cell_type": "code",
   "execution_count": 51,
   "metadata": {},
   "outputs": [],
   "source": [
    "\n",
    "from typing import List, Union, Dict, Tuple\n",
    "from multiprocessing.pool import Pool\n",
    "import os\n",
    "import ast\n",
    "\n",
    "from tqdm import tqdm\n",
    "\n",
    "def parallel_literal_eval(series: Union[pd.Series, np.ndarray], pool: Pool = None, use_tqdm: bool = True) -> list:\n",
    "    if pool:\n",
    "        return _parallel_literal_eval(series, pool, use_tqdm)\n",
    "    else:\n",
    "        with Pool(os.cpu_count()) as p:\n",
    "            return _parallel_literal_eval(series, p, use_tqdm)\n",
    "def _parallel_literal_eval(series: Union[pd.Series, np.ndarray], pool: Pool, use_tqdm: bool = True) -> list:\n",
    "    if use_tqdm:\n",
    "        return list(tqdm(pool.map(literal_eval_if_str, series), total=len(series)))\n",
    "    else:\n",
    "        return pool.map(literal_eval_if_str, series)\n",
    "\n",
    "def literal_eval_if_str(element):\n",
    "    if isinstance(element, str):\n",
    "        return ast.literal_eval(element)\n",
    "    return element\n"
   ]
  },
  {
   "cell_type": "code",
   "execution_count": 52,
   "metadata": {},
   "outputs": [
    {
     "name": "stderr",
     "output_type": "stream",
     "text": [
      "100%|██████████| 10000/10000 [00:00<00:00, 3658035.93it/s]\n",
      "100%|██████████| 10000/10000 [00:00<00:00, 3754972.25it/s]\n",
      "100%|██████████| 10000/10000 [00:00<00:00, 3969247.66it/s]\n",
      "100%|██████████| 10000/10000 [00:00<00:00, 3064443.63it/s]\n",
      "100%|██████████| 10000/10000 [00:00<00:00, 4460127.61it/s]\n"
     ]
    }
   ],
   "source": [
    "df[\"sorted_actions\"] = parallel_literal_eval(df[\"sorted_actions\"])\n",
    "df[\"actions_rhat_rewards\"] = parallel_literal_eval(df[\"actions_rhat_rewards\"])\n",
    "df[\"prob_actions\"]   = parallel_literal_eval(df[\"prob_actions\"])\n",
    "df[\"action_scores\"]  = parallel_literal_eval(df[\"action_scores\"])\n",
    "df[\"action_scores\"]  = parallel_literal_eval(df[\"action_scores\"])\n",
    "df[\"action\"]         = df[\"sorted_actions\"].apply(lambda sorted_actions: sorted_actions[0])"
   ]
  },
  {
   "cell_type": "code",
   "execution_count": 53,
   "metadata": {},
   "outputs": [
    {
     "data": {
      "text/plain": [
       "timestamp                                                      1541544053\n",
       "timestamp_diff                                                 1541543974\n",
       "step                                                                    2\n",
       "user_idx                                                             8181\n",
       "session_idx                                                           537\n",
       "                                              ...                        \n",
       "item_idx_action                                                        33\n",
       "rewards                                                                 0\n",
       "actions_rhat_rewards    [0.0625884011387825, 0.011670851148664951, 0.0...\n",
       "rhat_rewards                                                    0.0625884\n",
       "ps_eval                                                                 0\n",
       "Name: 0, Length: 287, dtype: object"
      ]
     },
     "execution_count": 53,
     "metadata": {},
     "output_type": "execute_result"
    }
   ],
   "source": [
    "df.iloc[0]"
   ]
  },
  {
   "cell_type": "code",
   "execution_count": 54,
   "metadata": {},
   "outputs": [
    {
     "data": {
      "text/plain": [
       "[0.0625884011387825,\n",
       " 0.011670851148664951,\n",
       " 0.008278348483145237,\n",
       " 0.014965533278882504,\n",
       " 0.007675020955502987,\n",
       " 0.0016824721824377775,\n",
       " 0.01714877411723137,\n",
       " 0.05549728870391846,\n",
       " 0.07456347346305847,\n",
       " 0.005461480934172869,\n",
       " 0.015337670221924782,\n",
       " 0.036891207098960876,\n",
       " 0.007515000645071268,\n",
       " 0.020665936172008514,\n",
       " 0.002770459745079279,\n",
       " 0.004405587445944548,\n",
       " 0.0009763476555235684,\n",
       " 0.004645641427487135,\n",
       " 0.00834516528993845,\n",
       " 0.007493897341191769,\n",
       " 0.058074552565813065,\n",
       " 0.02677653357386589,\n",
       " 0.01006397232413292,\n",
       " 0.03748859465122223,\n",
       " 0.01885138265788555]"
      ]
     },
     "execution_count": 54,
     "metadata": {},
     "output_type": "execute_result"
    }
   ],
   "source": [
    "df.iloc[0].actions_rhat_rewards"
   ]
  },
  {
   "cell_type": "code",
   "execution_count": 55,
   "metadata": {},
   "outputs": [
    {
     "data": {
      "text/plain": [
       "0.0625884011387825"
      ]
     },
     "execution_count": 55,
     "metadata": {},
     "output_type": "execute_result"
    }
   ],
   "source": [
    "np.sum(np.array(df.iloc[0].prob_actions) * np.array(df.iloc[0].actions_rhat_rewards))"
   ]
  },
  {
   "cell_type": "code",
   "execution_count": 16,
   "metadata": {
    "scrolled": true
   },
   "outputs": [
    {
     "data": {
      "text/plain": [
       "[0.008895570412278175,\n",
       " 0.1031133383512497,\n",
       " 0.1482502818107605,\n",
       " 0.0198933407664299,\n",
       " 0.010252743028104305,\n",
       " 0.031430669128894806,\n",
       " 0.005116384010761976,\n",
       " 0.029142329469323158,\n",
       " 0.027408018708229065,\n",
       " 0.0731290802359581,\n",
       " 0.017673589289188385,\n",
       " 0.005121891852468252,\n",
       " 0.02514066733419895,\n",
       " 0.014695684425532818,\n",
       " 0.1766500174999237,\n",
       " 0.008174460381269455,\n",
       " 0.013728393241763115,\n",
       " 0.09953118860721588,\n",
       " 0.05285904183983803,\n",
       " 0.009516865015029907,\n",
       " 0.014002460986375809,\n",
       " 0.05535589158535004,\n",
       " 0.00014127131726127118,\n",
       " 0.04759342595934868,\n",
       " 0.03613501042127609]"
      ]
     },
     "execution_count": 16,
     "metadata": {},
     "output_type": "execute_result"
    }
   ],
   "source": [
    "df.iloc[0].actions_rhat_rewards"
   ]
  },
  {
   "cell_type": "code",
   "execution_count": null,
   "metadata": {},
   "outputs": [],
   "source": []
  },
  {
   "cell_type": "code",
   "execution_count": null,
   "metadata": {},
   "outputs": [],
   "source": [
    "df.iloc[0].rhat_rewards"
   ]
  },
  {
   "cell_type": "code",
   "execution_count": null,
   "metadata": {},
   "outputs": [],
   "source": []
  },
  {
   "cell_type": "code",
   "execution_count": null,
   "metadata": {},
   "outputs": [],
   "source": [
    "def _calc_sample_weigths(rewards, t_props, l_props):\n",
    "  # Compute the sample weights - propensity ratios\n",
    "  p_ratio = t_props / l_props\n",
    "\n",
    "  # Effective sample size for E_t estimate (from A. Owen)\n",
    "  n_e = len(rewards) * (np.mean(p_ratio) ** 2) / (p_ratio ** 2).mean()\n",
    "\n",
    "  # Critical value from t-distribution as we have unknown variance\n",
    "  alpha = .00125\n",
    "  cv = scipy.stats.t.ppf(1 - alpha, df=int(n_e) - 1)\n",
    "\n",
    "  return p_ratio, n_e, cv\n",
    "\n",
    "def eval_IPS(rewards, t_props, l_props):\n",
    "  # Calculate Sample Weigths\n",
    "  p_ratio, n_e, cv =  _calc_sample_weigths(rewards, t_props, l_props)\n",
    "\n",
    "  ###############\n",
    "  # VANILLA IPS #\n",
    "  ###############\n",
    "  # Expected reward for pi_t\n",
    "  E_t = np.mean(rewards * p_ratio)\n",
    "\n",
    "  # Variance of the estimate\n",
    "  var = ((rewards * p_ratio - E_t) ** 2).mean()\n",
    "  stddev = np.sqrt(var)\n",
    "\n",
    "  # C.I. assuming unknown variance - use t-distribution and effective sample size\n",
    "  c = cv * stddev / np.sqrt(int(n_e))\n",
    "  min_bound = E_t - c\n",
    "  max_bound = E_t + c\n",
    "\n",
    "  result = (E_t, c) # 0.025, 0.500, 0.975\n",
    "  return result\n",
    "\n",
    "\n",
    "def eval_CIPS(rewards, t_props, l_props, cap=15):\n",
    "  # Calculate Sample Weigths\n",
    "  p_ratio, n_e, cv =  _calc_sample_weigths(rewards, t_props, l_props)\n",
    "\n",
    "\n",
    "  ############## \n",
    "  # CAPPED IPS #\n",
    "  ##############\n",
    "  # Cap ratios\n",
    "  p_ratio_capped = np.clip(p_ratio, a_min=None, a_max=cap)\n",
    "\n",
    "  # Expected reward for pi_t\n",
    "  E_t_capped = np.mean(rewards * p_ratio_capped)\n",
    "\n",
    "  # Variance of the estimate\n",
    "  var_capped = ((rewards * p_ratio_capped - E_t_capped) ** 2).mean()\n",
    "  stddev_capped = np.sqrt(var_capped)\n",
    "\n",
    "  # C.I. assuming unknown variance - use t-distribution and effective sample size\n",
    "  c = cv * stddev_capped / np.sqrt(int(n_e))\n",
    "\n",
    "  min_bound_capped = E_t_capped - c\n",
    "  max_bound_capped = E_t_capped + c\n",
    "\n",
    "  result = (E_t_capped, c) # 0.025, 0.500, 0.975\n",
    "\n",
    "  return result\n",
    "\n",
    "\n",
    "def eval_doubly_robust(rhat_rewards, rewards, t_props, l_props, cap=None):\n",
    "  # Calculate Sample Weigths\n",
    "  p_ratio, n_e, cv =  _calc_sample_weigths(rewards, t_props, l_props)\n",
    "\n",
    "\n",
    "  # Cap ratios\n",
    "  if cap is not None:\n",
    "    p_ratio = np.clip(p_ratio, a_min=None, a_max=cap)\n",
    "\n",
    "  #################\n",
    "  # Roubly Robust #\n",
    "  #################\n",
    "  dr = rhat_rewards + (p_ratio*(rewards-rhat_rewards))\n",
    "\n",
    "  confidence=0.95\n",
    "  n = len(dr)\n",
    "  m, se = np.mean(dr), scipy.stats.sem(dr)\n",
    "  h = se * scipy.stats.t.ppf((1 + confidence) / 2., n-1)\n",
    "\n",
    "  return m, h"
   ]
  },
  {
   "cell_type": "code",
   "execution_count": null,
   "metadata": {},
   "outputs": [],
   "source": [
    "df.rewards.mean()"
   ]
  },
  {
   "cell_type": "code",
   "execution_count": null,
   "metadata": {},
   "outputs": [],
   "source": [
    "v = []\n",
    "for i, row in df.iterrows():\n",
    "    #if row.ps > 0.01:\n",
    "    #v.append((row.rewards * row.ps_eval)/row.ps)\n",
    "    v.append((row.rewards * row.ps))\n",
    "np.mean(v)"
   ]
  },
  {
   "cell_type": "code",
   "execution_count": null,
   "metadata": {},
   "outputs": [],
   "source": [
    "df.ps.describe()"
   ]
  },
  {
   "cell_type": "code",
   "execution_count": null,
   "metadata": {},
   "outputs": [],
   "source": [
    "_df = df[df.ps > 0.01]\n",
    "\n",
    "p_ratio, n_e, cv = _calc_sample_weigths(_df.rewards, _df.ps_eval, _df.ps)\n",
    "_df['p_ratio'] = p_ratio\n",
    "\n",
    "ips, c_ips = eval_IPS(_df.rewards, _df.ps_eval, _df.ps)\n",
    "print(\"eval_IPS\", ips, c_ips)\n",
    "\n",
    "ips, c_ips = eval_CIPS(_df.rewards, _df.ps_eval, _df.ps, cap=10)\n",
    "print(\"eval_CIPS\", ips, c_ips)"
   ]
  },
  {
   "cell_type": "code",
   "execution_count": null,
   "metadata": {},
   "outputs": [],
   "source": [
    "sns.distplot(p_ratio)"
   ]
  },
  {
   "cell_type": "code",
   "execution_count": null,
   "metadata": {},
   "outputs": [],
   "source": [
    "_df[['ps', 'ps_eval', 'p_ratio']].sort_values('p_ratio')"
   ]
  },
  {
   "cell_type": "code",
   "execution_count": null,
   "metadata": {},
   "outputs": [],
   "source": []
  },
  {
   "cell_type": "code",
   "execution_count": null,
   "metadata": {},
   "outputs": [],
   "source": []
  },
  {
   "cell_type": "markdown",
   "metadata": {},
   "source": [
    "## Fainess"
   ]
  },
  {
   "cell_type": "code",
   "execution_count": null,
   "metadata": {},
   "outputs": [],
   "source": [
    "from typing import List, Dict, Any\n",
    "\n",
    "import numpy as np\n",
    "import pandas as pd\n",
    "from sklearn.metrics import confusion_matrix, multilabel_confusion_matrix, classification_report\n",
    "\n",
    "def mean_confidence_interval(data, confidence=0.95):\n",
    "    data = np.array(data)\n",
    "    data = data[~np.isnan(data)]\n",
    "    a = 1.0 * data\n",
    "    n = len(a)\n",
    "    m, se = np.mean(a), scipy.stats.sem(a)\n",
    "    h = se * scipy.stats.t.ppf((1 + confidence) / 2., n-1)\n",
    "    return m, h\n",
    "\n",
    "# https://stackoverflow.com/questions/50666091/true-positive-rate-and-false-positive-rate-tpr-fpr-for-multi-class-data-in-py\n",
    "# https://en.wikipedia.org/wiki/Sensitivity_and_specificity\n",
    "def calculate_fairness_metrics(df: pd.DataFrame, sub_keys: List[str], ground_truth_key: str,\n",
    "                               prediction_key: str) -> pd.DataFrame:\n",
    "    rows: List[Dict[str, Any]] = []\n",
    "\n",
    "    for sub_key in sub_keys:\n",
    "        subs = df[sub_key].unique()\n",
    "\n",
    "        for sub in subs:\n",
    "            sub_df = df[df[sub_key] == sub]\n",
    "\n",
    "            y_true, y_pred = sub_df[ground_truth_key], sub_df[prediction_key]\n",
    "\n",
    "            cnf_matrix     = confusion_matrix(y_true, y_pred)\n",
    "\n",
    "            num_positives  = np.sum(np.diag(cnf_matrix))\n",
    "            num_negatives  = np.sum(cnf_matrix) - num_positives\n",
    "\n",
    "            fp = cnf_matrix.sum(axis=0) - np.diag(cnf_matrix)  \n",
    "            fn = cnf_matrix.sum(axis=1) - np.diag(cnf_matrix)\n",
    "            tp = np.diag(cnf_matrix)\n",
    "            tn = cnf_matrix.sum() - (fp + fn + tp)\n",
    "\n",
    "            fp = fp.astype(float)\n",
    "            fn = fn.astype(float)\n",
    "            tp = tp.astype(float)\n",
    "            tn = tn.astype(float)\n",
    "\n",
    "            # Sensitivity, hit rate, recall, or true positive rate\n",
    "            tpr = tp/(tp+fn)\n",
    "            # Specificity or true negative rate\n",
    "            tnr = tn/(tn+fp) \n",
    "            # Precision or positive predictive value\n",
    "            ppv = tp/(tp+fp)\n",
    "            # Negative predictive value\n",
    "            npv = tn/(tn+fn)\n",
    "            # Fall out or false positive rate\n",
    "            fpr = fp/(fp+tn)\n",
    "            # False negative rate\n",
    "            fnr = fn/(tp+fn)\n",
    "            # False discovery rate\n",
    "            fdr = fp/(tp+fp)\n",
    "            # positive rate\n",
    "            pr  = (tp+fp)/(tp+fp+fn+tn)\n",
    "            # positive rate\n",
    "            nr  = (tn+fn)/(tp+fp+fn+tn)\n",
    "\n",
    "            # Overall accuracy\n",
    "            acc = (tp+tn)/(tp+fp+fn+tn)\n",
    "\n",
    "            # Balanced Accuracy (BA)\n",
    "            bacc =  (tpr+tnr)/2\n",
    "\n",
    "            #print(classification_report(y_true,y_pred))\n",
    "            fpr, fpr_c  = mean_confidence_interval(fpr)\n",
    "            fnr, fnr_c  = mean_confidence_interval(fnr)\n",
    "            tpr, tpr_c  = mean_confidence_interval(tpr)\n",
    "            tnr, tnr_c  = mean_confidence_interval(tnr)\n",
    "            pr,  pr_c   = mean_confidence_interval(pr)\n",
    "            nr,  nr_c   = mean_confidence_interval(nr)\n",
    "            acc, acc_c  = mean_confidence_interval(acc)\n",
    "            bacc, bacc_c  = mean_confidence_interval(bacc)\n",
    "\n",
    "            rows.append({\n",
    "                \"sub_key\": sub_key,\n",
    "                \"sub\": sub,\n",
    "                \"total_class\": len(tp),\n",
    "                \"false_positive_rate\": fpr,\n",
    "                \"false_positive_rate_C\": fpr_c,\n",
    "                \"false_negative_rate\": fnr,\n",
    "                \"false_negative_rate_C\": fnr_c,\n",
    "                \"true_positive_rate\": tpr,\n",
    "                \"true_positive_rate_C\": tpr_c,\n",
    "                \"true_negative_rate\": tnr,\n",
    "                \"true_negative_rate_C\": tnr_c,\n",
    "                \"positive_rate\": pr,\n",
    "                \"positive_rate_C\": pr_c,\n",
    "                \"negative_rate\": nr,\n",
    "                \"negative_rate_C\": nr_c,\n",
    "                \"accuracy\": acc,\n",
    "                \"accuracy_C\": acc_c,\n",
    "                \"balance_accuracy\": bacc,\n",
    "                \"balance_accuracy_C\": bacc_c,\n",
    "                \"total_positives\": num_positives,\n",
    "                \"total_negatives\": num_negatives,\n",
    "                \"total_individuals\": num_positives+ num_negatives,\n",
    "            })\n",
    "\n",
    "    return pd.DataFrame(data=rows).sort_values([\"sub_key\", \"sub\"])\n",
    "\n",
    "from typing import List, Union, Dict, Tuple\n",
    "from multiprocessing.pool import Pool\n",
    "import os\n",
    "import ast\n",
    "\n",
    "from tqdm import tqdm\n",
    "\n",
    "def parallel_literal_eval(series: Union[pd.Series, np.ndarray], pool: Pool = None, use_tqdm: bool = True) -> list:\n",
    "    if pool:\n",
    "        return _parallel_literal_eval(series, pool, use_tqdm)\n",
    "    else:\n",
    "        with Pool(os.cpu_count()) as p:\n",
    "            return _parallel_literal_eval(series, p, use_tqdm)\n",
    "def _parallel_literal_eval(series: Union[pd.Series, np.ndarray], pool: Pool, use_tqdm: bool = True) -> list:\n",
    "    if use_tqdm:\n",
    "        return list(tqdm(pool.map(literal_eval_if_str, series), total=len(series)))\n",
    "    else:\n",
    "        return pool.map(literal_eval_if_str, series)\n",
    "\n",
    "def literal_eval_if_str(element):\n",
    "    if isinstance(element, str):\n",
    "        return ast.literal_eval(element)\n",
    "    return element\n"
   ]
  },
  {
   "cell_type": "code",
   "execution_count": null,
   "metadata": {},
   "outputs": [],
   "source": [
    "#df = pd.read_csv(\"/media/workspace/DeepFood/deep-reco-gym/output/trivago/dataset/Rio_de_Janeiro_Brazil/test_0.20_test=time_42_PrepareTrivagoSessionsDataFrames____None_time_170e5151cd.csv\")\n",
    "#\n",
    "df = pd.read_csv(\"/media/workspace/DeepFood/deep-reco-gym/output/interaction/TrivagoLogisticModelInteraction/results/TrivagoLogisticModelInteraction_selu____explore_then_exp_f4b976269c/test_set_predictions.csv\")\n",
    "df.head()\n",
    "\n"
   ]
  },
  {
   "cell_type": "code",
   "execution_count": null,
   "metadata": {},
   "outputs": [],
   "source": [
    "#df.columns"
   ]
  },
  {
   "cell_type": "code",
   "execution_count": null,
   "metadata": {},
   "outputs": [],
   "source": [
    "df[\"sorted_actions\"] = parallel_literal_eval(df[\"sorted_actions\"])\n",
    "df[\"prob_actions\"]   = parallel_literal_eval(df[\"prob_actions\"])\n",
    "df[\"action_scores\"]  = parallel_literal_eval(df[\"action_scores\"])\n",
    "df[\"action_scores\"]  = parallel_literal_eval(df[\"action_scores\"])\n",
    "df[\"action\"]         = df[\"sorted_actions\"].apply(lambda sorted_actions: sorted_actions[0])"
   ]
  },
  {
   "cell_type": "code",
   "execution_count": null,
   "metadata": {
    "scrolled": true
   },
   "outputs": [],
   "source": [
    "row = df.iloc[0]\n",
    "row.sorted_actions"
   ]
  },
  {
   "cell_type": "code",
   "execution_count": null,
   "metadata": {
    "scrolled": true
   },
   "outputs": [],
   "source": [
    "row.item_idx, row.action"
   ]
  },
  {
   "cell_type": "code",
   "execution_count": null,
   "metadata": {
    "scrolled": true
   },
   "outputs": [],
   "source": [
    "df_exploded = df.reset_index().explode('sorted_actions')\n",
    "df_exploded\n",
    "#df_stack    = df_exploded.sorted_actions.apply(pd.Series).reset_index().groupby('index')[0].apply(list)#.stack()#.groupby()#.reset_index()\n",
    "#df_stack\n",
    "#df['rhat_rewards_actions'] = df_stack#.values\n",
    "#df.sample().head()"
   ]
  },
  {
   "cell_type": "code",
   "execution_count": null,
   "metadata": {},
   "outputs": [],
   "source": [
    "df_implode = df_exploded.groupby('index').sorted_actions.apply(list)\n",
    "df_implode.head()"
   ]
  },
  {
   "cell_type": "code",
   "execution_count": null,
   "metadata": {
    "scrolled": true
   },
   "outputs": [],
   "source": [
    "df.iloc[150]"
   ]
  },
  {
   "cell_type": "code",
   "execution_count": null,
   "metadata": {},
   "outputs": [],
   "source": [
    "df_implode.iloc[150]"
   ]
  },
  {
   "cell_type": "code",
   "execution_count": null,
   "metadata": {},
   "outputs": [],
   "source": []
  },
  {
   "cell_type": "code",
   "execution_count": null,
   "metadata": {},
   "outputs": [],
   "source": []
  },
  {
   "cell_type": "code",
   "execution_count": null,
   "metadata": {},
   "outputs": [],
   "source": []
  },
  {
   "cell_type": "code",
   "execution_count": null,
   "metadata": {},
   "outputs": [],
   "source": [
    "ground_truth_df = df[df['clicked'] == 1]\n",
    "\n",
    "fairness_columns = ['device_idx']\n",
    "fairness_df       = ground_truth_df[['item_idx', \"action\",  *fairness_columns]]\n",
    "fairness_metrics  = calculate_fairness_metrics(fairness_df, fairness_columns,\n",
    "                                              'item_idx', \"action\")\n",
    "fairness_metrics"
   ]
  },
  {
   "cell_type": "code",
   "execution_count": null,
   "metadata": {},
   "outputs": [],
   "source": [
    "fairness_metrics[['sub_key', 'sub', 'total_class', 'total_individuals', 'true_positive_rate']]"
   ]
  },
  {
   "cell_type": "code",
   "execution_count": null,
   "metadata": {},
   "outputs": [],
   "source": [
    "fairness_metrics[['total_class', 'total_individuals']].sum()"
   ]
  },
  {
   "cell_type": "code",
   "execution_count": null,
   "metadata": {},
   "outputs": [],
   "source": [
    "_df = fairness_df[fairness_df.device_idx == 2]\n",
    "_df.head()"
   ]
  },
  {
   "cell_type": "code",
   "execution_count": null,
   "metadata": {},
   "outputs": [],
   "source": [
    "_df.item_idx.values#_df.action.values#"
   ]
  },
  {
   "cell_type": "code",
   "execution_count": null,
   "metadata": {},
   "outputs": [],
   "source": [
    "items = np.unique(list(_df.action.values) + list(_df.item_idx.values))\n",
    "len(items)"
   ]
  },
  {
   "cell_type": "code",
   "execution_count": null,
   "metadata": {},
   "outputs": [],
   "source": []
  }
 ],
 "metadata": {
  "kernelspec": {
   "display_name": "Python 3",
   "language": "python",
   "name": "python3"
  },
  "language_info": {
   "codemirror_mode": {
    "name": "ipython",
    "version": 3
   },
   "file_extension": ".py",
   "mimetype": "text/x-python",
   "name": "python",
   "nbconvert_exporter": "python",
   "pygments_lexer": "ipython3",
   "version": "3.6.7"
  },
  "toc": {
   "base_numbering": 1,
   "nav_menu": {},
   "number_sections": true,
   "sideBar": true,
   "skip_h1_title": false,
   "title_cell": "Table of Contents",
   "title_sidebar": "Contents",
   "toc_cell": false,
   "toc_position": {},
   "toc_section_display": true,
   "toc_window_display": false
  }
 },
 "nbformat": 4,
 "nbformat_minor": 4
}
