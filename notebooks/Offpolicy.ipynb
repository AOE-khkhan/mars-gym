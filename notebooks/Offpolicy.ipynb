{
 "cells": [
  {
   "cell_type": "code",
   "execution_count": 1,
   "metadata": {},
   "outputs": [],
   "source": [
    "import pandas as pd\n",
    "import numpy as np\n",
    "import seaborn as sns\n",
    "import matplotlib.pyplot as plt"
   ]
  },
  {
   "cell_type": "code",
   "execution_count": 147,
   "metadata": {
    "scrolled": true
   },
   "outputs": [
    {
     "data": {
      "text/html": [
       "<div>\n",
       "<style scoped>\n",
       "    .dataframe tbody tr th:only-of-type {\n",
       "        vertical-align: middle;\n",
       "    }\n",
       "\n",
       "    .dataframe tbody tr th {\n",
       "        vertical-align: top;\n",
       "    }\n",
       "\n",
       "    .dataframe thead th {\n",
       "        text-align: right;\n",
       "    }\n",
       "</style>\n",
       "<table border=\"1\" class=\"dataframe\">\n",
       "  <thead>\n",
       "    <tr style=\"text-align: right;\">\n",
       "      <th></th>\n",
       "      <th>timestamp</th>\n",
       "      <th>timestamp_diff</th>\n",
       "      <th>step</th>\n",
       "      <th>user_idx</th>\n",
       "      <th>session_idx</th>\n",
       "      <th>sum_action_item_before</th>\n",
       "      <th>action_type_item_idx</th>\n",
       "      <th>action_type_idx</th>\n",
       "      <th>list_action_type_idx</th>\n",
       "      <th>list_reference_search_for_poi</th>\n",
       "      <th>...</th>\n",
       "      <th>water slide</th>\n",
       "      <th>wheelchair accessible</th>\n",
       "      <th>wifi (public areas)</th>\n",
       "      <th>wifi (rooms)</th>\n",
       "      <th>star</th>\n",
       "      <th>list_metadata</th>\n",
       "      <th>item_idx_action</th>\n",
       "      <th>rewards</th>\n",
       "      <th>rhat_rewards</th>\n",
       "      <th>ps_eval</th>\n",
       "    </tr>\n",
       "  </thead>\n",
       "  <tbody>\n",
       "    <tr>\n",
       "      <td>0</td>\n",
       "      <td>1541461727</td>\n",
       "      <td>1541461708</td>\n",
       "      <td>2.0</td>\n",
       "      <td>3674</td>\n",
       "      <td>3219</td>\n",
       "      <td>0.0</td>\n",
       "      <td>809</td>\n",
       "      <td>2</td>\n",
       "      <td>[0, 0, 0, 0, 0, 0, 0, 0, 0, 2]</td>\n",
       "      <td>[0, 0, 0, 0, 0, 0, 0, 0, 0, 0]</td>\n",
       "      <td>...</td>\n",
       "      <td>0</td>\n",
       "      <td>0</td>\n",
       "      <td>1</td>\n",
       "      <td>1</td>\n",
       "      <td>2</td>\n",
       "      <td>[0, 1, 0, 0, 0, 0, 0, 0, 1, 0, 0, 0, 0, 0, 0, ...</td>\n",
       "      <td>1034</td>\n",
       "      <td>0.0</td>\n",
       "      <td>0.007804</td>\n",
       "      <td>0.0</td>\n",
       "    </tr>\n",
       "    <tr>\n",
       "      <td>1</td>\n",
       "      <td>1541461727</td>\n",
       "      <td>1541461708</td>\n",
       "      <td>2.0</td>\n",
       "      <td>3674</td>\n",
       "      <td>3219</td>\n",
       "      <td>0.0</td>\n",
       "      <td>809</td>\n",
       "      <td>2</td>\n",
       "      <td>[0, 0, 0, 0, 0, 0, 0, 0, 0, 2]</td>\n",
       "      <td>[0, 0, 0, 0, 0, 0, 0, 0, 0, 0]</td>\n",
       "      <td>...</td>\n",
       "      <td>0</td>\n",
       "      <td>0</td>\n",
       "      <td>1</td>\n",
       "      <td>1</td>\n",
       "      <td>2</td>\n",
       "      <td>[0, 1, 0, 0, 0, 0, 0, 0, 1, 0, 0, 0, 0, 0, 0, ...</td>\n",
       "      <td>1034</td>\n",
       "      <td>0.0</td>\n",
       "      <td>0.248508</td>\n",
       "      <td>0.0</td>\n",
       "    </tr>\n",
       "    <tr>\n",
       "      <td>2</td>\n",
       "      <td>1541461727</td>\n",
       "      <td>1541461708</td>\n",
       "      <td>2.0</td>\n",
       "      <td>3674</td>\n",
       "      <td>3219</td>\n",
       "      <td>0.0</td>\n",
       "      <td>809</td>\n",
       "      <td>2</td>\n",
       "      <td>[0, 0, 0, 0, 0, 0, 0, 0, 0, 2]</td>\n",
       "      <td>[0, 0, 0, 0, 0, 0, 0, 0, 0, 0]</td>\n",
       "      <td>...</td>\n",
       "      <td>0</td>\n",
       "      <td>0</td>\n",
       "      <td>1</td>\n",
       "      <td>1</td>\n",
       "      <td>2</td>\n",
       "      <td>[0, 1, 0, 0, 0, 0, 0, 0, 1, 0, 0, 0, 0, 0, 0, ...</td>\n",
       "      <td>1034</td>\n",
       "      <td>0.0</td>\n",
       "      <td>0.030177</td>\n",
       "      <td>0.0</td>\n",
       "    </tr>\n",
       "    <tr>\n",
       "      <td>3</td>\n",
       "      <td>1541461727</td>\n",
       "      <td>1541461708</td>\n",
       "      <td>2.0</td>\n",
       "      <td>3674</td>\n",
       "      <td>3219</td>\n",
       "      <td>0.0</td>\n",
       "      <td>809</td>\n",
       "      <td>2</td>\n",
       "      <td>[0, 0, 0, 0, 0, 0, 0, 0, 0, 2]</td>\n",
       "      <td>[0, 0, 0, 0, 0, 0, 0, 0, 0, 0]</td>\n",
       "      <td>...</td>\n",
       "      <td>0</td>\n",
       "      <td>0</td>\n",
       "      <td>1</td>\n",
       "      <td>1</td>\n",
       "      <td>2</td>\n",
       "      <td>[0, 1, 0, 0, 0, 0, 0, 0, 1, 0, 0, 0, 0, 0, 0, ...</td>\n",
       "      <td>1034</td>\n",
       "      <td>0.0</td>\n",
       "      <td>0.031495</td>\n",
       "      <td>0.0</td>\n",
       "    </tr>\n",
       "    <tr>\n",
       "      <td>4</td>\n",
       "      <td>1541461727</td>\n",
       "      <td>1541461708</td>\n",
       "      <td>2.0</td>\n",
       "      <td>3674</td>\n",
       "      <td>3219</td>\n",
       "      <td>0.0</td>\n",
       "      <td>809</td>\n",
       "      <td>2</td>\n",
       "      <td>[0, 0, 0, 0, 0, 0, 0, 0, 0, 2]</td>\n",
       "      <td>[0, 0, 0, 0, 0, 0, 0, 0, 0, 0]</td>\n",
       "      <td>...</td>\n",
       "      <td>0</td>\n",
       "      <td>0</td>\n",
       "      <td>1</td>\n",
       "      <td>1</td>\n",
       "      <td>2</td>\n",
       "      <td>[0, 1, 0, 0, 0, 0, 0, 0, 1, 0, 0, 0, 0, 0, 0, ...</td>\n",
       "      <td>1034</td>\n",
       "      <td>0.0</td>\n",
       "      <td>0.010260</td>\n",
       "      <td>0.0</td>\n",
       "    </tr>\n",
       "  </tbody>\n",
       "</table>\n",
       "<p>5 rows × 278 columns</p>\n",
       "</div>"
      ],
      "text/plain": [
       "    timestamp  timestamp_diff  step  user_idx  session_idx  \\\n",
       "0  1541461727      1541461708   2.0      3674         3219   \n",
       "1  1541461727      1541461708   2.0      3674         3219   \n",
       "2  1541461727      1541461708   2.0      3674         3219   \n",
       "3  1541461727      1541461708   2.0      3674         3219   \n",
       "4  1541461727      1541461708   2.0      3674         3219   \n",
       "\n",
       "   sum_action_item_before  action_type_item_idx  action_type_idx  \\\n",
       "0                     0.0                   809                2   \n",
       "1                     0.0                   809                2   \n",
       "2                     0.0                   809                2   \n",
       "3                     0.0                   809                2   \n",
       "4                     0.0                   809                2   \n",
       "\n",
       "             list_action_type_idx   list_reference_search_for_poi  ...  \\\n",
       "0  [0, 0, 0, 0, 0, 0, 0, 0, 0, 2]  [0, 0, 0, 0, 0, 0, 0, 0, 0, 0]  ...   \n",
       "1  [0, 0, 0, 0, 0, 0, 0, 0, 0, 2]  [0, 0, 0, 0, 0, 0, 0, 0, 0, 0]  ...   \n",
       "2  [0, 0, 0, 0, 0, 0, 0, 0, 0, 2]  [0, 0, 0, 0, 0, 0, 0, 0, 0, 0]  ...   \n",
       "3  [0, 0, 0, 0, 0, 0, 0, 0, 0, 2]  [0, 0, 0, 0, 0, 0, 0, 0, 0, 0]  ...   \n",
       "4  [0, 0, 0, 0, 0, 0, 0, 0, 0, 2]  [0, 0, 0, 0, 0, 0, 0, 0, 0, 0]  ...   \n",
       "\n",
       "  water slide wheelchair accessible wifi (public areas) wifi (rooms) star  \\\n",
       "0           0                     0                   1            1    2   \n",
       "1           0                     0                   1            1    2   \n",
       "2           0                     0                   1            1    2   \n",
       "3           0                     0                   1            1    2   \n",
       "4           0                     0                   1            1    2   \n",
       "\n",
       "                                       list_metadata item_idx_action rewards  \\\n",
       "0  [0, 1, 0, 0, 0, 0, 0, 0, 1, 0, 0, 0, 0, 0, 0, ...            1034     0.0   \n",
       "1  [0, 1, 0, 0, 0, 0, 0, 0, 1, 0, 0, 0, 0, 0, 0, ...            1034     0.0   \n",
       "2  [0, 1, 0, 0, 0, 0, 0, 0, 1, 0, 0, 0, 0, 0, 0, ...            1034     0.0   \n",
       "3  [0, 1, 0, 0, 0, 0, 0, 0, 1, 0, 0, 0, 0, 0, 0, ...            1034     0.0   \n",
       "4  [0, 1, 0, 0, 0, 0, 0, 0, 1, 0, 0, 0, 0, 0, 0, ...            1034     0.0   \n",
       "\n",
       "  rhat_rewards ps_eval  \n",
       "0     0.007804     0.0  \n",
       "1     0.248508     0.0  \n",
       "2     0.030177     0.0  \n",
       "3     0.031495     0.0  \n",
       "4     0.010260     0.0  \n",
       "\n",
       "[5 rows x 278 columns]"
      ]
     },
     "execution_count": 147,
     "metadata": {},
     "output_type": "execute_result"
    }
   ],
   "source": [
    "df = pd.read_csv(\"/media/workspace/DeepFood/deep-reco-gym/output/evaluation/EvaluateTestSetPredictions/results/TrivagoLogisticModelInteraction_selu____model_0299e3cf78_a28e7a0fcf/df_offpolicy.csv\")\n",
    "df.head()"
   ]
  },
  {
   "cell_type": "code",
   "execution_count": 155,
   "metadata": {},
   "outputs": [
    {
     "data": {
      "text/plain": [
       "(1826, 278)"
      ]
     },
     "execution_count": 155,
     "metadata": {},
     "output_type": "execute_result"
    }
   ],
   "source": [
    "df = df[df.clicked == 1]\n",
    "df.shape"
   ]
  },
  {
   "cell_type": "code",
   "execution_count": 159,
   "metadata": {},
   "outputs": [
    {
     "data": {
      "text/html": [
       "<div>\n",
       "<style scoped>\n",
       "    .dataframe tbody tr th:only-of-type {\n",
       "        vertical-align: middle;\n",
       "    }\n",
       "\n",
       "    .dataframe tbody tr th {\n",
       "        vertical-align: top;\n",
       "    }\n",
       "\n",
       "    .dataframe thead th {\n",
       "        text-align: right;\n",
       "    }\n",
       "</style>\n",
       "<table border=\"1\" class=\"dataframe\">\n",
       "  <thead>\n",
       "    <tr style=\"text-align: right;\">\n",
       "      <th></th>\n",
       "      <th>timestamp</th>\n",
       "      <th>timestamp_diff</th>\n",
       "      <th>step</th>\n",
       "      <th>user_idx</th>\n",
       "      <th>session_idx</th>\n",
       "      <th>sum_action_item_before</th>\n",
       "      <th>action_type_item_idx</th>\n",
       "      <th>action_type_idx</th>\n",
       "      <th>list_action_type_idx</th>\n",
       "      <th>list_reference_search_for_poi</th>\n",
       "      <th>...</th>\n",
       "      <th>water slide</th>\n",
       "      <th>wheelchair accessible</th>\n",
       "      <th>wifi (public areas)</th>\n",
       "      <th>wifi (rooms)</th>\n",
       "      <th>star</th>\n",
       "      <th>list_metadata</th>\n",
       "      <th>item_idx_action</th>\n",
       "      <th>rewards</th>\n",
       "      <th>rhat_rewards</th>\n",
       "      <th>ps_eval</th>\n",
       "    </tr>\n",
       "    <tr>\n",
       "      <th>accessible hotel</th>\n",
       "      <th></th>\n",
       "      <th></th>\n",
       "      <th></th>\n",
       "      <th></th>\n",
       "      <th></th>\n",
       "      <th></th>\n",
       "      <th></th>\n",
       "      <th></th>\n",
       "      <th></th>\n",
       "      <th></th>\n",
       "      <th></th>\n",
       "      <th></th>\n",
       "      <th></th>\n",
       "      <th></th>\n",
       "      <th></th>\n",
       "      <th></th>\n",
       "      <th></th>\n",
       "      <th></th>\n",
       "      <th></th>\n",
       "      <th></th>\n",
       "      <th></th>\n",
       "    </tr>\n",
       "  </thead>\n",
       "  <tbody>\n",
       "    <tr>\n",
       "      <td>0</td>\n",
       "      <td>1127</td>\n",
       "      <td>1127</td>\n",
       "      <td>1048</td>\n",
       "      <td>1127</td>\n",
       "      <td>1127</td>\n",
       "      <td>1127</td>\n",
       "      <td>1127</td>\n",
       "      <td>1127</td>\n",
       "      <td>1127</td>\n",
       "      <td>1127</td>\n",
       "      <td>...</td>\n",
       "      <td>1127</td>\n",
       "      <td>1127</td>\n",
       "      <td>1127</td>\n",
       "      <td>1127</td>\n",
       "      <td>1127</td>\n",
       "      <td>1127</td>\n",
       "      <td>1127</td>\n",
       "      <td>1127</td>\n",
       "      <td>1127</td>\n",
       "      <td>1127</td>\n",
       "    </tr>\n",
       "    <tr>\n",
       "      <td>1</td>\n",
       "      <td>699</td>\n",
       "      <td>699</td>\n",
       "      <td>532</td>\n",
       "      <td>699</td>\n",
       "      <td>699</td>\n",
       "      <td>699</td>\n",
       "      <td>699</td>\n",
       "      <td>699</td>\n",
       "      <td>699</td>\n",
       "      <td>699</td>\n",
       "      <td>...</td>\n",
       "      <td>699</td>\n",
       "      <td>699</td>\n",
       "      <td>699</td>\n",
       "      <td>699</td>\n",
       "      <td>699</td>\n",
       "      <td>699</td>\n",
       "      <td>699</td>\n",
       "      <td>699</td>\n",
       "      <td>699</td>\n",
       "      <td>699</td>\n",
       "    </tr>\n",
       "  </tbody>\n",
       "</table>\n",
       "<p>2 rows × 277 columns</p>\n",
       "</div>"
      ],
      "text/plain": [
       "                  timestamp  timestamp_diff  step  user_idx  session_idx  \\\n",
       "accessible hotel                                                           \n",
       "0                      1127            1127  1048      1127         1127   \n",
       "1                       699             699   532       699          699   \n",
       "\n",
       "                  sum_action_item_before  action_type_item_idx  \\\n",
       "accessible hotel                                                 \n",
       "0                                   1127                  1127   \n",
       "1                                    699                   699   \n",
       "\n",
       "                  action_type_idx  list_action_type_idx  \\\n",
       "accessible hotel                                          \n",
       "0                            1127                  1127   \n",
       "1                             699                   699   \n",
       "\n",
       "                  list_reference_search_for_poi  ...  water slide  \\\n",
       "accessible hotel                                 ...                \n",
       "0                                          1127  ...         1127   \n",
       "1                                           699  ...          699   \n",
       "\n",
       "                  wheelchair accessible  wifi (public areas)  wifi (rooms)  \\\n",
       "accessible hotel                                                             \n",
       "0                                  1127                 1127          1127   \n",
       "1                                   699                  699           699   \n",
       "\n",
       "                  star  list_metadata  item_idx_action  rewards  rhat_rewards  \\\n",
       "accessible hotel                                                                \n",
       "0                 1127           1127             1127     1127          1127   \n",
       "1                  699            699              699      699           699   \n",
       "\n",
       "                  ps_eval  \n",
       "accessible hotel           \n",
       "0                    1127  \n",
       "1                     699  \n",
       "\n",
       "[2 rows x 277 columns]"
      ]
     },
     "execution_count": 159,
     "metadata": {},
     "output_type": "execute_result"
    }
   ],
   "source": [
    "df.groupby('accessible hotel').count()"
   ]
  },
  {
   "cell_type": "code",
   "execution_count": 192,
   "metadata": {},
   "outputs": [],
   "source": [
    "def count_item(feature, val):\n",
    "    f_df = df[df[feature] == val]\n",
    "    \n",
    "    items = list(f_df.item_idx_action.values)\n",
    "    items.extend(list(f_df.item_idx.values))\n",
    "    items = np.unique(items)\n",
    "    return len(items)"
   ]
  },
  {
   "cell_type": "code",
   "execution_count": 193,
   "metadata": {},
   "outputs": [
    {
     "data": {
      "text/plain": [
       "(463, 214)"
      ]
     },
     "execution_count": 193,
     "metadata": {},
     "output_type": "execute_result"
    }
   ],
   "source": [
    "feature = 'accessible hotel'\n",
    "count_item(feature, 0), count_item(feature, 1)"
   ]
  },
  {
   "cell_type": "code",
   "execution_count": 173,
   "metadata": {},
   "outputs": [
    {
     "data": {
      "text/plain": [
       "(499, 0)"
      ]
     },
     "execution_count": 173,
     "metadata": {},
     "output_type": "execute_result"
    }
   ],
   "source": [
    "feature = 'current_filters_1_star'\n",
    "count_item(feature, 0), count_item(feature, 1)"
   ]
  },
  {
   "cell_type": "code",
   "execution_count": 181,
   "metadata": {},
   "outputs": [
    {
     "data": {
      "text/html": [
       "<div>\n",
       "<style scoped>\n",
       "    .dataframe tbody tr th:only-of-type {\n",
       "        vertical-align: middle;\n",
       "    }\n",
       "\n",
       "    .dataframe tbody tr th {\n",
       "        vertical-align: top;\n",
       "    }\n",
       "\n",
       "    .dataframe thead th {\n",
       "        text-align: right;\n",
       "    }\n",
       "</style>\n",
       "<table border=\"1\" class=\"dataframe\">\n",
       "  <thead>\n",
       "    <tr style=\"text-align: right;\">\n",
       "      <th></th>\n",
       "      <th>item_idx_action</th>\n",
       "      <th>item_idx</th>\n",
       "    </tr>\n",
       "  </thead>\n",
       "  <tbody>\n",
       "    <tr>\n",
       "      <td>12</td>\n",
       "      <td>1034</td>\n",
       "      <td>106</td>\n",
       "    </tr>\n",
       "    <tr>\n",
       "      <td>33</td>\n",
       "      <td>1034</td>\n",
       "      <td>781</td>\n",
       "    </tr>\n",
       "    <tr>\n",
       "      <td>62</td>\n",
       "      <td>1034</td>\n",
       "      <td>781</td>\n",
       "    </tr>\n",
       "    <tr>\n",
       "      <td>95</td>\n",
       "      <td>1034</td>\n",
       "      <td>1034</td>\n",
       "    </tr>\n",
       "    <tr>\n",
       "      <td>114</td>\n",
       "      <td>1034</td>\n",
       "      <td>1034</td>\n",
       "    </tr>\n",
       "    <tr>\n",
       "      <td>...</td>\n",
       "      <td>...</td>\n",
       "      <td>...</td>\n",
       "    </tr>\n",
       "    <tr>\n",
       "      <td>44532</td>\n",
       "      <td>153</td>\n",
       "      <td>153</td>\n",
       "    </tr>\n",
       "    <tr>\n",
       "      <td>44573</td>\n",
       "      <td>989</td>\n",
       "      <td>1388</td>\n",
       "    </tr>\n",
       "    <tr>\n",
       "      <td>44588</td>\n",
       "      <td>989</td>\n",
       "      <td>739</td>\n",
       "    </tr>\n",
       "    <tr>\n",
       "      <td>44612</td>\n",
       "      <td>1388</td>\n",
       "      <td>1115</td>\n",
       "    </tr>\n",
       "    <tr>\n",
       "      <td>44635</td>\n",
       "      <td>2137</td>\n",
       "      <td>613</td>\n",
       "    </tr>\n",
       "  </tbody>\n",
       "</table>\n",
       "<p>1826 rows × 2 columns</p>\n",
       "</div>"
      ],
      "text/plain": [
       "       item_idx_action  item_idx\n",
       "12                1034       106\n",
       "33                1034       781\n",
       "62                1034       781\n",
       "95                1034      1034\n",
       "114               1034      1034\n",
       "...                ...       ...\n",
       "44532              153       153\n",
       "44573              989      1388\n",
       "44588              989       739\n",
       "44612             1388      1115\n",
       "44635             2137       613\n",
       "\n",
       "[1826 rows x 2 columns]"
      ]
     },
     "execution_count": 181,
     "metadata": {},
     "output_type": "execute_result"
    }
   ],
   "source": [
    "df[['item_idx_action', 'item_idx']]#.shape"
   ]
  },
  {
   "cell_type": "code",
   "execution_count": 184,
   "metadata": {},
   "outputs": [
    {
     "data": {
      "text/plain": [
       "499"
      ]
     },
     "execution_count": 184,
     "metadata": {},
     "output_type": "execute_result"
    }
   ],
   "source": [
    "item = np.unique(list(df.item_idx_action.values) + list(df.item_idx.values))\n",
    "len(item)"
   ]
  },
  {
   "cell_type": "code",
   "execution_count": 191,
   "metadata": {},
   "outputs": [
    {
     "ename": "TypeError",
     "evalue": "'numpy.ndarray' object is not callable",
     "output_type": "error",
     "traceback": [
      "\u001b[0;31m---------------------------------------------------------------------------\u001b[0m",
      "\u001b[0;31mTypeError\u001b[0m                                 Traceback (most recent call last)",
      "\u001b[0;32m<ipython-input-191-0634f0fec8fe>\u001b[0m in \u001b[0;36m<module>\u001b[0;34m\u001b[0m\n\u001b[0;32m----> 1\u001b[0;31m \u001b[0mitem\u001b[0m\u001b[0;34m(\u001b[0m\u001b[0mnp\u001b[0m\u001b[0;34m.\u001b[0m\u001b[0munique\u001b[0m\u001b[0;34m(\u001b[0m\u001b[0mlist\u001b[0m\u001b[0;34m(\u001b[0m\u001b[0mdf\u001b[0m\u001b[0;34m.\u001b[0m\u001b[0mitem_idx_action\u001b[0m\u001b[0;34m.\u001b[0m\u001b[0mvalues\u001b[0m\u001b[0;34m)\u001b[0m \u001b[0;34m+\u001b[0m \u001b[0mlist\u001b[0m\u001b[0;34m(\u001b[0m\u001b[0mdf\u001b[0m\u001b[0;34m.\u001b[0m\u001b[0mitem_idx_action\u001b[0m\u001b[0;34m.\u001b[0m\u001b[0mvalues\u001b[0m\u001b[0;34m)\u001b[0m\u001b[0;34m)\u001b[0m\u001b[0;34m)\u001b[0m\u001b[0;34m\u001b[0m\u001b[0;34m\u001b[0m\u001b[0m\n\u001b[0m",
      "\u001b[0;31mTypeError\u001b[0m: 'numpy.ndarray' object is not callable"
     ]
    }
   ],
   "source": [
    "np.unique(list(df.item_idx_action.values) + list(df.item_idx_action.values))"
   ]
  },
  {
   "cell_type": "code",
   "execution_count": 187,
   "metadata": {},
   "outputs": [
    {
     "data": {
      "text/plain": [
       "array([   2,    3,    4,    5,    6,    7,   10,   12,   13,   15,   16,\n",
       "         18,   19,   20,   21,   22,   24,   26,   27,   29,   30,   32,\n",
       "         33,   34,   35,   36,   37,   38,   39,   40,   41,   43,   47,\n",
       "         49,   51,   54,   55,   56,   57,   58,   60,   61,   62,   63,\n",
       "         65,   67,   68,   72,   75,   76,   77,   78,   79,   82,   86,\n",
       "         87,   88,   89,   90,   92,   93,   94,   95,   96,   97,   98,\n",
       "         99,  100,  102,  104,  106,  107,  108,  109,  111,  122,  123,\n",
       "        124,  125,  126,  127,  128,  129,  133,  135,  143,  145,  146,\n",
       "        147,  152,  153,  154,  157,  158,  159,  163,  165,  166,  167,\n",
       "        168,  169,  170,  174,  176,  177,  179,  181,  182,  184,  187,\n",
       "        198,  199,  201,  208,  209,  211,  213,  215,  217,  218,  220,\n",
       "        221,  222,  229,  235,  236,  238,  239,  242,  249,  251,  252,\n",
       "        255,  256,  260,  264,  265,  268,  269,  270,  274,  275,  278,\n",
       "        283,  284,  285,  286,  287,  289,  290,  292,  295,  300,  301,\n",
       "        304,  305,  306,  307,  309,  311,  312,  316,  317,  319,  320,\n",
       "        329,  331,  344,  346,  347,  349,  352,  354,  355,  357,  359,\n",
       "        360,  363,  367,  370,  374,  377,  378,  382,  384,  393,  395,\n",
       "        396,  397,  400,  403,  404,  406,  408,  409,  412,  415,  418,\n",
       "        421,  427,  428,  429,  430,  431,  436,  443,  447,  451,  453,\n",
       "        467,  469,  472,  481,  482,  484,  487,  489,  491,  498,  505,\n",
       "        507,  508,  511,  512,  521,  522,  525,  527,  534,  536,  545,\n",
       "        547,  555,  559,  565,  567,  571,  574,  579,  580,  583,  584,\n",
       "        591,  593,  597,  603,  608,  612,  613,  616,  622,  623,  625,\n",
       "        626,  628,  630,  638,  639,  640,  644,  653,  654,  655,  658,\n",
       "        676,  684,  692,  694,  704,  705,  708,  723,  725,  734,  739,\n",
       "        745,  752,  758,  761,  767,  771,  774,  781,  784,  790,  792,\n",
       "        793,  795,  797,  798,  799,  802,  807,  809,  814,  818,  821,\n",
       "        824,  825,  830,  833,  847,  852,  862,  863,  866,  873,  875,\n",
       "        876,  879,  880,  886,  893,  895,  898,  908,  924,  926,  932,\n",
       "        936,  939,  940,  943,  948,  956,  960,  962,  963,  964,  970,\n",
       "        971,  974,  976,  979,  984,  985,  986,  987,  988,  989,  997,\n",
       "        999, 1002, 1003, 1009, 1010, 1014, 1016, 1020, 1034, 1035, 1039,\n",
       "       1045, 1048, 1052, 1054, 1056, 1057, 1060, 1061, 1065, 1066, 1067,\n",
       "       1071, 1073, 1083, 1086, 1087, 1088, 1090, 1095, 1097, 1100, 1106,\n",
       "       1111, 1113, 1115, 1118, 1123, 1145, 1146, 1150, 1152, 1182, 1196,\n",
       "       1198, 1209, 1231, 1232, 1244, 1248, 1252, 1258, 1265, 1272, 1273,\n",
       "       1286, 1291, 1295, 1298, 1320, 1321, 1327, 1336, 1348, 1349, 1351,\n",
       "       1360, 1362, 1376, 1386, 1388, 1412, 1419, 1427, 1433, 1435, 1450,\n",
       "       1462, 1464, 1465, 1503, 1506, 1511, 1527, 1536, 1551, 1557, 1560,\n",
       "       1561, 1569, 1571, 1574, 1576, 1586, 1597, 1613, 1626, 1627, 1638,\n",
       "       1646, 1658, 1660, 1662, 1673, 1675, 1687, 1695, 1701, 1712, 1726,\n",
       "       1735, 1744, 1749, 1751, 1759, 1768, 1769, 1798, 1800, 1804, 1810,\n",
       "       1812, 1823, 1846, 1865, 1866, 1892, 1893, 1904, 1912, 1914, 1916,\n",
       "       1917, 1926, 1934, 1937, 1939, 1947, 1965, 1967, 1983, 1997, 2008,\n",
       "       2009, 2013, 2020, 2029, 2031, 2032, 2041, 2051, 2065, 2084, 2112,\n",
       "       2114, 2137, 2156, 2166])"
      ]
     },
     "execution_count": 187,
     "metadata": {},
     "output_type": "execute_result"
    }
   ],
   "source": [
    "item"
   ]
  },
  {
   "cell_type": "code",
   "execution_count": null,
   "metadata": {},
   "outputs": [],
   "source": []
  },
  {
   "cell_type": "code",
   "execution_count": null,
   "metadata": {},
   "outputs": [],
   "source": []
  },
  {
   "cell_type": "code",
   "execution_count": 194,
   "metadata": {},
   "outputs": [
    {
     "data": {
      "text/plain": [
       "'[1.0, 0.0, 0.0, 0.0, 0.0, 0.0, 0.0, 0.0, 0.0, 0.0, 0.0, 0.0, 0.0, 0.0, 0.0, 0.0, 0.0, 0.0, 0.0, 0.0, 0.0, 0.0, 0.0, 0.0, 0.0]'"
      ]
     },
     "execution_count": 194,
     "metadata": {},
     "output_type": "execute_result"
    }
   ],
   "source": [
    "df.iloc[10].prob_actions"
   ]
  },
  {
   "cell_type": "code",
   "execution_count": null,
   "metadata": {
    "scrolled": true
   },
   "outputs": [],
   "source": []
  },
  {
   "cell_type": "code",
   "execution_count": 195,
   "metadata": {},
   "outputs": [
    {
     "data": {
      "text/plain": [
       "(0.3355891481228606, 0.37165549496029376)"
      ]
     },
     "execution_count": 195,
     "metadata": {},
     "output_type": "execute_result"
    }
   ],
   "source": [
    "import numpy as np, scipy.stats as st\n",
    "\n",
    "a = df.rhat_rewards\n",
    "\n",
    "st.t.interval(0.95, len(a)-1, loc=np.mean(a), scale=st.sem(a))"
   ]
  },
  {
   "cell_type": "code",
   "execution_count": 196,
   "metadata": {},
   "outputs": [
    {
     "name": "stdout",
     "output_type": "stream",
     "text": [
      "[1. 2.]\n"
     ]
    }
   ],
   "source": [
    "array1 = np.array([np.nan, 1, 2])\n",
    "array2 = array1[~np.isnan(array1)]\n",
    "\n",
    "print(array2)"
   ]
  },
  {
   "cell_type": "code",
   "execution_count": 197,
   "metadata": {},
   "outputs": [
    {
     "data": {
      "text/plain": [
       "0.3536223215415772"
      ]
     },
     "execution_count": 197,
     "metadata": {},
     "output_type": "execute_result"
    }
   ],
   "source": [
    "np.mean(a)"
   ]
  },
  {
   "cell_type": "code",
   "execution_count": 198,
   "metadata": {},
   "outputs": [
    {
     "data": {
      "text/plain": [
       "(0.3536223215415772, 0.3355891481228606, 0.37165549496029376)"
      ]
     },
     "execution_count": 198,
     "metadata": {},
     "output_type": "execute_result"
    }
   ],
   "source": [
    "import numpy as np\n",
    "import scipy.stats\n",
    "\n",
    "\n",
    "def mean_confidence_interval(data, confidence=0.95):\n",
    "    a = 1.0 * np.array(data)\n",
    "    n = len(a)\n",
    "    m, se = np.mean(a), scipy.stats.sem(a)\n",
    "    h = se * scipy.stats.t.ppf((1 + confidence) / 2., n-1)\n",
    "    return m, m-h, m+h\n",
    "mean_confidence_interval(a)"
   ]
  },
  {
   "cell_type": "code",
   "execution_count": 199,
   "metadata": {},
   "outputs": [],
   "source": [
    "#sns.distplot(df.rhat_rewards)"
   ]
  },
  {
   "cell_type": "code",
   "execution_count": 200,
   "metadata": {},
   "outputs": [
    {
     "name": "stderr",
     "output_type": "stream",
     "text": [
      "/home/marlesson/anaconda3/envs/deep-reco-gym/lib/python3.6/site-packages/matplotlib/axes/_axes.py:6462: UserWarning: The 'normed' kwarg is deprecated, and has been replaced by the 'density' kwarg.\n",
      "  warnings.warn(\"The 'normed' kwarg is deprecated, and has been \"\n"
     ]
    },
    {
     "data": {
      "text/plain": [
       "<matplotlib.axes._subplots.AxesSubplot at 0x7f7afad6ec88>"
      ]
     },
     "execution_count": 200,
     "metadata": {},
     "output_type": "execute_result"
    },
    {
     "data": {
      "image/png": "[encoded data removed]",
      "text/plain": [
       "<Figure size 432x288 with 1 Axes>"
      ]
     },
     "metadata": {
      "needs_background": "light"
     },
     "output_type": "display_data"
    }
   ],
   "source": [
    "sns.distplot(df.ps)"
   ]
  },
  {
   "cell_type": "code",
   "execution_count": 202,
   "metadata": {},
   "outputs": [
    {
     "name": "stderr",
     "output_type": "stream",
     "text": [
      "/home/marlesson/anaconda3/envs/deep-reco-gym/lib/python3.6/site-packages/matplotlib/axes/_axes.py:6462: UserWarning: The 'normed' kwarg is deprecated, and has been replaced by the 'density' kwarg.\n",
      "  warnings.warn(\"The 'normed' kwarg is deprecated, and has been \"\n"
     ]
    },
    {
     "data": {
      "text/plain": [
       "<matplotlib.axes._subplots.AxesSubplot at 0x7f7ae2470198>"
      ]
     },
     "execution_count": 202,
     "metadata": {},
     "output_type": "execute_result"
    },
    {
     "data": {
      "image/png": "[encoded data removed]",
      "text/plain": [
       "<Figure size 432x288 with 1 Axes>"
      ]
     },
     "metadata": {
      "needs_background": "light"
     },
     "output_type": "display_data"
    }
   ],
   "source": [
    "sns.distplot(df[df.ps > 0.001].ps.values)"
   ]
  },
  {
   "cell_type": "code",
   "execution_count": 11,
   "metadata": {},
   "outputs": [
    {
     "ename": "NameError",
     "evalue": "name 'e' is not defined",
     "output_type": "error",
     "traceback": [
      "\u001b[0;31m---------------------------------------------------------------------------\u001b[0m",
      "\u001b[0;31mNameError\u001b[0m                                 Traceback (most recent call last)",
      "\u001b[0;32m<ipython-input-11-cf9c35490256>\u001b[0m in \u001b[0;36m<module>\u001b[0;34m\u001b[0m\n\u001b[0;32m----> 1\u001b[0;31m \u001b[0mdf\u001b[0m\u001b[0;34m[\u001b[0m\u001b[0;34m[\u001b[0m\u001b[0;34m'ps'\u001b[0m\u001b[0;34m,\u001b[0m \u001b[0;34m'ps_eval'\u001b[0m\u001b[0;34m]\u001b[0m\u001b[0;34m]\u001b[0m\u001b[0;34m[\u001b[0m\u001b[0mdf\u001b[0m\u001b[0;34m.\u001b[0m\u001b[0mps\u001b[0m \u001b[0;34m>=\u001b[0m \u001b[0;36m0\u001b[0m \u001b[0;34m+\u001b[0m \u001b[0me\u001b[0m\u001b[0;34m]\u001b[0m\u001b[0;34m.\u001b[0m\u001b[0msort_values\u001b[0m\u001b[0;34m(\u001b[0m\u001b[0;34m'ps'\u001b[0m\u001b[0;34m)\u001b[0m\u001b[0;34m\u001b[0m\u001b[0;34m\u001b[0m\u001b[0m\n\u001b[0m",
      "\u001b[0;31mNameError\u001b[0m: name 'e' is not defined"
     ]
    }
   ],
   "source": [
    "df[['ps', 'ps_eval']][df.ps >= 0 + e].sort_values('ps')"
   ]
  },
  {
   "cell_type": "code",
   "execution_count": 203,
   "metadata": {},
   "outputs": [
    {
     "data": {
      "text/plain": [
       "(1588, 278)"
      ]
     },
     "execution_count": 203,
     "metadata": {},
     "output_type": "execute_result"
    }
   ],
   "source": [
    "e = 0.01\n",
    "df2 = df[df.ps >= 0 + e]\n",
    "df2.shape"
   ]
  },
  {
   "cell_type": "code",
   "execution_count": 204,
   "metadata": {},
   "outputs": [
    {
     "data": {
      "text/plain": [
       "<matplotlib.axes._subplots.AxesSubplot at 0x7f7b138a50b8>"
      ]
     },
     "execution_count": 204,
     "metadata": {},
     "output_type": "execute_result"
    },
    {
     "data": {
      "image/png": "[encoded data removed]",
      "text/plain": [
       "<Figure size 432x288 with 1 Axes>"
      ]
     },
     "metadata": {
      "needs_background": "light"
     },
     "output_type": "display_data"
    }
   ],
   "source": [
    "sns.distplot(df2.ps)"
   ]
  },
  {
   "cell_type": "code",
   "execution_count": 205,
   "metadata": {},
   "outputs": [
    {
     "name": "stderr",
     "output_type": "stream",
     "text": [
      "/home/marlesson/anaconda3/envs/deep-reco-gym/lib/python3.6/site-packages/matplotlib/axes/_axes.py:6462: UserWarning: The 'normed' kwarg is deprecated, and has been replaced by the 'density' kwarg.\n",
      "  warnings.warn(\"The 'normed' kwarg is deprecated, and has been \"\n"
     ]
    },
    {
     "data": {
      "text/plain": [
       "<matplotlib.axes._subplots.AxesSubplot at 0x7f7ae22f9d68>"
      ]
     },
     "execution_count": 205,
     "metadata": {},
     "output_type": "execute_result"
    },
    {
     "data": {
      "image/png": "[encoded data removed]",
      "text/plain": [
       "<Figure size 432x288 with 1 Axes>"
      ]
     },
     "metadata": {
      "needs_background": "light"
     },
     "output_type": "display_data"
    }
   ],
   "source": [
    "sns.distplot(df2.ps_eval)"
   ]
  },
  {
   "cell_type": "code",
   "execution_count": 16,
   "metadata": {},
   "outputs": [
    {
     "data": {
      "text/plain": [
       "<seaborn.axisgrid.PairGrid at 0x7f7b293d7908>"
      ]
     },
     "execution_count": 16,
     "metadata": {},
     "output_type": "execute_result"
    },
    {
     "data": {
      "image/png": "[encoded data removed]",
      "text/plain": [
       "<Figure size 591.875x540 with 12 Axes>"
      ]
     },
     "metadata": {
      "needs_background": "light"
     },
     "output_type": "display_data"
    }
   ],
   "source": [
    "sns.pairplot(df2[[\"ps\", \"ps_eval\", \"rewards\"]], hue=\"rewards\")"
   ]
  },
  {
   "cell_type": "code",
   "execution_count": null,
   "metadata": {},
   "outputs": [],
   "source": []
  },
  {
   "cell_type": "code",
   "execution_count": null,
   "metadata": {},
   "outputs": [],
   "source": []
  },
  {
   "cell_type": "markdown",
   "metadata": {},
   "source": [
    "## Offpolicy"
   ]
  },
  {
   "cell_type": "code",
   "execution_count": 55,
   "metadata": {},
   "outputs": [],
   "source": [
    "def _calc_sample_weigths(rewards, t_props, l_props):\n",
    "  # Compute the sample weights - propensity ratios\n",
    "  p_ratio = t_props / l_props\n",
    "\n",
    "  # Effective sample size for E_t estimate (from A. Owen)\n",
    "  n_e = len(rewards) * (np.mean(p_ratio) ** 2) / (p_ratio ** 2).mean()\n",
    "\n",
    "  # Critical value from t-distribution as we have unknown variance\n",
    "  alpha = .00125\n",
    "  cv = scipy.stats.t.ppf(1 - alpha, df=int(n_e) - 1)\n",
    "\n",
    "  return p_ratio, n_e, cv\n",
    "\n",
    "def eval_IPS(rewards, t_props, l_props):\n",
    "  # Calculate Sample Weigths\n",
    "  p_ratio, n_e, cv =  _calc_sample_weigths(rewards, t_props, l_props)\n",
    "\n",
    "  ###############\n",
    "  # VANILLA IPS #\n",
    "  ###############\n",
    "  # Expected reward for pi_t\n",
    "  E_t = np.mean(rewards * p_ratio)\n",
    "\n",
    "  # Variance of the estimate\n",
    "  var = ((rewards * p_ratio - E_t) ** 2).mean()\n",
    "  stddev = np.sqrt(var)\n",
    "\n",
    "  # C.I. assuming unknown variance - use t-distribution and effective sample size\n",
    "  c = cv * stddev / np.sqrt(int(n_e))\n",
    "  min_bound = E_t - c\n",
    "  max_bound = E_t + c\n",
    "\n",
    "  result = (E_t, c) # 0.025, 0.500, 0.975\n",
    "  return result\n",
    "\n",
    "\n",
    "def eval_CIPS(rewards, t_props, l_props, cap=15):\n",
    "  # Calculate Sample Weigths\n",
    "  p_ratio, n_e, cv =  _calc_sample_weigths(rewards, t_props, l_props)\n",
    "\n",
    "\n",
    "  ############## \n",
    "  # CAPPED IPS #\n",
    "  ##############\n",
    "  # Cap ratios\n",
    "  p_ratio_capped = np.clip(p_ratio, a_min=None, a_max=cap)\n",
    "\n",
    "  # Expected reward for pi_t\n",
    "  E_t_capped = np.mean(rewards * p_ratio_capped)\n",
    "\n",
    "  # Variance of the estimate\n",
    "  var_capped = ((rewards * p_ratio_capped - E_t_capped) ** 2).mean()\n",
    "  stddev_capped = np.sqrt(var_capped)\n",
    "\n",
    "  # C.I. assuming unknown variance - use t-distribution and effective sample size\n",
    "  c = cv * stddev_capped / np.sqrt(int(n_e))\n",
    "\n",
    "  min_bound_capped = E_t_capped - c\n",
    "  max_bound_capped = E_t_capped + c\n",
    "\n",
    "  result = (E_t_capped, c) # 0.025, 0.500, 0.975\n",
    "\n",
    "  return result"
   ]
  },
  {
   "cell_type": "code",
   "execution_count": 41,
   "metadata": {},
   "outputs": [
    {
     "data": {
      "text/plain": [
       "0.040897688586274863"
      ]
     },
     "execution_count": 41,
     "metadata": {},
     "output_type": "execute_result"
    }
   ],
   "source": [
    "df.rewards.mean()"
   ]
  },
  {
   "cell_type": "code",
   "execution_count": 42,
   "metadata": {},
   "outputs": [
    {
     "data": {
      "text/plain": [
       "0.020920908226726348"
      ]
     },
     "execution_count": 42,
     "metadata": {},
     "output_type": "execute_result"
    }
   ],
   "source": [
    "v = []\n",
    "for i, row in df.iterrows():\n",
    "    #if row.ps > 0.01:\n",
    "    #v.append((row.rewards * row.ps_eval)/row.ps)\n",
    "    v.append((row.rewards * row.ps))\n",
    "np.mean(v)"
   ]
  },
  {
   "cell_type": "code",
   "execution_count": 43,
   "metadata": {},
   "outputs": [
    {
     "data": {
      "text/plain": [
       "count    44648.000000\n",
       "mean         0.356866\n",
       "std          0.416333\n",
       "min          0.000000\n",
       "25%          0.000403\n",
       "50%          0.089758\n",
       "75%          0.868436\n",
       "max          1.000000\n",
       "Name: ps, dtype: float64"
      ]
     },
     "execution_count": 43,
     "metadata": {},
     "output_type": "execute_result"
    }
   ],
   "source": [
    "df.ps.describe()"
   ]
  },
  {
   "cell_type": "code",
   "execution_count": 62,
   "metadata": {},
   "outputs": [
    {
     "name": "stdout",
     "output_type": "stream",
     "text": [
      "eval_IPS 0.07526260142105747 0.2562972989629092\n",
      "eval_CIPS 0.041784055891381656 0.07949155145410722\n"
     ]
    },
    {
     "name": "stderr",
     "output_type": "stream",
     "text": [
      "/home/marlesson/anaconda3/envs/deep-reco-gym/lib/python3.6/site-packages/ipykernel_launcher.py:4: SettingWithCopyWarning: \n",
      "A value is trying to be set on a copy of a slice from a DataFrame.\n",
      "Try using .loc[row_indexer,col_indexer] = value instead\n",
      "\n",
      "See the caveats in the documentation: http://pandas.pydata.org/pandas-docs/stable/user_guide/indexing.html#returning-a-view-versus-a-copy\n",
      "  after removing the cwd from sys.path.\n"
     ]
    }
   ],
   "source": [
    "_df = df[df.ps > 0.01]\n",
    "\n",
    "p_ratio, n_e, cv = _calc_sample_weigths(_df.rewards, _df.ps_eval, _df.ps)\n",
    "_df['p_ratio'] = p_ratio\n",
    "\n",
    "ips, c_ips = eval_IPS(_df.rewards, _df.ps_eval, _df.ps)\n",
    "print(\"eval_IPS\", ips, c_ips)\n",
    "\n",
    "ips, c_ips = eval_CIPS(_df.rewards, _df.ps_eval, _df.ps, cap=10)\n",
    "print(\"eval_CIPS\", ips, c_ips)"
   ]
  },
  {
   "cell_type": "code",
   "execution_count": 49,
   "metadata": {},
   "outputs": [
    {
     "name": "stderr",
     "output_type": "stream",
     "text": [
      "/home/marlesson/anaconda3/envs/deep-reco-gym/lib/python3.6/site-packages/matplotlib/axes/_axes.py:6462: UserWarning: The 'normed' kwarg is deprecated, and has been replaced by the 'density' kwarg.\n",
      "  warnings.warn(\"The 'normed' kwarg is deprecated, and has been \"\n"
     ]
    },
    {
     "data": {
      "text/plain": [
       "<matplotlib.axes._subplots.AxesSubplot at 0x7f7b0e3ee828>"
      ]
     },
     "execution_count": 49,
     "metadata": {},
     "output_type": "execute_result"
    },
    {
     "data": {
      "image/png": "[encoded data removed]",
      "text/plain": [
       "<Figure size 432x288 with 1 Axes>"
      ]
     },
     "metadata": {
      "needs_background": "light"
     },
     "output_type": "display_data"
    }
   ],
   "source": [
    "sns.distplot(p_ratio)"
   ]
  },
  {
   "cell_type": "code",
   "execution_count": 54,
   "metadata": {},
   "outputs": [
    {
     "data": {
      "text/html": [
       "<div>\n",
       "<style scoped>\n",
       "    .dataframe tbody tr th:only-of-type {\n",
       "        vertical-align: middle;\n",
       "    }\n",
       "\n",
       "    .dataframe tbody tr th {\n",
       "        vertical-align: top;\n",
       "    }\n",
       "\n",
       "    .dataframe thead th {\n",
       "        text-align: right;\n",
       "    }\n",
       "</style>\n",
       "<table border=\"1\" class=\"dataframe\">\n",
       "  <thead>\n",
       "    <tr style=\"text-align: right;\">\n",
       "      <th></th>\n",
       "      <th>ps</th>\n",
       "      <th>ps_eval</th>\n",
       "      <th>p_ratio</th>\n",
       "    </tr>\n",
       "  </thead>\n",
       "  <tbody>\n",
       "    <tr>\n",
       "      <td>41666</td>\n",
       "      <td>0.824045</td>\n",
       "      <td>2.154552e-37</td>\n",
       "      <td>2.614605e-37</td>\n",
       "    </tr>\n",
       "    <tr>\n",
       "      <td>17548</td>\n",
       "      <td>1.000000</td>\n",
       "      <td>1.812494e-36</td>\n",
       "      <td>1.812494e-36</td>\n",
       "    </tr>\n",
       "    <tr>\n",
       "      <td>31179</td>\n",
       "      <td>0.126838</td>\n",
       "      <td>4.696489e-36</td>\n",
       "      <td>3.702759e-35</td>\n",
       "    </tr>\n",
       "    <tr>\n",
       "      <td>22808</td>\n",
       "      <td>0.995459</td>\n",
       "      <td>4.448276e-35</td>\n",
       "      <td>4.468567e-35</td>\n",
       "    </tr>\n",
       "    <tr>\n",
       "      <td>124</td>\n",
       "      <td>0.963712</td>\n",
       "      <td>1.761215e-34</td>\n",
       "      <td>1.827532e-34</td>\n",
       "    </tr>\n",
       "    <tr>\n",
       "      <td>...</td>\n",
       "      <td>...</td>\n",
       "      <td>...</td>\n",
       "      <td>...</td>\n",
       "    </tr>\n",
       "    <tr>\n",
       "      <td>4375</td>\n",
       "      <td>0.011437</td>\n",
       "      <td>9.980435e-01</td>\n",
       "      <td>8.726803e+01</td>\n",
       "    </tr>\n",
       "    <tr>\n",
       "      <td>26577</td>\n",
       "      <td>0.011252</td>\n",
       "      <td>9.999974e-01</td>\n",
       "      <td>8.887013e+01</td>\n",
       "    </tr>\n",
       "    <tr>\n",
       "      <td>25366</td>\n",
       "      <td>0.010766</td>\n",
       "      <td>9.669741e-01</td>\n",
       "      <td>8.982154e+01</td>\n",
       "    </tr>\n",
       "    <tr>\n",
       "      <td>18255</td>\n",
       "      <td>0.010258</td>\n",
       "      <td>9.810455e-01</td>\n",
       "      <td>9.563888e+01</td>\n",
       "    </tr>\n",
       "    <tr>\n",
       "      <td>5164</td>\n",
       "      <td>0.010113</td>\n",
       "      <td>9.858354e-01</td>\n",
       "      <td>9.748417e+01</td>\n",
       "    </tr>\n",
       "  </tbody>\n",
       "</table>\n",
       "<p>28407 rows × 3 columns</p>\n",
       "</div>"
      ],
      "text/plain": [
       "             ps       ps_eval       p_ratio\n",
       "41666  0.824045  2.154552e-37  2.614605e-37\n",
       "17548  1.000000  1.812494e-36  1.812494e-36\n",
       "31179  0.126838  4.696489e-36  3.702759e-35\n",
       "22808  0.995459  4.448276e-35  4.468567e-35\n",
       "124    0.963712  1.761215e-34  1.827532e-34\n",
       "...         ...           ...           ...\n",
       "4375   0.011437  9.980435e-01  8.726803e+01\n",
       "26577  0.011252  9.999974e-01  8.887013e+01\n",
       "25366  0.010766  9.669741e-01  8.982154e+01\n",
       "18255  0.010258  9.810455e-01  9.563888e+01\n",
       "5164   0.010113  9.858354e-01  9.748417e+01\n",
       "\n",
       "[28407 rows x 3 columns]"
      ]
     },
     "execution_count": 54,
     "metadata": {},
     "output_type": "execute_result"
    }
   ],
   "source": [
    "_df[['ps', 'ps_eval', 'p_ratio']].sort_values('p_ratio')"
   ]
  },
  {
   "cell_type": "code",
   "execution_count": null,
   "metadata": {},
   "outputs": [],
   "source": []
  },
  {
   "cell_type": "code",
   "execution_count": null,
   "metadata": {},
   "outputs": [],
   "source": []
  },
  {
   "cell_type": "markdown",
   "metadata": {},
   "source": [
    "## Fainess"
   ]
  },
  {
   "cell_type": "code",
   "execution_count": 93,
   "metadata": {},
   "outputs": [],
   "source": [
    "from typing import List, Dict, Any\n",
    "\n",
    "import numpy as np\n",
    "import pandas as pd\n",
    "from sklearn.metrics import confusion_matrix, multilabel_confusion_matrix, classification_report\n",
    "\n",
    "def mean_confidence_interval(data, confidence=0.95):\n",
    "    data = np.array(data)\n",
    "    data = data[~np.isnan(data)]\n",
    "    a = 1.0 * data\n",
    "    n = len(a)\n",
    "    m, se = np.mean(a), scipy.stats.sem(a)\n",
    "    h = se * scipy.stats.t.ppf((1 + confidence) / 2., n-1)\n",
    "    return m, h\n",
    "\n",
    "# https://stackoverflow.com/questions/50666091/true-positive-rate-and-false-positive-rate-tpr-fpr-for-multi-class-data-in-py\n",
    "# https://en.wikipedia.org/wiki/Sensitivity_and_specificity\n",
    "def calculate_fairness_metrics(df: pd.DataFrame, sub_keys: List[str], ground_truth_key: str,\n",
    "                               prediction_key: str) -> pd.DataFrame:\n",
    "    rows: List[Dict[str, Any]] = []\n",
    "\n",
    "    for sub_key in sub_keys:\n",
    "        subs = df[sub_key].unique()\n",
    "\n",
    "        for sub in subs:\n",
    "            sub_df = df[df[sub_key] == sub]\n",
    "\n",
    "            y_true, y_pred = sub_df[ground_truth_key], sub_df[prediction_key]\n",
    "\n",
    "            cnf_matrix     = confusion_matrix(y_true, y_pred)\n",
    "\n",
    "            num_positives  = np.sum(np.diag(cnf_matrix))\n",
    "            num_negatives  = np.sum(cnf_matrix) - num_positives\n",
    "\n",
    "            fp = cnf_matrix.sum(axis=0) - np.diag(cnf_matrix)  \n",
    "            fn = cnf_matrix.sum(axis=1) - np.diag(cnf_matrix)\n",
    "            tp = np.diag(cnf_matrix)\n",
    "            tn = cnf_matrix.sum() - (fp + fn + tp)\n",
    "\n",
    "            fp = fp.astype(float)\n",
    "            fn = fn.astype(float)\n",
    "            tp = tp.astype(float)\n",
    "            tn = tn.astype(float)\n",
    "\n",
    "            # Sensitivity, hit rate, recall, or true positive rate\n",
    "            tpr = tp/(tp+fn)\n",
    "            # Specificity or true negative rate\n",
    "            tnr = tn/(tn+fp) \n",
    "            # Precision or positive predictive value\n",
    "            ppv = tp/(tp+fp)\n",
    "            # Negative predictive value\n",
    "            npv = tn/(tn+fn)\n",
    "            # Fall out or false positive rate\n",
    "            fpr = fp/(fp+tn)\n",
    "            # False negative rate\n",
    "            fnr = fn/(tp+fn)\n",
    "            # False discovery rate\n",
    "            fdr = fp/(tp+fp)\n",
    "            # positive rate\n",
    "            pr  = (tp+fp)/(tp+fp+fn+tn)\n",
    "            # positive rate\n",
    "            nr  = (tn+fn)/(tp+fp+fn+tn)\n",
    "\n",
    "            # Overall accuracy\n",
    "            acc = (tp+tn)/(tp+fp+fn+tn)\n",
    "\n",
    "            # Balanced Accuracy (BA)\n",
    "            bacc =  (tpr+tnr)/2\n",
    "\n",
    "            #print(classification_report(y_true,y_pred))\n",
    "            fpr, fpr_c  = mean_confidence_interval(fpr)\n",
    "            fnr, fnr_c  = mean_confidence_interval(fnr)\n",
    "            tpr, tpr_c  = mean_confidence_interval(tpr)\n",
    "            tnr, tnr_c  = mean_confidence_interval(tnr)\n",
    "            pr,  pr_c   = mean_confidence_interval(pr)\n",
    "            nr,  nr_c   = mean_confidence_interval(nr)\n",
    "            acc, acc_c  = mean_confidence_interval(acc)\n",
    "            bacc, bacc_c  = mean_confidence_interval(bacc)\n",
    "\n",
    "            rows.append({\n",
    "                \"sub_key\": sub_key,\n",
    "                \"sub\": sub,\n",
    "                \"total_class\": len(tp),\n",
    "                \"false_positive_rate\": fpr,\n",
    "                \"false_positive_rate_C\": fpr_c,\n",
    "                \"false_negative_rate\": fnr,\n",
    "                \"false_negative_rate_C\": fnr_c,\n",
    "                \"true_positive_rate\": tpr,\n",
    "                \"true_positive_rate_C\": tpr_c,\n",
    "                \"true_negative_rate\": tnr,\n",
    "                \"true_negative_rate_C\": tnr_c,\n",
    "                \"positive_rate\": pr,\n",
    "                \"positive_rate_C\": pr_c,\n",
    "                \"negative_rate\": nr,\n",
    "                \"negative_rate_C\": nr_c,\n",
    "                \"accuracy\": acc,\n",
    "                \"accuracy_C\": acc_c,\n",
    "                \"balance_accuracy\": bacc,\n",
    "                \"balance_accuracy_C\": bacc_c,\n",
    "                \"total_positives\": num_positives,\n",
    "                \"total_negatives\": num_negatives,\n",
    "                \"total_individuals\": num_positives+ num_negatives,\n",
    "            })\n",
    "\n",
    "    return pd.DataFrame(data=rows).sort_values([\"sub_key\", \"sub\"])\n",
    "\n",
    "from typing import List, Union, Dict, Tuple\n",
    "from multiprocessing.pool import Pool\n",
    "import os\n",
    "import ast\n",
    "\n",
    "from tqdm import tqdm\n",
    "\n",
    "def parallel_literal_eval(series: Union[pd.Series, np.ndarray], pool: Pool = None, use_tqdm: bool = True) -> list:\n",
    "    if pool:\n",
    "        return _parallel_literal_eval(series, pool, use_tqdm)\n",
    "    else:\n",
    "        with Pool(os.cpu_count()) as p:\n",
    "            return _parallel_literal_eval(series, p, use_tqdm)\n",
    "def _parallel_literal_eval(series: Union[pd.Series, np.ndarray], pool: Pool, use_tqdm: bool = True) -> list:\n",
    "    if use_tqdm:\n",
    "        return list(tqdm(pool.map(literal_eval_if_str, series), total=len(series)))\n",
    "    else:\n",
    "        return pool.map(literal_eval_if_str, series)\n",
    "\n",
    "def literal_eval_if_str(element):\n",
    "    if isinstance(element, str):\n",
    "        return ast.literal_eval(element)\n",
    "    return element\n"
   ]
  },
  {
   "cell_type": "code",
   "execution_count": 119,
   "metadata": {},
   "outputs": [
    {
     "data": {
      "text/html": [
       "<div>\n",
       "<style scoped>\n",
       "    .dataframe tbody tr th:only-of-type {\n",
       "        vertical-align: middle;\n",
       "    }\n",
       "\n",
       "    .dataframe tbody tr th {\n",
       "        vertical-align: top;\n",
       "    }\n",
       "\n",
       "    .dataframe thead th {\n",
       "        text-align: right;\n",
       "    }\n",
       "</style>\n",
       "<table border=\"1\" class=\"dataframe\">\n",
       "  <thead>\n",
       "    <tr style=\"text-align: right;\">\n",
       "      <th></th>\n",
       "      <th>timestamp</th>\n",
       "      <th>timestamp_diff</th>\n",
       "      <th>step</th>\n",
       "      <th>user_idx</th>\n",
       "      <th>session_idx</th>\n",
       "      <th>sum_action_item_before</th>\n",
       "      <th>action_type_item_idx</th>\n",
       "      <th>action_type_idx</th>\n",
       "      <th>list_action_type_idx</th>\n",
       "      <th>list_reference_search_for_poi</th>\n",
       "      <th>...</th>\n",
       "      <th>user_view</th>\n",
       "      <th>hist_views</th>\n",
       "      <th>ps</th>\n",
       "      <th>n_users</th>\n",
       "      <th>n_items</th>\n",
       "      <th>vocab_size</th>\n",
       "      <th>window_hist_size</th>\n",
       "      <th>sorted_actions</th>\n",
       "      <th>prob_actions</th>\n",
       "      <th>action_scores</th>\n",
       "    </tr>\n",
       "  </thead>\n",
       "  <tbody>\n",
       "    <tr>\n",
       "      <td>0</td>\n",
       "      <td>1541461727</td>\n",
       "      <td>1541461708</td>\n",
       "      <td>2.0</td>\n",
       "      <td>3674</td>\n",
       "      <td>3219</td>\n",
       "      <td>0.0</td>\n",
       "      <td>809</td>\n",
       "      <td>2</td>\n",
       "      <td>[0, 0, 0, 0, 0, 0, 0, 0, 0, 2]</td>\n",
       "      <td>[0, 0, 0, 0, 0, 0, 0, 0, 0, 0]</td>\n",
       "      <td>...</td>\n",
       "      <td>51.0</td>\n",
       "      <td>3.0</td>\n",
       "      <td>0.058824</td>\n",
       "      <td>4429</td>\n",
       "      <td>2192</td>\n",
       "      <td>241</td>\n",
       "      <td>10</td>\n",
       "      <td>[798, 625, 1113, 1048, 97, 359, 1034, 32, 1088...</td>\n",
       "      <td>[0.9999252311742941, 7.254023358704723e-05, 1....</td>\n",
       "      <td>[0.4124569892883301, 0.061305705457925797, 0.0...</td>\n",
       "    </tr>\n",
       "    <tr>\n",
       "      <td>1</td>\n",
       "      <td>1541461727</td>\n",
       "      <td>1541461708</td>\n",
       "      <td>2.0</td>\n",
       "      <td>3674</td>\n",
       "      <td>3219</td>\n",
       "      <td>0.0</td>\n",
       "      <td>809</td>\n",
       "      <td>2</td>\n",
       "      <td>[0, 0, 0, 0, 0, 0, 0, 0, 0, 2]</td>\n",
       "      <td>[0, 0, 0, 0, 0, 0, 0, 0, 0, 0]</td>\n",
       "      <td>...</td>\n",
       "      <td>51.0</td>\n",
       "      <td>2.0</td>\n",
       "      <td>0.039216</td>\n",
       "      <td>4429</td>\n",
       "      <td>2192</td>\n",
       "      <td>241</td>\n",
       "      <td>10</td>\n",
       "      <td>[798, 625, 1048, 359, 1113, 1034, 1088, 128, 9...</td>\n",
       "      <td>[0.9999330729093207, 6.374167871741254e-05, 5....</td>\n",
       "      <td>[0.41690123081207275, 0.06038424372673035, 0.0...</td>\n",
       "    </tr>\n",
       "    <tr>\n",
       "      <td>2</td>\n",
       "      <td>1541461727</td>\n",
       "      <td>1541461708</td>\n",
       "      <td>2.0</td>\n",
       "      <td>3674</td>\n",
       "      <td>3219</td>\n",
       "      <td>0.0</td>\n",
       "      <td>809</td>\n",
       "      <td>2</td>\n",
       "      <td>[0, 0, 0, 0, 0, 0, 0, 0, 0, 2]</td>\n",
       "      <td>[0, 0, 0, 0, 0, 0, 0, 0, 0, 0]</td>\n",
       "      <td>...</td>\n",
       "      <td>51.0</td>\n",
       "      <td>3.0</td>\n",
       "      <td>0.058824</td>\n",
       "      <td>4429</td>\n",
       "      <td>2192</td>\n",
       "      <td>241</td>\n",
       "      <td>10</td>\n",
       "      <td>[798, 625, 1113, 359, 1048, 97, 1088, 1034, 32...</td>\n",
       "      <td>[0.9999333004006552, 6.369663054488575e-05, 2....</td>\n",
       "      <td>[0.41783884167671204, 0.06051148846745491, 0.0...</td>\n",
       "    </tr>\n",
       "    <tr>\n",
       "      <td>3</td>\n",
       "      <td>1541461727</td>\n",
       "      <td>1541461708</td>\n",
       "      <td>2.0</td>\n",
       "      <td>3674</td>\n",
       "      <td>3219</td>\n",
       "      <td>0.0</td>\n",
       "      <td>809</td>\n",
       "      <td>2</td>\n",
       "      <td>[0, 0, 0, 0, 0, 0, 0, 0, 0, 2]</td>\n",
       "      <td>[0, 0, 0, 0, 0, 0, 0, 0, 0, 0]</td>\n",
       "      <td>...</td>\n",
       "      <td>51.0</td>\n",
       "      <td>3.0</td>\n",
       "      <td>0.058824</td>\n",
       "      <td>4429</td>\n",
       "      <td>2192</td>\n",
       "      <td>241</td>\n",
       "      <td>10</td>\n",
       "      <td>[798, 625, 1113, 1034, 1048, 359, 1088, 97, 80...</td>\n",
       "      <td>[0.9999339458798858, 6.323330934774128e-05, 1....</td>\n",
       "      <td>[0.41789254546165466, 0.06043095886707306, 0.0...</td>\n",
       "    </tr>\n",
       "    <tr>\n",
       "      <td>4</td>\n",
       "      <td>1541461727</td>\n",
       "      <td>1541461708</td>\n",
       "      <td>2.0</td>\n",
       "      <td>3674</td>\n",
       "      <td>3219</td>\n",
       "      <td>0.0</td>\n",
       "      <td>809</td>\n",
       "      <td>2</td>\n",
       "      <td>[0, 0, 0, 0, 0, 0, 0, 0, 0, 2]</td>\n",
       "      <td>[0, 0, 0, 0, 0, 0, 0, 0, 0, 0]</td>\n",
       "      <td>...</td>\n",
       "      <td>51.0</td>\n",
       "      <td>2.0</td>\n",
       "      <td>0.039216</td>\n",
       "      <td>4429</td>\n",
       "      <td>2192</td>\n",
       "      <td>241</td>\n",
       "      <td>10</td>\n",
       "      <td>[798, 625, 1048, 1113, 359, 1088, 97, 32, 1034...</td>\n",
       "      <td>[0.9999338903373622, 6.342121798125168e-05, 4....</td>\n",
       "      <td>[0.4180438816547394, 0.060488730669021606, 0.0...</td>\n",
       "    </tr>\n",
       "  </tbody>\n",
       "</table>\n",
       "<p>5 rows × 46 columns</p>\n",
       "</div>"
      ],
      "text/plain": [
       "    timestamp  timestamp_diff  step  user_idx  session_idx  \\\n",
       "0  1541461727      1541461708   2.0      3674         3219   \n",
       "1  1541461727      1541461708   2.0      3674         3219   \n",
       "2  1541461727      1541461708   2.0      3674         3219   \n",
       "3  1541461727      1541461708   2.0      3674         3219   \n",
       "4  1541461727      1541461708   2.0      3674         3219   \n",
       "\n",
       "   sum_action_item_before  action_type_item_idx  action_type_idx  \\\n",
       "0                     0.0                   809                2   \n",
       "1                     0.0                   809                2   \n",
       "2                     0.0                   809                2   \n",
       "3                     0.0                   809                2   \n",
       "4                     0.0                   809                2   \n",
       "\n",
       "             list_action_type_idx   list_reference_search_for_poi  ...  \\\n",
       "0  [0, 0, 0, 0, 0, 0, 0, 0, 0, 2]  [0, 0, 0, 0, 0, 0, 0, 0, 0, 0]  ...   \n",
       "1  [0, 0, 0, 0, 0, 0, 0, 0, 0, 2]  [0, 0, 0, 0, 0, 0, 0, 0, 0, 0]  ...   \n",
       "2  [0, 0, 0, 0, 0, 0, 0, 0, 0, 2]  [0, 0, 0, 0, 0, 0, 0, 0, 0, 0]  ...   \n",
       "3  [0, 0, 0, 0, 0, 0, 0, 0, 0, 2]  [0, 0, 0, 0, 0, 0, 0, 0, 0, 0]  ...   \n",
       "4  [0, 0, 0, 0, 0, 0, 0, 0, 0, 2]  [0, 0, 0, 0, 0, 0, 0, 0, 0, 0]  ...   \n",
       "\n",
       "  user_view hist_views        ps n_users n_items vocab_size window_hist_size  \\\n",
       "0      51.0        3.0  0.058824    4429    2192        241               10   \n",
       "1      51.0        2.0  0.039216    4429    2192        241               10   \n",
       "2      51.0        3.0  0.058824    4429    2192        241               10   \n",
       "3      51.0        3.0  0.058824    4429    2192        241               10   \n",
       "4      51.0        2.0  0.039216    4429    2192        241               10   \n",
       "\n",
       "                                      sorted_actions  \\\n",
       "0  [798, 625, 1113, 1048, 97, 359, 1034, 32, 1088...   \n",
       "1  [798, 625, 1048, 359, 1113, 1034, 1088, 128, 9...   \n",
       "2  [798, 625, 1113, 359, 1048, 97, 1088, 1034, 32...   \n",
       "3  [798, 625, 1113, 1034, 1048, 359, 1088, 97, 80...   \n",
       "4  [798, 625, 1048, 1113, 359, 1088, 97, 32, 1034...   \n",
       "\n",
       "                                        prob_actions  \\\n",
       "0  [0.9999252311742941, 7.254023358704723e-05, 1....   \n",
       "1  [0.9999330729093207, 6.374167871741254e-05, 5....   \n",
       "2  [0.9999333004006552, 6.369663054488575e-05, 2....   \n",
       "3  [0.9999339458798858, 6.323330934774128e-05, 1....   \n",
       "4  [0.9999338903373622, 6.342121798125168e-05, 4....   \n",
       "\n",
       "                                       action_scores  \n",
       "0  [0.4124569892883301, 0.061305705457925797, 0.0...  \n",
       "1  [0.41690123081207275, 0.06038424372673035, 0.0...  \n",
       "2  [0.41783884167671204, 0.06051148846745491, 0.0...  \n",
       "3  [0.41789254546165466, 0.06043095886707306, 0.0...  \n",
       "4  [0.4180438816547394, 0.060488730669021606, 0.0...  \n",
       "\n",
       "[5 rows x 46 columns]"
      ]
     },
     "execution_count": 119,
     "metadata": {},
     "output_type": "execute_result"
    }
   ],
   "source": [
    "#df = pd.read_csv(\"/media/workspace/DeepFood/deep-reco-gym/output/trivago/dataset/Rio_de_Janeiro_Brazil/test_0.20_test=time_42_PrepareTrivagoSessionsDataFrames____None_time_170e5151cd.csv\")\n",
    "#\n",
    "df = pd.read_csv(\"/media/workspace/DeepFood/deep-reco-gym/output/interaction/TrivagoLogisticModelInteraction/results/TrivagoLogisticModelInteraction_selu____softmax_explorer_d7902efca1/test_set_predictions.csv\")\n",
    "df.head()\n",
    "\n"
   ]
  },
  {
   "cell_type": "code",
   "execution_count": 120,
   "metadata": {},
   "outputs": [
    {
     "name": "stderr",
     "output_type": "stream",
     "text": [
      "100%|██████████| 44648/44648 [00:00<00:00, 4591009.68it/s]\n",
      "100%|██████████| 44648/44648 [00:00<00:00, 4547861.31it/s]\n",
      "100%|██████████| 44648/44648 [00:00<00:00, 4418348.55it/s]\n"
     ]
    }
   ],
   "source": [
    "df[\"sorted_actions\"] = parallel_literal_eval(df[\"sorted_actions\"])\n",
    "df[\"prob_actions\"]   = parallel_literal_eval(df[\"prob_actions\"])\n",
    "df[\"action_scores\"]  = parallel_literal_eval(df[\"action_scores\"])\n",
    "df[\"action\"]         = df[\"sorted_actions\"].apply(lambda sorted_actions: sorted_actions[0])"
   ]
  },
  {
   "cell_type": "code",
   "execution_count": 124,
   "metadata": {},
   "outputs": [
    {
     "name": "stderr",
     "output_type": "stream",
     "text": [
      "/home/marlesson/anaconda3/envs/deep-reco-gym/lib/python3.6/site-packages/ipykernel_launcher.py:46: RuntimeWarning: invalid value encountered in true_divide\n",
      "/home/marlesson/anaconda3/envs/deep-reco-gym/lib/python3.6/site-packages/ipykernel_launcher.py:50: RuntimeWarning: invalid value encountered in true_divide\n",
      "/home/marlesson/anaconda3/envs/deep-reco-gym/lib/python3.6/site-packages/ipykernel_launcher.py:56: RuntimeWarning: invalid value encountered in true_divide\n",
      "/home/marlesson/anaconda3/envs/deep-reco-gym/lib/python3.6/site-packages/ipykernel_launcher.py:58: RuntimeWarning: invalid value encountered in true_divide\n"
     ]
    },
    {
     "data": {
      "text/html": [
       "<div>\n",
       "<style scoped>\n",
       "    .dataframe tbody tr th:only-of-type {\n",
       "        vertical-align: middle;\n",
       "    }\n",
       "\n",
       "    .dataframe tbody tr th {\n",
       "        vertical-align: top;\n",
       "    }\n",
       "\n",
       "    .dataframe thead th {\n",
       "        text-align: right;\n",
       "    }\n",
       "</style>\n",
       "<table border=\"1\" class=\"dataframe\">\n",
       "  <thead>\n",
       "    <tr style=\"text-align: right;\">\n",
       "      <th></th>\n",
       "      <th>sub_key</th>\n",
       "      <th>sub</th>\n",
       "      <th>total_class</th>\n",
       "      <th>false_positive_rate</th>\n",
       "      <th>false_positive_rate_C</th>\n",
       "      <th>false_negative_rate</th>\n",
       "      <th>false_negative_rate_C</th>\n",
       "      <th>true_positive_rate</th>\n",
       "      <th>true_positive_rate_C</th>\n",
       "      <th>true_negative_rate</th>\n",
       "      <th>...</th>\n",
       "      <th>positive_rate_C</th>\n",
       "      <th>negative_rate</th>\n",
       "      <th>negative_rate_C</th>\n",
       "      <th>accuracy</th>\n",
       "      <th>accuracy_C</th>\n",
       "      <th>balance_accuracy</th>\n",
       "      <th>balance_accuracy_C</th>\n",
       "      <th>total_positives</th>\n",
       "      <th>total_negatives</th>\n",
       "      <th>total_individuals</th>\n",
       "    </tr>\n",
       "  </thead>\n",
       "  <tbody>\n",
       "    <tr>\n",
       "      <td>1</td>\n",
       "      <td>device_idx</td>\n",
       "      <td>0</td>\n",
       "      <td>389</td>\n",
       "      <td>0.001698</td>\n",
       "      <td>0.000397</td>\n",
       "      <td>0.705532</td>\n",
       "      <td>0.039549</td>\n",
       "      <td>0.294468</td>\n",
       "      <td>0.039549</td>\n",
       "      <td>0.998302</td>\n",
       "      <td>...</td>\n",
       "      <td>0.000490</td>\n",
       "      <td>0.997429</td>\n",
       "      <td>0.000490</td>\n",
       "      <td>0.996625</td>\n",
       "      <td>0.000498</td>\n",
       "      <td>0.646377</td>\n",
       "      <td>0.019734</td>\n",
       "      <td>327</td>\n",
       "      <td>625</td>\n",
       "      <td>952</td>\n",
       "    </tr>\n",
       "    <tr>\n",
       "      <td>0</td>\n",
       "      <td>device_idx</td>\n",
       "      <td>1</td>\n",
       "      <td>336</td>\n",
       "      <td>0.001965</td>\n",
       "      <td>0.000643</td>\n",
       "      <td>0.721392</td>\n",
       "      <td>0.041428</td>\n",
       "      <td>0.278608</td>\n",
       "      <td>0.041428</td>\n",
       "      <td>0.998035</td>\n",
       "      <td>...</td>\n",
       "      <td>0.000765</td>\n",
       "      <td>0.997024</td>\n",
       "      <td>0.000765</td>\n",
       "      <td>0.996104</td>\n",
       "      <td>0.000773</td>\n",
       "      <td>0.638294</td>\n",
       "      <td>0.020649</td>\n",
       "      <td>293</td>\n",
       "      <td>555</td>\n",
       "      <td>848</td>\n",
       "    </tr>\n",
       "    <tr>\n",
       "      <td>2</td>\n",
       "      <td>device_idx</td>\n",
       "      <td>2</td>\n",
       "      <td>36</td>\n",
       "      <td>0.023675</td>\n",
       "      <td>0.011848</td>\n",
       "      <td>0.854167</td>\n",
       "      <td>0.145734</td>\n",
       "      <td>0.145833</td>\n",
       "      <td>0.145734</td>\n",
       "      <td>0.976325</td>\n",
       "      <td>...</td>\n",
       "      <td>0.011477</td>\n",
       "      <td>0.972222</td>\n",
       "      <td>0.011477</td>\n",
       "      <td>0.952991</td>\n",
       "      <td>0.009892</td>\n",
       "      <td>0.569583</td>\n",
       "      <td>0.073640</td>\n",
       "      <td>4</td>\n",
       "      <td>22</td>\n",
       "      <td>26</td>\n",
       "    </tr>\n",
       "  </tbody>\n",
       "</table>\n",
       "<p>3 rows × 22 columns</p>\n",
       "</div>"
      ],
      "text/plain": [
       "      sub_key  sub  total_class  false_positive_rate  false_positive_rate_C  \\\n",
       "1  device_idx    0          389             0.001698               0.000397   \n",
       "0  device_idx    1          336             0.001965               0.000643   \n",
       "2  device_idx    2           36             0.023675               0.011848   \n",
       "\n",
       "   false_negative_rate  false_negative_rate_C  true_positive_rate  \\\n",
       "1             0.705532               0.039549            0.294468   \n",
       "0             0.721392               0.041428            0.278608   \n",
       "2             0.854167               0.145734            0.145833   \n",
       "\n",
       "   true_positive_rate_C  true_negative_rate  ...  positive_rate_C  \\\n",
       "1              0.039549            0.998302  ...         0.000490   \n",
       "0              0.041428            0.998035  ...         0.000765   \n",
       "2              0.145734            0.976325  ...         0.011477   \n",
       "\n",
       "   negative_rate  negative_rate_C  accuracy  accuracy_C  balance_accuracy  \\\n",
       "1       0.997429         0.000490  0.996625    0.000498          0.646377   \n",
       "0       0.997024         0.000765  0.996104    0.000773          0.638294   \n",
       "2       0.972222         0.011477  0.952991    0.009892          0.569583   \n",
       "\n",
       "   balance_accuracy_C  total_positives  total_negatives  total_individuals  \n",
       "1            0.019734              327              625                952  \n",
       "0            0.020649              293              555                848  \n",
       "2            0.073640                4               22                 26  \n",
       "\n",
       "[3 rows x 22 columns]"
      ]
     },
     "execution_count": 124,
     "metadata": {},
     "output_type": "execute_result"
    }
   ],
   "source": [
    "ground_truth_df = df[df['clicked'] == 1]\n",
    "\n",
    "fairness_columns = ['device_idx']\n",
    "fairness_df       = ground_truth_df[['item_idx', \"action\",  *fairness_columns]]\n",
    "fairness_metrics  = calculate_fairness_metrics(fairness_df, fairness_columns,\n",
    "                                              'item_idx', \"action\")\n",
    "fairness_metrics"
   ]
  },
  {
   "cell_type": "code",
   "execution_count": 122,
   "metadata": {},
   "outputs": [
    {
     "data": {
      "text/html": [
       "<div>\n",
       "<style scoped>\n",
       "    .dataframe tbody tr th:only-of-type {\n",
       "        vertical-align: middle;\n",
       "    }\n",
       "\n",
       "    .dataframe tbody tr th {\n",
       "        vertical-align: top;\n",
       "    }\n",
       "\n",
       "    .dataframe thead th {\n",
       "        text-align: right;\n",
       "    }\n",
       "</style>\n",
       "<table border=\"1\" class=\"dataframe\">\n",
       "  <thead>\n",
       "    <tr style=\"text-align: right;\">\n",
       "      <th></th>\n",
       "      <th>sub_key</th>\n",
       "      <th>sub</th>\n",
       "      <th>total_class</th>\n",
       "      <th>total_individuals</th>\n",
       "      <th>true_positive_rate</th>\n",
       "    </tr>\n",
       "  </thead>\n",
       "  <tbody>\n",
       "    <tr>\n",
       "      <td>1</td>\n",
       "      <td>device_idx</td>\n",
       "      <td>0</td>\n",
       "      <td>389</td>\n",
       "      <td>952</td>\n",
       "      <td>0.294468</td>\n",
       "    </tr>\n",
       "    <tr>\n",
       "      <td>0</td>\n",
       "      <td>device_idx</td>\n",
       "      <td>1</td>\n",
       "      <td>336</td>\n",
       "      <td>848</td>\n",
       "      <td>0.278608</td>\n",
       "    </tr>\n",
       "    <tr>\n",
       "      <td>2</td>\n",
       "      <td>device_idx</td>\n",
       "      <td>2</td>\n",
       "      <td>36</td>\n",
       "      <td>26</td>\n",
       "      <td>0.145833</td>\n",
       "    </tr>\n",
       "  </tbody>\n",
       "</table>\n",
       "</div>"
      ],
      "text/plain": [
       "      sub_key  sub  total_class  total_individuals  true_positive_rate\n",
       "1  device_idx    0          389                952            0.294468\n",
       "0  device_idx    1          336                848            0.278608\n",
       "2  device_idx    2           36                 26            0.145833"
      ]
     },
     "execution_count": 122,
     "metadata": {},
     "output_type": "execute_result"
    }
   ],
   "source": [
    "fairness_metrics[['sub_key', 'sub', 'total_class', 'total_individuals', 'true_positive_rate']]"
   ]
  },
  {
   "cell_type": "code",
   "execution_count": 123,
   "metadata": {},
   "outputs": [
    {
     "data": {
      "text/plain": [
       "total_class           761\n",
       "total_individuals    1826\n",
       "dtype: int64"
      ]
     },
     "execution_count": 123,
     "metadata": {},
     "output_type": "execute_result"
    }
   ],
   "source": [
    "fairness_metrics[['total_class', 'total_individuals']].sum()"
   ]
  },
  {
   "cell_type": "code",
   "execution_count": 140,
   "metadata": {},
   "outputs": [
    {
     "data": {
      "text/html": [
       "<div>\n",
       "<style scoped>\n",
       "    .dataframe tbody tr th:only-of-type {\n",
       "        vertical-align: middle;\n",
       "    }\n",
       "\n",
       "    .dataframe tbody tr th {\n",
       "        vertical-align: top;\n",
       "    }\n",
       "\n",
       "    .dataframe thead th {\n",
       "        text-align: right;\n",
       "    }\n",
       "</style>\n",
       "<table border=\"1\" class=\"dataframe\">\n",
       "  <thead>\n",
       "    <tr style=\"text-align: right;\">\n",
       "      <th></th>\n",
       "      <th>item_idx</th>\n",
       "      <th>action</th>\n",
       "      <th>device_idx</th>\n",
       "    </tr>\n",
       "  </thead>\n",
       "  <tbody>\n",
       "    <tr>\n",
       "      <td>3539</td>\n",
       "      <td>21</td>\n",
       "      <td>41</td>\n",
       "      <td>2</td>\n",
       "    </tr>\n",
       "    <tr>\n",
       "      <td>3601</td>\n",
       "      <td>799</td>\n",
       "      <td>106</td>\n",
       "      <td>2</td>\n",
       "    </tr>\n",
       "    <tr>\n",
       "      <td>3724</td>\n",
       "      <td>798</td>\n",
       "      <td>106</td>\n",
       "      <td>2</td>\n",
       "    </tr>\n",
       "    <tr>\n",
       "      <td>3868</td>\n",
       "      <td>623</td>\n",
       "      <td>792</td>\n",
       "      <td>2</td>\n",
       "    </tr>\n",
       "    <tr>\n",
       "      <td>3980</td>\n",
       "      <td>1056</td>\n",
       "      <td>802</td>\n",
       "      <td>2</td>\n",
       "    </tr>\n",
       "  </tbody>\n",
       "</table>\n",
       "</div>"
      ],
      "text/plain": [
       "      item_idx  action  device_idx\n",
       "3539        21      41           2\n",
       "3601       799     106           2\n",
       "3724       798     106           2\n",
       "3868       623     792           2\n",
       "3980      1056     802           2"
      ]
     },
     "execution_count": 140,
     "metadata": {},
     "output_type": "execute_result"
    }
   ],
   "source": [
    "_df = fairness_df[fairness_df.device_idx == 2]\n",
    "_df.head()"
   ]
  },
  {
   "cell_type": "code",
   "execution_count": 141,
   "metadata": {},
   "outputs": [
    {
     "data": {
      "text/plain": [
       "array([  21,  799,  798,  623, 1056,  956,  603,  143,  292,  625,  626,\n",
       "        152,   27,  278,  108,  235,  235,    2,  809,   19,   72,  508,\n",
       "        251,  565,  970,  809])"
      ]
     },
     "execution_count": 141,
     "metadata": {},
     "output_type": "execute_result"
    }
   ],
   "source": [
    "_df.item_idx.values#_df.action.values#"
   ]
  },
  {
   "cell_type": "code",
   "execution_count": 146,
   "metadata": {},
   "outputs": [
    {
     "data": {
      "text/plain": [
       "36"
      ]
     },
     "execution_count": 146,
     "metadata": {},
     "output_type": "execute_result"
    }
   ],
   "source": [
    "items = np.unique(list(_df.action.values) + list(_df.item_idx.values))\n",
    "len(items)"
   ]
  },
  {
   "cell_type": "code",
   "execution_count": null,
   "metadata": {},
   "outputs": [],
   "source": []
  }
 ],
 "metadata": {
  "kernelspec": {
   "display_name": "Python 3",
   "language": "python",
   "name": "python3"
  },
  "language_info": {
   "codemirror_mode": {
    "name": "ipython",
    "version": 3
   },
   "file_extension": ".py",
   "mimetype": "text/x-python",
   "name": "python",
   "nbconvert_exporter": "python",
   "pygments_lexer": "ipython3",
   "version": "3.6.7"
  },
  "toc": {
   "base_numbering": 1,
   "nav_menu": {},
   "number_sections": true,
   "sideBar": true,
   "skip_h1_title": false,
   "title_cell": "Table of Contents",
   "title_sidebar": "Contents",
   "toc_cell": false,
   "toc_position": {},
   "toc_section_display": true,
   "toc_window_display": false
  }
 },
 "nbformat": 4,
 "nbformat_minor": 4
}
