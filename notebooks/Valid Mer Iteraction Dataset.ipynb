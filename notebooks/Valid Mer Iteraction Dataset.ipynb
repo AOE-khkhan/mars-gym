{
 "cells": [
  {
   "cell_type": "code",
   "execution_count": 11,
   "metadata": {},
   "outputs": [],
   "source": [
    "import pandas as pd\n",
    "import pyspark.sql.functions as F\n",
    "from pyspark.sql.window import Window\n",
    "from pyspark.sql.functions import collect_set, collect_list, lit, sum, udf, concat_ws, col, count, abs\n"
   ]
  },
  {
   "cell_type": "code",
   "execution_count": 2,
   "metadata": {},
   "outputs": [
    {
     "name": "stdout",
     "output_type": "stream",
     "text": [
      "+--------------------+--------------------+--------------------+-------------------+---+------------+\n",
      "|          session_id|          account_id|         merchant_id|    click_timestamp|buy|dt_partition|\n",
      "+--------------------+--------------------+--------------------+-------------------+---+------------+\n",
      "|6df9ebc5-64c8-47b...|e3ff3dc9-d5c0-4f7...|92c5c3a6-40be-4a8...|2019-06-01 00:03:44|  1|  2019-06-01|\n",
      "|381c7804-12a2-4cf...|2c11bfb6-6fe1-426...|92c5c3a6-40be-4a8...|2019-06-01 00:12:44|  1|  2019-06-01|\n",
      "|3e50b1d0-9e31-449...|                null|92c5c3a6-40be-4a8...|2019-06-01 00:36:01|  1|  2019-06-01|\n",
      "|3e50b1d0-9e31-449...|                null|92c5c3a6-40be-4a8...|2019-06-01 00:38:10|  1|  2019-06-01|\n",
      "|1f0206f0-97f4-457...|d844438e-8c06-46e...|92c5c3a6-40be-4a8...|2019-06-01 00:40:35|  1|  2019-06-01|\n",
      "|1f0206f0-97f4-457...|d844438e-8c06-46e...|92c5c3a6-40be-4a8...|2019-06-01 00:40:35|  1|  2019-06-01|\n",
      "|1f0206f0-97f4-457...|d844438e-8c06-46e...|92c5c3a6-40be-4a8...|2019-06-01 00:40:35|  1|  2019-06-01|\n",
      "|1f0206f0-97f4-457...|d844438e-8c06-46e...|92c5c3a6-40be-4a8...|2019-06-01 00:41:47|  1|  2019-06-01|\n",
      "|1f0206f0-97f4-457...|d844438e-8c06-46e...|92c5c3a6-40be-4a8...|2019-06-01 00:48:54|  1|  2019-06-01|\n",
      "|be7318ae-2c5b-443...|0778450e-76ca-4c1...|92c5c3a6-40be-4a8...|2019-06-01 00:49:58|  1|  2019-06-01|\n",
      "|be7318ae-2c5b-443...|0778450e-76ca-4c1...|92c5c3a6-40be-4a8...|2019-06-01 00:50:24|  1|  2019-06-01|\n",
      "|1f0206f0-97f4-457...|d844438e-8c06-46e...|92c5c3a6-40be-4a8...|2019-06-01 00:53:33|  1|  2019-06-01|\n",
      "|1f0206f0-97f4-457...|d844438e-8c06-46e...|92c5c3a6-40be-4a8...|2019-06-01 00:53:33|  1|  2019-06-01|\n",
      "|1f0206f0-97f4-457...|d844438e-8c06-46e...|92c5c3a6-40be-4a8...|2019-06-01 00:59:01|  1|  2019-06-01|\n",
      "|140dbcd2-578f-4eb...|b6536359-9bff-470...|92c5c3a6-40be-4a8...|2019-06-01 01:03:10|  1|  2019-06-01|\n",
      "|140dbcd2-578f-4eb...|b6536359-9bff-470...|92c5c3a6-40be-4a8...|2019-06-01 01:05:32|  1|  2019-06-01|\n",
      "|140dbcd2-578f-4eb...|b6536359-9bff-470...|92c5c3a6-40be-4a8...|2019-06-01 01:05:44|  1|  2019-06-01|\n",
      "|df5df220-aca4-4dc...|ac555aa3-3fb0-4cd...|92c5c3a6-40be-4a8...|2019-06-01 01:15:33|  1|  2019-06-01|\n",
      "|df5df220-aca4-4dc...|ac555aa3-3fb0-4cd...|92c5c3a6-40be-4a8...|2019-06-01 01:19:06|  1|  2019-06-01|\n",
      "|df5df220-aca4-4dc...|ac555aa3-3fb0-4cd...|92c5c3a6-40be-4a8...|2019-06-01 01:19:12|  1|  2019-06-01|\n",
      "+--------------------+--------------------+--------------------+-------------------+---+------------+\n",
      "only showing top 20 rows\n",
      "\n"
     ]
    }
   ],
   "source": [
    "#df_ground_truth = spark.read.parquet('../output/ifood/dataset_5/info_session/ground_truth/').sort('click_timestamp', 'account_id')\n",
    "df = spark.read.parquet('../output/ifood/dataset_1/info_session/ground_truth/')\\\n",
    "        .sort('click_timestamp', 'account_id')\n",
    "df.show(20)"
   ]
  },
  {
   "cell_type": "code",
   "execution_count": 3,
   "metadata": {},
   "outputs": [],
   "source": [
    "df = df.filter(df.buy == 1)"
   ]
  },
  {
   "cell_type": "code",
   "execution_count": 4,
   "metadata": {},
   "outputs": [
    {
     "name": "stdout",
     "output_type": "stream",
     "text": [
      "root\n",
      " |-- session_id: string (nullable = true)\n",
      " |-- account_id: string (nullable = true)\n",
      " |-- merchant_id: string (nullable = true)\n",
      " |-- click_timestamp: timestamp (nullable = true)\n",
      " |-- buy: integer (nullable = true)\n",
      " |-- dt_partition: string (nullable = true)\n",
      "\n"
     ]
    }
   ],
   "source": [
    "df.printSchema()"
   ]
  },
  {
   "cell_type": "code",
   "execution_count": 5,
   "metadata": {},
   "outputs": [
    {
     "data": {
      "text/plain": [
       "10000"
      ]
     },
     "execution_count": 5,
     "metadata": {},
     "output_type": "execute_result"
    }
   ],
   "source": [
    "df.count()"
   ]
  },
  {
   "cell_type": "code",
   "execution_count": 35,
   "metadata": {
    "scrolled": true
   },
   "outputs": [
    {
     "data": {
      "text/plain": [
       "2000"
      ]
     },
     "execution_count": 35,
     "metadata": {},
     "output_type": "execute_result"
    }
   ],
   "source": [
    "#df_ground_truth = spark.read.parquet('../output/ifood/dataset_5/info_session/ground_truth/').sort('click_timestamp', 'account_id')\n",
    "df_all = spark.read.parquet('../output/ifood/dataset_3/info_session/merged/MergeIteractionDatasetTask_2000_output_evaluatio_0_0_a716710c4d_test_gt/')\\\n",
    "        .sort('click_timestamp', 'account_id')\n",
    "df_all.filter(df_all.buy==1).count()"
   ]
  },
  {
   "cell_type": "code",
   "execution_count": 26,
   "metadata": {},
   "outputs": [
    {
     "data": {
      "text/plain": [
       "3435"
      ]
     },
     "execution_count": 26,
     "metadata": {},
     "output_type": "execute_result"
    }
   ],
   "source": [
    "df = df_all\n",
    "# Drop nan and duplicates\n",
    "df = df.na.drop().dropDuplicates()\n",
    "\n",
    "# filters only the purchase iteration when you have both (purchase and visit) \n",
    "# at the same time\n",
    "df_buy        = df.filter(df.buy==1)\n",
    "\n",
    "df_only_visit = df.groupBy(['session_id','account_id','merchant_id', \n",
    "                        'click_timestamp', 'dt_partition'])\\\n",
    "                .sum().withColumnRenamed(\"sum(buy)\", \"buy\").filter(col(\"buy\") == 0)\n",
    "\n",
    "    # union buys with visits without visitsBuy\n",
    "df = df_buy.select(df.columns)\\\n",
    "        .union(df_only_visit.select(df.columns))\n",
    "df.count()"
   ]
  },
  {
   "cell_type": "code",
   "execution_count": 37,
   "metadata": {
    "scrolled": true
   },
   "outputs": [
    {
     "data": {
      "text/plain": [
       "1995"
      ]
     },
     "execution_count": 37,
     "metadata": {},
     "output_type": "execute_result"
    }
   ],
   "source": [
    "#df_ground_truth = spark.read.parquet('../output/ifood/dataset_5/info_session/ground_truth/').sort('click_timestamp', 'account_id')\n",
    "df_test = spark.read.parquet('../output/ifood/dataset_3/session_test_1995.00_s=2000/')\n",
    "df_test.count()"
   ]
  },
  {
   "cell_type": "code",
   "execution_count": 42,
   "metadata": {},
   "outputs": [
    {
     "data": {
      "text/plain": [
       "2000"
      ]
     },
     "execution_count": 42,
     "metadata": {},
     "output_type": "execute_result"
    }
   ],
   "source": [
    "#df_ground_truth = spark.read.parquet('../output/ifood/dataset_5/info_session/ground_truth/').sort('click_timestamp', 'account_id')\n",
    "df_test = spark.read.parquet('../output/ifood/dataset_3/session_test_2000.00_s=6000/')\n",
    "df_test.count()"
   ]
  },
  {
   "cell_type": "code",
   "execution_count": 32,
   "metadata": {},
   "outputs": [
    {
     "data": {
      "text/plain": [
       "599"
      ]
     },
     "execution_count": 32,
     "metadata": {},
     "output_type": "execute_result"
    }
   ],
   "source": [
    "#df_ground_truth = spark.read.parquet('../output/ifood/dataset_5/info_session/ground_truth/').sort('click_timestamp', 'account_id')\n",
    "df_test = spark.read.parquet('../output/ifood/dataset_3/indexed_orders_test_data_2000.00_k=0_s=6000_f=1.parquet')\n",
    "df_test.count()"
   ]
  },
  {
   "cell_type": "code",
   "execution_count": 19,
   "metadata": {},
   "outputs": [
    {
     "data": {
      "text/plain": [
       "623"
      ]
     },
     "execution_count": 19,
     "metadata": {},
     "output_type": "execute_result"
    }
   ],
   "source": [
    "#df_ground_truth = spark.read.parquet('../output/ifood/dataset_5/info_session/ground_truth/').sort('click_timestamp', 'account_id')\n",
    "df_test = spark.read.parquet('../output/ifood/dataset_1/indexed_orders_test_data_0.25_k=0_s=8000_f=1.parquet')\n",
    "df_test.count()"
   ]
  },
  {
   "cell_type": "code",
   "execution_count": 20,
   "metadata": {},
   "outputs": [
    {
     "data": {
      "text/plain": [
       "516"
      ]
     },
     "execution_count": 20,
     "metadata": {},
     "output_type": "execute_result"
    }
   ],
   "source": [
    "#df_ground_truth = spark.read.parquet('../output/ifood/dataset_5/info_session/ground_truth/').sort('click_timestamp', 'account_id')\n",
    "df_test = spark.read.parquet('../output/ifood/dataset_1/indexed_orders_test_data_0.20_k=0_s=10000_f=1.parquet')\n",
    "df_test.count()"
   ]
  },
  {
   "cell_type": "code",
   "execution_count": 8,
   "metadata": {},
   "outputs": [
    {
     "data": {
      "text/plain": [
       "0"
      ]
     },
     "execution_count": 8,
     "metadata": {},
     "output_type": "execute_result"
    }
   ],
   "source": [
    "df_test.filter(df_test.buy == 0).count()"
   ]
  },
  {
   "cell_type": "code",
   "execution_count": 13,
   "metadata": {},
   "outputs": [
    {
     "data": {
      "text/plain": [
       "2751"
      ]
     },
     "execution_count": 13,
     "metadata": {},
     "output_type": "execute_result"
    }
   ],
   "source": [
    "df_all.filter(df_all.buy == 1).count()"
   ]
  },
  {
   "cell_type": "code",
   "execution_count": null,
   "metadata": {},
   "outputs": [],
   "source": []
  },
  {
   "cell_type": "code",
   "execution_count": null,
   "metadata": {},
   "outputs": [],
   "source": []
  },
  {
   "cell_type": "code",
   "execution_count": 6,
   "metadata": {},
   "outputs": [
    {
     "name": "stdout",
     "output_type": "stream",
     "text": [
      "7594\n",
      "6929\n"
     ]
    }
   ],
   "source": [
    "df = df.distinct()\n",
    "print(df.count())\n",
    "\n",
    "df = df.na.drop()\n",
    "print(df.count())"
   ]
  },
  {
   "cell_type": "code",
   "execution_count": 4,
   "metadata": {},
   "outputs": [],
   "source": [
    "batch = 2000"
   ]
  },
  {
   "cell_type": "code",
   "execution_count": 37,
   "metadata": {},
   "outputs": [
    {
     "data": {
      "text/html": [
       "<div>\n",
       "<style scoped>\n",
       "    .dataframe tbody tr th:only-of-type {\n",
       "        vertical-align: middle;\n",
       "    }\n",
       "\n",
       "    .dataframe tbody tr th {\n",
       "        vertical-align: top;\n",
       "    }\n",
       "\n",
       "    .dataframe thead th {\n",
       "        text-align: right;\n",
       "    }\n",
       "</style>\n",
       "<table border=\"1\" class=\"dataframe\">\n",
       "  <thead>\n",
       "    <tr style=\"text-align: right;\">\n",
       "      <th></th>\n",
       "      <th>session_id</th>\n",
       "      <th>account_id</th>\n",
       "      <th>merchant_id</th>\n",
       "      <th>click_timestamp</th>\n",
       "      <th>buy</th>\n",
       "      <th>dt_partition</th>\n",
       "    </tr>\n",
       "  </thead>\n",
       "  <tbody>\n",
       "    <tr>\n",
       "      <td>0</td>\n",
       "      <td>6df9ebc5-64c8-47bc-8599-1d58c7fbe433</td>\n",
       "      <td>e3ff3dc9-d5c0-4f72-915b-42d9774a876c</td>\n",
       "      <td>92c5c3a6-40be-4a81-8969-3505b7bf16cc</td>\n",
       "      <td>2019-06-01 00:03:44</td>\n",
       "      <td>1</td>\n",
       "      <td>2019-06-01</td>\n",
       "    </tr>\n",
       "    <tr>\n",
       "      <td>1</td>\n",
       "      <td>381c7804-12a2-4cff-8aa1-e49c7bb0a442</td>\n",
       "      <td>2c11bfb6-6fe1-426e-af3c-f51f50a36320</td>\n",
       "      <td>92c5c3a6-40be-4a81-8969-3505b7bf16cc</td>\n",
       "      <td>2019-06-01 00:12:44</td>\n",
       "      <td>1</td>\n",
       "      <td>2019-06-01</td>\n",
       "    </tr>\n",
       "    <tr>\n",
       "      <td>2</td>\n",
       "      <td>3e50b1d0-9e31-4495-88fa-c685b64f31eb</td>\n",
       "      <td>None</td>\n",
       "      <td>92c5c3a6-40be-4a81-8969-3505b7bf16cc</td>\n",
       "      <td>2019-06-01 00:36:01</td>\n",
       "      <td>1</td>\n",
       "      <td>2019-06-01</td>\n",
       "    </tr>\n",
       "    <tr>\n",
       "      <td>3</td>\n",
       "      <td>3e50b1d0-9e31-4495-88fa-c685b64f31eb</td>\n",
       "      <td>None</td>\n",
       "      <td>92c5c3a6-40be-4a81-8969-3505b7bf16cc</td>\n",
       "      <td>2019-06-01 00:38:10</td>\n",
       "      <td>1</td>\n",
       "      <td>2019-06-01</td>\n",
       "    </tr>\n",
       "    <tr>\n",
       "      <td>4</td>\n",
       "      <td>1f0206f0-97f4-457b-a589-0dd99351ade9</td>\n",
       "      <td>d844438e-8c06-46ef-9f21-0d88efafe1a1</td>\n",
       "      <td>92c5c3a6-40be-4a81-8969-3505b7bf16cc</td>\n",
       "      <td>2019-06-01 00:40:35</td>\n",
       "      <td>1</td>\n",
       "      <td>2019-06-01</td>\n",
       "    </tr>\n",
       "    <tr>\n",
       "      <td>5</td>\n",
       "      <td>1f0206f0-97f4-457b-a589-0dd99351ade9</td>\n",
       "      <td>d844438e-8c06-46ef-9f21-0d88efafe1a1</td>\n",
       "      <td>92c5c3a6-40be-4a81-8969-3505b7bf16cc</td>\n",
       "      <td>2019-06-01 00:40:35</td>\n",
       "      <td>3</td>\n",
       "      <td>2019-06-01</td>\n",
       "    </tr>\n",
       "    <tr>\n",
       "      <td>6</td>\n",
       "      <td>1f0206f0-97f4-457b-a589-0dd99351ade9</td>\n",
       "      <td>d844438e-8c06-46ef-9f21-0d88efafe1a1</td>\n",
       "      <td>92c5c3a6-40be-4a81-8969-3505b7bf16cc</td>\n",
       "      <td>2019-06-01 00:40:35</td>\n",
       "      <td>3</td>\n",
       "      <td>2019-06-01</td>\n",
       "    </tr>\n",
       "    <tr>\n",
       "      <td>7</td>\n",
       "      <td>1f0206f0-97f4-457b-a589-0dd99351ade9</td>\n",
       "      <td>d844438e-8c06-46ef-9f21-0d88efafe1a1</td>\n",
       "      <td>92c5c3a6-40be-4a81-8969-3505b7bf16cc</td>\n",
       "      <td>2019-06-01 00:41:47</td>\n",
       "      <td>3</td>\n",
       "      <td>2019-06-01</td>\n",
       "    </tr>\n",
       "    <tr>\n",
       "      <td>8</td>\n",
       "      <td>1f0206f0-97f4-457b-a589-0dd99351ade9</td>\n",
       "      <td>d844438e-8c06-46ef-9f21-0d88efafe1a1</td>\n",
       "      <td>92c5c3a6-40be-4a81-8969-3505b7bf16cc</td>\n",
       "      <td>2019-06-01 00:48:54</td>\n",
       "      <td>3</td>\n",
       "      <td>2019-06-01</td>\n",
       "    </tr>\n",
       "    <tr>\n",
       "      <td>9</td>\n",
       "      <td>be7318ae-2c5b-4433-8787-7b2f00d4f7cd</td>\n",
       "      <td>0778450e-76ca-4c19-a459-3b08cda8e4ba</td>\n",
       "      <td>92c5c3a6-40be-4a81-8969-3505b7bf16cc</td>\n",
       "      <td>2019-06-01 00:49:58</td>\n",
       "      <td>3</td>\n",
       "      <td>2019-06-01</td>\n",
       "    </tr>\n",
       "  </tbody>\n",
       "</table>\n",
       "</div>"
      ],
      "text/plain": [
       "                             session_id                            account_id  \\\n",
       "0  6df9ebc5-64c8-47bc-8599-1d58c7fbe433  e3ff3dc9-d5c0-4f72-915b-42d9774a876c   \n",
       "1  381c7804-12a2-4cff-8aa1-e49c7bb0a442  2c11bfb6-6fe1-426e-af3c-f51f50a36320   \n",
       "2  3e50b1d0-9e31-4495-88fa-c685b64f31eb                                  None   \n",
       "3  3e50b1d0-9e31-4495-88fa-c685b64f31eb                                  None   \n",
       "4  1f0206f0-97f4-457b-a589-0dd99351ade9  d844438e-8c06-46ef-9f21-0d88efafe1a1   \n",
       "5  1f0206f0-97f4-457b-a589-0dd99351ade9  d844438e-8c06-46ef-9f21-0d88efafe1a1   \n",
       "6  1f0206f0-97f4-457b-a589-0dd99351ade9  d844438e-8c06-46ef-9f21-0d88efafe1a1   \n",
       "7  1f0206f0-97f4-457b-a589-0dd99351ade9  d844438e-8c06-46ef-9f21-0d88efafe1a1   \n",
       "8  1f0206f0-97f4-457b-a589-0dd99351ade9  d844438e-8c06-46ef-9f21-0d88efafe1a1   \n",
       "9  be7318ae-2c5b-4433-8787-7b2f00d4f7cd  0778450e-76ca-4c19-a459-3b08cda8e4ba   \n",
       "\n",
       "                            merchant_id     click_timestamp  buy dt_partition  \n",
       "0  92c5c3a6-40be-4a81-8969-3505b7bf16cc 2019-06-01 00:03:44    1   2019-06-01  \n",
       "1  92c5c3a6-40be-4a81-8969-3505b7bf16cc 2019-06-01 00:12:44    1   2019-06-01  \n",
       "2  92c5c3a6-40be-4a81-8969-3505b7bf16cc 2019-06-01 00:36:01    1   2019-06-01  \n",
       "3  92c5c3a6-40be-4a81-8969-3505b7bf16cc 2019-06-01 00:38:10    1   2019-06-01  \n",
       "4  92c5c3a6-40be-4a81-8969-3505b7bf16cc 2019-06-01 00:40:35    1   2019-06-01  \n",
       "5  92c5c3a6-40be-4a81-8969-3505b7bf16cc 2019-06-01 00:40:35    3   2019-06-01  \n",
       "6  92c5c3a6-40be-4a81-8969-3505b7bf16cc 2019-06-01 00:40:35    3   2019-06-01  \n",
       "7  92c5c3a6-40be-4a81-8969-3505b7bf16cc 2019-06-01 00:41:47    3   2019-06-01  \n",
       "8  92c5c3a6-40be-4a81-8969-3505b7bf16cc 2019-06-01 00:48:54    3   2019-06-01  \n",
       "9  92c5c3a6-40be-4a81-8969-3505b7bf16cc 2019-06-01 00:49:58    3   2019-06-01  "
      ]
     },
     "execution_count": 37,
     "metadata": {},
     "output_type": "execute_result"
    }
   ],
   "source": [
    "df_merge_1 = spark.read.parquet('../output/ifood/dataset_5/info_session/merged/MergeIteractionDatasetTask_2000_output_evaluatio_0_0_b2914d28db/')\\\n",
    "                .sort('click_timestamp')#.limit(batch)\n",
    "df_merge_1.limit(10).toPandas()"
   ]
  },
  {
   "cell_type": "code",
   "execution_count": 38,
   "metadata": {},
   "outputs": [
    {
     "data": {
      "text/plain": [
       "6113"
      ]
     },
     "execution_count": 38,
     "metadata": {},
     "output_type": "execute_result"
    }
   ],
   "source": [
    "df_merge_1.count()"
   ]
  },
  {
   "cell_type": "code",
   "execution_count": 41,
   "metadata": {},
   "outputs": [
    {
     "data": {
      "text/plain": [
       "2000"
      ]
     },
     "execution_count": 41,
     "metadata": {},
     "output_type": "execute_result"
    }
   ],
   "source": [
    "d = df_merge_1.sort('click_timestamp', ascending=False).limit(batch)\n",
    "d.filter(d.buy == 1).count()"
   ]
  },
  {
   "cell_type": "code",
   "execution_count": 30,
   "metadata": {},
   "outputs": [
    {
     "data": {
      "text/plain": [
       "2005"
      ]
     },
     "execution_count": 30,
     "metadata": {},
     "output_type": "execute_result"
    }
   ],
   "source": [
    "df_merge_1.filter(df_merge_1.buy == 1).count()#.count()/df_merge_1.count()"
   ]
  },
  {
   "cell_type": "code",
   "execution_count": 31,
   "metadata": {},
   "outputs": [
    {
     "ename": "AttributeError",
     "evalue": "'DataFrame' object has no attribute 'rhat_merchant_id'",
     "output_type": "error",
     "traceback": [
      "\u001b[0;31m---------------------------------------------------------------------------\u001b[0m",
      "\u001b[0;31mAttributeError\u001b[0m                            Traceback (most recent call last)",
      "\u001b[0;32m<ipython-input-31-529ce7d9141c>\u001b[0m in \u001b[0;36m<module>\u001b[0;34m\u001b[0m\n\u001b[0;32m----> 1\u001b[0;31m \u001b[0mdf_merge_1\u001b[0m\u001b[0;34m.\u001b[0m\u001b[0mfilter\u001b[0m\u001b[0;34m(\u001b[0m\u001b[0mdf_merge_1\u001b[0m\u001b[0;34m.\u001b[0m\u001b[0mrhat_merchant_id\u001b[0m\u001b[0;34m.\u001b[0m\u001b[0misNotNull\u001b[0m\u001b[0;34m(\u001b[0m\u001b[0;34m)\u001b[0m\u001b[0;34m)\u001b[0m\u001b[0;34m.\u001b[0m\u001b[0mcount\u001b[0m\u001b[0;34m(\u001b[0m\u001b[0;34m)\u001b[0m\u001b[0;34m\u001b[0m\u001b[0;34m\u001b[0m\u001b[0m\n\u001b[0m",
      "\u001b[0;32m/opt/spark-2.3.3-bin-hadoop2.7/python/pyspark/sql/dataframe.py\u001b[0m in \u001b[0;36m__getattr__\u001b[0;34m(self, name)\u001b[0m\n\u001b[1;32m   1180\u001b[0m         \u001b[0;32mif\u001b[0m \u001b[0mname\u001b[0m \u001b[0;32mnot\u001b[0m \u001b[0;32min\u001b[0m \u001b[0mself\u001b[0m\u001b[0;34m.\u001b[0m\u001b[0mcolumns\u001b[0m\u001b[0;34m:\u001b[0m\u001b[0;34m\u001b[0m\u001b[0;34m\u001b[0m\u001b[0m\n\u001b[1;32m   1181\u001b[0m             raise AttributeError(\n\u001b[0;32m-> 1182\u001b[0;31m                 \"'%s' object has no attribute '%s'\" % (self.__class__.__name__, name))\n\u001b[0m\u001b[1;32m   1183\u001b[0m         \u001b[0mjc\u001b[0m \u001b[0;34m=\u001b[0m \u001b[0mself\u001b[0m\u001b[0;34m.\u001b[0m\u001b[0m_jdf\u001b[0m\u001b[0;34m.\u001b[0m\u001b[0mapply\u001b[0m\u001b[0;34m(\u001b[0m\u001b[0mname\u001b[0m\u001b[0;34m)\u001b[0m\u001b[0;34m\u001b[0m\u001b[0;34m\u001b[0m\u001b[0m\n\u001b[1;32m   1184\u001b[0m         \u001b[0;32mreturn\u001b[0m \u001b[0mColumn\u001b[0m\u001b[0;34m(\u001b[0m\u001b[0mjc\u001b[0m\u001b[0;34m)\u001b[0m\u001b[0;34m\u001b[0m\u001b[0;34m\u001b[0m\u001b[0m\n",
      "\u001b[0;31mAttributeError\u001b[0m: 'DataFrame' object has no attribute 'rhat_merchant_id'"
     ]
    }
   ],
   "source": [
    "df_merge_1.filter(df_merge_1.rhat_merchant_id.isNotNull()).count()"
   ]
  },
  {
   "cell_type": "code",
   "execution_count": 85,
   "metadata": {},
   "outputs": [
    {
     "name": "stdout",
     "output_type": "stream",
     "text": [
      "+--------------------+--------------------+--------------------+-------------------+---+------------+\n",
      "|          session_id|          account_id|         merchant_id|    click_timestamp|buy|dt_partition|\n",
      "+--------------------+--------------------+--------------------+-------------------+---+------------+\n",
      "|0c07cf50-ca9e-4e9...|05c4655e-9957-4e9...|a17b106f-1fe3-471...|2019-06-24 14:40:51|  0|  2019-06-24|\n",
      "|0c07cf50-ca9e-4e9...|05c4655e-9957-4e9...|a17b106f-1fe3-471...|2019-06-24 14:43:46|  0|  2019-06-24|\n",
      "+--------------------+--------------------+--------------------+-------------------+---+------------+\n",
      "\n"
     ]
    }
   ],
   "source": [
    "df_merge_1.filter(df_merge_1.session_id == \"0c07cf50-ca9e-4e90-8310-5bd2b9e9b2ec\").show()"
   ]
  },
  {
   "cell_type": "code",
   "execution_count": 47,
   "metadata": {
    "collapsed": true
   },
   "outputs": [
    {
     "data": {
      "text/html": [
       "<div>\n",
       "<style scoped>\n",
       "    .dataframe tbody tr th:only-of-type {\n",
       "        vertical-align: middle;\n",
       "    }\n",
       "\n",
       "    .dataframe tbody tr th {\n",
       "        vertical-align: top;\n",
       "    }\n",
       "\n",
       "    .dataframe thead th {\n",
       "        text-align: right;\n",
       "    }\n",
       "</style>\n",
       "<table border=\"1\" class=\"dataframe\">\n",
       "  <thead>\n",
       "    <tr style=\"text-align: right;\">\n",
       "      <th></th>\n",
       "      <th>session_id</th>\n",
       "      <th>account_id</th>\n",
       "      <th>merchant_id</th>\n",
       "      <th>click_timestamp</th>\n",
       "      <th>buy</th>\n",
       "      <th>dt_partition</th>\n",
       "      <th>old_buy</th>\n",
       "      <th>old_merchant_id</th>\n",
       "      <th>rhat_merchant_id</th>\n",
       "    </tr>\n",
       "  </thead>\n",
       "  <tbody>\n",
       "    <tr>\n",
       "      <td>0</td>\n",
       "      <td>381c7804-12a2-4cff-8aa1-e49c7bb0a442</td>\n",
       "      <td>2c11bfb6-6fe1-426e-af3c-f51f50a36320</td>\n",
       "      <td>92c5c3a6-40be-4a81-8969-3505b7bf16cc</td>\n",
       "      <td>2019-06-01 00:12:44</td>\n",
       "      <td>1</td>\n",
       "      <td>2019-06-01</td>\n",
       "      <td>1</td>\n",
       "      <td>92c5c3a6-40be-4a81-8969-3505b7bf16cc</td>\n",
       "      <td>None</td>\n",
       "    </tr>\n",
       "    <tr>\n",
       "      <td>1</td>\n",
       "      <td>3e50b1d0-9e31-4495-88fa-c685b64f31eb</td>\n",
       "      <td>None</td>\n",
       "      <td>92c5c3a6-40be-4a81-8969-3505b7bf16cc</td>\n",
       "      <td>2019-06-01 00:36:01</td>\n",
       "      <td>1</td>\n",
       "      <td>2019-06-01</td>\n",
       "      <td>1</td>\n",
       "      <td>92c5c3a6-40be-4a81-8969-3505b7bf16cc</td>\n",
       "      <td>None</td>\n",
       "    </tr>\n",
       "    <tr>\n",
       "      <td>2</td>\n",
       "      <td>3e50b1d0-9e31-4495-88fa-c685b64f31eb</td>\n",
       "      <td>None</td>\n",
       "      <td>92c5c3a6-40be-4a81-8969-3505b7bf16cc</td>\n",
       "      <td>2019-06-01 00:38:10</td>\n",
       "      <td>1</td>\n",
       "      <td>2019-06-01</td>\n",
       "      <td>1</td>\n",
       "      <td>92c5c3a6-40be-4a81-8969-3505b7bf16cc</td>\n",
       "      <td>None</td>\n",
       "    </tr>\n",
       "    <tr>\n",
       "      <td>3</td>\n",
       "      <td>3e50b1d0-9e31-4495-88fa-c685b64f31eb</td>\n",
       "      <td>None</td>\n",
       "      <td>92c5c3a6-40be-4a81-8969-3505b7bf16cc</td>\n",
       "      <td>2019-06-01 02:04:43</td>\n",
       "      <td>1</td>\n",
       "      <td>2019-06-01</td>\n",
       "      <td>1</td>\n",
       "      <td>92c5c3a6-40be-4a81-8969-3505b7bf16cc</td>\n",
       "      <td>None</td>\n",
       "    </tr>\n",
       "    <tr>\n",
       "      <td>4</td>\n",
       "      <td>893449ae-f05b-4caf-b42a-4e895aa8e926</td>\n",
       "      <td>None</td>\n",
       "      <td>92c5c3a6-40be-4a81-8969-3505b7bf16cc</td>\n",
       "      <td>2019-06-02 15:05:22</td>\n",
       "      <td>1</td>\n",
       "      <td>2019-06-02</td>\n",
       "      <td>1</td>\n",
       "      <td>92c5c3a6-40be-4a81-8969-3505b7bf16cc</td>\n",
       "      <td>None</td>\n",
       "    </tr>\n",
       "    <tr>\n",
       "      <td>...</td>\n",
       "      <td>...</td>\n",
       "      <td>...</td>\n",
       "      <td>...</td>\n",
       "      <td>...</td>\n",
       "      <td>...</td>\n",
       "      <td>...</td>\n",
       "      <td>...</td>\n",
       "      <td>...</td>\n",
       "      <td>...</td>\n",
       "    </tr>\n",
       "    <tr>\n",
       "      <td>7833</td>\n",
       "      <td>5b45641e-e586-42b6-8d01-01983156d12f</td>\n",
       "      <td>None</td>\n",
       "      <td>a17b106f-1fe3-4714-8a86-aa8e18968503</td>\n",
       "      <td>2019-07-31 20:45:35</td>\n",
       "      <td>1</td>\n",
       "      <td>2019-07-31</td>\n",
       "      <td>1</td>\n",
       "      <td>a17b106f-1fe3-4714-8a86-aa8e18968503</td>\n",
       "      <td>None</td>\n",
       "    </tr>\n",
       "    <tr>\n",
       "      <td>7834</td>\n",
       "      <td>5b45641e-e586-42b6-8d01-01983156d12f</td>\n",
       "      <td>None</td>\n",
       "      <td>a17b106f-1fe3-4714-8a86-aa8e18968503</td>\n",
       "      <td>2019-07-31 20:45:41</td>\n",
       "      <td>1</td>\n",
       "      <td>2019-07-31</td>\n",
       "      <td>1</td>\n",
       "      <td>a17b106f-1fe3-4714-8a86-aa8e18968503</td>\n",
       "      <td>None</td>\n",
       "    </tr>\n",
       "    <tr>\n",
       "      <td>7835</td>\n",
       "      <td>5b45641e-e586-42b6-8d01-01983156d12f</td>\n",
       "      <td>None</td>\n",
       "      <td>a17b106f-1fe3-4714-8a86-aa8e18968503</td>\n",
       "      <td>2019-07-31 20:46:11</td>\n",
       "      <td>1</td>\n",
       "      <td>2019-07-31</td>\n",
       "      <td>1</td>\n",
       "      <td>a17b106f-1fe3-4714-8a86-aa8e18968503</td>\n",
       "      <td>None</td>\n",
       "    </tr>\n",
       "    <tr>\n",
       "      <td>7836</td>\n",
       "      <td>5b45641e-e586-42b6-8d01-01983156d12f</td>\n",
       "      <td>None</td>\n",
       "      <td>a17b106f-1fe3-4714-8a86-aa8e18968503</td>\n",
       "      <td>2019-07-31 20:46:26</td>\n",
       "      <td>1</td>\n",
       "      <td>2019-07-31</td>\n",
       "      <td>1</td>\n",
       "      <td>a17b106f-1fe3-4714-8a86-aa8e18968503</td>\n",
       "      <td>None</td>\n",
       "    </tr>\n",
       "    <tr>\n",
       "      <td>7837</td>\n",
       "      <td>5b45641e-e586-42b6-8d01-01983156d12f</td>\n",
       "      <td>None</td>\n",
       "      <td>a17b106f-1fe3-4714-8a86-aa8e18968503</td>\n",
       "      <td>2019-07-31 20:48:20</td>\n",
       "      <td>1</td>\n",
       "      <td>2019-07-31</td>\n",
       "      <td>1</td>\n",
       "      <td>a17b106f-1fe3-4714-8a86-aa8e18968503</td>\n",
       "      <td>None</td>\n",
       "    </tr>\n",
       "  </tbody>\n",
       "</table>\n",
       "<p>7838 rows × 9 columns</p>\n",
       "</div>"
      ],
      "text/plain": [
       "                                session_id  \\\n",
       "0     381c7804-12a2-4cff-8aa1-e49c7bb0a442   \n",
       "1     3e50b1d0-9e31-4495-88fa-c685b64f31eb   \n",
       "2     3e50b1d0-9e31-4495-88fa-c685b64f31eb   \n",
       "3     3e50b1d0-9e31-4495-88fa-c685b64f31eb   \n",
       "4     893449ae-f05b-4caf-b42a-4e895aa8e926   \n",
       "...                                    ...   \n",
       "7833  5b45641e-e586-42b6-8d01-01983156d12f   \n",
       "7834  5b45641e-e586-42b6-8d01-01983156d12f   \n",
       "7835  5b45641e-e586-42b6-8d01-01983156d12f   \n",
       "7836  5b45641e-e586-42b6-8d01-01983156d12f   \n",
       "7837  5b45641e-e586-42b6-8d01-01983156d12f   \n",
       "\n",
       "                                account_id  \\\n",
       "0     2c11bfb6-6fe1-426e-af3c-f51f50a36320   \n",
       "1                                     None   \n",
       "2                                     None   \n",
       "3                                     None   \n",
       "4                                     None   \n",
       "...                                    ...   \n",
       "7833                                  None   \n",
       "7834                                  None   \n",
       "7835                                  None   \n",
       "7836                                  None   \n",
       "7837                                  None   \n",
       "\n",
       "                               merchant_id     click_timestamp  buy  \\\n",
       "0     92c5c3a6-40be-4a81-8969-3505b7bf16cc 2019-06-01 00:12:44    1   \n",
       "1     92c5c3a6-40be-4a81-8969-3505b7bf16cc 2019-06-01 00:36:01    1   \n",
       "2     92c5c3a6-40be-4a81-8969-3505b7bf16cc 2019-06-01 00:38:10    1   \n",
       "3     92c5c3a6-40be-4a81-8969-3505b7bf16cc 2019-06-01 02:04:43    1   \n",
       "4     92c5c3a6-40be-4a81-8969-3505b7bf16cc 2019-06-02 15:05:22    1   \n",
       "...                                    ...                 ...  ...   \n",
       "7833  a17b106f-1fe3-4714-8a86-aa8e18968503 2019-07-31 20:45:35    1   \n",
       "7834  a17b106f-1fe3-4714-8a86-aa8e18968503 2019-07-31 20:45:41    1   \n",
       "7835  a17b106f-1fe3-4714-8a86-aa8e18968503 2019-07-31 20:46:11    1   \n",
       "7836  a17b106f-1fe3-4714-8a86-aa8e18968503 2019-07-31 20:46:26    1   \n",
       "7837  a17b106f-1fe3-4714-8a86-aa8e18968503 2019-07-31 20:48:20    1   \n",
       "\n",
       "     dt_partition  old_buy                       old_merchant_id  \\\n",
       "0      2019-06-01        1  92c5c3a6-40be-4a81-8969-3505b7bf16cc   \n",
       "1      2019-06-01        1  92c5c3a6-40be-4a81-8969-3505b7bf16cc   \n",
       "2      2019-06-01        1  92c5c3a6-40be-4a81-8969-3505b7bf16cc   \n",
       "3      2019-06-01        1  92c5c3a6-40be-4a81-8969-3505b7bf16cc   \n",
       "4      2019-06-02        1  92c5c3a6-40be-4a81-8969-3505b7bf16cc   \n",
       "...           ...      ...                                   ...   \n",
       "7833   2019-07-31        1  a17b106f-1fe3-4714-8a86-aa8e18968503   \n",
       "7834   2019-07-31        1  a17b106f-1fe3-4714-8a86-aa8e18968503   \n",
       "7835   2019-07-31        1  a17b106f-1fe3-4714-8a86-aa8e18968503   \n",
       "7836   2019-07-31        1  a17b106f-1fe3-4714-8a86-aa8e18968503   \n",
       "7837   2019-07-31        1  a17b106f-1fe3-4714-8a86-aa8e18968503   \n",
       "\n",
       "     rhat_merchant_id  \n",
       "0                None  \n",
       "1                None  \n",
       "2                None  \n",
       "3                None  \n",
       "4                None  \n",
       "...               ...  \n",
       "7833             None  \n",
       "7834             None  \n",
       "7835             None  \n",
       "7836             None  \n",
       "7837             None  \n",
       "\n",
       "[7838 rows x 9 columns]"
      ]
     },
     "execution_count": 47,
     "metadata": {},
     "output_type": "execute_result"
    }
   ],
   "source": [
    "df_merge_1.filter(df_merge_1.rhat_merchant_id.isNull()).toPandas()"
   ]
  },
  {
   "cell_type": "code",
   "execution_count": 38,
   "metadata": {},
   "outputs": [
    {
     "data": {
      "text/plain": [
       "1985"
      ]
     },
     "execution_count": 38,
     "metadata": {},
     "output_type": "execute_result"
    }
   ],
   "source": [
    "df_merge_1.filter(df_merge_1.rhat_merchant_id.isNotNull()).count()"
   ]
  },
  {
   "cell_type": "code",
   "execution_count": 35,
   "metadata": {},
   "outputs": [
    {
     "data": {
      "text/plain": [
       "2000"
      ]
     },
     "execution_count": 35,
     "metadata": {},
     "output_type": "execute_result"
    }
   ],
   "source": [
    "df_merge_1.count()"
   ]
  },
  {
   "cell_type": "code",
   "execution_count": 14,
   "metadata": {},
   "outputs": [
    {
     "ename": "AttributeError",
     "evalue": "'DataFrame' object has no attribute 'old_merchant_id'",
     "output_type": "error",
     "traceback": [
      "\u001b[0;31m---------------------------------------------------------------------------\u001b[0m",
      "\u001b[0;31mAttributeError\u001b[0m                            Traceback (most recent call last)",
      "\u001b[0;32m<ipython-input-14-c75418d454f7>\u001b[0m in \u001b[0;36m<module>\u001b[0;34m\u001b[0m\n\u001b[0;32m----> 1\u001b[0;31m \u001b[0mdf_merge_1\u001b[0m\u001b[0;34m.\u001b[0m\u001b[0mfilter\u001b[0m\u001b[0;34m(\u001b[0m\u001b[0mdf_merge_1\u001b[0m\u001b[0;34m.\u001b[0m\u001b[0mold_merchant_id\u001b[0m\u001b[0;34m.\u001b[0m\u001b[0misNull\u001b[0m\u001b[0;34m(\u001b[0m\u001b[0;34m)\u001b[0m\u001b[0;34m)\u001b[0m\u001b[0;34m.\u001b[0m\u001b[0mcount\u001b[0m\u001b[0;34m(\u001b[0m\u001b[0;34m)\u001b[0m\u001b[0;34m\u001b[0m\u001b[0;34m\u001b[0m\u001b[0m\n\u001b[0m",
      "\u001b[0;32m/opt/spark-2.3.3-bin-hadoop2.7/python/pyspark/sql/dataframe.py\u001b[0m in \u001b[0;36m__getattr__\u001b[0;34m(self, name)\u001b[0m\n\u001b[1;32m   1180\u001b[0m         \u001b[0;32mif\u001b[0m \u001b[0mname\u001b[0m \u001b[0;32mnot\u001b[0m \u001b[0;32min\u001b[0m \u001b[0mself\u001b[0m\u001b[0;34m.\u001b[0m\u001b[0mcolumns\u001b[0m\u001b[0;34m:\u001b[0m\u001b[0;34m\u001b[0m\u001b[0;34m\u001b[0m\u001b[0m\n\u001b[1;32m   1181\u001b[0m             raise AttributeError(\n\u001b[0;32m-> 1182\u001b[0;31m                 \"'%s' object has no attribute '%s'\" % (self.__class__.__name__, name))\n\u001b[0m\u001b[1;32m   1183\u001b[0m         \u001b[0mjc\u001b[0m \u001b[0;34m=\u001b[0m \u001b[0mself\u001b[0m\u001b[0;34m.\u001b[0m\u001b[0m_jdf\u001b[0m\u001b[0;34m.\u001b[0m\u001b[0mapply\u001b[0m\u001b[0;34m(\u001b[0m\u001b[0mname\u001b[0m\u001b[0;34m)\u001b[0m\u001b[0;34m\u001b[0m\u001b[0;34m\u001b[0m\u001b[0m\n\u001b[1;32m   1184\u001b[0m         \u001b[0;32mreturn\u001b[0m \u001b[0mColumn\u001b[0m\u001b[0;34m(\u001b[0m\u001b[0mjc\u001b[0m\u001b[0;34m)\u001b[0m\u001b[0;34m\u001b[0m\u001b[0;34m\u001b[0m\u001b[0m\n",
      "\u001b[0;31mAttributeError\u001b[0m: 'DataFrame' object has no attribute 'old_merchant_id'"
     ]
    }
   ],
   "source": [
    "df_merge_1.filter(df_merge_1.old_merchant_id.isNull()).count()"
   ]
  },
  {
   "cell_type": "code",
   "execution_count": 15,
   "metadata": {},
   "outputs": [
    {
     "data": {
      "text/plain": [
       "1.0"
      ]
     },
     "execution_count": 15,
     "metadata": {},
     "output_type": "execute_result"
    }
   ],
   "source": [
    "df_merge_1.filter(df_merge_1.buy == 1).count()/df_merge_1.count()"
   ]
  },
  {
   "cell_type": "code",
   "execution_count": 25,
   "metadata": {},
   "outputs": [
    {
     "name": "stdout",
     "output_type": "stream",
     "text": [
      "+--------------------+--------------------+--------------------+-------------------+---+------------+-------+--------------------+\n",
      "|          session_id|          account_id|         merchant_id|    click_timestamp|buy|dt_partition|old_buy|     old_merchant_id|\n",
      "+--------------------+--------------------+--------------------+-------------------+---+------------+-------+--------------------+\n",
      "|6df9ebc5-64c8-47b...|e3ff3dc9-d5c0-4f7...|92c5c3a6-40be-4a8...|2019-06-01 00:03:44|  1|  2019-06-01|      1|92c5c3a6-40be-4a8...|\n",
      "|381c7804-12a2-4cf...|2c11bfb6-6fe1-426...|92c5c3a6-40be-4a8...|2019-06-01 00:12:44|  1|  2019-06-01|      1|92c5c3a6-40be-4a8...|\n",
      "|3e50b1d0-9e31-449...|                null|92c5c3a6-40be-4a8...|2019-06-01 00:36:01|  1|  2019-06-01|      1|92c5c3a6-40be-4a8...|\n",
      "|3e50b1d0-9e31-449...|                null|92c5c3a6-40be-4a8...|2019-06-01 00:38:10|  1|  2019-06-01|      1|92c5c3a6-40be-4a8...|\n",
      "|1f0206f0-97f4-457...|d844438e-8c06-46e...|92c5c3a6-40be-4a8...|2019-06-01 00:40:35|  1|  2019-06-01|      1|92c5c3a6-40be-4a8...|\n",
      "|1f0206f0-97f4-457...|d844438e-8c06-46e...|92c5c3a6-40be-4a8...|2019-06-01 00:40:35|  1|  2019-06-01|      1|92c5c3a6-40be-4a8...|\n",
      "|1f0206f0-97f4-457...|d844438e-8c06-46e...|92c5c3a6-40be-4a8...|2019-06-01 00:40:35|  1|  2019-06-01|      1|92c5c3a6-40be-4a8...|\n",
      "|1f0206f0-97f4-457...|d844438e-8c06-46e...|92c5c3a6-40be-4a8...|2019-06-01 00:41:47|  1|  2019-06-01|      1|92c5c3a6-40be-4a8...|\n",
      "|1f0206f0-97f4-457...|d844438e-8c06-46e...|92c5c3a6-40be-4a8...|2019-06-01 00:48:54|  1|  2019-06-01|      1|92c5c3a6-40be-4a8...|\n",
      "|be7318ae-2c5b-443...|0778450e-76ca-4c1...|92c5c3a6-40be-4a8...|2019-06-01 00:49:58|  1|  2019-06-01|      1|92c5c3a6-40be-4a8...|\n",
      "+--------------------+--------------------+--------------------+-------------------+---+------------+-------+--------------------+\n",
      "only showing top 10 rows\n",
      "\n"
     ]
    }
   ],
   "source": [
    "df_merge_2 = spark.read.parquet('../output/ifood/dataset_4/info_session/merged/MergeIteractionDatasetTask_output_evaluatio_0_2000_6c557f7a56/')\\\n",
    "                .sort('click_timestamp')#\\\n",
    "                #.limit(2*batch)\n",
    "df_merge_2.show(10)"
   ]
  },
  {
   "cell_type": "code",
   "execution_count": 26,
   "metadata": {},
   "outputs": [
    {
     "data": {
      "text/plain": [
       "10176"
      ]
     },
     "execution_count": 26,
     "metadata": {},
     "output_type": "execute_result"
    }
   ],
   "source": [
    "df_merge_2.count()"
   ]
  },
  {
   "cell_type": "code",
   "execution_count": 12,
   "metadata": {},
   "outputs": [
    {
     "data": {
      "text/plain": [
       "0.5035"
      ]
     },
     "execution_count": 12,
     "metadata": {},
     "output_type": "execute_result"
    }
   ],
   "source": [
    "df_merge_2.filter(df_merge_2.buy == 1).count()/df_merge_2.count()"
   ]
  },
  {
   "cell_type": "code",
   "execution_count": 25,
   "metadata": {},
   "outputs": [
    {
     "data": {
      "text/plain": [
       "706"
      ]
     },
     "execution_count": 25,
     "metadata": {},
     "output_type": "execute_result"
    }
   ],
   "source": [
    "df_merge_2.filter(df_merge_2.buy == 0).count()"
   ]
  },
  {
   "cell_type": "code",
   "execution_count": 29,
   "metadata": {
    "scrolled": true
   },
   "outputs": [
    {
     "name": "stdout",
     "output_type": "stream",
     "text": [
      "+--------------------+--------------------+--------------------+-------------------+---+------------+\n",
      "|          session_id|          account_id|         merchant_id|    click_timestamp|buy|dt_partition|\n",
      "+--------------------+--------------------+--------------------+-------------------+---+------------+\n",
      "|6df9ebc5-64c8-47b...|e3ff3dc9-d5c0-4f7...|92c5c3a6-40be-4a8...|2019-06-01 00:03:44|  1|  2019-06-01|\n",
      "|381c7804-12a2-4cf...|2c11bfb6-6fe1-426...|92c5c3a6-40be-4a8...|2019-06-01 00:12:44|  1|  2019-06-01|\n",
      "|3e50b1d0-9e31-449...|                null|92c5c3a6-40be-4a8...|2019-06-01 00:36:01|  1|  2019-06-01|\n",
      "|3e50b1d0-9e31-449...|                null|92c5c3a6-40be-4a8...|2019-06-01 00:38:10|  1|  2019-06-01|\n",
      "|1f0206f0-97f4-457...|d844438e-8c06-46e...|92c5c3a6-40be-4a8...|2019-06-01 00:40:35|  1|  2019-06-01|\n",
      "|1f0206f0-97f4-457...|d844438e-8c06-46e...|92c5c3a6-40be-4a8...|2019-06-01 00:40:35|  1|  2019-06-01|\n",
      "|1f0206f0-97f4-457...|d844438e-8c06-46e...|92c5c3a6-40be-4a8...|2019-06-01 00:40:35|  1|  2019-06-01|\n",
      "|1f0206f0-97f4-457...|d844438e-8c06-46e...|92c5c3a6-40be-4a8...|2019-06-01 00:41:47|  1|  2019-06-01|\n",
      "|1f0206f0-97f4-457...|d844438e-8c06-46e...|92c5c3a6-40be-4a8...|2019-06-01 00:48:54|  1|  2019-06-01|\n",
      "|be7318ae-2c5b-443...|0778450e-76ca-4c1...|92c5c3a6-40be-4a8...|2019-06-01 00:49:58|  1|  2019-06-01|\n",
      "+--------------------+--------------------+--------------------+-------------------+---+------------+\n",
      "only showing top 10 rows\n",
      "\n"
     ]
    }
   ],
   "source": [
    "df_merge_3 = spark.read.parquet('../output/ifood/dataset_1/info_session/merged/MergeIteractionDatasetTask_output_evaluatio_5_3000_661aed9819/')\\\n",
    "                .sort('click_timestamp')\\\n",
    "                .limit(3*batch)\n",
    "df_merge_3.show(10)"
   ]
  },
  {
   "cell_type": "code",
   "execution_count": 31,
   "metadata": {},
   "outputs": [
    {
     "data": {
      "text/plain": [
       "0.5576666666666666"
      ]
     },
     "execution_count": 31,
     "metadata": {},
     "output_type": "execute_result"
    }
   ],
   "source": [
    "df_merge_3.filter(df_merge_3.buy == 1).count()/df_merge_3.count()"
   ]
  },
  {
   "cell_type": "code",
   "execution_count": null,
   "metadata": {},
   "outputs": [],
   "source": []
  },
  {
   "cell_type": "code",
   "execution_count": null,
   "metadata": {},
   "outputs": [],
   "source": []
  },
  {
   "cell_type": "code",
   "execution_count": null,
   "metadata": {},
   "outputs": [],
   "source": []
  },
  {
   "cell_type": "code",
   "execution_count": 115,
   "metadata": {},
   "outputs": [
    {
     "ename": "SyntaxError",
     "evalue": "invalid syntax (<ipython-input-115-726b111c9009>, line 1)",
     "output_type": "error",
     "traceback": [
      "\u001b[0;36m  File \u001b[0;32m\"<ipython-input-115-726b111c9009>\"\u001b[0;36m, line \u001b[0;32m1\u001b[0m\n\u001b[0;31m    df_info_session.unionAll(df_info_session2).except(df_info_session.intersect(df_info_session2)).count()\u001b[0m\n\u001b[0m                                                    ^\u001b[0m\n\u001b[0;31mSyntaxError\u001b[0m\u001b[0;31m:\u001b[0m invalid syntax\n"
     ]
    }
   ],
   "source": [
    "df_info_session.unionAll(df_info_session2).except(df_info_session.intersect(df_info_session2)).count()\n",
    "\n"
   ]
  },
  {
   "cell_type": "code",
   "execution_count": 5,
   "metadata": {},
   "outputs": [
    {
     "data": {
      "text/plain": [
       "7255085"
      ]
     },
     "execution_count": 5,
     "metadata": {},
     "output_type": "execute_result"
    }
   ],
   "source": [
    "df_info_session.count()"
   ]
  },
  {
   "cell_type": "code",
   "execution_count": 36,
   "metadata": {},
   "outputs": [
    {
     "name": "stdout",
     "output_type": "stream",
     "text": [
      "+------------+--------------------+\n",
      "|merchant_idx|         merchant_id|\n",
      "+------------+--------------------+\n",
      "|           0|0050c482-ca8e-4d3...|\n",
      "|           1|025aa016-d05f-443...|\n",
      "+------------+--------------------+\n",
      "only showing top 2 rows\n",
      "\n"
     ]
    }
   ],
   "source": [
    "df_mearchant = spark.read.csv('../output/ifood/dataset/merchants_for_session_train_0.10_k=5_s=-1.csv',header=True, inferSchema=True)\n",
    "df_mearchant = df_mearchant.select('merchant_idx', 'merchant_id')\n",
    "df_mearchant.show(2)"
   ]
  },
  {
   "cell_type": "code",
   "execution_count": null,
   "metadata": {},
   "outputs": [],
   "source": []
  },
  {
   "cell_type": "code",
   "execution_count": null,
   "metadata": {},
   "outputs": [],
   "source": []
  },
  {
   "cell_type": "code",
   "execution_count": 6,
   "metadata": {},
   "outputs": [
    {
     "name": "stdout",
     "output_type": "stream",
     "text": [
      "+--------------------+--------------------+-------------------+------------+\n",
      "|          session_id|          account_id|    click_timestamp|merchant_idx|\n",
      "+--------------------+--------------------+-------------------+------------+\n",
      "|3295faa0-86f2-43c...|1eec4b73-01c5-4e3...|2019-07-24 11:27:58|          11|\n",
      "|d77c2bdc-693f-411...|2405efc4-bcca-44c...|2019-07-24 11:27:59|         230|\n",
      "+--------------------+--------------------+-------------------+------------+\n",
      "only showing top 2 rows\n",
      "\n"
     ]
    }
   ],
   "source": [
    "df_order = spark.read.parquet('../output/ifood/dataset/indexed_orders_test_data_0.10_k=5_s=-1.parquet').sort('click_timestamp')\n",
    "df_order.select('session_id', 'account_id', 'click_timestamp', 'merchant_idx').show(2)"
   ]
  },
  {
   "cell_type": "code",
   "execution_count": 12,
   "metadata": {},
   "outputs": [
    {
     "name": "stdout",
     "output_type": "stream",
     "text": [
      "+--------------------+--------------------+-------------------+-------------------+------------+\n",
      "|          session_id|          account_id|    click_timestamp|      new_timestamp|merchant_idx|\n",
      "+--------------------+--------------------+-------------------+-------------------+------------+\n",
      "|3295faa0-86f2-43c...|1eec4b73-01c5-4e3...|2019-07-24 11:27:58|2019-07-24 14:27:58|          11|\n",
      "|d77c2bdc-693f-411...|2405efc4-bcca-44c...|2019-07-24 11:27:59|2019-07-24 14:27:59|         230|\n",
      "+--------------------+--------------------+-------------------+-------------------+------------+\n",
      "only showing top 2 rows\n",
      "\n"
     ]
    }
   ],
   "source": [
    "# Create new column in your dataset\n",
    "df_order = df_order.withColumn(\"new_timestamp\", F.to_utc_timestamp(df_order.click_timestamp, str(local_tz)))\n",
    "df_order.select('session_id', 'account_id', 'click_timestamp', 'new_timestamp', 'merchant_idx').sort('click_timestamp').show(2)"
   ]
  },
  {
   "cell_type": "code",
   "execution_count": 14,
   "metadata": {},
   "outputs": [
    {
     "data": {
      "text/html": [
       "<div>\n",
       "<style scoped>\n",
       "    .dataframe tbody tr th:only-of-type {\n",
       "        vertical-align: middle;\n",
       "    }\n",
       "\n",
       "    .dataframe tbody tr th {\n",
       "        vertical-align: top;\n",
       "    }\n",
       "\n",
       "    .dataframe thead th {\n",
       "        text-align: right;\n",
       "    }\n",
       "</style>\n",
       "<table border=\"1\" class=\"dataframe\">\n",
       "  <thead>\n",
       "    <tr style=\"text-align: right;\">\n",
       "      <th></th>\n",
       "      <th>session_id</th>\n",
       "      <th>account_id</th>\n",
       "      <th>click_timestamp</th>\n",
       "      <th>merchant_idx</th>\n",
       "    </tr>\n",
       "  </thead>\n",
       "  <tbody>\n",
       "    <tr>\n",
       "      <td>6217</td>\n",
       "      <td>3295faa0-86f2-43c8-a64b-f0a658f7402f</td>\n",
       "      <td>1eec4b73-01c5-4e3d-8259-caa741c1ebe1</td>\n",
       "      <td>2019-07-24 14:27:58</td>\n",
       "      <td>11</td>\n",
       "    </tr>\n",
       "    <tr>\n",
       "      <td>25316</td>\n",
       "      <td>96213ce0-0f2a-46f5-802a-9989a0fe4cd2</td>\n",
       "      <td>54c1dc6f-0caf-4aa7-8204-baf3cc352cef</td>\n",
       "      <td>2019-07-24 14:27:59</td>\n",
       "      <td>1170</td>\n",
       "    </tr>\n",
       "  </tbody>\n",
       "</table>\n",
       "</div>"
      ],
      "text/plain": [
       "                                 session_id  \\\n",
       "6217   3295faa0-86f2-43c8-a64b-f0a658f7402f   \n",
       "25316  96213ce0-0f2a-46f5-802a-9989a0fe4cd2   \n",
       "\n",
       "                                 account_id     click_timestamp  merchant_idx  \n",
       "6217   1eec4b73-01c5-4e3d-8259-caa741c1ebe1 2019-07-24 14:27:58            11  \n",
       "25316  54c1dc6f-0caf-4aa7-8204-baf3cc352cef 2019-07-24 14:27:59          1170  "
      ]
     },
     "execution_count": 14,
     "metadata": {},
     "output_type": "execute_result"
    }
   ],
   "source": [
    "df_order_pd = pd.read_parquet('../output/ifood/dataset/indexed_orders_test_data_0.10_k=5_s=-1.parquet').sort_values('click_timestamp')\n",
    "df_order_pd[['session_id', 'account_id', 'click_timestamp', 'merchant_idx']].head(2)"
   ]
  },
  {
   "cell_type": "code",
   "execution_count": 8,
   "metadata": {},
   "outputs": [],
   "source": []
  },
  {
   "cell_type": "code",
   "execution_count": 92,
   "metadata": {
    "scrolled": true
   },
   "outputs": [
    {
     "name": "stdout",
     "output_type": "stream",
     "text": [
      "+--------------------+--------------------+-------------------+--------------------+-----------------+---+\n",
      "|          session_id|          account_id|    click_timestamp|    rhat_merchant_id|rhat_merchant_idx|buy|\n",
      "+--------------------+--------------------+-------------------+--------------------+-----------------+---+\n",
      "|3295faa0-86f2-43c...|1eec4b73-01c5-4e3...|2019-07-24 11:27:58|15bc9da2-0f8c-4b2...|              826|  1|\n",
      "|96213ce0-0f2a-46f...|54c1dc6f-0caf-4aa...|2019-07-24 11:27:59|2f905ea5-364f-49a...|             1170|  1|\n",
      "+--------------------+--------------------+-------------------+--------------------+-----------------+---+\n",
      "only showing top 2 rows\n",
      "\n"
     ]
    }
   ],
   "source": [
    "df_eval = spark.read.csv('../output/evaluation/EvaluateAutoEncoderIfoodModel/results/VariationalAutoEncoderTraining_selu____500_fc62ac744a_6534ac1232/orders_with_metrics.csv',header=True, inferSchema=True).sort('click_timestamp')\n",
    "df_eval = df_eval.withColumn(\"click_timestamp\", F.from_utc_timestamp(df_eval.click_timestamp, local_tz))\n",
    "df_eval = df_eval.join(df_mearchant, df_eval.rhat_merchant_idx == df_mearchant.merchant_idx)\n",
    "df_eval = df_eval.withColumnRenamed(\"merchant_id\", \"rhat_merchant_id\")\n",
    "df_eval = df_eval.withColumn(\"buy\", lit(1))\n",
    "df_eval.select('session_id', 'account_id', 'click_timestamp', 'rhat_merchant_id', 'rhat_merchant_idx', 'buy').show(2)"
   ]
  },
  {
   "cell_type": "code",
   "execution_count": 93,
   "metadata": {},
   "outputs": [
    {
     "data": {
      "text/plain": [
       "34940"
      ]
     },
     "execution_count": 93,
     "metadata": {},
     "output_type": "execute_result"
    }
   ],
   "source": [
    "df_eval.count()"
   ]
  },
  {
   "cell_type": "code",
   "execution_count": 95,
   "metadata": {
    "scrolled": true
   },
   "outputs": [
    {
     "name": "stdout",
     "output_type": "stream",
     "text": [
      "+--------------------+--------------------+-------------------+---+--------------------+------------+----------------+\n",
      "|          session_id|          account_id|    click_timestamp|buy|         merchant_id|dt_partition|rhat_merchant_id|\n",
      "+--------------------+--------------------+-------------------+---+--------------------+------------+----------------+\n",
      "|0006707d-028e-450...|4d44c19a-0173-4d2...|2019-06-23 08:50:54|  0|47e4c365-5047-49a...|  2019-06-23|            null|\n",
      "|0006ab6a-22f6-48a...|8be8733e-6171-4be...|2019-06-18 11:50:56|  0|3cc76a2d-794a-451...|  2019-06-18|            null|\n",
      "+--------------------+--------------------+-------------------+---+--------------------+------------+----------------+\n",
      "only showing top 2 rows\n",
      "\n"
     ]
    }
   ],
   "source": [
    "joined = df_info_session.join(\n",
    "    df_eval.select('session_id', 'account_id', 'click_timestamp', 'rhat_merchant_id', 'buy'), \n",
    "    ['session_id', 'account_id', 'click_timestamp', 'buy'], how='left').cache()\n",
    "\n",
    "joined.show(2)"
   ]
  },
  {
   "cell_type": "code",
   "execution_count": 96,
   "metadata": {},
   "outputs": [
    {
     "data": {
      "text/plain": [
       "57615"
      ]
     },
     "execution_count": 96,
     "metadata": {},
     "output_type": "execute_result"
    }
   ],
   "source": [
    "joined.filter(joined.rhat_merchant_id.isNotNull()).count()"
   ]
  },
  {
   "cell_type": "code",
   "execution_count": 70,
   "metadata": {},
   "outputs": [
    {
     "name": "stdout",
     "output_type": "stream",
     "text": [
      "root\n",
      " |-- session_id: string (nullable = true)\n",
      " |-- account_id: string (nullable = true)\n",
      " |-- click_timestamp: timestamp (nullable = true)\n",
      " |-- merchant_id: string (nullable = true)\n",
      " |-- buy: integer (nullable = true)\n",
      " |-- dt_partition: string (nullable = true)\n",
      " |-- rhat_merchant_id: string (nullable = true)\n",
      "\n"
     ]
    }
   ],
   "source": [
    "joined.printSchema()"
   ]
  },
  {
   "cell_type": "code",
   "execution_count": 97,
   "metadata": {},
   "outputs": [
    {
     "data": {
      "text/html": [
       "<div>\n",
       "<style scoped>\n",
       "    .dataframe tbody tr th:only-of-type {\n",
       "        vertical-align: middle;\n",
       "    }\n",
       "\n",
       "    .dataframe tbody tr th {\n",
       "        vertical-align: top;\n",
       "    }\n",
       "\n",
       "    .dataframe thead th {\n",
       "        text-align: right;\n",
       "    }\n",
       "</style>\n",
       "<table border=\"1\" class=\"dataframe\">\n",
       "  <thead>\n",
       "    <tr style=\"text-align: right;\">\n",
       "      <th></th>\n",
       "      <th>session_id</th>\n",
       "      <th>account_id</th>\n",
       "      <th>click_timestamp</th>\n",
       "      <th>buy</th>\n",
       "      <th>merchant_id</th>\n",
       "      <th>dt_partition</th>\n",
       "      <th>rhat_merchant_id</th>\n",
       "      <th>buy_2</th>\n",
       "      <th>merchant_id_2</th>\n",
       "    </tr>\n",
       "  </thead>\n",
       "  <tbody>\n",
       "    <tr>\n",
       "      <td>0</td>\n",
       "      <td>0006707d-028e-450f-8b5f-82ca6afb6004</td>\n",
       "      <td>4d44c19a-0173-4d29-b0b1-a3ab3f18dd61</td>\n",
       "      <td>2019-06-23 08:50:54</td>\n",
       "      <td>0</td>\n",
       "      <td>47e4c365-5047-49a4-8f7c-37ffa2f15579</td>\n",
       "      <td>2019-06-23</td>\n",
       "      <td>None</td>\n",
       "      <td>0</td>\n",
       "      <td>47e4c365-5047-49a4-8f7c-37ffa2f15579</td>\n",
       "    </tr>\n",
       "    <tr>\n",
       "      <td>1</td>\n",
       "      <td>0006ab6a-22f6-48ab-9fd2-4b4f12eefd61</td>\n",
       "      <td>8be8733e-6171-4be5-9645-c29bb945fd13</td>\n",
       "      <td>2019-06-18 11:50:56</td>\n",
       "      <td>0</td>\n",
       "      <td>3cc76a2d-794a-4517-8ade-23ec49e6a381</td>\n",
       "      <td>2019-06-18</td>\n",
       "      <td>None</td>\n",
       "      <td>0</td>\n",
       "      <td>3cc76a2d-794a-4517-8ade-23ec49e6a381</td>\n",
       "    </tr>\n",
       "    <tr>\n",
       "      <td>2</td>\n",
       "      <td>0009f616-ff45-41be-9d3c-99ee55744b1a</td>\n",
       "      <td>30266171-963e-44a1-8861-3e281eb54e8e</td>\n",
       "      <td>2019-07-17 12:33:14</td>\n",
       "      <td>0</td>\n",
       "      <td>25036a46-d535-427f-b09a-c254e58429eb</td>\n",
       "      <td>2019-07-17</td>\n",
       "      <td>None</td>\n",
       "      <td>0</td>\n",
       "      <td>25036a46-d535-427f-b09a-c254e58429eb</td>\n",
       "    </tr>\n",
       "    <tr>\n",
       "      <td>3</td>\n",
       "      <td>0009f616-ff45-41be-9d3c-99ee55744b1a</td>\n",
       "      <td>30266171-963e-44a1-8861-3e281eb54e8e</td>\n",
       "      <td>2019-07-17 12:33:14</td>\n",
       "      <td>0</td>\n",
       "      <td>25036a46-d535-427f-b09a-c254e58429eb</td>\n",
       "      <td>2019-07-17</td>\n",
       "      <td>None</td>\n",
       "      <td>0</td>\n",
       "      <td>25036a46-d535-427f-b09a-c254e58429eb</td>\n",
       "    </tr>\n",
       "    <tr>\n",
       "      <td>4</td>\n",
       "      <td>000dcacb-bec0-4a95-8fda-777b855afb39</td>\n",
       "      <td>ad8fea0c-1a6a-4d78-a8da-a3f9807abefc</td>\n",
       "      <td>2019-06-01 01:02:47</td>\n",
       "      <td>0</td>\n",
       "      <td>d5812250-d991-44a0-a05d-98ae14b0be95</td>\n",
       "      <td>2019-06-01</td>\n",
       "      <td>None</td>\n",
       "      <td>0</td>\n",
       "      <td>d5812250-d991-44a0-a05d-98ae14b0be95</td>\n",
       "    </tr>\n",
       "  </tbody>\n",
       "</table>\n",
       "</div>"
      ],
      "text/plain": [
       "                             session_id                            account_id  \\\n",
       "0  0006707d-028e-450f-8b5f-82ca6afb6004  4d44c19a-0173-4d29-b0b1-a3ab3f18dd61   \n",
       "1  0006ab6a-22f6-48ab-9fd2-4b4f12eefd61  8be8733e-6171-4be5-9645-c29bb945fd13   \n",
       "2  0009f616-ff45-41be-9d3c-99ee55744b1a  30266171-963e-44a1-8861-3e281eb54e8e   \n",
       "3  0009f616-ff45-41be-9d3c-99ee55744b1a  30266171-963e-44a1-8861-3e281eb54e8e   \n",
       "4  000dcacb-bec0-4a95-8fda-777b855afb39  ad8fea0c-1a6a-4d78-a8da-a3f9807abefc   \n",
       "\n",
       "      click_timestamp  buy                           merchant_id dt_partition  \\\n",
       "0 2019-06-23 08:50:54    0  47e4c365-5047-49a4-8f7c-37ffa2f15579   2019-06-23   \n",
       "1 2019-06-18 11:50:56    0  3cc76a2d-794a-4517-8ade-23ec49e6a381   2019-06-18   \n",
       "2 2019-07-17 12:33:14    0  25036a46-d535-427f-b09a-c254e58429eb   2019-07-17   \n",
       "3 2019-07-17 12:33:14    0  25036a46-d535-427f-b09a-c254e58429eb   2019-07-17   \n",
       "4 2019-06-01 01:02:47    0  d5812250-d991-44a0-a05d-98ae14b0be95   2019-06-01   \n",
       "\n",
       "  rhat_merchant_id  buy_2                         merchant_id_2  \n",
       "0             None      0  47e4c365-5047-49a4-8f7c-37ffa2f15579  \n",
       "1             None      0  3cc76a2d-794a-4517-8ade-23ec49e6a381  \n",
       "2             None      0  25036a46-d535-427f-b09a-c254e58429eb  \n",
       "3             None      0  25036a46-d535-427f-b09a-c254e58429eb  \n",
       "4             None      0  d5812250-d991-44a0-a05d-98ae14b0be95  "
      ]
     },
     "execution_count": 97,
     "metadata": {},
     "output_type": "execute_result"
    }
   ],
   "source": [
    "from pyspark.sql.functions import when, lit\n",
    "from pyspark.sql.types import IntegerType\n",
    "\n",
    "df = joined\n",
    "#df = df.withColumn('acc', joined.merchant_id == joined.rhat_merchant_id).cache()\n",
    "df = df.withColumn('buy_2', when(df.rhat_merchant_id.isNull(), df.buy).otherwise((joined.merchant_id == joined.rhat_merchant_id).cast(IntegerType())))\n",
    "df = df.withColumn('merchant_id_2', when(df.rhat_merchant_id.isNull(), df.merchant_id).otherwise(df.rhat_merchant_id))\n",
    "\n",
    "df = df.limit(5000).toPandas()\n",
    "df.head()#.show(10)"
   ]
  },
  {
   "cell_type": "code",
   "execution_count": 106,
   "metadata": {},
   "outputs": [
    {
     "data": {
      "text/html": [
       "<div>\n",
       "<style scoped>\n",
       "    .dataframe tbody tr th:only-of-type {\n",
       "        vertical-align: middle;\n",
       "    }\n",
       "\n",
       "    .dataframe tbody tr th {\n",
       "        vertical-align: top;\n",
       "    }\n",
       "\n",
       "    .dataframe thead th {\n",
       "        text-align: right;\n",
       "    }\n",
       "</style>\n",
       "<table border=\"1\" class=\"dataframe\">\n",
       "  <thead>\n",
       "    <tr style=\"text-align: right;\">\n",
       "      <th></th>\n",
       "      <th>session_id</th>\n",
       "      <th>account_id</th>\n",
       "      <th>click_timestamp</th>\n",
       "      <th>buy</th>\n",
       "      <th>merchant_id</th>\n",
       "      <th>dt_partition</th>\n",
       "      <th>rhat_merchant_id</th>\n",
       "      <th>buy_2</th>\n",
       "      <th>merchant_id_2</th>\n",
       "    </tr>\n",
       "  </thead>\n",
       "  <tbody>\n",
       "    <tr>\n",
       "      <td>364</td>\n",
       "      <td>029f862e-9a7e-4d97-87d2-006c40501891</td>\n",
       "      <td>2d6f93b9-10f0-4e7e-a476-75ab3e33b384</td>\n",
       "      <td>2019-07-27 15:23:01</td>\n",
       "      <td>1</td>\n",
       "      <td>bdc1a67c-f0be-40a5-8594-242c419e74ce</td>\n",
       "      <td>2019-07-27</td>\n",
       "      <td>bdc1a67c-f0be-40a5-8594-242c419e74ce</td>\n",
       "      <td>1</td>\n",
       "      <td>bdc1a67c-f0be-40a5-8594-242c419e74ce</td>\n",
       "    </tr>\n",
       "    <tr>\n",
       "      <td>1339</td>\n",
       "      <td>09b8f149-8923-4a7d-82fa-7e863f32f8bd</td>\n",
       "      <td>56308fe2-fe1d-4bb3-89f4-bc263a18687a</td>\n",
       "      <td>2019-07-25 14:05:34</td>\n",
       "      <td>1</td>\n",
       "      <td>bf97a8ce-be10-4ced-8de9-0ffefe3b688e</td>\n",
       "      <td>2019-07-25</td>\n",
       "      <td>bf97a8ce-be10-4ced-8de9-0ffefe3b688e</td>\n",
       "      <td>1</td>\n",
       "      <td>bf97a8ce-be10-4ced-8de9-0ffefe3b688e</td>\n",
       "    </tr>\n",
       "    <tr>\n",
       "      <td>2939</td>\n",
       "      <td>153c373b-e8d2-43a5-bcaf-fad45d94d067</td>\n",
       "      <td>6122925e-916a-4c93-b46b-242fcb3e6437</td>\n",
       "      <td>2019-07-30 20:32:48</td>\n",
       "      <td>1</td>\n",
       "      <td>e99d0cbe-c311-49fa-84d6-9e8406ef184a</td>\n",
       "      <td>2019-07-30</td>\n",
       "      <td>e99d0cbe-c311-49fa-84d6-9e8406ef184a</td>\n",
       "      <td>1</td>\n",
       "      <td>e99d0cbe-c311-49fa-84d6-9e8406ef184a</td>\n",
       "    </tr>\n",
       "    <tr>\n",
       "      <td>3465</td>\n",
       "      <td>190e754b-00be-4f0a-9549-b94d0e383a9f</td>\n",
       "      <td>c6c16677-c9b9-422a-ac26-a436e48fb7a5</td>\n",
       "      <td>2019-07-31 12:45:48</td>\n",
       "      <td>1</td>\n",
       "      <td>4fb45c04-0ffa-4a2a-9f4f-9eda441b0992</td>\n",
       "      <td>2019-07-31</td>\n",
       "      <td>4fb45c04-0ffa-4a2a-9f4f-9eda441b0992</td>\n",
       "      <td>1</td>\n",
       "      <td>4fb45c04-0ffa-4a2a-9f4f-9eda441b0992</td>\n",
       "    </tr>\n",
       "  </tbody>\n",
       "</table>\n",
       "</div>"
      ],
      "text/plain": [
       "                                session_id  \\\n",
       "364   029f862e-9a7e-4d97-87d2-006c40501891   \n",
       "1339  09b8f149-8923-4a7d-82fa-7e863f32f8bd   \n",
       "2939  153c373b-e8d2-43a5-bcaf-fad45d94d067   \n",
       "3465  190e754b-00be-4f0a-9549-b94d0e383a9f   \n",
       "\n",
       "                                account_id     click_timestamp  buy  \\\n",
       "364   2d6f93b9-10f0-4e7e-a476-75ab3e33b384 2019-07-27 15:23:01    1   \n",
       "1339  56308fe2-fe1d-4bb3-89f4-bc263a18687a 2019-07-25 14:05:34    1   \n",
       "2939  6122925e-916a-4c93-b46b-242fcb3e6437 2019-07-30 20:32:48    1   \n",
       "3465  c6c16677-c9b9-422a-ac26-a436e48fb7a5 2019-07-31 12:45:48    1   \n",
       "\n",
       "                               merchant_id dt_partition  \\\n",
       "364   bdc1a67c-f0be-40a5-8594-242c419e74ce   2019-07-27   \n",
       "1339  bf97a8ce-be10-4ced-8de9-0ffefe3b688e   2019-07-25   \n",
       "2939  e99d0cbe-c311-49fa-84d6-9e8406ef184a   2019-07-30   \n",
       "3465  4fb45c04-0ffa-4a2a-9f4f-9eda441b0992   2019-07-31   \n",
       "\n",
       "                          rhat_merchant_id  buy_2  \\\n",
       "364   bdc1a67c-f0be-40a5-8594-242c419e74ce      1   \n",
       "1339  bf97a8ce-be10-4ced-8de9-0ffefe3b688e      1   \n",
       "2939  e99d0cbe-c311-49fa-84d6-9e8406ef184a      1   \n",
       "3465  4fb45c04-0ffa-4a2a-9f4f-9eda441b0992      1   \n",
       "\n",
       "                             merchant_id_2  \n",
       "364   bdc1a67c-f0be-40a5-8594-242c419e74ce  \n",
       "1339  bf97a8ce-be10-4ced-8de9-0ffefe3b688e  \n",
       "2939  e99d0cbe-c311-49fa-84d6-9e8406ef184a  \n",
       "3465  4fb45c04-0ffa-4a2a-9f4f-9eda441b0992  "
      ]
     },
     "execution_count": 106,
     "metadata": {},
     "output_type": "execute_result"
    }
   ],
   "source": [
    "df[(df.buy_2 == 1) & (df.buy == 1) & (~df.rhat_merchant_id.isna())]"
   ]
  },
  {
   "cell_type": "code",
   "execution_count": null,
   "metadata": {},
   "outputs": [],
   "source": []
  },
  {
   "cell_type": "code",
   "execution_count": null,
   "metadata": {},
   "outputs": [],
   "source": [
    ".withColumn('Id_New',when(df.Rank <= 5,df.Id).otherwise('other'))\\\n"
   ]
  },
  {
   "cell_type": "code",
   "execution_count": 43,
   "metadata": {},
   "outputs": [
    {
     "data": {
      "text/plain": [
       "7255085"
      ]
     },
     "execution_count": 43,
     "metadata": {},
     "output_type": "execute_result"
    }
   ],
   "source": [
    "joined.count()"
   ]
  },
  {
   "cell_type": "code",
   "execution_count": 45,
   "metadata": {},
   "outputs": [
    {
     "data": {
      "text/plain": [
       "68311"
      ]
     },
     "execution_count": 45,
     "metadata": {},
     "output_type": "execute_result"
    }
   ],
   "source": [
    "joined.filter(joined.rhat_merchant_id.isNotNull()).count()"
   ]
  },
  {
   "cell_type": "code",
   "execution_count": null,
   "metadata": {},
   "outputs": [],
   "source": [
    "joined.count()"
   ]
  },
  {
   "cell_type": "code",
   "execution_count": 107,
   "metadata": {},
   "outputs": [
    {
     "data": {
      "text/plain": [
       "['session_id',\n",
       " 'account_id',\n",
       " 'click_timestamp',\n",
       " 'buy',\n",
       " 'merchant_id',\n",
       " 'dt_partition',\n",
       " 'rhat_merchant_id']"
      ]
     },
     "execution_count": 107,
     "metadata": {},
     "output_type": "execute_result"
    }
   ],
   "source": [
    "joined.columns"
   ]
  },
  {
   "cell_type": "code",
   "execution_count": null,
   "metadata": {},
   "outputs": [],
   "source": []
  },
  {
   "cell_type": "code",
   "execution_count": null,
   "metadata": {},
   "outputs": [],
   "source": []
  },
  {
   "cell_type": "code",
   "execution_count": null,
   "metadata": {},
   "outputs": [],
   "source": []
  },
  {
   "cell_type": "code",
   "execution_count": 23,
   "metadata": {},
   "outputs": [
    {
     "name": "stdout",
     "output_type": "stream",
     "text": [
      "+--------------------+--------------------+--------------------+-------------------+---+------------+\n",
      "|          session_id|          account_id|         merchant_id|    click_timestamp|buy|dt_partition|\n",
      "+--------------------+--------------------+--------------------+-------------------+---+------------+\n",
      "|511695b1-1a84-482...|2659f5e6-4e39-4a9...|01728dcb-857d-4a2...|2019-07-30 17:59:43|  1|  2019-07-30|\n",
      "|511695b1-1a84-482...|2659f5e6-4e39-4a9...|01728dcb-857d-4a2...|2019-07-30 17:59:43|  1|  2019-07-30|\n",
      "|511695b1-1a84-482...|2659f5e6-4e39-4a9...|01728dcb-857d-4a2...|2019-07-30 17:59:58|  1|  2019-07-30|\n",
      "|511695b1-1a84-482...|2659f5e6-4e39-4a9...|01728dcb-857d-4a2...|2019-07-30 17:59:58|  1|  2019-07-30|\n",
      "|511695b1-1a84-482...|2659f5e6-4e39-4a9...|01728dcb-857d-4a2...|2019-07-30 18:00:20|  1|  2019-07-30|\n",
      "|511695b1-1a84-482...|2659f5e6-4e39-4a9...|01728dcb-857d-4a2...|2019-07-30 18:00:20|  1|  2019-07-30|\n",
      "|511695b1-1a84-482...|2659f5e6-4e39-4a9...|01728dcb-857d-4a2...|2019-07-30 18:00:29|  1|  2019-07-30|\n",
      "|511695b1-1a84-482...|2659f5e6-4e39-4a9...|01728dcb-857d-4a2...|2019-07-30 18:00:29|  1|  2019-07-30|\n",
      "|511695b1-1a84-482...|2659f5e6-4e39-4a9...|01728dcb-857d-4a2...|2019-07-30 18:03:50|  1|  2019-07-30|\n",
      "|511695b1-1a84-482...|2659f5e6-4e39-4a9...|01728dcb-857d-4a2...|2019-07-30 18:04:49|  1|  2019-07-30|\n",
      "|511695b1-1a84-482...|2659f5e6-4e39-4a9...|01728dcb-857d-4a2...|2019-07-30 18:05:35|  1|  2019-07-30|\n",
      "|511695b1-1a84-482...|2659f5e6-4e39-4a9...|01728dcb-857d-4a2...|2019-07-30 18:05:46|  1|  2019-07-30|\n",
      "|511695b1-1a84-482...|2659f5e6-4e39-4a9...|01728dcb-857d-4a2...|2019-07-30 18:05:51|  1|  2019-07-30|\n",
      "|511695b1-1a84-482...|2659f5e6-4e39-4a9...|01728dcb-857d-4a2...|2019-07-30 18:06:05|  1|  2019-07-30|\n",
      "|511695b1-1a84-482...|2659f5e6-4e39-4a9...|01728dcb-857d-4a2...|2019-07-30 18:06:56|  1|  2019-07-30|\n",
      "|511695b1-1a84-482...|2659f5e6-4e39-4a9...|01728dcb-857d-4a2...|2019-07-30 18:08:06|  1|  2019-07-30|\n",
      "+--------------------+--------------------+--------------------+-------------------+---+------------+\n",
      "\n"
     ]
    }
   ],
   "source": [
    "df_info_session.filter(df_info_session.session_id == \"511695b1-1a84-482e-af81-86f3cb05bd9b\").sort('click_timestamp').show(50)"
   ]
  },
  {
   "cell_type": "code",
   "execution_count": 24,
   "metadata": {
    "scrolled": true
   },
   "outputs": [
    {
     "name": "stdout",
     "output_type": "stream",
     "text": [
      "+--------------------+-------------------+-------------------+\n",
      "|          account_id|    click_timestamp|click_timestamp_utc|\n",
      "+--------------------+-------------------+-------------------+\n",
      "|2659f5e6-4e39-4a9...|2019-07-30 20:59:43|2019-07-30 17:59:43|\n",
      "|2659f5e6-4e39-4a9...|2019-07-30 20:59:58|2019-07-30 17:59:58|\n",
      "|2659f5e6-4e39-4a9...|2019-07-30 21:00:20|2019-07-30 18:00:20|\n",
      "|2659f5e6-4e39-4a9...|2019-07-30 21:00:29|2019-07-30 18:00:29|\n",
      "|2659f5e6-4e39-4a9...|2019-07-30 21:03:50|2019-07-30 18:03:50|\n",
      "|2659f5e6-4e39-4a9...|2019-07-30 21:04:49|2019-07-30 18:04:49|\n",
      "|2659f5e6-4e39-4a9...|2019-07-30 21:05:35|2019-07-30 18:05:35|\n",
      "|2659f5e6-4e39-4a9...|2019-07-30 21:05:46|2019-07-30 18:05:46|\n",
      "|2659f5e6-4e39-4a9...|2019-07-30 21:05:51|2019-07-30 18:05:51|\n",
      "|2659f5e6-4e39-4a9...|2019-07-30 21:06:05|2019-07-30 18:06:05|\n",
      "|2659f5e6-4e39-4a9...|2019-07-30 21:06:56|2019-07-30 18:06:56|\n",
      "|2659f5e6-4e39-4a9...|2019-07-30 21:08:06|2019-07-30 18:08:06|\n",
      "+--------------------+-------------------+-------------------+\n",
      "\n"
     ]
    }
   ],
   "source": [
    "df_eval.filter(df_eval.session_id == \"511695b1-1a84-482e-af81-86f3cb05bd9b\").select('account_id', 'click_timestamp', 'click_timestamp_utc').sort('click_timestamp').show(50)"
   ]
  },
  {
   "cell_type": "code",
   "execution_count": 25,
   "metadata": {},
   "outputs": [
    {
     "name": "stdout",
     "output_type": "stream",
     "text": [
      "+--------------------+-------------------+\n",
      "|          account_id|    click_timestamp|\n",
      "+--------------------+-------------------+\n",
      "|2659f5e6-4e39-4a9...|2019-07-30 17:59:43|\n",
      "|2659f5e6-4e39-4a9...|2019-07-30 17:59:58|\n",
      "|2659f5e6-4e39-4a9...|2019-07-30 18:00:20|\n",
      "|2659f5e6-4e39-4a9...|2019-07-30 18:00:29|\n",
      "|2659f5e6-4e39-4a9...|2019-07-30 18:03:50|\n",
      "|2659f5e6-4e39-4a9...|2019-07-30 18:04:49|\n",
      "|2659f5e6-4e39-4a9...|2019-07-30 18:05:35|\n",
      "|2659f5e6-4e39-4a9...|2019-07-30 18:05:46|\n",
      "|2659f5e6-4e39-4a9...|2019-07-30 18:05:51|\n",
      "|2659f5e6-4e39-4a9...|2019-07-30 18:06:05|\n",
      "|2659f5e6-4e39-4a9...|2019-07-30 18:06:56|\n",
      "|2659f5e6-4e39-4a9...|2019-07-30 18:08:06|\n",
      "+--------------------+-------------------+\n",
      "\n"
     ]
    }
   ],
   "source": [
    "df_order.filter(df_order.session_id == \"511695b1-1a84-482e-af81-86f3cb05bd9b\").select('account_id', 'click_timestamp').sort('click_timestamp').show(50)"
   ]
  },
  {
   "cell_type": "code",
   "execution_count": 26,
   "metadata": {},
   "outputs": [
    {
     "data": {
      "text/html": [
       "<div>\n",
       "<style scoped>\n",
       "    .dataframe tbody tr th:only-of-type {\n",
       "        vertical-align: middle;\n",
       "    }\n",
       "\n",
       "    .dataframe tbody tr th {\n",
       "        vertical-align: top;\n",
       "    }\n",
       "\n",
       "    .dataframe thead th {\n",
       "        text-align: right;\n",
       "    }\n",
       "</style>\n",
       "<table border=\"1\" class=\"dataframe\">\n",
       "  <thead>\n",
       "    <tr style=\"text-align: right;\">\n",
       "      <th></th>\n",
       "      <th>Unnamed: 0</th>\n",
       "      <th>session_id</th>\n",
       "      <th>account_id</th>\n",
       "      <th>click_timestamp</th>\n",
       "      <th>account_idx</th>\n",
       "      <th>merchant_idx</th>\n",
       "      <th>rhat_merchant_idx</th>\n",
       "      <th>shift_idx</th>\n",
       "      <th>day_of_week</th>\n",
       "      <th>rhat_scores</th>\n",
       "      <th>...</th>\n",
       "      <th>count_buys</th>\n",
       "      <th>rhat_rewards</th>\n",
       "      <th>rewards</th>\n",
       "      <th>average_precision</th>\n",
       "      <th>precision_at_1</th>\n",
       "      <th>ndcg_at_5</th>\n",
       "      <th>ndcg_at_10</th>\n",
       "      <th>ndcg_at_15</th>\n",
       "      <th>ndcg_at_20</th>\n",
       "      <th>ndcg_at_50</th>\n",
       "    </tr>\n",
       "  </thead>\n",
       "  <tbody>\n",
       "    <tr>\n",
       "      <td>16439</td>\n",
       "      <td>16439</td>\n",
       "      <td>511695b1-1a84-482e-af81-86f3cb05bd9b</td>\n",
       "      <td>2659f5e6-4e39-4a95-ad47-a627e7dea81e</td>\n",
       "      <td>2019-07-30 20:59:43</td>\n",
       "      <td>3135</td>\n",
       "      <td>21</td>\n",
       "      <td>469</td>\n",
       "      <td>3</td>\n",
       "      <td>2</td>\n",
       "      <td>0.0</td>\n",
       "      <td>...</td>\n",
       "      <td>67845</td>\n",
       "      <td>8.918724</td>\n",
       "      <td>1</td>\n",
       "      <td>0.0</td>\n",
       "      <td>0.0</td>\n",
       "      <td>0.0</td>\n",
       "      <td>0.0</td>\n",
       "      <td>0.0</td>\n",
       "      <td>0.0</td>\n",
       "      <td>0.0</td>\n",
       "    </tr>\n",
       "    <tr>\n",
       "      <td>25519</td>\n",
       "      <td>25519</td>\n",
       "      <td>511695b1-1a84-482e-af81-86f3cb05bd9b</td>\n",
       "      <td>2659f5e6-4e39-4a95-ad47-a627e7dea81e</td>\n",
       "      <td>2019-07-30 20:59:58</td>\n",
       "      <td>3135</td>\n",
       "      <td>21</td>\n",
       "      <td>469</td>\n",
       "      <td>3</td>\n",
       "      <td>2</td>\n",
       "      <td>0.0</td>\n",
       "      <td>...</td>\n",
       "      <td>67845</td>\n",
       "      <td>8.918724</td>\n",
       "      <td>1</td>\n",
       "      <td>0.0</td>\n",
       "      <td>0.0</td>\n",
       "      <td>0.0</td>\n",
       "      <td>0.0</td>\n",
       "      <td>0.0</td>\n",
       "      <td>0.0</td>\n",
       "      <td>0.0</td>\n",
       "    </tr>\n",
       "    <tr>\n",
       "      <td>29045</td>\n",
       "      <td>29045</td>\n",
       "      <td>511695b1-1a84-482e-af81-86f3cb05bd9b</td>\n",
       "      <td>2659f5e6-4e39-4a95-ad47-a627e7dea81e</td>\n",
       "      <td>2019-07-30 21:00:20</td>\n",
       "      <td>3135</td>\n",
       "      <td>21</td>\n",
       "      <td>469</td>\n",
       "      <td>3</td>\n",
       "      <td>2</td>\n",
       "      <td>0.0</td>\n",
       "      <td>...</td>\n",
       "      <td>67845</td>\n",
       "      <td>8.918724</td>\n",
       "      <td>1</td>\n",
       "      <td>0.0</td>\n",
       "      <td>0.0</td>\n",
       "      <td>0.0</td>\n",
       "      <td>0.0</td>\n",
       "      <td>0.0</td>\n",
       "      <td>0.0</td>\n",
       "      <td>0.0</td>\n",
       "    </tr>\n",
       "    <tr>\n",
       "      <td>6867</td>\n",
       "      <td>6867</td>\n",
       "      <td>511695b1-1a84-482e-af81-86f3cb05bd9b</td>\n",
       "      <td>2659f5e6-4e39-4a95-ad47-a627e7dea81e</td>\n",
       "      <td>2019-07-30 21:00:29</td>\n",
       "      <td>3135</td>\n",
       "      <td>21</td>\n",
       "      <td>469</td>\n",
       "      <td>3</td>\n",
       "      <td>2</td>\n",
       "      <td>0.0</td>\n",
       "      <td>...</td>\n",
       "      <td>67845</td>\n",
       "      <td>8.918724</td>\n",
       "      <td>1</td>\n",
       "      <td>0.0</td>\n",
       "      <td>0.0</td>\n",
       "      <td>0.0</td>\n",
       "      <td>0.0</td>\n",
       "      <td>0.0</td>\n",
       "      <td>0.0</td>\n",
       "      <td>0.0</td>\n",
       "    </tr>\n",
       "    <tr>\n",
       "      <td>9243</td>\n",
       "      <td>9243</td>\n",
       "      <td>511695b1-1a84-482e-af81-86f3cb05bd9b</td>\n",
       "      <td>2659f5e6-4e39-4a95-ad47-a627e7dea81e</td>\n",
       "      <td>2019-07-30 21:03:50</td>\n",
       "      <td>3135</td>\n",
       "      <td>21</td>\n",
       "      <td>469</td>\n",
       "      <td>3</td>\n",
       "      <td>2</td>\n",
       "      <td>0.0</td>\n",
       "      <td>...</td>\n",
       "      <td>67845</td>\n",
       "      <td>8.918724</td>\n",
       "      <td>1</td>\n",
       "      <td>0.0</td>\n",
       "      <td>0.0</td>\n",
       "      <td>0.0</td>\n",
       "      <td>0.0</td>\n",
       "      <td>0.0</td>\n",
       "      <td>0.0</td>\n",
       "      <td>0.0</td>\n",
       "    </tr>\n",
       "    <tr>\n",
       "      <td>12828</td>\n",
       "      <td>12828</td>\n",
       "      <td>511695b1-1a84-482e-af81-86f3cb05bd9b</td>\n",
       "      <td>2659f5e6-4e39-4a95-ad47-a627e7dea81e</td>\n",
       "      <td>2019-07-30 21:04:49</td>\n",
       "      <td>3135</td>\n",
       "      <td>21</td>\n",
       "      <td>469</td>\n",
       "      <td>3</td>\n",
       "      <td>2</td>\n",
       "      <td>0.0</td>\n",
       "      <td>...</td>\n",
       "      <td>67845</td>\n",
       "      <td>8.918724</td>\n",
       "      <td>1</td>\n",
       "      <td>0.0</td>\n",
       "      <td>0.0</td>\n",
       "      <td>0.0</td>\n",
       "      <td>0.0</td>\n",
       "      <td>0.0</td>\n",
       "      <td>0.0</td>\n",
       "      <td>0.0</td>\n",
       "    </tr>\n",
       "    <tr>\n",
       "      <td>5595</td>\n",
       "      <td>5595</td>\n",
       "      <td>511695b1-1a84-482e-af81-86f3cb05bd9b</td>\n",
       "      <td>2659f5e6-4e39-4a95-ad47-a627e7dea81e</td>\n",
       "      <td>2019-07-30 21:05:35</td>\n",
       "      <td>3135</td>\n",
       "      <td>21</td>\n",
       "      <td>469</td>\n",
       "      <td>3</td>\n",
       "      <td>2</td>\n",
       "      <td>0.0</td>\n",
       "      <td>...</td>\n",
       "      <td>67845</td>\n",
       "      <td>8.918724</td>\n",
       "      <td>1</td>\n",
       "      <td>0.0</td>\n",
       "      <td>0.0</td>\n",
       "      <td>0.0</td>\n",
       "      <td>0.0</td>\n",
       "      <td>0.0</td>\n",
       "      <td>0.0</td>\n",
       "      <td>0.0</td>\n",
       "    </tr>\n",
       "    <tr>\n",
       "      <td>1</td>\n",
       "      <td>1</td>\n",
       "      <td>511695b1-1a84-482e-af81-86f3cb05bd9b</td>\n",
       "      <td>2659f5e6-4e39-4a95-ad47-a627e7dea81e</td>\n",
       "      <td>2019-07-30 21:05:46</td>\n",
       "      <td>3135</td>\n",
       "      <td>21</td>\n",
       "      <td>469</td>\n",
       "      <td>3</td>\n",
       "      <td>2</td>\n",
       "      <td>0.0</td>\n",
       "      <td>...</td>\n",
       "      <td>67845</td>\n",
       "      <td>8.918724</td>\n",
       "      <td>1</td>\n",
       "      <td>0.0</td>\n",
       "      <td>0.0</td>\n",
       "      <td>0.0</td>\n",
       "      <td>0.0</td>\n",
       "      <td>0.0</td>\n",
       "      <td>0.0</td>\n",
       "      <td>0.0</td>\n",
       "    </tr>\n",
       "    <tr>\n",
       "      <td>15103</td>\n",
       "      <td>15103</td>\n",
       "      <td>511695b1-1a84-482e-af81-86f3cb05bd9b</td>\n",
       "      <td>2659f5e6-4e39-4a95-ad47-a627e7dea81e</td>\n",
       "      <td>2019-07-30 21:05:51</td>\n",
       "      <td>3135</td>\n",
       "      <td>21</td>\n",
       "      <td>469</td>\n",
       "      <td>3</td>\n",
       "      <td>2</td>\n",
       "      <td>0.0</td>\n",
       "      <td>...</td>\n",
       "      <td>67845</td>\n",
       "      <td>8.918724</td>\n",
       "      <td>1</td>\n",
       "      <td>0.0</td>\n",
       "      <td>0.0</td>\n",
       "      <td>0.0</td>\n",
       "      <td>0.0</td>\n",
       "      <td>0.0</td>\n",
       "      <td>0.0</td>\n",
       "      <td>0.0</td>\n",
       "    </tr>\n",
       "    <tr>\n",
       "      <td>8467</td>\n",
       "      <td>8467</td>\n",
       "      <td>511695b1-1a84-482e-af81-86f3cb05bd9b</td>\n",
       "      <td>2659f5e6-4e39-4a95-ad47-a627e7dea81e</td>\n",
       "      <td>2019-07-30 21:06:05</td>\n",
       "      <td>3135</td>\n",
       "      <td>21</td>\n",
       "      <td>469</td>\n",
       "      <td>3</td>\n",
       "      <td>2</td>\n",
       "      <td>0.0</td>\n",
       "      <td>...</td>\n",
       "      <td>67845</td>\n",
       "      <td>8.918724</td>\n",
       "      <td>1</td>\n",
       "      <td>0.0</td>\n",
       "      <td>0.0</td>\n",
       "      <td>0.0</td>\n",
       "      <td>0.0</td>\n",
       "      <td>0.0</td>\n",
       "      <td>0.0</td>\n",
       "      <td>0.0</td>\n",
       "    </tr>\n",
       "    <tr>\n",
       "      <td>23288</td>\n",
       "      <td>23288</td>\n",
       "      <td>511695b1-1a84-482e-af81-86f3cb05bd9b</td>\n",
       "      <td>2659f5e6-4e39-4a95-ad47-a627e7dea81e</td>\n",
       "      <td>2019-07-30 21:06:56</td>\n",
       "      <td>3135</td>\n",
       "      <td>21</td>\n",
       "      <td>469</td>\n",
       "      <td>3</td>\n",
       "      <td>2</td>\n",
       "      <td>0.0</td>\n",
       "      <td>...</td>\n",
       "      <td>67845</td>\n",
       "      <td>8.918724</td>\n",
       "      <td>1</td>\n",
       "      <td>0.0</td>\n",
       "      <td>0.0</td>\n",
       "      <td>0.0</td>\n",
       "      <td>0.0</td>\n",
       "      <td>0.0</td>\n",
       "      <td>0.0</td>\n",
       "      <td>0.0</td>\n",
       "    </tr>\n",
       "    <tr>\n",
       "      <td>15942</td>\n",
       "      <td>15942</td>\n",
       "      <td>511695b1-1a84-482e-af81-86f3cb05bd9b</td>\n",
       "      <td>2659f5e6-4e39-4a95-ad47-a627e7dea81e</td>\n",
       "      <td>2019-07-30 21:08:06</td>\n",
       "      <td>3135</td>\n",
       "      <td>21</td>\n",
       "      <td>469</td>\n",
       "      <td>3</td>\n",
       "      <td>2</td>\n",
       "      <td>0.0</td>\n",
       "      <td>...</td>\n",
       "      <td>67845</td>\n",
       "      <td>8.918724</td>\n",
       "      <td>1</td>\n",
       "      <td>0.0</td>\n",
       "      <td>0.0</td>\n",
       "      <td>0.0</td>\n",
       "      <td>0.0</td>\n",
       "      <td>0.0</td>\n",
       "      <td>0.0</td>\n",
       "      <td>0.0</td>\n",
       "    </tr>\n",
       "  </tbody>\n",
       "</table>\n",
       "<p>12 rows × 23 columns</p>\n",
       "</div>"
      ],
      "text/plain": [
       "       Unnamed: 0                            session_id  \\\n",
       "16439       16439  511695b1-1a84-482e-af81-86f3cb05bd9b   \n",
       "25519       25519  511695b1-1a84-482e-af81-86f3cb05bd9b   \n",
       "29045       29045  511695b1-1a84-482e-af81-86f3cb05bd9b   \n",
       "6867         6867  511695b1-1a84-482e-af81-86f3cb05bd9b   \n",
       "9243         9243  511695b1-1a84-482e-af81-86f3cb05bd9b   \n",
       "12828       12828  511695b1-1a84-482e-af81-86f3cb05bd9b   \n",
       "5595         5595  511695b1-1a84-482e-af81-86f3cb05bd9b   \n",
       "1               1  511695b1-1a84-482e-af81-86f3cb05bd9b   \n",
       "15103       15103  511695b1-1a84-482e-af81-86f3cb05bd9b   \n",
       "8467         8467  511695b1-1a84-482e-af81-86f3cb05bd9b   \n",
       "23288       23288  511695b1-1a84-482e-af81-86f3cb05bd9b   \n",
       "15942       15942  511695b1-1a84-482e-af81-86f3cb05bd9b   \n",
       "\n",
       "                                 account_id      click_timestamp  account_idx  \\\n",
       "16439  2659f5e6-4e39-4a95-ad47-a627e7dea81e  2019-07-30 20:59:43         3135   \n",
       "25519  2659f5e6-4e39-4a95-ad47-a627e7dea81e  2019-07-30 20:59:58         3135   \n",
       "29045  2659f5e6-4e39-4a95-ad47-a627e7dea81e  2019-07-30 21:00:20         3135   \n",
       "6867   2659f5e6-4e39-4a95-ad47-a627e7dea81e  2019-07-30 21:00:29         3135   \n",
       "9243   2659f5e6-4e39-4a95-ad47-a627e7dea81e  2019-07-30 21:03:50         3135   \n",
       "12828  2659f5e6-4e39-4a95-ad47-a627e7dea81e  2019-07-30 21:04:49         3135   \n",
       "5595   2659f5e6-4e39-4a95-ad47-a627e7dea81e  2019-07-30 21:05:35         3135   \n",
       "1      2659f5e6-4e39-4a95-ad47-a627e7dea81e  2019-07-30 21:05:46         3135   \n",
       "15103  2659f5e6-4e39-4a95-ad47-a627e7dea81e  2019-07-30 21:05:51         3135   \n",
       "8467   2659f5e6-4e39-4a95-ad47-a627e7dea81e  2019-07-30 21:06:05         3135   \n",
       "23288  2659f5e6-4e39-4a95-ad47-a627e7dea81e  2019-07-30 21:06:56         3135   \n",
       "15942  2659f5e6-4e39-4a95-ad47-a627e7dea81e  2019-07-30 21:08:06         3135   \n",
       "\n",
       "       merchant_idx  rhat_merchant_idx  shift_idx  day_of_week  rhat_scores  \\\n",
       "16439            21                469          3            2          0.0   \n",
       "25519            21                469          3            2          0.0   \n",
       "29045            21                469          3            2          0.0   \n",
       "6867             21                469          3            2          0.0   \n",
       "9243             21                469          3            2          0.0   \n",
       "12828            21                469          3            2          0.0   \n",
       "5595             21                469          3            2          0.0   \n",
       "1                21                469          3            2          0.0   \n",
       "15103            21                469          3            2          0.0   \n",
       "8467             21                469          3            2          0.0   \n",
       "23288            21                469          3            2          0.0   \n",
       "15942            21                469          3            2          0.0   \n",
       "\n",
       "       ...  count_buys  rhat_rewards  rewards  average_precision  \\\n",
       "16439  ...       67845      8.918724        1                0.0   \n",
       "25519  ...       67845      8.918724        1                0.0   \n",
       "29045  ...       67845      8.918724        1                0.0   \n",
       "6867   ...       67845      8.918724        1                0.0   \n",
       "9243   ...       67845      8.918724        1                0.0   \n",
       "12828  ...       67845      8.918724        1                0.0   \n",
       "5595   ...       67845      8.918724        1                0.0   \n",
       "1      ...       67845      8.918724        1                0.0   \n",
       "15103  ...       67845      8.918724        1                0.0   \n",
       "8467   ...       67845      8.918724        1                0.0   \n",
       "23288  ...       67845      8.918724        1                0.0   \n",
       "15942  ...       67845      8.918724        1                0.0   \n",
       "\n",
       "       precision_at_1  ndcg_at_5  ndcg_at_10  ndcg_at_15  ndcg_at_20  \\\n",
       "16439             0.0        0.0         0.0         0.0         0.0   \n",
       "25519             0.0        0.0         0.0         0.0         0.0   \n",
       "29045             0.0        0.0         0.0         0.0         0.0   \n",
       "6867              0.0        0.0         0.0         0.0         0.0   \n",
       "9243              0.0        0.0         0.0         0.0         0.0   \n",
       "12828             0.0        0.0         0.0         0.0         0.0   \n",
       "5595              0.0        0.0         0.0         0.0         0.0   \n",
       "1                 0.0        0.0         0.0         0.0         0.0   \n",
       "15103             0.0        0.0         0.0         0.0         0.0   \n",
       "8467              0.0        0.0         0.0         0.0         0.0   \n",
       "23288             0.0        0.0         0.0         0.0         0.0   \n",
       "15942             0.0        0.0         0.0         0.0         0.0   \n",
       "\n",
       "       ndcg_at_50  \n",
       "16439         0.0  \n",
       "25519         0.0  \n",
       "29045         0.0  \n",
       "6867          0.0  \n",
       "9243          0.0  \n",
       "12828         0.0  \n",
       "5595          0.0  \n",
       "1             0.0  \n",
       "15103         0.0  \n",
       "8467          0.0  \n",
       "23288         0.0  \n",
       "15942         0.0  \n",
       "\n",
       "[12 rows x 23 columns]"
      ]
     },
     "execution_count": 26,
     "metadata": {},
     "output_type": "execute_result"
    }
   ],
   "source": [
    "_df_eval = pd.read_csv('../output/evaluation/EvaluateAutoEncoderIfoodModel/results/VariationalAutoEncoderTraining_selu____500_fc62ac744a_6534ac1232/orders_with_metrics.csv')\n",
    "_df_eval.head(2)\n",
    "_df_eval[_df_eval.session_id == \"511695b1-1a84-482e-af81-86f3cb05bd9b\"].sort_values('click_timestamp')"
   ]
  },
  {
   "cell_type": "code",
   "execution_count": 4,
   "metadata": {},
   "outputs": [
    {
     "data": {
      "text/plain": [
       "Index(['Unnamed: 0', 'session_id', 'account_idx', 'merchant_idx',\n",
       "       'rhat_merchant_idx', 'shift_idx', 'day_of_week', 'rhat_scores', 'ps',\n",
       "       'ps_eval', 'count_visits', 'count_buys', 'rhat_rewards', 'rewards',\n",
       "       'average_precision', 'precision_at_1', 'ndcg_at_5', 'ndcg_at_10',\n",
       "       'ndcg_at_15', 'ndcg_at_20', 'ndcg_at_50'],\n",
       "      dtype='object')"
      ]
     },
     "execution_count": 4,
     "metadata": {},
     "output_type": "execute_result"
    }
   ],
   "source": [
    "df_eval.columns"
   ]
  },
  {
   "cell_type": "code",
   "execution_count": 6,
   "metadata": {},
   "outputs": [
    {
     "data": {
      "text/plain": [
       "(34940, 23)"
      ]
     },
     "execution_count": 6,
     "metadata": {},
     "output_type": "execute_result"
    }
   ],
   "source": [
    "df_eval.shape"
   ]
  },
  {
   "cell_type": "code",
   "execution_count": 11,
   "metadata": {
    "scrolled": true
   },
   "outputs": [
    {
     "data": {
      "text/plain": [
       "(34940, 20)"
      ]
     },
     "execution_count": 11,
     "metadata": {},
     "output_type": "execute_result"
    }
   ],
   "source": [
    "df_eval.groupby(['session_id', 'account_id', 'click_timestamp']).count().shape"
   ]
  },
  {
   "cell_type": "code",
   "execution_count": null,
   "metadata": {},
   "outputs": [],
   "source": []
  }
 ],
 "metadata": {
  "kernelspec": {
   "display_name": "Python-with-Pixiedust_Spark-2.3",
   "language": "python",
   "name": "pythonwithpixiedustspark23"
  },
  "language_info": {
   "codemirror_mode": {
    "name": "ipython",
    "version": 3
   },
   "file_extension": ".py",
   "mimetype": "text/x-python",
   "name": "python",
   "nbconvert_exporter": "python",
   "pygments_lexer": "ipython3",
   "version": "3.6.7"
  },
  "toc": {
   "base_numbering": 1,
   "nav_menu": {},
   "number_sections": true,
   "sideBar": true,
   "skip_h1_title": false,
   "title_cell": "Table of Contents",
   "title_sidebar": "Contents",
   "toc_cell": false,
   "toc_position": {},
   "toc_section_display": true,
   "toc_window_display": false
  }
 },
 "nbformat": 4,
 "nbformat_minor": 2
}
