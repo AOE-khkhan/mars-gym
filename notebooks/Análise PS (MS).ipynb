{
 "cells": [
  {
   "cell_type": "markdown",
   "metadata": {},
   "source": [
    "## Propensity Score"
   ]
  },
  {
   "cell_type": "code",
   "execution_count": 208,
   "metadata": {},
   "outputs": [],
   "source": [
    "import pandas as pd\n",
    "import dask.dataframe as dd\n",
    "import numpy as np\n",
    "import seaborn as sns\n",
    "import matplotlib.pyplot as plt"
   ]
  },
  {
   "cell_type": "code",
   "execution_count": 209,
   "metadata": {
    "hide_input": false
   },
   "outputs": [],
   "source": [
    "from IPython.display import Image\n",
    "#Image(\"/home/marlesson/Downloads/metrics_ps.png\")"
   ]
  },
  {
   "cell_type": "code",
   "execution_count": 220,
   "metadata": {},
   "outputs": [
    {
     "name": "stdout",
     "output_type": "stream",
     "text": [
      "TrivagoLogisticModelInteraction_selu____epsilon_greedy_1b3311b7c5_1d48a03ac3_ps_model\r\n",
      "TrivagoLogisticModelInteraction_selu____epsilon_greedy_1b3311b7c5_7fd41d5632_ps_model\r\n",
      "TrivagoLogisticModelInteraction_selu____epsilon_greedy_1b3311b7c5_c843aac27a_ps_model\r\n",
      "TrivagoLogisticModelInteraction_selu____epsilon_greedy_d192bd143d_a33b7a8a7c_ps_model\r\n",
      "TrivagoLogisticModelInteraction_selu____softmax_explorer_ecf6ca42ee_5c632bf30d_ps_per_logistic_regression_of_pos_item_idx_and_item_ps\r\n",
      "TrivagoLogisticModelInteraction_selu____softmax_explorer_ecf6ca42ee_756c352631_ps_per_logistic_regression_of_pos_item_idx_and_item_ps\r\n",
      "TrivagoLogisticModelInteraction_selu____softmax_explorer_ecf6ca42ee_89372c6587_ps_per_logistic_regression_of_pos_item_idx_and_item_ps\r\n",
      "TrivagoLogisticModelInteraction_selu____softmax_explorer_ecf6ca42ee_adc93c267a_ps_per_item_in_first_pos\r\n",
      "TrivagoLogisticModelInteraction_selu____softmax_explorer_ecf6ca42ee_c77d82b7ff_ps_per_logistic_regression_of_pos_item_idx_and_item\r\n",
      "TrivagoLogisticModelInteraction_selu____softmax_explorer_ecf6ca42ee_db6e0b37c7_ps_per_logistic_regression_of_pos_item_idx_and_item\r\n",
      "TrivagoLogisticModelTraining_selu____model_0115b77012_82516ac5c4_ps_model\r\n",
      "TrivagoLogisticModelTraining_selu____model_11937d2136_bbf411e21c_ps_model\r\n",
      "TrivagoLogisticModelTraining_selu____model_2f3d4a7009_1d904d1044_ps_model\r\n",
      "TrivagoLogisticModelTraining_selu____model_2f3d4a7009_90c4b91b2a_ps_model\r\n",
      "TrivagoLogisticModelTraining_selu____model_57eb2a07b1_919750b420_ps_model\r\n",
      "TrivagoLogisticModelTraining_selu____model_5ceff923f9_85767491e8_ps_model\r\n",
      "TrivagoLogisticModelTraining_selu____model_7526476b4b_1f198e35aa_ps_model\r\n",
      "TrivagoLogisticModelTraining_selu____model_9ba6069be7_1a768bb230_ps_model\r\n",
      "TrivagoLogisticModelTraining_selu____model_d8a7cad3dc_e9f4d1f0e7_ps_model\r\n"
     ]
    }
   ],
   "source": [
    "!ls ../../deep-reco-gym/output/evaluation/EvaluateTrivagoTestSetPredictions/results/"
   ]
  },
  {
   "cell_type": "code",
   "execution_count": 221,
   "metadata": {},
   "outputs": [
    {
     "data": {
      "text/html": [
       "<div>\n",
       "<style scoped>\n",
       "    .dataframe tbody tr th:only-of-type {\n",
       "        vertical-align: middle;\n",
       "    }\n",
       "\n",
       "    .dataframe tbody tr th {\n",
       "        vertical-align: top;\n",
       "    }\n",
       "\n",
       "    .dataframe thead th {\n",
       "        text-align: right;\n",
       "    }\n",
       "</style>\n",
       "<table border=\"1\" class=\"dataframe\">\n",
       "  <thead>\n",
       "    <tr style=\"text-align: right;\">\n",
       "      <th></th>\n",
       "      <th>timestamp</th>\n",
       "      <th>timestamp_diff</th>\n",
       "      <th>step</th>\n",
       "      <th>user_idx</th>\n",
       "      <th>session_idx</th>\n",
       "      <th>city_idx</th>\n",
       "      <th>sum_action_item_before</th>\n",
       "      <th>action_type_item_idx</th>\n",
       "      <th>action_type_idx</th>\n",
       "      <th>list_action_type_idx</th>\n",
       "      <th>...</th>\n",
       "      <th>wifi (public areas)</th>\n",
       "      <th>wifi (rooms)</th>\n",
       "      <th>star</th>\n",
       "      <th>list_metadata</th>\n",
       "      <th>item_idx_action</th>\n",
       "      <th>rewards</th>\n",
       "      <th>action_rhat_rewards</th>\n",
       "      <th>item_idx_rhat_rewards</th>\n",
       "      <th>ps_eval</th>\n",
       "      <th>ps_i</th>\n",
       "    </tr>\n",
       "  </thead>\n",
       "  <tbody>\n",
       "    <tr>\n",
       "      <td>0</td>\n",
       "      <td>1541455183</td>\n",
       "      <td>15414545023</td>\n",
       "      <td>14.0</td>\n",
       "      <td>194</td>\n",
       "      <td>632</td>\n",
       "      <td>0</td>\n",
       "      <td>2.0</td>\n",
       "      <td>138</td>\n",
       "      <td>2</td>\n",
       "      <td>[1, 1, 3, 8, 1, 1, 3, 9, 9, 8]</td>\n",
       "      <td>...</td>\n",
       "      <td>1</td>\n",
       "      <td>1</td>\n",
       "      <td>3</td>\n",
       "      <td>[0, 0, 1, 0, 0, 0, 0, 0, 1, 0, 0, 1, 0, 0, 0, ...</td>\n",
       "      <td>366</td>\n",
       "      <td>0.0</td>\n",
       "      <td>0.030148</td>\n",
       "      <td>0.029993</td>\n",
       "      <td>0.0</td>\n",
       "      <td>0</td>\n",
       "    </tr>\n",
       "    <tr>\n",
       "      <td>1</td>\n",
       "      <td>1541455183</td>\n",
       "      <td>15414545023</td>\n",
       "      <td>14.0</td>\n",
       "      <td>194</td>\n",
       "      <td>632</td>\n",
       "      <td>0</td>\n",
       "      <td>2.0</td>\n",
       "      <td>138</td>\n",
       "      <td>2</td>\n",
       "      <td>[1, 1, 3, 8, 1, 1, 3, 9, 9, 8]</td>\n",
       "      <td>...</td>\n",
       "      <td>1</td>\n",
       "      <td>1</td>\n",
       "      <td>3</td>\n",
       "      <td>[0, 0, 1, 0, 0, 0, 0, 0, 1, 0, 0, 1, 0, 0, 0, ...</td>\n",
       "      <td>366</td>\n",
       "      <td>0.0</td>\n",
       "      <td>0.028415</td>\n",
       "      <td>0.011063</td>\n",
       "      <td>0.0</td>\n",
       "      <td>0</td>\n",
       "    </tr>\n",
       "    <tr>\n",
       "      <td>2</td>\n",
       "      <td>1541455183</td>\n",
       "      <td>15414545023</td>\n",
       "      <td>14.0</td>\n",
       "      <td>194</td>\n",
       "      <td>632</td>\n",
       "      <td>0</td>\n",
       "      <td>2.0</td>\n",
       "      <td>138</td>\n",
       "      <td>2</td>\n",
       "      <td>[1, 1, 3, 8, 1, 1, 3, 9, 9, 8]</td>\n",
       "      <td>...</td>\n",
       "      <td>1</td>\n",
       "      <td>1</td>\n",
       "      <td>3</td>\n",
       "      <td>[0, 0, 1, 0, 0, 0, 0, 0, 1, 0, 0, 1, 0, 0, 0, ...</td>\n",
       "      <td>366</td>\n",
       "      <td>0.0</td>\n",
       "      <td>0.036735</td>\n",
       "      <td>0.007912</td>\n",
       "      <td>0.0</td>\n",
       "      <td>0</td>\n",
       "    </tr>\n",
       "    <tr>\n",
       "      <td>3</td>\n",
       "      <td>1541455765</td>\n",
       "      <td>0</td>\n",
       "      <td>NaN</td>\n",
       "      <td>122</td>\n",
       "      <td>806</td>\n",
       "      <td>0</td>\n",
       "      <td>0.0</td>\n",
       "      <td>33</td>\n",
       "      <td>2</td>\n",
       "      <td>[0, 0, 0, 0, 0, 0, 0, 0, 0, 0]</td>\n",
       "      <td>...</td>\n",
       "      <td>1</td>\n",
       "      <td>1</td>\n",
       "      <td>3</td>\n",
       "      <td>[0, 0, 1, 0, 0, 0, 0, 0, 1, 0, 0, 1, 0, 0, 0, ...</td>\n",
       "      <td>366</td>\n",
       "      <td>0.0</td>\n",
       "      <td>0.029775</td>\n",
       "      <td>0.024616</td>\n",
       "      <td>0.0</td>\n",
       "      <td>0</td>\n",
       "    </tr>\n",
       "    <tr>\n",
       "      <td>4</td>\n",
       "      <td>1541455765</td>\n",
       "      <td>0</td>\n",
       "      <td>NaN</td>\n",
       "      <td>122</td>\n",
       "      <td>806</td>\n",
       "      <td>0</td>\n",
       "      <td>0.0</td>\n",
       "      <td>33</td>\n",
       "      <td>2</td>\n",
       "      <td>[0, 0, 0, 0, 0, 0, 0, 0, 0, 0]</td>\n",
       "      <td>...</td>\n",
       "      <td>1</td>\n",
       "      <td>1</td>\n",
       "      <td>3</td>\n",
       "      <td>[0, 0, 1, 0, 0, 0, 0, 0, 1, 0, 0, 1, 0, 0, 0, ...</td>\n",
       "      <td>366</td>\n",
       "      <td>0.0</td>\n",
       "      <td>0.034460</td>\n",
       "      <td>0.021789</td>\n",
       "      <td>0.0</td>\n",
       "      <td>0</td>\n",
       "    </tr>\n",
       "  </tbody>\n",
       "</table>\n",
       "<p>5 rows × 251 columns</p>\n",
       "</div>"
      ],
      "text/plain": [
       "    timestamp  timestamp_diff  step  user_idx  session_idx  city_idx  \\\n",
       "0  1541455183     15414545023  14.0       194          632         0   \n",
       "1  1541455183     15414545023  14.0       194          632         0   \n",
       "2  1541455183     15414545023  14.0       194          632         0   \n",
       "3  1541455765               0   NaN       122          806         0   \n",
       "4  1541455765               0   NaN       122          806         0   \n",
       "\n",
       "   sum_action_item_before  action_type_item_idx  action_type_idx  \\\n",
       "0                     2.0                   138                2   \n",
       "1                     2.0                   138                2   \n",
       "2                     2.0                   138                2   \n",
       "3                     0.0                    33                2   \n",
       "4                     0.0                    33                2   \n",
       "\n",
       "             list_action_type_idx  ... wifi (public areas) wifi (rooms) star  \\\n",
       "0  [1, 1, 3, 8, 1, 1, 3, 9, 9, 8]  ...                   1            1    3   \n",
       "1  [1, 1, 3, 8, 1, 1, 3, 9, 9, 8]  ...                   1            1    3   \n",
       "2  [1, 1, 3, 8, 1, 1, 3, 9, 9, 8]  ...                   1            1    3   \n",
       "3  [0, 0, 0, 0, 0, 0, 0, 0, 0, 0]  ...                   1            1    3   \n",
       "4  [0, 0, 0, 0, 0, 0, 0, 0, 0, 0]  ...                   1            1    3   \n",
       "\n",
       "                                       list_metadata item_idx_action rewards  \\\n",
       "0  [0, 0, 1, 0, 0, 0, 0, 0, 1, 0, 0, 1, 0, 0, 0, ...             366     0.0   \n",
       "1  [0, 0, 1, 0, 0, 0, 0, 0, 1, 0, 0, 1, 0, 0, 0, ...             366     0.0   \n",
       "2  [0, 0, 1, 0, 0, 0, 0, 0, 1, 0, 0, 1, 0, 0, 0, ...             366     0.0   \n",
       "3  [0, 0, 1, 0, 0, 0, 0, 0, 1, 0, 0, 1, 0, 0, 0, ...             366     0.0   \n",
       "4  [0, 0, 1, 0, 0, 0, 0, 0, 1, 0, 0, 1, 0, 0, 0, ...             366     0.0   \n",
       "\n",
       "  action_rhat_rewards item_idx_rhat_rewards ps_eval ps_i  \n",
       "0            0.030148              0.029993     0.0    0  \n",
       "1            0.028415              0.011063     0.0    0  \n",
       "2            0.036735              0.007912     0.0    0  \n",
       "3            0.029775              0.024616     0.0    0  \n",
       "4            0.034460              0.021789     0.0    0  \n",
       "\n",
       "[5 rows x 251 columns]"
      ]
     },
     "execution_count": 221,
     "metadata": {},
     "output_type": "execute_result"
    }
   ],
   "source": [
    "# BCE\n",
    "df_bce = dd.read_csv('../../deep-reco-gym/output/evaluation/EvaluateTrivagoTestSetPredictions/results/TrivagoLogisticModelTraining_selu____model_2f3d4a7009_1d904d1044_ps_model/df_offpolicy.csv').compute()\n",
    "\n",
    "# CRM\n",
    "df_crm = dd.read_csv('../../deep-reco-gym/output/evaluation/EvaluateTrivagoTestSetPredictions/results/TrivagoLogisticModelTraining_selu____model_57eb2a07b1_919750b420_ps_model/df_offpolicy.csv').compute()\n",
    "\n",
    "\n",
    "df_crm['ps_i'] = df_crm.apply(lambda row: int(row['item_idx'] == row['item_idx_action']), axis=1)\n",
    "df_bce['ps_i'] = df_bce.apply(lambda row: int(row['item_idx'] == row['item_idx_action']), axis=1)\n",
    "\n",
    "df = df_bce\n",
    "df.head()\n"
   ]
  },
  {
   "cell_type": "code",
   "execution_count": null,
   "metadata": {},
   "outputs": [],
   "source": []
  },
  {
   "cell_type": "markdown",
   "metadata": {},
   "source": [
    "## IPS"
   ]
  },
  {
   "cell_type": "code",
   "execution_count": 222,
   "metadata": {},
   "outputs": [
    {
     "data": {
      "image/png": "[encoded data removed]",
      "text/plain": [
       "<IPython.core.display.Image object>"
      ]
     },
     "execution_count": 222,
     "metadata": {},
     "output_type": "execute_result"
    }
   ],
   "source": [
    "from IPython.display import Image\n",
    "Image(\"/home/marlesson/Downloads/Captura de tela de 2020-05-26 10-36-26.png\")\n"
   ]
  },
  {
   "cell_type": "code",
   "execution_count": 223,
   "metadata": {},
   "outputs": [
    {
     "data": {
      "text/plain": [
       "(85, 251)"
      ]
     },
     "execution_count": 223,
     "metadata": {},
     "output_type": "execute_result"
    }
   ],
   "source": [
    "df_hit_crm = df_crm[(df_crm.ps_i == 1) & (df_crm.rewards == 1)]\n",
    "df_hit_crm.shape"
   ]
  },
  {
   "cell_type": "code",
   "execution_count": 224,
   "metadata": {},
   "outputs": [
    {
     "data": {
      "text/plain": [
       "(135, 251)"
      ]
     },
     "execution_count": 224,
     "metadata": {},
     "output_type": "execute_result"
    }
   ],
   "source": [
    "df_hit_bce = df_bce[(df_bce.ps_i == 1) & (df_bce.rewards == 1)]\n",
    "df_hit_bce.shape"
   ]
  },
  {
   "cell_type": "code",
   "execution_count": 225,
   "metadata": {
    "cell_style": "split",
    "scrolled": true
   },
   "outputs": [
    {
     "data": {
      "text/plain": [
       "<matplotlib.axes._subplots.AxesSubplot at 0x7f00fb76ceb8>"
      ]
     },
     "execution_count": 225,
     "metadata": {},
     "output_type": "execute_result"
    },
    {
     "data": {
      "image/png": "[encoded data removed]",
      "text/plain": [
       "<Figure size 432x288 with 1 Axes>"
      ]
     },
     "metadata": {
      "needs_background": "light"
     },
     "output_type": "display_data"
    }
   ],
   "source": [
    "d1 = df_bce['ps']\n",
    "sns.distplot(d1, kde=False, color=\"b\")"
   ]
  },
  {
   "cell_type": "code",
   "execution_count": 226,
   "metadata": {
    "cell_style": "split",
    "scrolled": true
   },
   "outputs": [
    {
     "data": {
      "text/plain": [
       "<matplotlib.axes._subplots.AxesSubplot at 0x7f00fb71bb00>"
      ]
     },
     "execution_count": 226,
     "metadata": {},
     "output_type": "execute_result"
    },
    {
     "data": {
      "image/png": "[encoded data removed]",
      "text/plain": [
       "<Figure size 432x288 with 1 Axes>"
      ]
     },
     "metadata": {
      "needs_background": "light"
     },
     "output_type": "display_data"
    }
   ],
   "source": [
    "d1 = df_crm['ps']\n",
    "sns.distplot(d1, kde=False, color=\"b\")"
   ]
  },
  {
   "cell_type": "code",
   "execution_count": 227,
   "metadata": {
    "cell_style": "split"
   },
   "outputs": [
    {
     "data": {
      "text/plain": [
       "<matplotlib.axes._subplots.AxesSubplot at 0x7f00f18f8048>"
      ]
     },
     "execution_count": 227,
     "metadata": {},
     "output_type": "execute_result"
    },
    {
     "data": {
      "image/png": "[encoded data removed]",
      "text/plain": [
       "<Figure size 432x288 with 1 Axes>"
      ]
     },
     "metadata": {
      "needs_background": "light"
     },
     "output_type": "display_data"
    }
   ],
   "source": [
    "d1 = df_hit_bce['ps']\n",
    "sns.distplot(d1, kde=False, color=\"b\")"
   ]
  },
  {
   "cell_type": "code",
   "execution_count": 228,
   "metadata": {
    "cell_style": "split"
   },
   "outputs": [
    {
     "data": {
      "text/plain": [
       "<matplotlib.axes._subplots.AxesSubplot at 0x7f00ffea6b00>"
      ]
     },
     "execution_count": 228,
     "metadata": {},
     "output_type": "execute_result"
    },
    {
     "data": {
      "image/png": "[encoded data removed]",
      "text/plain": [
       "<Figure size 432x288 with 1 Axes>"
      ]
     },
     "metadata": {
      "needs_background": "light"
     },
     "output_type": "display_data"
    }
   ],
   "source": [
    "d2 = df_hit_crm['ps']\n",
    "sns.distplot(d2, kde=False, color=\"b\")"
   ]
  },
  {
   "cell_type": "code",
   "execution_count": 219,
   "metadata": {},
   "outputs": [
    {
     "name": "stdout",
     "output_type": "stream",
     "text": [
      "BCE: 135 0.058804434127415775\n",
      "CRM: 127 0.056438730490635934\n"
     ]
    }
   ],
   "source": [
    "print(\"BCE:\", len(d1), np.mean(d1))\n",
    "print(\"CRM:\", len(d2), np.mean(d2))"
   ]
  },
  {
   "cell_type": "code",
   "execution_count": null,
   "metadata": {},
   "outputs": [],
   "source": []
  },
  {
   "cell_type": "code",
   "execution_count": 154,
   "metadata": {
    "cell_style": "split"
   },
   "outputs": [
    {
     "data": {
      "text/plain": [
       "<matplotlib.axes._subplots.AxesSubplot at 0x7f00feeb6d30>"
      ]
     },
     "execution_count": 154,
     "metadata": {},
     "output_type": "execute_result"
    },
    {
     "data": {
      "image/png": "[encoded data removed]",
      "text/plain": [
       "<Figure size 432x288 with 1 Axes>"
      ]
     },
     "metadata": {
      "needs_background": "light"
     },
     "output_type": "display_data"
    }
   ],
   "source": [
    "d1 = df_crm.item_idx_rhat_rewards\n",
    "sns.distplot(d1, kde=False, color=\"b\")"
   ]
  },
  {
   "cell_type": "code",
   "execution_count": 155,
   "metadata": {
    "cell_style": "split"
   },
   "outputs": [
    {
     "data": {
      "text/plain": [
       "<matplotlib.axes._subplots.AxesSubplot at 0x7f00fedace80>"
      ]
     },
     "execution_count": 155,
     "metadata": {},
     "output_type": "execute_result"
    },
    {
     "data": {
      "image/png": "[encoded data removed]",
      "text/plain": [
       "<Figure size 432x288 with 1 Axes>"
      ]
     },
     "metadata": {
      "needs_background": "light"
     },
     "output_type": "display_data"
    }
   ],
   "source": [
    "d2 = df_crm.action_rhat_rewards\n",
    "sns.distplot(d2, kde=False, color=\"b\")"
   ]
  },
  {
   "cell_type": "code",
   "execution_count": null,
   "metadata": {},
   "outputs": [],
   "source": []
  },
  {
   "cell_type": "markdown",
   "metadata": {},
   "source": [
    "# DirectEstimator"
   ]
  },
  {
   "cell_type": "code",
   "execution_count": null,
   "metadata": {},
   "outputs": [],
   "source": [
    "from IPython.display import Image\n",
    "#Image(\"/home/marlesson/Downloads/Captura de tela de 2020-05-26 10-36-26.png\")\n"
   ]
  },
  {
   "cell_type": "code",
   "execution_count": 159,
   "metadata": {},
   "outputs": [
    {
     "ename": "NameError",
     "evalue": "name '_df' is not defined",
     "output_type": "error",
     "traceback": [
      "\u001b[0;31m---------------------------------------------------------------------------\u001b[0m",
      "\u001b[0;31mNameError\u001b[0m                                 Traceback (most recent call last)",
      "\u001b[0;32m<ipython-input-159-bc7a5960ff5e>\u001b[0m in \u001b[0;36m<module>\u001b[0;34m\u001b[0m\n\u001b[0;32m----> 1\u001b[0;31m \u001b[0m_df\u001b[0m\u001b[0;34m[\u001b[0m\u001b[0;34m[\u001b[0m\u001b[0;34m'item_idx'\u001b[0m\u001b[0;34m,\u001b[0m \u001b[0;34m'item_idx_action'\u001b[0m\u001b[0;34m,\u001b[0m \u001b[0;34m'rewards'\u001b[0m\u001b[0;34m]\u001b[0m\u001b[0;34m]\u001b[0m\u001b[0;34m.\u001b[0m\u001b[0mhead\u001b[0m\u001b[0;34m(\u001b[0m\u001b[0;34m)\u001b[0m\u001b[0;34m\u001b[0m\u001b[0;34m\u001b[0m\u001b[0m\n\u001b[0m",
      "\u001b[0;31mNameError\u001b[0m: name '_df' is not defined"
     ]
    }
   ],
   "source": [
    "_df[['item_idx', 'item_idx_action', 'rewards']].head()"
   ]
  },
  {
   "cell_type": "code",
   "execution_count": null,
   "metadata": {
    "cell_style": "split"
   },
   "outputs": [],
   "source": [
    "d1 = _df['item_idx_rhat_rewards']#.compute()\n",
    "sns.distplot(d1, kde=False, color=\"b\")"
   ]
  },
  {
   "cell_type": "code",
   "execution_count": 160,
   "metadata": {},
   "outputs": [
    {
     "ename": "NameError",
     "evalue": "name '_df' is not defined",
     "output_type": "error",
     "traceback": [
      "\u001b[0;31m---------------------------------------------------------------------------\u001b[0m",
      "\u001b[0;31mNameError\u001b[0m                                 Traceback (most recent call last)",
      "\u001b[0;32m<ipython-input-160-093cbeb64440>\u001b[0m in \u001b[0;36m<module>\u001b[0;34m\u001b[0m\n\u001b[0;32m----> 1\u001b[0;31m \u001b[0mnp\u001b[0m\u001b[0;34m.\u001b[0m\u001b[0mmean\u001b[0m\u001b[0;34m(\u001b[0m\u001b[0md1\u001b[0m\u001b[0;34m)\u001b[0m\u001b[0;34m,\u001b[0m \u001b[0mnp\u001b[0m\u001b[0;34m.\u001b[0m\u001b[0mmean\u001b[0m\u001b[0;34m(\u001b[0m\u001b[0m_df\u001b[0m\u001b[0;34m[\u001b[0m\u001b[0;34m'rewards'\u001b[0m\u001b[0;34m]\u001b[0m\u001b[0;34m)\u001b[0m\u001b[0;34m\u001b[0m\u001b[0;34m\u001b[0m\u001b[0m\n\u001b[0m",
      "\u001b[0;31mNameError\u001b[0m: name '_df' is not defined"
     ]
    }
   ],
   "source": [
    "np.mean(d1), np.mean(_df['rewards'])"
   ]
  },
  {
   "cell_type": "code",
   "execution_count": 161,
   "metadata": {},
   "outputs": [
    {
     "ename": "NameError",
     "evalue": "name '_df' is not defined",
     "output_type": "error",
     "traceback": [
      "\u001b[0;31m---------------------------------------------------------------------------\u001b[0m",
      "\u001b[0;31mNameError\u001b[0m                                 Traceback (most recent call last)",
      "\u001b[0;32m<ipython-input-161-7c899e957f74>\u001b[0m in \u001b[0;36m<module>\u001b[0;34m\u001b[0m\n\u001b[0;32m----> 1\u001b[0;31m \u001b[0md2\u001b[0m \u001b[0;34m=\u001b[0m \u001b[0m_df\u001b[0m\u001b[0;34m[\u001b[0m\u001b[0;34m'action_rhat_rewards'\u001b[0m\u001b[0;34m]\u001b[0m\u001b[0;31m#.compute()\u001b[0m\u001b[0;34m\u001b[0m\u001b[0;34m\u001b[0m\u001b[0m\n\u001b[0m\u001b[1;32m      2\u001b[0m \u001b[0msns\u001b[0m\u001b[0;34m.\u001b[0m\u001b[0mdistplot\u001b[0m\u001b[0;34m(\u001b[0m\u001b[0md2\u001b[0m\u001b[0;34m,\u001b[0m \u001b[0mkde\u001b[0m\u001b[0;34m=\u001b[0m\u001b[0;32mFalse\u001b[0m\u001b[0;34m,\u001b[0m \u001b[0mcolor\u001b[0m\u001b[0;34m=\u001b[0m\u001b[0;34m\"b\"\u001b[0m\u001b[0;34m)\u001b[0m\u001b[0;34m\u001b[0m\u001b[0;34m\u001b[0m\u001b[0m\n",
      "\u001b[0;31mNameError\u001b[0m: name '_df' is not defined"
     ]
    }
   ],
   "source": [
    "d2 = _df['action_rhat_rewards']#.compute()\n",
    "sns.distplot(d2, kde=False, color=\"b\")"
   ]
  },
  {
   "cell_type": "code",
   "execution_count": null,
   "metadata": {},
   "outputs": [],
   "source": [
    "np.mean(d1), np.mean(d2)"
   ]
  },
  {
   "cell_type": "code",
   "execution_count": 211,
   "metadata": {},
   "outputs": [
    {
     "data": {
      "text/plain": [
       "(0.030995784655686736, 0.3020443525904013)"
      ]
     },
     "execution_count": 211,
     "metadata": {},
     "output_type": "execute_result"
    }
   ],
   "source": [
    "np.mean(d1), np.mean(d2)"
   ]
  },
  {
   "cell_type": "code",
   "execution_count": 212,
   "metadata": {
    "cell_style": "split"
   },
   "outputs": [],
   "source": [
    "#d = _df[_df['rewards'] == 1.0]['item_idx_rhat_rewards']#.compute()\n",
    "#sns.distplot(d, kde=False, color=\"b\")"
   ]
  },
  {
   "cell_type": "code",
   "execution_count": 213,
   "metadata": {
    "cell_style": "split"
   },
   "outputs": [],
   "source": [
    "#d = _df[_df['rewards'] == 1.0]['action_rhat_rewards']#.compute()\n",
    "#sns.distplot(d, kde=False, color=\"b\")"
   ]
  },
  {
   "cell_type": "code",
   "execution_count": 214,
   "metadata": {},
   "outputs": [
    {
     "data": {
      "text/plain": [
       "(0.030995784655686736, 0.3020443525904013)"
      ]
     },
     "execution_count": 214,
     "metadata": {},
     "output_type": "execute_result"
    }
   ],
   "source": [
    "np.mean(_df['item_idx_rhat_rewards']), np.mean(_df['action_rhat_rewards'])"
   ]
  },
  {
   "cell_type": "code",
   "execution_count": 215,
   "metadata": {},
   "outputs": [
    {
     "data": {
      "text/plain": [
       "(1387, 366)"
      ]
     },
     "execution_count": 215,
     "metadata": {},
     "output_type": "execute_result"
    }
   ],
   "source": [
    "len(np.unique(_df['item_idx'])), len(np.unique(_df['item_idx_action']))"
   ]
  },
  {
   "cell_type": "markdown",
   "metadata": {},
   "source": [
    "# IPS"
   ]
  },
  {
   "cell_type": "code",
   "execution_count": 216,
   "metadata": {},
   "outputs": [],
   "source": [
    "from IPython.display import Image\n",
    "#Image(\"/home/marlesson/Downloads/Captura de tela de 2020-05-26 10-36-10.png\")"
   ]
  },
  {
   "cell_type": "code",
   "execution_count": 165,
   "metadata": {},
   "outputs": [
    {
     "data": {
      "text/html": [
       "<div>\n",
       "<style scoped>\n",
       "    .dataframe tbody tr th:only-of-type {\n",
       "        vertical-align: middle;\n",
       "    }\n",
       "\n",
       "    .dataframe tbody tr th {\n",
       "        vertical-align: top;\n",
       "    }\n",
       "\n",
       "    .dataframe thead th {\n",
       "        text-align: right;\n",
       "    }\n",
       "</style>\n",
       "<table border=\"1\" class=\"dataframe\">\n",
       "  <thead>\n",
       "    <tr style=\"text-align: right;\">\n",
       "      <th></th>\n",
       "      <th>timestamp</th>\n",
       "      <th>timestamp_diff</th>\n",
       "      <th>step</th>\n",
       "      <th>user_idx</th>\n",
       "      <th>session_idx</th>\n",
       "      <th>city_idx</th>\n",
       "      <th>sum_action_item_before</th>\n",
       "      <th>action_type_item_idx</th>\n",
       "      <th>action_type_idx</th>\n",
       "      <th>list_action_type_idx</th>\n",
       "      <th>...</th>\n",
       "      <th>wifi (public areas)</th>\n",
       "      <th>wifi (rooms)</th>\n",
       "      <th>star</th>\n",
       "      <th>list_metadata</th>\n",
       "      <th>item_idx_action</th>\n",
       "      <th>rewards</th>\n",
       "      <th>action_rhat_rewards</th>\n",
       "      <th>item_idx_rhat_rewards</th>\n",
       "      <th>ps_eval</th>\n",
       "      <th>ps_i</th>\n",
       "    </tr>\n",
       "  </thead>\n",
       "  <tbody>\n",
       "    <tr>\n",
       "      <td>0</td>\n",
       "      <td>1541461727</td>\n",
       "      <td>1541461708</td>\n",
       "      <td>2.0</td>\n",
       "      <td>3674</td>\n",
       "      <td>3219</td>\n",
       "      <td>0</td>\n",
       "      <td>0.0</td>\n",
       "      <td>809</td>\n",
       "      <td>2</td>\n",
       "      <td>[0, 0, 0, 0, 0, 0, 0, 0, 0, 2]</td>\n",
       "      <td>...</td>\n",
       "      <td>1</td>\n",
       "      <td>1</td>\n",
       "      <td>3</td>\n",
       "      <td>[0, 0, 1, 0, 0, 1, 0, 0, 1, 0, 0, 0, 0, 0, 1, ...</td>\n",
       "      <td>443</td>\n",
       "      <td>0.0</td>\n",
       "      <td>0.042200</td>\n",
       "      <td>0.029147</td>\n",
       "      <td>0.0</td>\n",
       "      <td>0</td>\n",
       "    </tr>\n",
       "    <tr>\n",
       "      <td>1</td>\n",
       "      <td>1541461727</td>\n",
       "      <td>1541461708</td>\n",
       "      <td>2.0</td>\n",
       "      <td>3674</td>\n",
       "      <td>3219</td>\n",
       "      <td>0</td>\n",
       "      <td>0.0</td>\n",
       "      <td>809</td>\n",
       "      <td>2</td>\n",
       "      <td>[0, 0, 0, 0, 0, 0, 0, 0, 0, 2]</td>\n",
       "      <td>...</td>\n",
       "      <td>1</td>\n",
       "      <td>1</td>\n",
       "      <td>3</td>\n",
       "      <td>[0, 0, 1, 0, 0, 1, 0, 0, 1, 0, 0, 0, 0, 0, 1, ...</td>\n",
       "      <td>443</td>\n",
       "      <td>1.0</td>\n",
       "      <td>0.121917</td>\n",
       "      <td>0.037443</td>\n",
       "      <td>0.0</td>\n",
       "      <td>0</td>\n",
       "    </tr>\n",
       "    <tr>\n",
       "      <td>2</td>\n",
       "      <td>1541461727</td>\n",
       "      <td>1541461708</td>\n",
       "      <td>2.0</td>\n",
       "      <td>3674</td>\n",
       "      <td>3219</td>\n",
       "      <td>0</td>\n",
       "      <td>0.0</td>\n",
       "      <td>809</td>\n",
       "      <td>2</td>\n",
       "      <td>[0, 0, 0, 0, 0, 0, 0, 0, 0, 2]</td>\n",
       "      <td>...</td>\n",
       "      <td>1</td>\n",
       "      <td>1</td>\n",
       "      <td>3</td>\n",
       "      <td>[0, 0, 1, 0, 0, 1, 0, 0, 1, 0, 0, 0, 0, 0, 1, ...</td>\n",
       "      <td>443</td>\n",
       "      <td>0.0</td>\n",
       "      <td>0.104303</td>\n",
       "      <td>0.020847</td>\n",
       "      <td>0.0</td>\n",
       "      <td>0</td>\n",
       "    </tr>\n",
       "    <tr>\n",
       "      <td>3</td>\n",
       "      <td>1541461727</td>\n",
       "      <td>1541461708</td>\n",
       "      <td>2.0</td>\n",
       "      <td>3674</td>\n",
       "      <td>3219</td>\n",
       "      <td>0</td>\n",
       "      <td>0.0</td>\n",
       "      <td>809</td>\n",
       "      <td>2</td>\n",
       "      <td>[0, 0, 0, 0, 0, 0, 0, 0, 0, 2]</td>\n",
       "      <td>...</td>\n",
       "      <td>1</td>\n",
       "      <td>1</td>\n",
       "      <td>3</td>\n",
       "      <td>[0, 0, 1, 0, 0, 1, 0, 0, 1, 0, 0, 0, 0, 0, 1, ...</td>\n",
       "      <td>443</td>\n",
       "      <td>0.0</td>\n",
       "      <td>0.090344</td>\n",
       "      <td>0.024130</td>\n",
       "      <td>0.0</td>\n",
       "      <td>0</td>\n",
       "    </tr>\n",
       "    <tr>\n",
       "      <td>4</td>\n",
       "      <td>1541461727</td>\n",
       "      <td>1541461708</td>\n",
       "      <td>2.0</td>\n",
       "      <td>3674</td>\n",
       "      <td>3219</td>\n",
       "      <td>0</td>\n",
       "      <td>0.0</td>\n",
       "      <td>809</td>\n",
       "      <td>2</td>\n",
       "      <td>[0, 0, 0, 0, 0, 0, 0, 0, 0, 2]</td>\n",
       "      <td>...</td>\n",
       "      <td>1</td>\n",
       "      <td>1</td>\n",
       "      <td>3</td>\n",
       "      <td>[0, 0, 1, 0, 0, 1, 0, 0, 1, 0, 0, 0, 0, 0, 1, ...</td>\n",
       "      <td>443</td>\n",
       "      <td>0.0</td>\n",
       "      <td>0.079640</td>\n",
       "      <td>0.050441</td>\n",
       "      <td>0.0</td>\n",
       "      <td>0</td>\n",
       "    </tr>\n",
       "  </tbody>\n",
       "</table>\n",
       "<p>5 rows × 285 columns</p>\n",
       "</div>"
      ],
      "text/plain": [
       "    timestamp  timestamp_diff  step  user_idx  session_idx  city_idx  \\\n",
       "0  1541461727      1541461708   2.0      3674         3219         0   \n",
       "1  1541461727      1541461708   2.0      3674         3219         0   \n",
       "2  1541461727      1541461708   2.0      3674         3219         0   \n",
       "3  1541461727      1541461708   2.0      3674         3219         0   \n",
       "4  1541461727      1541461708   2.0      3674         3219         0   \n",
       "\n",
       "   sum_action_item_before  action_type_item_idx  action_type_idx  \\\n",
       "0                     0.0                   809                2   \n",
       "1                     0.0                   809                2   \n",
       "2                     0.0                   809                2   \n",
       "3                     0.0                   809                2   \n",
       "4                     0.0                   809                2   \n",
       "\n",
       "             list_action_type_idx  ... wifi (public areas) wifi (rooms) star  \\\n",
       "0  [0, 0, 0, 0, 0, 0, 0, 0, 0, 2]  ...                   1            1    3   \n",
       "1  [0, 0, 0, 0, 0, 0, 0, 0, 0, 2]  ...                   1            1    3   \n",
       "2  [0, 0, 0, 0, 0, 0, 0, 0, 0, 2]  ...                   1            1    3   \n",
       "3  [0, 0, 0, 0, 0, 0, 0, 0, 0, 2]  ...                   1            1    3   \n",
       "4  [0, 0, 0, 0, 0, 0, 0, 0, 0, 2]  ...                   1            1    3   \n",
       "\n",
       "                                       list_metadata item_idx_action rewards  \\\n",
       "0  [0, 0, 1, 0, 0, 1, 0, 0, 1, 0, 0, 0, 0, 0, 1, ...             443     0.0   \n",
       "1  [0, 0, 1, 0, 0, 1, 0, 0, 1, 0, 0, 0, 0, 0, 1, ...             443     1.0   \n",
       "2  [0, 0, 1, 0, 0, 1, 0, 0, 1, 0, 0, 0, 0, 0, 1, ...             443     0.0   \n",
       "3  [0, 0, 1, 0, 0, 1, 0, 0, 1, 0, 0, 0, 0, 0, 1, ...             443     0.0   \n",
       "4  [0, 0, 1, 0, 0, 1, 0, 0, 1, 0, 0, 0, 0, 0, 1, ...             443     0.0   \n",
       "\n",
       "  action_rhat_rewards item_idx_rhat_rewards ps_eval ps_i  \n",
       "0            0.042200              0.029147     0.0    0  \n",
       "1            0.121917              0.037443     0.0    0  \n",
       "2            0.104303              0.020847     0.0    0  \n",
       "3            0.090344              0.024130     0.0    0  \n",
       "4            0.079640              0.050441     0.0    0  \n",
       "\n",
       "[5 rows x 285 columns]"
      ]
     },
     "execution_count": 165,
     "metadata": {},
     "output_type": "execute_result"
    }
   ],
   "source": [
    "import sys, os\n",
    "import numpy as np\n",
    "import pandas as pd\n",
    "import scipy\n",
    "\n",
    "sys.path.insert(0, \"../\")\n",
    "from recommendation.offpolicy_metrics import eval_IPS, eval_CIPS, eval_SNIPS, eval_doubly_robust\n",
    "\n",
    "_df = df_bce\n",
    "_df.head()"
   ]
  },
  {
   "cell_type": "code",
   "execution_count": 172,
   "metadata": {},
   "outputs": [],
   "source": [
    "def _offpolicy_eval(df: pd.DataFrame):\n",
    "    # Filter df used in offpolicy evaluation\n",
    "    ps_column             = 'ps'\n",
    "    e                     = 0.001\n",
    "    df_offpolicy          = df[df[ps_column] > e]\n",
    "\n",
    "    rewards               = df_offpolicy[\"rewards\"].values\n",
    "    ps_eval               = df_offpolicy[\"ps_eval\"].values\n",
    "    ps                    = df_offpolicy[ps_column].values\n",
    "    action_rhat_rewards   = df_offpolicy[\"action_rhat_rewards\"].values\n",
    "    item_idx_rhat_rewards = df_offpolicy[\"item_idx_rhat_rewards\"].values\n",
    "    ps_i = df_offpolicy[\"ps_i\"].values\n",
    "    \n",
    "    return action_rhat_rewards, item_idx_rhat_rewards, rewards, ps_eval, ps, ps_i\n",
    "\n",
    "def _calc_sample_weigths(rewards, t_props, l_props):\n",
    "  # l_props: Coleta\n",
    "  # t_props: Avaliação\n",
    "  #\n",
    "  # Compute the sample weights - propensity ratios\n",
    "  p_ratio = t_props / l_props\n",
    "\n",
    "  # Effective sample size for E_t estimate (from A. Owen)\n",
    "  n_e = len(rewards) * (np.mean(p_ratio) ** 2) / (p_ratio ** 2).mean()\n",
    "\n",
    "  # Critical value from t-distribution as we have unknown variance\n",
    "  alpha = .00125\n",
    "  cv = scipy.stats.t.ppf(1 - alpha, df=int(n_e) - 1)\n",
    "\n",
    "  return p_ratio, n_e, cv\n",
    "\n",
    "\n",
    "def eval_CIPS(rewards, t_props, l_props, cap=15):\n",
    "  # Calculate Sample Weigths\n",
    "  p_ratio, n_e, cv =  _calc_sample_weigths(rewards, t_props, l_props)\n",
    "\n",
    "\n",
    "  ############## \n",
    "  # CAPPED IPS #\n",
    "  ##############\n",
    "  # Cap ratios\n",
    "  p_ratio_capped = np.clip(p_ratio, a_min=None, a_max=cap)\n",
    "\n",
    "  # Expected reward for pi_t\n",
    "  E_t_capped = np.mean(rewards * p_ratio_capped)\n",
    "\n",
    "  # Variance of the estimate\n",
    "  var_capped = ((rewards * p_ratio_capped - E_t_capped) ** 2).mean()\n",
    "  stddev_capped = np.sqrt(var_capped)\n",
    "\n",
    "  # C.I. assuming unknown variance - use t-distribution and effective sample size\n",
    "  c = cv * stddev_capped / np.sqrt(int(n_e))\n",
    "\n",
    "  min_bound_capped = E_t_capped - c\n",
    "  max_bound_capped = E_t_capped + c\n",
    "\n",
    "  result = (E_t_capped, c) # 0.025, 0.500, 0.975\n",
    "\n",
    "  return result"
   ]
  },
  {
   "cell_type": "code",
   "execution_count": null,
   "metadata": {},
   "outputs": [],
   "source": []
  },
  {
   "cell_type": "code",
   "execution_count": 173,
   "metadata": {},
   "outputs": [
    {
     "data": {
      "text/html": [
       "<div>\n",
       "<style scoped>\n",
       "    .dataframe tbody tr th:only-of-type {\n",
       "        vertical-align: middle;\n",
       "    }\n",
       "\n",
       "    .dataframe tbody tr th {\n",
       "        vertical-align: top;\n",
       "    }\n",
       "\n",
       "    .dataframe thead th {\n",
       "        text-align: right;\n",
       "    }\n",
       "</style>\n",
       "<table border=\"1\" class=\"dataframe\">\n",
       "  <thead>\n",
       "    <tr style=\"text-align: right;\">\n",
       "      <th></th>\n",
       "      <th>timestamp</th>\n",
       "      <th>timestamp_diff</th>\n",
       "      <th>step</th>\n",
       "      <th>user_idx</th>\n",
       "      <th>session_idx</th>\n",
       "      <th>city_idx</th>\n",
       "      <th>sum_action_item_before</th>\n",
       "      <th>action_type_item_idx</th>\n",
       "      <th>action_type_idx</th>\n",
       "      <th>list_action_type_idx</th>\n",
       "      <th>...</th>\n",
       "      <th>wifi (public areas)</th>\n",
       "      <th>wifi (rooms)</th>\n",
       "      <th>star</th>\n",
       "      <th>list_metadata</th>\n",
       "      <th>item_idx_action</th>\n",
       "      <th>rewards</th>\n",
       "      <th>action_rhat_rewards</th>\n",
       "      <th>item_idx_rhat_rewards</th>\n",
       "      <th>ps_eval</th>\n",
       "      <th>ps_i</th>\n",
       "    </tr>\n",
       "  </thead>\n",
       "  <tbody>\n",
       "    <tr>\n",
       "      <td>0</td>\n",
       "      <td>1541461727</td>\n",
       "      <td>1541461708</td>\n",
       "      <td>2.0</td>\n",
       "      <td>3674</td>\n",
       "      <td>3219</td>\n",
       "      <td>0</td>\n",
       "      <td>0.0</td>\n",
       "      <td>809</td>\n",
       "      <td>2</td>\n",
       "      <td>[0, 0, 0, 0, 0, 0, 0, 0, 0, 2]</td>\n",
       "      <td>...</td>\n",
       "      <td>1</td>\n",
       "      <td>1</td>\n",
       "      <td>3</td>\n",
       "      <td>[0, 0, 1, 0, 0, 1, 0, 0, 1, 0, 0, 0, 0, 0, 1, ...</td>\n",
       "      <td>443</td>\n",
       "      <td>0.0</td>\n",
       "      <td>0.042200</td>\n",
       "      <td>0.029147</td>\n",
       "      <td>0.0</td>\n",
       "      <td>0</td>\n",
       "    </tr>\n",
       "    <tr>\n",
       "      <td>1</td>\n",
       "      <td>1541461727</td>\n",
       "      <td>1541461708</td>\n",
       "      <td>2.0</td>\n",
       "      <td>3674</td>\n",
       "      <td>3219</td>\n",
       "      <td>0</td>\n",
       "      <td>0.0</td>\n",
       "      <td>809</td>\n",
       "      <td>2</td>\n",
       "      <td>[0, 0, 0, 0, 0, 0, 0, 0, 0, 2]</td>\n",
       "      <td>...</td>\n",
       "      <td>1</td>\n",
       "      <td>1</td>\n",
       "      <td>3</td>\n",
       "      <td>[0, 0, 1, 0, 0, 1, 0, 0, 1, 0, 0, 0, 0, 0, 1, ...</td>\n",
       "      <td>443</td>\n",
       "      <td>1.0</td>\n",
       "      <td>0.121917</td>\n",
       "      <td>0.037443</td>\n",
       "      <td>0.0</td>\n",
       "      <td>0</td>\n",
       "    </tr>\n",
       "    <tr>\n",
       "      <td>2</td>\n",
       "      <td>1541461727</td>\n",
       "      <td>1541461708</td>\n",
       "      <td>2.0</td>\n",
       "      <td>3674</td>\n",
       "      <td>3219</td>\n",
       "      <td>0</td>\n",
       "      <td>0.0</td>\n",
       "      <td>809</td>\n",
       "      <td>2</td>\n",
       "      <td>[0, 0, 0, 0, 0, 0, 0, 0, 0, 2]</td>\n",
       "      <td>...</td>\n",
       "      <td>1</td>\n",
       "      <td>1</td>\n",
       "      <td>3</td>\n",
       "      <td>[0, 0, 1, 0, 0, 1, 0, 0, 1, 0, 0, 0, 0, 0, 1, ...</td>\n",
       "      <td>443</td>\n",
       "      <td>0.0</td>\n",
       "      <td>0.104303</td>\n",
       "      <td>0.020847</td>\n",
       "      <td>0.0</td>\n",
       "      <td>0</td>\n",
       "    </tr>\n",
       "    <tr>\n",
       "      <td>3</td>\n",
       "      <td>1541461727</td>\n",
       "      <td>1541461708</td>\n",
       "      <td>2.0</td>\n",
       "      <td>3674</td>\n",
       "      <td>3219</td>\n",
       "      <td>0</td>\n",
       "      <td>0.0</td>\n",
       "      <td>809</td>\n",
       "      <td>2</td>\n",
       "      <td>[0, 0, 0, 0, 0, 0, 0, 0, 0, 2]</td>\n",
       "      <td>...</td>\n",
       "      <td>1</td>\n",
       "      <td>1</td>\n",
       "      <td>3</td>\n",
       "      <td>[0, 0, 1, 0, 0, 1, 0, 0, 1, 0, 0, 0, 0, 0, 1, ...</td>\n",
       "      <td>443</td>\n",
       "      <td>0.0</td>\n",
       "      <td>0.090344</td>\n",
       "      <td>0.024130</td>\n",
       "      <td>0.0</td>\n",
       "      <td>0</td>\n",
       "    </tr>\n",
       "    <tr>\n",
       "      <td>4</td>\n",
       "      <td>1541461727</td>\n",
       "      <td>1541461708</td>\n",
       "      <td>2.0</td>\n",
       "      <td>3674</td>\n",
       "      <td>3219</td>\n",
       "      <td>0</td>\n",
       "      <td>0.0</td>\n",
       "      <td>809</td>\n",
       "      <td>2</td>\n",
       "      <td>[0, 0, 0, 0, 0, 0, 0, 0, 0, 2]</td>\n",
       "      <td>...</td>\n",
       "      <td>1</td>\n",
       "      <td>1</td>\n",
       "      <td>3</td>\n",
       "      <td>[0, 0, 1, 0, 0, 1, 0, 0, 1, 0, 0, 0, 0, 0, 1, ...</td>\n",
       "      <td>443</td>\n",
       "      <td>0.0</td>\n",
       "      <td>0.079640</td>\n",
       "      <td>0.050441</td>\n",
       "      <td>0.0</td>\n",
       "      <td>0</td>\n",
       "    </tr>\n",
       "  </tbody>\n",
       "</table>\n",
       "<p>5 rows × 285 columns</p>\n",
       "</div>"
      ],
      "text/plain": [
       "    timestamp  timestamp_diff  step  user_idx  session_idx  city_idx  \\\n",
       "0  1541461727      1541461708   2.0      3674         3219         0   \n",
       "1  1541461727      1541461708   2.0      3674         3219         0   \n",
       "2  1541461727      1541461708   2.0      3674         3219         0   \n",
       "3  1541461727      1541461708   2.0      3674         3219         0   \n",
       "4  1541461727      1541461708   2.0      3674         3219         0   \n",
       "\n",
       "   sum_action_item_before  action_type_item_idx  action_type_idx  \\\n",
       "0                     0.0                   809                2   \n",
       "1                     0.0                   809                2   \n",
       "2                     0.0                   809                2   \n",
       "3                     0.0                   809                2   \n",
       "4                     0.0                   809                2   \n",
       "\n",
       "             list_action_type_idx  ... wifi (public areas) wifi (rooms) star  \\\n",
       "0  [0, 0, 0, 0, 0, 0, 0, 0, 0, 2]  ...                   1            1    3   \n",
       "1  [0, 0, 0, 0, 0, 0, 0, 0, 0, 2]  ...                   1            1    3   \n",
       "2  [0, 0, 0, 0, 0, 0, 0, 0, 0, 2]  ...                   1            1    3   \n",
       "3  [0, 0, 0, 0, 0, 0, 0, 0, 0, 2]  ...                   1            1    3   \n",
       "4  [0, 0, 0, 0, 0, 0, 0, 0, 0, 2]  ...                   1            1    3   \n",
       "\n",
       "                                       list_metadata item_idx_action rewards  \\\n",
       "0  [0, 0, 1, 0, 0, 1, 0, 0, 1, 0, 0, 0, 0, 0, 1, ...             443     0.0   \n",
       "1  [0, 0, 1, 0, 0, 1, 0, 0, 1, 0, 0, 0, 0, 0, 1, ...             443     1.0   \n",
       "2  [0, 0, 1, 0, 0, 1, 0, 0, 1, 0, 0, 0, 0, 0, 1, ...             443     0.0   \n",
       "3  [0, 0, 1, 0, 0, 1, 0, 0, 1, 0, 0, 0, 0, 0, 1, ...             443     0.0   \n",
       "4  [0, 0, 1, 0, 0, 1, 0, 0, 1, 0, 0, 0, 0, 0, 1, ...             443     0.0   \n",
       "\n",
       "  action_rhat_rewards item_idx_rhat_rewards ps_eval ps_i  \n",
       "0            0.042200              0.029147     0.0    0  \n",
       "1            0.121917              0.037443     0.0    0  \n",
       "2            0.104303              0.020847     0.0    0  \n",
       "3            0.090344              0.024130     0.0    0  \n",
       "4            0.079640              0.050441     0.0    0  \n",
       "\n",
       "[5 rows x 285 columns]"
      ]
     },
     "execution_count": 173,
     "metadata": {},
     "output_type": "execute_result"
    }
   ],
   "source": [
    "_df.head()"
   ]
  },
  {
   "cell_type": "code",
   "execution_count": 174,
   "metadata": {
    "scrolled": true
   },
   "outputs": [],
   "source": [
    "#_df[(_df['item_idx'] == _df['item_idx_action'])]"
   ]
  },
  {
   "cell_type": "code",
   "execution_count": 175,
   "metadata": {},
   "outputs": [],
   "source": [
    "action_rhat_rewards, item_idx_rhat_rewards, \\\n",
    "    rewards, ps_eval, ps, ps_i = _offpolicy_eval(_df)"
   ]
  },
  {
   "cell_type": "code",
   "execution_count": 176,
   "metadata": {},
   "outputs": [
    {
     "data": {
      "text/plain": [
       "<matplotlib.axes._subplots.AxesSubplot at 0x7f00f1024dd8>"
      ]
     },
     "execution_count": 176,
     "metadata": {},
     "output_type": "execute_result"
    },
    {
     "data": {
      "image/png": "[encoded data removed]",
      "text/plain": [
       "<Figure size 432x288 with 1 Axes>"
      ]
     },
     "metadata": {
      "needs_background": "light"
     },
     "output_type": "display_data"
    }
   ],
   "source": [
    "sns.distplot(ps, kde=False, color=\"b\")"
   ]
  },
  {
   "cell_type": "code",
   "execution_count": 177,
   "metadata": {},
   "outputs": [
    {
     "data": {
      "text/plain": [
       "0.053164090524529924"
      ]
     },
     "execution_count": 177,
     "metadata": {},
     "output_type": "execute_result"
    }
   ],
   "source": [
    "np.mean(ps)"
   ]
  },
  {
   "cell_type": "code",
   "execution_count": 178,
   "metadata": {},
   "outputs": [
    {
     "data": {
      "text/plain": [
       "<matplotlib.axes._subplots.AxesSubplot at 0x7f00edf5db38>"
      ]
     },
     "execution_count": 178,
     "metadata": {},
     "output_type": "execute_result"
    },
    {
     "data": {
      "image/png": "[encoded data removed]",
      "text/plain": [
       "<Figure size 432x288 with 1 Axes>"
      ]
     },
     "metadata": {
      "needs_background": "light"
     },
     "output_type": "display_data"
    }
   ],
   "source": [
    "action_rhat_rewards, item_idx_rhat_rewards, \\\n",
    "    rewards, ps_eval, ps, ps_i = _offpolicy_eval(_df[_df['rewards'] == 1])\n",
    "sns.distplot(ps, kde=False, color=\"b\")"
   ]
  },
  {
   "cell_type": "code",
   "execution_count": 179,
   "metadata": {},
   "outputs": [
    {
     "data": {
      "text/plain": [
       "<matplotlib.axes._subplots.AxesSubplot at 0x7f00edea35c0>"
      ]
     },
     "execution_count": 179,
     "metadata": {},
     "output_type": "execute_result"
    },
    {
     "data": {
      "image/png": "[encoded data removed]",
      "text/plain": [
       "<Figure size 432x288 with 1 Axes>"
      ]
     },
     "metadata": {
      "needs_background": "light"
     },
     "output_type": "display_data"
    }
   ],
   "source": [
    "action_rhat_rewards, item_idx_rhat_rewards, \\\n",
    "    rewards, ps_eval, ps, ps_i = _offpolicy_eval(_df)\n",
    "sns.distplot(ps_i, kde=False, color=\"b\")"
   ]
  },
  {
   "cell_type": "code",
   "execution_count": 180,
   "metadata": {},
   "outputs": [
    {
     "data": {
      "text/plain": [
       "0.03835978835978836"
      ]
     },
     "execution_count": 180,
     "metadata": {},
     "output_type": "execute_result"
    }
   ],
   "source": [
    "np.mean(ps_eval)"
   ]
  },
  {
   "cell_type": "code",
   "execution_count": 181,
   "metadata": {},
   "outputs": [],
   "source": [
    "action_rhat_rewards, item_idx_rhat_rewards, \\\n",
    "    rewards, ps_eval, ps, ps_i = _offpolicy_eval(_df)"
   ]
  },
  {
   "cell_type": "code",
   "execution_count": 182,
   "metadata": {
    "cell_style": "split"
   },
   "outputs": [
    {
     "data": {
      "text/plain": [
       "<matplotlib.axes._subplots.AxesSubplot at 0x7f00eccf8da0>"
      ]
     },
     "execution_count": 182,
     "metadata": {},
     "output_type": "execute_result"
    },
    {
     "data": {
      "image/png": "[encoded data removed]",
      "text/plain": [
       "<Figure size 432x288 with 1 Axes>"
      ]
     },
     "metadata": {
      "needs_background": "light"
     },
     "output_type": "display_data"
    }
   ],
   "source": [
    "sns.distplot(ps, kde=False, color=\"b\")"
   ]
  },
  {
   "cell_type": "code",
   "execution_count": 183,
   "metadata": {},
   "outputs": [
    {
     "data": {
      "text/plain": [
       "0.053164090524529924"
      ]
     },
     "execution_count": 183,
     "metadata": {},
     "output_type": "execute_result"
    }
   ],
   "source": [
    "np.mean(ps)"
   ]
  },
  {
   "cell_type": "code",
   "execution_count": 184,
   "metadata": {
    "cell_style": "split"
   },
   "outputs": [
    {
     "data": {
      "text/plain": [
       "<matplotlib.axes._subplots.AxesSubplot at 0x7f00ecc71be0>"
      ]
     },
     "execution_count": 184,
     "metadata": {},
     "output_type": "execute_result"
    },
    {
     "data": {
      "image/png": "[encoded data removed]",
      "text/plain": [
       "<Figure size 432x288 with 1 Axes>"
      ]
     },
     "metadata": {
      "needs_background": "light"
     },
     "output_type": "display_data"
    }
   ],
   "source": [
    "sns.distplot(ps_i, kde=False, color=\"r\")"
   ]
  },
  {
   "cell_type": "code",
   "execution_count": 185,
   "metadata": {},
   "outputs": [
    {
     "data": {
      "text/plain": [
       "0.03835978835978836"
      ]
     },
     "execution_count": 185,
     "metadata": {},
     "output_type": "execute_result"
    }
   ],
   "source": [
    "np.mean(ps_i)"
   ]
  },
  {
   "cell_type": "code",
   "execution_count": 186,
   "metadata": {
    "cell_style": "split"
   },
   "outputs": [
    {
     "data": {
      "text/plain": [
       "<matplotlib.axes._subplots.AxesSubplot at 0x7f00ecc540f0>"
      ]
     },
     "execution_count": 186,
     "metadata": {},
     "output_type": "execute_result"
    },
    {
     "data": {
      "image/png": "[encoded data removed]",
      "text/plain": [
       "<Figure size 432x288 with 1 Axes>"
      ]
     },
     "metadata": {
      "needs_background": "light"
     },
     "output_type": "display_data"
    }
   ],
   "source": [
    "sw      = ps_i/ps\n",
    "#sw, _, _ = _calc_sample_weigths(rewards,ps_eval, ps)\n",
    "sns.distplot(sw, kde=False, color=\"b\")"
   ]
  },
  {
   "cell_type": "code",
   "execution_count": 195,
   "metadata": {
    "cell_style": "split"
   },
   "outputs": [
    {
     "data": {
      "text/plain": [
       "<matplotlib.axes._subplots.AxesSubplot at 0x7f00eb91bf60>"
      ]
     },
     "execution_count": 195,
     "metadata": {},
     "output_type": "execute_result"
    },
    {
     "data": {
      "image/png": "[encoded data removed]",
      "text/plain": [
       "<Figure size 432x288 with 1 Axes>"
      ]
     },
     "metadata": {
      "needs_background": "light"
     },
     "output_type": "display_data"
    }
   ],
   "source": [
    "p_ratio = sw*rewards\n",
    "#p_ratio = np.clip(p_ratio, a_min=None, a_max=1)\n",
    "\n",
    "sns.distplot(p_ratio, kde=False, color=\"r\")"
   ]
  },
  {
   "cell_type": "code",
   "execution_count": 197,
   "metadata": {},
   "outputs": [
    {
     "name": "stdout",
     "output_type": "stream",
     "text": [
      "0.2147701087810454\n"
     ]
    },
    {
     "data": {
      "text/plain": [
       "<matplotlib.axes._subplots.AxesSubplot at 0x7f00eb8cf390>"
      ]
     },
     "execution_count": 197,
     "metadata": {},
     "output_type": "execute_result"
    },
    {
     "data": {
      "image/png": "[encoded data removed]",
      "text/plain": [
       "<Figure size 432x288 with 1 Axes>"
      ]
     },
     "metadata": {
      "needs_background": "light"
     },
     "output_type": "display_data"
    }
   ],
   "source": [
    "#p_ratio = sw*rewards\n",
    "p_ratio = np.clip(sw, a_min=None, a_max=15)\n",
    "print(np.mean(p_ratio * rewards))\n",
    "sns.distplot(p_ratio, kde=False, color=\"r\")"
   ]
  },
  {
   "cell_type": "code",
   "execution_count": 189,
   "metadata": {},
   "outputs": [
    {
     "data": {
      "text/plain": [
       "(0.4495189837179817, 0.826801441200049)"
      ]
     },
     "execution_count": 189,
     "metadata": {},
     "output_type": "execute_result"
    }
   ],
   "source": [
    "eval_IPS(rewards, ps_i, ps)"
   ]
  },
  {
   "cell_type": "code",
   "execution_count": 190,
   "metadata": {},
   "outputs": [],
   "source": [
    "v = []\n",
    "for i in range(1000):\n",
    "   ips, _ =eval_CIPS(rewards, ps_i, ps, cap=i+1)\n",
    "   v.append(ips)"
   ]
  },
  {
   "cell_type": "code",
   "execution_count": 191,
   "metadata": {},
   "outputs": [
    {
     "data": {
      "text/plain": [
       "[<matplotlib.lines.Line2D at 0x7f00eb8f56a0>]"
      ]
     },
     "execution_count": 191,
     "metadata": {},
     "output_type": "execute_result"
    },
    {
     "data": {
      "image/png": "[encoded data removed]",
      "text/plain": [
       "<Figure size 432x288 with 1 Axes>"
      ]
     },
     "metadata": {
      "needs_background": "light"
     },
     "output_type": "display_data"
    }
   ],
   "source": [
    "plt.plot(v)\n",
    "\n",
    "#eval_IPS(rewards, ps_i, ps)"
   ]
  },
  {
   "cell_type": "code",
   "execution_count": 192,
   "metadata": {},
   "outputs": [
    {
     "data": {
      "text/plain": [
       "(0.4495189837179817, 0.826801441200049)"
      ]
     },
     "execution_count": 192,
     "metadata": {},
     "output_type": "execute_result"
    }
   ],
   "source": [
    "eval_IPS(rewards, ps_eval, ps)"
   ]
  },
  {
   "cell_type": "code",
   "execution_count": 193,
   "metadata": {},
   "outputs": [
    {
     "data": {
      "text/plain": [
       "(0.4495189837179817, 0.826801441200049)"
      ]
     },
     "execution_count": 193,
     "metadata": {},
     "output_type": "execute_result"
    }
   ],
   "source": [
    "eval_IPS(rewards, ps_i, ps)"
   ]
  },
  {
   "cell_type": "code",
   "execution_count": 194,
   "metadata": {},
   "outputs": [
    {
     "data": {
      "text/plain": [
       "(0.01616446955430006, 0.017260300746018038)"
      ]
     },
     "execution_count": 194,
     "metadata": {},
     "output_type": "execute_result"
    }
   ],
   "source": [
    "eval_CIPS(rewards, ps_i, ps, cap=1)"
   ]
  },
  {
   "cell_type": "code",
   "execution_count": null,
   "metadata": {},
   "outputs": [],
   "source": []
  },
  {
   "cell_type": "markdown",
   "metadata": {},
   "source": [
    "# DR"
   ]
  },
  {
   "cell_type": "code",
   "execution_count": 198,
   "metadata": {},
   "outputs": [],
   "source": [
    "from IPython.display import Image\n",
    "#Image(\"/home/marlesson/Downloads/Captura de tela de 2020-05-26 10-36-18.png\")"
   ]
  },
  {
   "cell_type": "code",
   "execution_count": 199,
   "metadata": {},
   "outputs": [],
   "source": [
    "def eval_doubly_robust(action_rhat_rewards, item_idx_rhat_rewards, rewards, \n",
    "                       t_props, l_props, cap=None):\n",
    "  # t_props: Avaliação\n",
    "  # l_props: Coleta\n",
    "\n",
    "  # Calculate Sample Weigths\n",
    "  p_ratio, n_e, cv =  _calc_sample_weigths(rewards, t_props, l_props)\n",
    "\n",
    "\n",
    "  # Cap ratios\n",
    "  if cap is not None:\n",
    "    p_ratio = np.clip(p_ratio, a_min=None, a_max=cap)\n",
    "\n",
    "  #################\n",
    "  # Roubly Robust #\n",
    "  #################\n",
    "  dr = (p_ratio*(rewards - item_idx_rhat_rewards)) + action_rhat_rewards\n",
    "  x1 = (rewards - item_idx_rhat_rewards)\n",
    "  x2 = action_rhat_rewards\n",
    "  #dr = (p_ratio*(rewards - item_idx_rhat_rewards)) + action_rhat_rewards\n",
    "\n",
    "  confidence=0.95\n",
    "  n = len(dr)\n",
    "  m, se = np.mean(dr), scipy.stats.sem(dr)\n",
    "  h = se * scipy.stats.t.ppf((1 + confidence) / 2., n-1)\n",
    "\n",
    "  return dr, m, h, x1, x2"
   ]
  },
  {
   "cell_type": "code",
   "execution_count": 200,
   "metadata": {},
   "outputs": [],
   "source": [
    "# sns.distplot(action_rhat_rewards, kde=False, color=\"b\")\n",
    "# sns.distplot(item_idx_rhat_rewards, kde=False, color=\"r\")"
   ]
  },
  {
   "cell_type": "code",
   "execution_count": 201,
   "metadata": {},
   "outputs": [],
   "source": [
    "# CRM\n",
    "action_rhat_rewards, item_idx_rhat_rewards, \\\n",
    "    rewards, ps_eval, ps, ps_i = _offpolicy_eval(ps_model1)\n",
    "\n",
    "crm_val = []\n",
    "for i in range(1000):\n",
    "    dr_r, dr, c, x1, x2 = eval_doubly_robust(action_rhat_rewards, item_idx_rhat_rewards, rewards, ps_i, ps, cap=i)\n",
    "    dr\n",
    "    crm_val.append(dr)\n",
    "    \n"
   ]
  },
  {
   "cell_type": "code",
   "execution_count": 202,
   "metadata": {},
   "outputs": [],
   "source": [
    "# BCE\n",
    "action_rhat_rewards, item_idx_rhat_rewards, \\\n",
    "    rewards, ps_eval, ps, ps_i = _offpolicy_eval(ps_model2)\n",
    "\n",
    "bce_val = []\n",
    "for i in range(1000):\n",
    "    dr_r, dr, c, x1, x2 = eval_doubly_robust(action_rhat_rewards, item_idx_rhat_rewards, rewards, ps_i, ps, cap=i)\n",
    "    dr\n",
    "    bce_val.append(dr)"
   ]
  },
  {
   "cell_type": "code",
   "execution_count": 203,
   "metadata": {},
   "outputs": [
    {
     "data": {
      "text/plain": [
       "<matplotlib.legend.Legend at 0x7f00ea11c080>"
      ]
     },
     "execution_count": 203,
     "metadata": {},
     "output_type": "execute_result"
    },
    {
     "data": {
      "image/png": "[encoded data removed]",
      "text/plain": [
       "<Figure size 432x288 with 1 Axes>"
      ]
     },
     "metadata": {
      "needs_background": "light"
     },
     "output_type": "display_data"
    }
   ],
   "source": [
    "plt_crm = plt.plot(crm_val, label='CRM')\n",
    "plt_bce = plt.plot(bce_val, label='BCE')\n",
    "plt.legend()"
   ]
  },
  {
   "cell_type": "code",
   "execution_count": 204,
   "metadata": {},
   "outputs": [
    {
     "data": {
      "text/plain": [
       "<matplotlib.legend.Legend at 0x7f00ea074c88>"
      ]
     },
     "execution_count": 204,
     "metadata": {},
     "output_type": "execute_result"
    },
    {
     "data": {
      "image/png": "[encoded data removed]",
      "text/plain": [
       "<Figure size 432x288 with 1 Axes>"
      ]
     },
     "metadata": {
      "needs_background": "light"
     },
     "output_type": "display_data"
    }
   ],
   "source": [
    "plt_crm = plt.plot(crm_val[:30], label='CRM')\n",
    "plt_bce = plt.plot(bce_val[:30], label='BCE')\n",
    "plt.legend()"
   ]
  },
  {
   "cell_type": "code",
   "execution_count": null,
   "metadata": {},
   "outputs": [],
   "source": []
  },
  {
   "cell_type": "code",
   "execution_count": 177,
   "metadata": {
    "cell_style": "split"
   },
   "outputs": [
    {
     "data": {
      "text/plain": [
       "<matplotlib.axes._subplots.AxesSubplot at 0x7f730c9c6f28>"
      ]
     },
     "execution_count": 177,
     "metadata": {},
     "output_type": "execute_result"
    },
    {
     "data": {
      "image/png": "[encoded data removed]",
      "text/plain": [
       "<Figure size 432x288 with 1 Axes>"
      ]
     },
     "metadata": {
      "needs_background": "light"
     },
     "output_type": "display_data"
    }
   ],
   "source": [
    "sns.distplot(x1, kde=False, color=\"b\")"
   ]
  },
  {
   "cell_type": "code",
   "execution_count": 178,
   "metadata": {
    "cell_style": "split"
   },
   "outputs": [
    {
     "data": {
      "text/plain": [
       "<matplotlib.axes._subplots.AxesSubplot at 0x7f730c94d710>"
      ]
     },
     "execution_count": 178,
     "metadata": {},
     "output_type": "execute_result"
    },
    {
     "data": {
      "image/png": "[encoded data removed]",
      "text/plain": [
       "<Figure size 432x288 with 1 Axes>"
      ]
     },
     "metadata": {
      "needs_background": "light"
     },
     "output_type": "display_data"
    }
   ],
   "source": [
    "sns.distplot(x2, kde=False, color=\"b\")"
   ]
  },
  {
   "cell_type": "code",
   "execution_count": 179,
   "metadata": {},
   "outputs": [
    {
     "data": {
      "text/plain": [
       "<matplotlib.axes._subplots.AxesSubplot at 0x7f730c8e0048>"
      ]
     },
     "execution_count": 179,
     "metadata": {},
     "output_type": "execute_result"
    },
    {
     "data": {
      "image/png": "[encoded data removed]",
      "text/plain": [
       "<Figure size 432x288 with 1 Axes>"
      ]
     },
     "metadata": {
      "needs_background": "light"
     },
     "output_type": "display_data"
    }
   ],
   "source": [
    "sns.distplot(x1, kde=False, color=\"b\")"
   ]
  },
  {
   "cell_type": "code",
   "execution_count": null,
   "metadata": {},
   "outputs": [],
   "source": []
  },
  {
   "cell_type": "code",
   "execution_count": 180,
   "metadata": {},
   "outputs": [
    {
     "data": {
      "text/plain": [
       "<matplotlib.axes._subplots.AxesSubplot at 0x7f730c7cdba8>"
      ]
     },
     "execution_count": 180,
     "metadata": {},
     "output_type": "execute_result"
    },
    {
     "data": {
      "image/png": "[encoded data removed]",
      "text/plain": [
       "<Figure size 432x288 with 1 Axes>"
      ]
     },
     "metadata": {
      "needs_background": "light"
     },
     "output_type": "display_data"
    }
   ],
   "source": [
    "sns.distplot(dr_r, kde=False, color=\"b\")"
   ]
  },
  {
   "cell_type": "code",
   "execution_count": 181,
   "metadata": {},
   "outputs": [
    {
     "data": {
      "text/plain": [
       "<matplotlib.collections.PathCollection at 0x7f730c9f5cc0>"
      ]
     },
     "execution_count": 181,
     "metadata": {},
     "output_type": "execute_result"
    },
    {
     "data": {
      "image/png": "[encoded data removed]",
      "text/plain": [
       "<Figure size 432x288 with 1 Axes>"
      ]
     },
     "metadata": {
      "needs_background": "light"
     },
     "output_type": "display_data"
    }
   ],
   "source": [
    "plt.scatter(action_rhat_rewards, item_idx_rhat_rewards)"
   ]
  },
  {
   "cell_type": "code",
   "execution_count": 182,
   "metadata": {},
   "outputs": [
    {
     "data": {
      "text/plain": [
       "(0.34936907150936214, 0.34936907150936214, 0.01051716921791203)"
      ]
     },
     "execution_count": 182,
     "metadata": {},
     "output_type": "execute_result"
    }
   ],
   "source": [
    "np.mean(dr_r), dr, c"
   ]
  },
  {
   "cell_type": "code",
   "execution_count": null,
   "metadata": {},
   "outputs": [],
   "source": []
  }
 ],
 "metadata": {
  "kernelspec": {
   "display_name": "Python 3",
   "language": "python",
   "name": "python3"
  },
  "language_info": {
   "codemirror_mode": {
    "name": "ipython",
    "version": 3
   },
   "file_extension": ".py",
   "mimetype": "text/x-python",
   "name": "python",
   "nbconvert_exporter": "python",
   "pygments_lexer": "ipython3",
   "version": "3.6.7"
  },
  "toc": {
   "base_numbering": 1,
   "nav_menu": {},
   "number_sections": true,
   "sideBar": true,
   "skip_h1_title": false,
   "title_cell": "Table of Contents",
   "title_sidebar": "Contents",
   "toc_cell": false,
   "toc_position": {},
   "toc_section_display": true,
   "toc_window_display": false
  }
 },
 "nbformat": 4,
 "nbformat_minor": 4
}
