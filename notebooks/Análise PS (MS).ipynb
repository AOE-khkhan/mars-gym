{
 "cells": [
  {
   "cell_type": "markdown",
   "metadata": {},
   "source": [
    "## Propensity Score"
   ]
  },
  {
   "cell_type": "code",
   "execution_count": 27,
   "metadata": {},
   "outputs": [],
   "source": [
    "import pandas as pd\n",
    "import dask.dataframe as dd\n",
    "import numpy as np\n",
    "import seaborn as sns\n",
    "import matplotlib.pyplot as plt"
   ]
  },
  {
   "cell_type": "code",
   "execution_count": 28,
   "metadata": {
    "hide_input": false
   },
   "outputs": [],
   "source": [
    "from IPython.display import Image\n",
    "#Image(\"/home/marlesson/Downloads/metrics_ps.png\")"
   ]
  },
  {
   "cell_type": "code",
   "execution_count": 29,
   "metadata": {},
   "outputs": [
    {
     "name": "stdout",
     "output_type": "stream",
     "text": [
      "TrivagoLogisticModelTraining_selu____200_04a4720481_4c2b309c4e_ps_model\r\n",
      "TrivagoLogisticModelTraining_selu____200_0534fe1b23_86ec0283d1_ps_model\r\n",
      "TrivagoLogisticModelTraining_selu____200_0534fe1b23_acca40e6e0_ps_per_probability\r\n",
      "TrivagoLogisticModelTraining_selu____200_0f933707b1_d46a259103_ps_model\r\n",
      "TrivagoLogisticModelTraining_selu____200_4083caf63e_37e20fc745_ps_per_probability\r\n",
      "TrivagoLogisticModelTraining_selu____200_9cfc524396_7fa8674381_ps_model\r\n",
      "TrivagoLogisticModelTraining_selu____200_c5c7d72ea0_312ee91e2b_ps_model\r\n",
      "TrivagoLogisticModelTraining_selu____200_d9e86dbbca_b7e78e7e06_ps_model\r\n",
      "TrivagoLogisticModelTraining_selu____200_f036a0f1fa_bb9b12fc38_ps_model\r\n"
     ]
    }
   ],
   "source": [
    "!ls ../../deep-reco-gym/output/evaluation/EvaluateTrivagoModelTestSetPredictions/results/"
   ]
  },
  {
   "cell_type": "code",
   "execution_count": 30,
   "metadata": {},
   "outputs": [
    {
     "data": {
      "text/html": [
       "<div>\n",
       "<style scoped>\n",
       "    .dataframe tbody tr th:only-of-type {\n",
       "        vertical-align: middle;\n",
       "    }\n",
       "\n",
       "    .dataframe tbody tr th {\n",
       "        vertical-align: top;\n",
       "    }\n",
       "\n",
       "    .dataframe thead th {\n",
       "        text-align: right;\n",
       "    }\n",
       "</style>\n",
       "<table border=\"1\" class=\"dataframe\">\n",
       "  <thead>\n",
       "    <tr style=\"text-align: right;\">\n",
       "      <th></th>\n",
       "      <th>timestamp</th>\n",
       "      <th>timestamp_diff</th>\n",
       "      <th>step</th>\n",
       "      <th>user_idx</th>\n",
       "      <th>session_idx</th>\n",
       "      <th>city_idx</th>\n",
       "      <th>sum_action_item_before</th>\n",
       "      <th>action_type_item_idx</th>\n",
       "      <th>action_type_idx</th>\n",
       "      <th>list_action_type_idx</th>\n",
       "      <th>...</th>\n",
       "      <th>vocab_size</th>\n",
       "      <th>window_hist_size</th>\n",
       "      <th>item_idx_action</th>\n",
       "      <th>relevance_list</th>\n",
       "      <th>prob_actions</th>\n",
       "      <th>rewards</th>\n",
       "      <th>action_rhat_rewards</th>\n",
       "      <th>item_idx_rhat_rewards</th>\n",
       "      <th>ps_eval</th>\n",
       "      <th>ps_i</th>\n",
       "    </tr>\n",
       "  </thead>\n",
       "  <tbody>\n",
       "    <tr>\n",
       "      <td>0</td>\n",
       "      <td>1541461727</td>\n",
       "      <td>1541461708</td>\n",
       "      <td>2.0</td>\n",
       "      <td>3674</td>\n",
       "      <td>3219</td>\n",
       "      <td>0</td>\n",
       "      <td>0.0</td>\n",
       "      <td>809</td>\n",
       "      <td>2</td>\n",
       "      <td>[0, 0, 0, 0, 0, 0, 0, 0, 0, 2]</td>\n",
       "      <td>...</td>\n",
       "      <td>120</td>\n",
       "      <td>10</td>\n",
       "      <td>603</td>\n",
       "      <td>[0, 0, 0, 1, 0, 0, 0, 0, 0, 0, 0, 0]</td>\n",
       "      <td>[0, 0, 0, 1, 0, 0, 0, 0, 0, 0, 0, 0]</td>\n",
       "      <td>0.0</td>\n",
       "      <td>0.043061</td>\n",
       "      <td>0.016492</td>\n",
       "      <td>1</td>\n",
       "      <td>0</td>\n",
       "    </tr>\n",
       "    <tr>\n",
       "      <td>1</td>\n",
       "      <td>1541461727</td>\n",
       "      <td>1541461708</td>\n",
       "      <td>2.0</td>\n",
       "      <td>3674</td>\n",
       "      <td>3219</td>\n",
       "      <td>0</td>\n",
       "      <td>0.0</td>\n",
       "      <td>809</td>\n",
       "      <td>2</td>\n",
       "      <td>[0, 0, 0, 0, 0, 0, 0, 0, 0, 2]</td>\n",
       "      <td>...</td>\n",
       "      <td>120</td>\n",
       "      <td>10</td>\n",
       "      <td>603</td>\n",
       "      <td>[0, 0, 0, 1, 0, 0, 0, 0, 0, 0, 0, 0]</td>\n",
       "      <td>[0, 0, 0, 1, 0, 0, 0, 0, 0, 0, 0, 0]</td>\n",
       "      <td>1.0</td>\n",
       "      <td>0.412815</td>\n",
       "      <td>0.150671</td>\n",
       "      <td>1</td>\n",
       "      <td>0</td>\n",
       "    </tr>\n",
       "    <tr>\n",
       "      <td>2</td>\n",
       "      <td>1541461727</td>\n",
       "      <td>1541461708</td>\n",
       "      <td>2.0</td>\n",
       "      <td>3674</td>\n",
       "      <td>3219</td>\n",
       "      <td>0</td>\n",
       "      <td>0.0</td>\n",
       "      <td>809</td>\n",
       "      <td>2</td>\n",
       "      <td>[0, 0, 0, 0, 0, 0, 0, 0, 0, 2]</td>\n",
       "      <td>...</td>\n",
       "      <td>120</td>\n",
       "      <td>10</td>\n",
       "      <td>603</td>\n",
       "      <td>[0, 0, 0, 1, 0, 0, 0, 0, 0, 0, 0, 0]</td>\n",
       "      <td>[0, 0, 0, 1, 0, 0, 0, 0, 0, 0, 0, 0]</td>\n",
       "      <td>0.0</td>\n",
       "      <td>0.327208</td>\n",
       "      <td>0.120953</td>\n",
       "      <td>1</td>\n",
       "      <td>0</td>\n",
       "    </tr>\n",
       "    <tr>\n",
       "      <td>3</td>\n",
       "      <td>1541461727</td>\n",
       "      <td>1541461708</td>\n",
       "      <td>2.0</td>\n",
       "      <td>3674</td>\n",
       "      <td>3219</td>\n",
       "      <td>0</td>\n",
       "      <td>0.0</td>\n",
       "      <td>809</td>\n",
       "      <td>2</td>\n",
       "      <td>[0, 0, 0, 0, 0, 0, 0, 0, 0, 2]</td>\n",
       "      <td>...</td>\n",
       "      <td>120</td>\n",
       "      <td>10</td>\n",
       "      <td>603</td>\n",
       "      <td>[0, 0, 0, 1, 0, 0, 0, 0, 0, 0, 0, 0]</td>\n",
       "      <td>[0, 0, 0, 1, 0, 0, 0, 0, 0, 0, 0, 0]</td>\n",
       "      <td>0.0</td>\n",
       "      <td>0.253131</td>\n",
       "      <td>0.213226</td>\n",
       "      <td>1</td>\n",
       "      <td>0</td>\n",
       "    </tr>\n",
       "    <tr>\n",
       "      <td>4</td>\n",
       "      <td>1541461727</td>\n",
       "      <td>1541461708</td>\n",
       "      <td>2.0</td>\n",
       "      <td>3674</td>\n",
       "      <td>3219</td>\n",
       "      <td>0</td>\n",
       "      <td>0.0</td>\n",
       "      <td>809</td>\n",
       "      <td>2</td>\n",
       "      <td>[0, 0, 0, 0, 0, 0, 0, 0, 0, 2]</td>\n",
       "      <td>...</td>\n",
       "      <td>120</td>\n",
       "      <td>10</td>\n",
       "      <td>603</td>\n",
       "      <td>[0, 0, 0, 1, 0, 0, 0, 0, 0, 0, 0, 0]</td>\n",
       "      <td>[0, 0, 0, 1, 0, 0, 0, 0, 0, 0, 0, 0]</td>\n",
       "      <td>0.0</td>\n",
       "      <td>0.191347</td>\n",
       "      <td>0.191347</td>\n",
       "      <td>1</td>\n",
       "      <td>1</td>\n",
       "    </tr>\n",
       "  </tbody>\n",
       "</table>\n",
       "<p>5 rows × 127 columns</p>\n",
       "</div>"
      ],
      "text/plain": [
       "    timestamp  timestamp_diff  step  user_idx  session_idx  city_idx  \\\n",
       "0  1541461727      1541461708   2.0      3674         3219         0   \n",
       "1  1541461727      1541461708   2.0      3674         3219         0   \n",
       "2  1541461727      1541461708   2.0      3674         3219         0   \n",
       "3  1541461727      1541461708   2.0      3674         3219         0   \n",
       "4  1541461727      1541461708   2.0      3674         3219         0   \n",
       "\n",
       "   sum_action_item_before  action_type_item_idx  action_type_idx  \\\n",
       "0                     0.0                   809                2   \n",
       "1                     0.0                   809                2   \n",
       "2                     0.0                   809                2   \n",
       "3                     0.0                   809                2   \n",
       "4                     0.0                   809                2   \n",
       "\n",
       "             list_action_type_idx  ... vocab_size window_hist_size  \\\n",
       "0  [0, 0, 0, 0, 0, 0, 0, 0, 0, 2]  ...        120               10   \n",
       "1  [0, 0, 0, 0, 0, 0, 0, 0, 0, 2]  ...        120               10   \n",
       "2  [0, 0, 0, 0, 0, 0, 0, 0, 0, 2]  ...        120               10   \n",
       "3  [0, 0, 0, 0, 0, 0, 0, 0, 0, 2]  ...        120               10   \n",
       "4  [0, 0, 0, 0, 0, 0, 0, 0, 0, 2]  ...        120               10   \n",
       "\n",
       "  item_idx_action                        relevance_list  \\\n",
       "0             603  [0, 0, 0, 1, 0, 0, 0, 0, 0, 0, 0, 0]   \n",
       "1             603  [0, 0, 0, 1, 0, 0, 0, 0, 0, 0, 0, 0]   \n",
       "2             603  [0, 0, 0, 1, 0, 0, 0, 0, 0, 0, 0, 0]   \n",
       "3             603  [0, 0, 0, 1, 0, 0, 0, 0, 0, 0, 0, 0]   \n",
       "4             603  [0, 0, 0, 1, 0, 0, 0, 0, 0, 0, 0, 0]   \n",
       "\n",
       "                           prob_actions rewards action_rhat_rewards  \\\n",
       "0  [0, 0, 0, 1, 0, 0, 0, 0, 0, 0, 0, 0]     0.0            0.043061   \n",
       "1  [0, 0, 0, 1, 0, 0, 0, 0, 0, 0, 0, 0]     1.0            0.412815   \n",
       "2  [0, 0, 0, 1, 0, 0, 0, 0, 0, 0, 0, 0]     0.0            0.327208   \n",
       "3  [0, 0, 0, 1, 0, 0, 0, 0, 0, 0, 0, 0]     0.0            0.253131   \n",
       "4  [0, 0, 0, 1, 0, 0, 0, 0, 0, 0, 0, 0]     0.0            0.191347   \n",
       "\n",
       "  item_idx_rhat_rewards ps_eval ps_i  \n",
       "0              0.016492       1    0  \n",
       "1              0.150671       1    0  \n",
       "2              0.120953       1    0  \n",
       "3              0.213226       1    0  \n",
       "4              0.191347       1    1  \n",
       "\n",
       "[5 rows x 127 columns]"
      ]
     },
     "execution_count": 30,
     "metadata": {},
     "output_type": "execute_result"
    }
   ],
   "source": [
    "# CRM\n",
    "df_crm = dd.read_csv('../../deep-reco-gym/output/evaluation/EvaluateTrivagoModelTestSetPredictions/results/TrivagoLogisticModelTraining_selu____200_c5c7d72ea0_312ee91e2b_ps_model/df_offpolicy.csv').compute()\n",
    "\n",
    "# BCE\n",
    "df_bce = dd.read_csv('../../deep-reco-gym/output/evaluation/EvaluateTrivagoModelTestSetPredictions/results/TrivagoLogisticModelTraining_selu____200_f036a0f1fa_bb9b12fc38_ps_model/df_offpolicy.csv').compute()\n",
    "\n",
    "df_crm['ps_i'] = df_crm.apply(lambda row: int(row['item_idx'] == row['item_idx_action']), axis=1)\n",
    "df_bce['ps_i'] = df_bce.apply(lambda row: int(row['item_idx'] == row['item_idx_action']), axis=1)\n",
    "\n",
    "df = df_bce\n",
    "df.head()\n"
   ]
  },
  {
   "cell_type": "code",
   "execution_count": null,
   "metadata": {},
   "outputs": [],
   "source": []
  },
  {
   "cell_type": "markdown",
   "metadata": {},
   "source": [
    "## IPS"
   ]
  },
  {
   "cell_type": "code",
   "execution_count": 31,
   "metadata": {},
   "outputs": [
    {
     "data": {
      "image/png": "[encoded data removed]",
      "text/plain": [
       "<IPython.core.display.Image object>"
      ]
     },
     "execution_count": 31,
     "metadata": {},
     "output_type": "execute_result"
    }
   ],
   "source": [
    "from IPython.display import Image\n",
    "Image(\"/home/marlesson/Downloads/Captura de tela de 2020-05-26 10-36-26.png\")\n"
   ]
  },
  {
   "cell_type": "code",
   "execution_count": 32,
   "metadata": {},
   "outputs": [
    {
     "data": {
      "text/plain": [
       "(757, 127)"
      ]
     },
     "execution_count": 32,
     "metadata": {},
     "output_type": "execute_result"
    }
   ],
   "source": [
    "df_hit_crm = df_crm[(df_crm.ps_i == 1) & (df_crm.rewards == 1)]\n",
    "df_hit_crm.shape"
   ]
  },
  {
   "cell_type": "code",
   "execution_count": 33,
   "metadata": {},
   "outputs": [
    {
     "data": {
      "text/plain": [
       "(790, 127)"
      ]
     },
     "execution_count": 33,
     "metadata": {},
     "output_type": "execute_result"
    }
   ],
   "source": [
    "df_hit_bce = df_bce[(df_bce.ps_i == 1) & (df_bce.rewards == 1)]\n",
    "df_hit_bce.shape"
   ]
  },
  {
   "cell_type": "code",
   "execution_count": 34,
   "metadata": {
    "scrolled": true
   },
   "outputs": [
    {
     "data": {
      "text/html": [
       "<div>\n",
       "<style scoped>\n",
       "    .dataframe tbody tr th:only-of-type {\n",
       "        vertical-align: middle;\n",
       "    }\n",
       "\n",
       "    .dataframe tbody tr th {\n",
       "        vertical-align: top;\n",
       "    }\n",
       "\n",
       "    .dataframe thead th {\n",
       "        text-align: right;\n",
       "    }\n",
       "</style>\n",
       "<table border=\"1\" class=\"dataframe\">\n",
       "  <thead>\n",
       "    <tr style=\"text-align: right;\">\n",
       "      <th></th>\n",
       "      <th>timestamp</th>\n",
       "      <th>timestamp_diff</th>\n",
       "      <th>step</th>\n",
       "      <th>user_idx</th>\n",
       "      <th>session_idx</th>\n",
       "      <th>city_idx</th>\n",
       "      <th>sum_action_item_before</th>\n",
       "      <th>action_type_item_idx</th>\n",
       "      <th>action_type_idx</th>\n",
       "      <th>list_action_type_idx</th>\n",
       "      <th>...</th>\n",
       "      <th>vocab_size</th>\n",
       "      <th>window_hist_size</th>\n",
       "      <th>item_idx_action</th>\n",
       "      <th>relevance_list</th>\n",
       "      <th>prob_actions</th>\n",
       "      <th>rewards</th>\n",
       "      <th>action_rhat_rewards</th>\n",
       "      <th>item_idx_rhat_rewards</th>\n",
       "      <th>ps_eval</th>\n",
       "      <th>ps_i</th>\n",
       "    </tr>\n",
       "  </thead>\n",
       "  <tbody>\n",
       "    <tr>\n",
       "      <td>81</td>\n",
       "      <td>1541461759</td>\n",
       "      <td>29287773125</td>\n",
       "      <td>20.0</td>\n",
       "      <td>1373</td>\n",
       "      <td>1572</td>\n",
       "      <td>0</td>\n",
       "      <td>19.0</td>\n",
       "      <td>221</td>\n",
       "      <td>2</td>\n",
       "      <td>[5, 5, 5, 5, 5, 5, 5, 5, 5, 5]</td>\n",
       "      <td>...</td>\n",
       "      <td>120</td>\n",
       "      <td>10</td>\n",
       "      <td>221</td>\n",
       "      <td>[1, 0, 0, 0, 0, 0, 0, 0, 0, 0, 0, 0, 0, 0, 0, ...</td>\n",
       "      <td>[1, 0, 0, 0, 0, 0, 0, 0, 0, 0, 0, 0, 0, 0, 0, ...</td>\n",
       "      <td>1.0</td>\n",
       "      <td>0.997568</td>\n",
       "      <td>0.997568</td>\n",
       "      <td>1</td>\n",
       "      <td>1</td>\n",
       "    </tr>\n",
       "    <tr>\n",
       "      <td>97</td>\n",
       "      <td>1541461770</td>\n",
       "      <td>163394825917</td>\n",
       "      <td>107.0</td>\n",
       "      <td>1914</td>\n",
       "      <td>3635</td>\n",
       "      <td>0</td>\n",
       "      <td>16.0</td>\n",
       "      <td>616</td>\n",
       "      <td>2</td>\n",
       "      <td>[5, 5, 5, 5, 5, 10, 5, 5, 5, 5]</td>\n",
       "      <td>...</td>\n",
       "      <td>120</td>\n",
       "      <td>10</td>\n",
       "      <td>616</td>\n",
       "      <td>[1, 0, 0, 0, 0, 0, 0, 0, 0, 0, 0, 0, 0, 0, 0, ...</td>\n",
       "      <td>[1, 0, 0, 0, 0, 0, 0, 0, 0, 0, 0, 0, 0, 0, 0, ...</td>\n",
       "      <td>1.0</td>\n",
       "      <td>0.156350</td>\n",
       "      <td>0.156350</td>\n",
       "      <td>1</td>\n",
       "      <td>1</td>\n",
       "    </tr>\n",
       "    <tr>\n",
       "      <td>126</td>\n",
       "      <td>1541461808</td>\n",
       "      <td>1541461706</td>\n",
       "      <td>2.0</td>\n",
       "      <td>2534</td>\n",
       "      <td>2831</td>\n",
       "      <td>0</td>\n",
       "      <td>1.0</td>\n",
       "      <td>986</td>\n",
       "      <td>2</td>\n",
       "      <td>[0, 0, 0, 0, 0, 0, 0, 0, 0, 2]</td>\n",
       "      <td>...</td>\n",
       "      <td>120</td>\n",
       "      <td>10</td>\n",
       "      <td>986</td>\n",
       "      <td>[1, 0, 0, 0, 0, 0, 0, 0, 0, 0, 0, 0, 0, 0, 0, ...</td>\n",
       "      <td>[1, 0, 0, 0, 0, 0, 0, 0, 0, 0, 0, 0, 0, 0, 0, ...</td>\n",
       "      <td>1.0</td>\n",
       "      <td>0.857709</td>\n",
       "      <td>0.857709</td>\n",
       "      <td>1</td>\n",
       "      <td>1</td>\n",
       "    </tr>\n",
       "    <tr>\n",
       "      <td>251</td>\n",
       "      <td>1541461941</td>\n",
       "      <td>151063238025</td>\n",
       "      <td>99.0</td>\n",
       "      <td>1639</td>\n",
       "      <td>3377</td>\n",
       "      <td>0</td>\n",
       "      <td>11.0</td>\n",
       "      <td>1056</td>\n",
       "      <td>2</td>\n",
       "      <td>[5, 5, 5, 5, 5, 5, 5, 5, 5, 5]</td>\n",
       "      <td>...</td>\n",
       "      <td>120</td>\n",
       "      <td>10</td>\n",
       "      <td>1056</td>\n",
       "      <td>[1, 0, 0, 0, 0, 0, 0, 0, 0, 0, 0, 0, 0, 0, 0, ...</td>\n",
       "      <td>[1, 0, 0, 0, 0, 0, 0, 0, 0, 0, 0, 0, 0, 0, 0, ...</td>\n",
       "      <td>1.0</td>\n",
       "      <td>0.992152</td>\n",
       "      <td>0.992152</td>\n",
       "      <td>1</td>\n",
       "      <td>1</td>\n",
       "    </tr>\n",
       "    <tr>\n",
       "      <td>291</td>\n",
       "      <td>1541462106</td>\n",
       "      <td>164936287687</td>\n",
       "      <td>108.0</td>\n",
       "      <td>1914</td>\n",
       "      <td>3635</td>\n",
       "      <td>0</td>\n",
       "      <td>17.0</td>\n",
       "      <td>616</td>\n",
       "      <td>2</td>\n",
       "      <td>[5, 5, 5, 5, 10, 5, 5, 5, 5, 2]</td>\n",
       "      <td>...</td>\n",
       "      <td>120</td>\n",
       "      <td>10</td>\n",
       "      <td>616</td>\n",
       "      <td>[1, 0, 0, 0, 0, 0, 0, 0, 0, 0, 0, 0, 0, 0, 0, ...</td>\n",
       "      <td>[1, 0, 0, 0, 0, 0, 0, 0, 0, 0, 0, 0, 0, 0, 0, ...</td>\n",
       "      <td>1.0</td>\n",
       "      <td>0.283679</td>\n",
       "      <td>0.283679</td>\n",
       "      <td>1</td>\n",
       "      <td>1</td>\n",
       "    </tr>\n",
       "  </tbody>\n",
       "</table>\n",
       "<p>5 rows × 127 columns</p>\n",
       "</div>"
      ],
      "text/plain": [
       "      timestamp  timestamp_diff   step  user_idx  session_idx  city_idx  \\\n",
       "81   1541461759     29287773125   20.0      1373         1572         0   \n",
       "97   1541461770    163394825917  107.0      1914         3635         0   \n",
       "126  1541461808      1541461706    2.0      2534         2831         0   \n",
       "251  1541461941    151063238025   99.0      1639         3377         0   \n",
       "291  1541462106    164936287687  108.0      1914         3635         0   \n",
       "\n",
       "     sum_action_item_before  action_type_item_idx  action_type_idx  \\\n",
       "81                     19.0                   221                2   \n",
       "97                     16.0                   616                2   \n",
       "126                     1.0                   986                2   \n",
       "251                    11.0                  1056                2   \n",
       "291                    17.0                   616                2   \n",
       "\n",
       "                list_action_type_idx  ... vocab_size window_hist_size  \\\n",
       "81    [5, 5, 5, 5, 5, 5, 5, 5, 5, 5]  ...        120               10   \n",
       "97   [5, 5, 5, 5, 5, 10, 5, 5, 5, 5]  ...        120               10   \n",
       "126   [0, 0, 0, 0, 0, 0, 0, 0, 0, 2]  ...        120               10   \n",
       "251   [5, 5, 5, 5, 5, 5, 5, 5, 5, 5]  ...        120               10   \n",
       "291  [5, 5, 5, 5, 10, 5, 5, 5, 5, 2]  ...        120               10   \n",
       "\n",
       "    item_idx_action                                     relevance_list  \\\n",
       "81              221  [1, 0, 0, 0, 0, 0, 0, 0, 0, 0, 0, 0, 0, 0, 0, ...   \n",
       "97              616  [1, 0, 0, 0, 0, 0, 0, 0, 0, 0, 0, 0, 0, 0, 0, ...   \n",
       "126             986  [1, 0, 0, 0, 0, 0, 0, 0, 0, 0, 0, 0, 0, 0, 0, ...   \n",
       "251            1056  [1, 0, 0, 0, 0, 0, 0, 0, 0, 0, 0, 0, 0, 0, 0, ...   \n",
       "291             616  [1, 0, 0, 0, 0, 0, 0, 0, 0, 0, 0, 0, 0, 0, 0, ...   \n",
       "\n",
       "                                          prob_actions rewards  \\\n",
       "81   [1, 0, 0, 0, 0, 0, 0, 0, 0, 0, 0, 0, 0, 0, 0, ...     1.0   \n",
       "97   [1, 0, 0, 0, 0, 0, 0, 0, 0, 0, 0, 0, 0, 0, 0, ...     1.0   \n",
       "126  [1, 0, 0, 0, 0, 0, 0, 0, 0, 0, 0, 0, 0, 0, 0, ...     1.0   \n",
       "251  [1, 0, 0, 0, 0, 0, 0, 0, 0, 0, 0, 0, 0, 0, 0, ...     1.0   \n",
       "291  [1, 0, 0, 0, 0, 0, 0, 0, 0, 0, 0, 0, 0, 0, 0, ...     1.0   \n",
       "\n",
       "    action_rhat_rewards item_idx_rhat_rewards ps_eval ps_i  \n",
       "81             0.997568              0.997568       1    1  \n",
       "97             0.156350              0.156350       1    1  \n",
       "126            0.857709              0.857709       1    1  \n",
       "251            0.992152              0.992152       1    1  \n",
       "291            0.283679              0.283679       1    1  \n",
       "\n",
       "[5 rows x 127 columns]"
      ]
     },
     "execution_count": 34,
     "metadata": {},
     "output_type": "execute_result"
    }
   ],
   "source": [
    "df_hit_bce.head()"
   ]
  },
  {
   "cell_type": "code",
   "execution_count": 35,
   "metadata": {
    "cell_style": "split"
   },
   "outputs": [
    {
     "data": {
      "text/plain": [
       "<matplotlib.axes._subplots.AxesSubplot at 0x7f01141b00b8>"
      ]
     },
     "execution_count": 35,
     "metadata": {},
     "output_type": "execute_result"
    },
    {
     "data": {
      "image/png": "[encoded data removed]",
      "text/plain": [
       "<Figure size 432x288 with 1 Axes>"
      ]
     },
     "metadata": {
      "needs_background": "light"
     },
     "output_type": "display_data"
    }
   ],
   "source": [
    "d1 = df_hit_bce['ps']\n",
    "sns.distplot(d1, kde=False, color=\"b\")"
   ]
  },
  {
   "cell_type": "code",
   "execution_count": 36,
   "metadata": {
    "cell_style": "split"
   },
   "outputs": [
    {
     "data": {
      "text/plain": [
       "<matplotlib.axes._subplots.AxesSubplot at 0x7f0114178b38>"
      ]
     },
     "execution_count": 36,
     "metadata": {},
     "output_type": "execute_result"
    },
    {
     "data": {
      "image/png": "[encoded data removed]",
      "text/plain": [
       "<Figure size 432x288 with 1 Axes>"
      ]
     },
     "metadata": {
      "needs_background": "light"
     },
     "output_type": "display_data"
    }
   ],
   "source": [
    "d2 = df_hit_crm['ps']\n",
    "sns.distplot(d2, kde=False, color=\"b\")"
   ]
  },
  {
   "cell_type": "code",
   "execution_count": 37,
   "metadata": {},
   "outputs": [
    {
     "name": "stdout",
     "output_type": "stream",
     "text": [
      "BCE: 790 0.07420957237209452\n",
      "CRM: 757 0.0743398402547347\n"
     ]
    }
   ],
   "source": [
    "print(\"BCE:\", len(d1), np.mean(d1))\n",
    "print(\"CRM:\", len(d2), np.mean(d2))"
   ]
  },
  {
   "cell_type": "code",
   "execution_count": null,
   "metadata": {},
   "outputs": [],
   "source": []
  },
  {
   "cell_type": "code",
   "execution_count": null,
   "metadata": {},
   "outputs": [],
   "source": []
  },
  {
   "cell_type": "code",
   "execution_count": 38,
   "metadata": {},
   "outputs": [
    {
     "data": {
      "text/plain": [
       "<matplotlib.axes._subplots.AxesSubplot at 0x7f00fb2045f8>"
      ]
     },
     "execution_count": 38,
     "metadata": {},
     "output_type": "execute_result"
    },
    {
     "data": {
      "image/png": "[encoded data removed]",
      "text/plain": [
       "<Figure size 432x288 with 1 Axes>"
      ]
     },
     "metadata": {
      "needs_background": "light"
     },
     "output_type": "display_data"
    }
   ],
   "source": [
    "d2 = df_hit_crm['ps']\n",
    "sns.distplot(1/d2, kde=False, color=\"b\")"
   ]
  },
  {
   "cell_type": "code",
   "execution_count": null,
   "metadata": {},
   "outputs": [],
   "source": []
  },
  {
   "cell_type": "code",
   "execution_count": null,
   "metadata": {},
   "outputs": [],
   "source": []
  },
  {
   "cell_type": "code",
   "execution_count": null,
   "metadata": {},
   "outputs": [],
   "source": []
  },
  {
   "cell_type": "code",
   "execution_count": 203,
   "metadata": {},
   "outputs": [],
   "source": [
    "\n",
    "# def fill_ps_per_logistic_regression_of_pos_item_idx_and_item_ps(self, df: pd.DataFrame, pool: Pool):\n",
    "#     all_df = self._get_all_df()\n",
    "#     ground_truth_df = self._get_ground_truth(all_df)\n",
    "#     item_column = self.model_training.project_config.item_column.name\n",
    "\n",
    "#     ps_per_pos_item_idx = self._create_dict_of_ps_per_pos_item_idx(ground_truth_df)\n",
    "#     ps_per_item = self._create_dict_of_ps_per_item(ground_truth_df)\n",
    "\n",
    "#     train_df = pd.DataFrame(data={\n",
    "#         \"ps_per_pos_item_idx\": all_df[\"pos_item_idx\"].apply(lambda pos_item_idx:\n",
    "#                                                         ps_per_pos_item_idx.get(pos_item_idx, 0.0)),\n",
    "#         \"ps_per_item\": all_df[item_column].apply(lambda item_idx: ps_per_item.get(item_idx, 0.0))\n",
    "#     })\n",
    "\n",
    "#     train_y = all_df[self.model_training.project_config.output_column.name].values\n",
    "#     model = LogisticRegression(class_weight=\"balanced\")\n",
    "#     model.fit(train_df.values, train_y)\n",
    "\n",
    "#     test_df = pd.DataFrame(data={\n",
    "#         \"ps_per_pos_item_idx\": df[\"pos_item_idx\"].apply(lambda pos_item_idx:\n",
    "#                                                         ps_per_pos_item_idx.get(pos_item_idx, 0.0)),\n",
    "#         \"ps_per_item\": df[item_column].apply(lambda item_idx: ps_per_item.get(item_idx, 0.0))\n",
    "#     })\n",
    "\n",
    "#     df[self.model_training.project_config.propensity_score_column_name] = model.predict_proba(test_df.values)[:, 1]\n"
   ]
  },
  {
   "cell_type": "code",
   "execution_count": 204,
   "metadata": {},
   "outputs": [],
   "source": [
    "# df_ps_per_item_in_first_pos = dd.read_csv('../../deep-reco-gym/output/evaluation/EvaluateTrivagoTestSetPredictions/results/TrivagoLogisticModelInteraction_selu____softmax_explorer_acf090f664_efe57863b1_ps_per_item_in_first_pos/df_offpolicy.csv')\n",
    "# df_ps_per_item              = dd.read_csv('../../deep-reco-gym/output/evaluation/EvaluateTrivagoTestSetPredictions/results/TrivagoLogisticModelInteraction_selu____softmax_explorer_acf090f664_6e22910cf3_ps_per_item/df_offpolicy.csv')\n",
    "# df_ps_per_item_given_pos    = dd.read_csv('../../deep-reco-gym/output/evaluation/EvaluateTrivagoTestSetPredictions/results/TrivagoLogisticModelInteraction_selu____softmax_explorer_acf090f664_0ff164d6b3_ps_per_item_given_pos//df_offpolicy.csv')\n",
    "# #df_ps_per_logistic_regression_of_pos_item_idx_and_item_ps   = dd.read_csv('../../deep-reco-gym/output/evaluation/EvaluateTrivagoTestSetPredictions/results/TrivagoLogisticModelInteraction_selu____softmax_explorer_acf090f664_31dfd08969_ps_per_logistic_regression_of_pos_item_idx_and_item_ps//df_offpolicy.csv')\n",
    "# df_ps_per_pos_item_idx      = dd.read_csv('../../deep-reco-gym/output/evaluation/EvaluateTrivagoTestSetPredictions/results/TrivagoLogisticModelInteraction_selu____softmax_explorer_acf090f664_0bfe1ad92d_ps_per_pos_item_idx/df_offpolicy.csv')\n",
    "# df_ps_per_logistic_regression_of_pos_item_idx_and_item   = dd.read_csv('../../deep-reco-gym/output/evaluation/EvaluateTrivagoTestSetPredictions/results/TrivagoLogisticModelInteraction_selu____softmax_explorer_acf090f664_88bdf87acd_ps_per_logistic_regression_of_pos_item_idx_and_item//df_offpolicy.csv')\n",
    "\n",
    "\n",
    "# df_ps_per_item_in_first_pos.head()"
   ]
  },
  {
   "cell_type": "code",
   "execution_count": 205,
   "metadata": {},
   "outputs": [],
   "source": [
    "# metrics = {\n",
    "#     \"df_ps_per_item_in_first_pos\": df_ps_per_item_in_first_pos,\n",
    "#     \"df_ps_per_item\": df_ps_per_item,\n",
    "#     \"df_ps_per_item_given_pos\": df_ps_per_item_given_pos,\n",
    "#     \"df_ps_per_logistic_regression_of_pos_item_idx_and_item_ps\": df_ps_per_logistic_regression_of_pos_item_idx_and_item_ps,\n",
    "#     \"df_ps_per_pos_item_idx\": df_ps_per_pos_item_idx,\n",
    "#     \"df_ps_per_logistic_regression_of_pos_item_idx_and_item\":df_ps_per_logistic_regression_of_pos_item_idx_and_item\n",
    "# }"
   ]
  },
  {
   "cell_type": "code",
   "execution_count": 206,
   "metadata": {},
   "outputs": [],
   "source": [
    "# results = {}\n",
    "# for n, df in metrics.items():\n",
    "#     m = df['ps'].mean().compute()\n",
    "#     results[n] = m\n"
   ]
  },
  {
   "cell_type": "code",
   "execution_count": 207,
   "metadata": {
    "cell_style": "split"
   },
   "outputs": [],
   "source": [
    "# d = df['ps'].compute()\n",
    "# sns.distplot(d, kde=False, color=\"b\")"
   ]
  },
  {
   "cell_type": "code",
   "execution_count": 208,
   "metadata": {
    "cell_style": "split"
   },
   "outputs": [],
   "source": [
    "# d = df['ps_eval'].compute()\n",
    "# sns.distplot(d, kde=False, color=\"b\")"
   ]
  },
  {
   "cell_type": "code",
   "execution_count": 209,
   "metadata": {},
   "outputs": [],
   "source": [
    "#df['clicked'].compute().mean()"
   ]
  },
  {
   "cell_type": "code",
   "execution_count": 210,
   "metadata": {
    "scrolled": true
   },
   "outputs": [
    {
     "ename": "AttributeError",
     "evalue": "'DataFrame' object has no attribute 'compute'",
     "output_type": "error",
     "traceback": [
      "\u001b[0;31m---------------------------------------------------------------------------\u001b[0m",
      "\u001b[0;31mAttributeError\u001b[0m                            Traceback (most recent call last)",
      "\u001b[0;32m<ipython-input-210-62c35f6b80d1>\u001b[0m in \u001b[0;36m<module>\u001b[0;34m\u001b[0m\n\u001b[1;32m      1\u001b[0m _df = df[['item_idx', 'item_idx_action', 'item_idx_rhat_rewards', 'action_rhat_rewards', \n\u001b[0;32m----> 2\u001b[0;31m           'rewards', 'ps', 'ps_eval']].compute()\n\u001b[0m\u001b[1;32m      3\u001b[0m \u001b[0m_df\u001b[0m\u001b[0;34m[\u001b[0m\u001b[0;34m'I'\u001b[0m\u001b[0;34m]\u001b[0m \u001b[0;34m=\u001b[0m \u001b[0m_df\u001b[0m\u001b[0;34m.\u001b[0m\u001b[0mapply\u001b[0m\u001b[0;34m(\u001b[0m\u001b[0;32mlambda\u001b[0m \u001b[0mrow\u001b[0m\u001b[0;34m:\u001b[0m \u001b[0mint\u001b[0m\u001b[0;34m(\u001b[0m\u001b[0mrow\u001b[0m\u001b[0;34m[\u001b[0m\u001b[0;34m'item_idx'\u001b[0m\u001b[0;34m]\u001b[0m \u001b[0;34m==\u001b[0m \u001b[0mrow\u001b[0m\u001b[0;34m[\u001b[0m\u001b[0;34m'item_idx_action'\u001b[0m\u001b[0;34m]\u001b[0m\u001b[0;34m)\u001b[0m\u001b[0;34m,\u001b[0m \u001b[0maxis\u001b[0m\u001b[0;34m=\u001b[0m\u001b[0;36m1\u001b[0m\u001b[0;34m)\u001b[0m\u001b[0;34m\u001b[0m\u001b[0;34m\u001b[0m\u001b[0m\n\u001b[1;32m      4\u001b[0m \u001b[0m_df\u001b[0m\u001b[0;34m\u001b[0m\u001b[0;34m\u001b[0m\u001b[0m\n",
      "\u001b[0;32m/opt/anaconda3/envs/deep-reco-gym/lib/python3.6/site-packages/pandas/core/generic.py\u001b[0m in \u001b[0;36m__getattr__\u001b[0;34m(self, name)\u001b[0m\n\u001b[1;32m   5177\u001b[0m             \u001b[0;32mif\u001b[0m \u001b[0mself\u001b[0m\u001b[0;34m.\u001b[0m\u001b[0m_info_axis\u001b[0m\u001b[0;34m.\u001b[0m\u001b[0m_can_hold_identifiers_and_holds_name\u001b[0m\u001b[0;34m(\u001b[0m\u001b[0mname\u001b[0m\u001b[0;34m)\u001b[0m\u001b[0;34m:\u001b[0m\u001b[0;34m\u001b[0m\u001b[0;34m\u001b[0m\u001b[0m\n\u001b[1;32m   5178\u001b[0m                 \u001b[0;32mreturn\u001b[0m \u001b[0mself\u001b[0m\u001b[0;34m[\u001b[0m\u001b[0mname\u001b[0m\u001b[0;34m]\u001b[0m\u001b[0;34m\u001b[0m\u001b[0;34m\u001b[0m\u001b[0m\n\u001b[0;32m-> 5179\u001b[0;31m             \u001b[0;32mreturn\u001b[0m \u001b[0mobject\u001b[0m\u001b[0;34m.\u001b[0m\u001b[0m__getattribute__\u001b[0m\u001b[0;34m(\u001b[0m\u001b[0mself\u001b[0m\u001b[0;34m,\u001b[0m \u001b[0mname\u001b[0m\u001b[0;34m)\u001b[0m\u001b[0;34m\u001b[0m\u001b[0;34m\u001b[0m\u001b[0m\n\u001b[0m\u001b[1;32m   5180\u001b[0m \u001b[0;34m\u001b[0m\u001b[0m\n\u001b[1;32m   5181\u001b[0m     \u001b[0;32mdef\u001b[0m \u001b[0m__setattr__\u001b[0m\u001b[0;34m(\u001b[0m\u001b[0mself\u001b[0m\u001b[0;34m,\u001b[0m \u001b[0mname\u001b[0m\u001b[0;34m,\u001b[0m \u001b[0mvalue\u001b[0m\u001b[0;34m)\u001b[0m\u001b[0;34m:\u001b[0m\u001b[0;34m\u001b[0m\u001b[0;34m\u001b[0m\u001b[0m\n",
      "\u001b[0;31mAttributeError\u001b[0m: 'DataFrame' object has no attribute 'compute'"
     ]
    }
   ],
   "source": [
    "_df = df[['item_idx', 'item_idx_action', 'item_idx_rhat_rewards', 'action_rhat_rewards', \n",
    "          'rewards', 'ps', 'ps_eval']].compute()\n",
    "_df['I'] = _df.apply(lambda row: int(row['item_idx'] == row['item_idx_action']), axis=1)\n",
    "_df"
   ]
  },
  {
   "cell_type": "code",
   "execution_count": null,
   "metadata": {},
   "outputs": [],
   "source": [
    "_df.shape"
   ]
  },
  {
   "cell_type": "code",
   "execution_count": null,
   "metadata": {},
   "outputs": [],
   "source": [
    "_df['rewards'].mean()"
   ]
  },
  {
   "cell_type": "markdown",
   "metadata": {},
   "source": [
    "# DirectEstimator"
   ]
  },
  {
   "cell_type": "code",
   "execution_count": null,
   "metadata": {},
   "outputs": [],
   "source": [
    "from IPython.display import Image\n",
    "#Image(\"/home/marlesson/Downloads/Captura de tela de 2020-05-26 10-36-26.png\")\n"
   ]
  },
  {
   "cell_type": "code",
   "execution_count": null,
   "metadata": {},
   "outputs": [],
   "source": [
    "_df[['item_idx', 'item_idx_action', 'rewards']].head()"
   ]
  },
  {
   "cell_type": "code",
   "execution_count": null,
   "metadata": {
    "cell_style": "split"
   },
   "outputs": [],
   "source": [
    "d1 = _df['item_idx_rhat_rewards']#.compute()\n",
    "sns.distplot(d1, kde=False, color=\"b\")"
   ]
  },
  {
   "cell_type": "code",
   "execution_count": null,
   "metadata": {},
   "outputs": [],
   "source": [
    "np.mean(d1), np.mean(_df['rewards'])"
   ]
  },
  {
   "cell_type": "code",
   "execution_count": null,
   "metadata": {},
   "outputs": [],
   "source": [
    "d2 = _df['action_rhat_rewards']#.compute()\n",
    "sns.distplot(d2, kde=False, color=\"b\")"
   ]
  },
  {
   "cell_type": "code",
   "execution_count": null,
   "metadata": {},
   "outputs": [],
   "source": [
    "np.mean(d1), np.mean(d2)"
   ]
  },
  {
   "cell_type": "code",
   "execution_count": 211,
   "metadata": {},
   "outputs": [
    {
     "data": {
      "text/plain": [
       "(0.030995784655686736, 0.3020443525904013)"
      ]
     },
     "execution_count": 211,
     "metadata": {},
     "output_type": "execute_result"
    }
   ],
   "source": [
    "np.mean(d1), np.mean(d2)"
   ]
  },
  {
   "cell_type": "code",
   "execution_count": 212,
   "metadata": {
    "cell_style": "split"
   },
   "outputs": [],
   "source": [
    "#d = _df[_df['rewards'] == 1.0]['item_idx_rhat_rewards']#.compute()\n",
    "#sns.distplot(d, kde=False, color=\"b\")"
   ]
  },
  {
   "cell_type": "code",
   "execution_count": 213,
   "metadata": {
    "cell_style": "split"
   },
   "outputs": [],
   "source": [
    "#d = _df[_df['rewards'] == 1.0]['action_rhat_rewards']#.compute()\n",
    "#sns.distplot(d, kde=False, color=\"b\")"
   ]
  },
  {
   "cell_type": "code",
   "execution_count": 214,
   "metadata": {},
   "outputs": [
    {
     "data": {
      "text/plain": [
       "(0.030995784655686736, 0.3020443525904013)"
      ]
     },
     "execution_count": 214,
     "metadata": {},
     "output_type": "execute_result"
    }
   ],
   "source": [
    "np.mean(_df['item_idx_rhat_rewards']), np.mean(_df['action_rhat_rewards'])"
   ]
  },
  {
   "cell_type": "code",
   "execution_count": 215,
   "metadata": {},
   "outputs": [
    {
     "data": {
      "text/plain": [
       "(1387, 366)"
      ]
     },
     "execution_count": 215,
     "metadata": {},
     "output_type": "execute_result"
    }
   ],
   "source": [
    "len(np.unique(_df['item_idx'])), len(np.unique(_df['item_idx_action']))"
   ]
  },
  {
   "cell_type": "markdown",
   "metadata": {},
   "source": [
    "# IPS"
   ]
  },
  {
   "cell_type": "code",
   "execution_count": 216,
   "metadata": {},
   "outputs": [],
   "source": [
    "from IPython.display import Image\n",
    "#Image(\"/home/marlesson/Downloads/Captura de tela de 2020-05-26 10-36-10.png\")"
   ]
  },
  {
   "cell_type": "code",
   "execution_count": 217,
   "metadata": {},
   "outputs": [
    {
     "data": {
      "text/html": [
       "<div>\n",
       "<style scoped>\n",
       "    .dataframe tbody tr th:only-of-type {\n",
       "        vertical-align: middle;\n",
       "    }\n",
       "\n",
       "    .dataframe tbody tr th {\n",
       "        vertical-align: top;\n",
       "    }\n",
       "\n",
       "    .dataframe thead th {\n",
       "        text-align: right;\n",
       "    }\n",
       "</style>\n",
       "<table border=\"1\" class=\"dataframe\">\n",
       "  <thead>\n",
       "    <tr style=\"text-align: right;\">\n",
       "      <th></th>\n",
       "      <th>item_idx</th>\n",
       "      <th>item_idx_action</th>\n",
       "      <th>item_idx_rhat_rewards</th>\n",
       "      <th>action_rhat_rewards</th>\n",
       "      <th>rewards</th>\n",
       "      <th>ps</th>\n",
       "      <th>ps_eval</th>\n",
       "      <th>I</th>\n",
       "    </tr>\n",
       "  </thead>\n",
       "  <tbody>\n",
       "    <tr>\n",
       "      <td>0</td>\n",
       "      <td>238</td>\n",
       "      <td>799</td>\n",
       "      <td>0.015205</td>\n",
       "      <td>0.045149</td>\n",
       "      <td>0.0</td>\n",
       "      <td>0.061792</td>\n",
       "      <td>1</td>\n",
       "      <td>0</td>\n",
       "    </tr>\n",
       "    <tr>\n",
       "      <td>1</td>\n",
       "      <td>809</td>\n",
       "      <td>799</td>\n",
       "      <td>0.092327</td>\n",
       "      <td>0.135926</td>\n",
       "      <td>1.0</td>\n",
       "      <td>0.050305</td>\n",
       "      <td>1</td>\n",
       "      <td>0</td>\n",
       "    </tr>\n",
       "    <tr>\n",
       "      <td>2</td>\n",
       "      <td>104</td>\n",
       "      <td>799</td>\n",
       "      <td>0.057844</td>\n",
       "      <td>0.121191</td>\n",
       "      <td>0.0</td>\n",
       "      <td>0.100533</td>\n",
       "      <td>1</td>\n",
       "      <td>0</td>\n",
       "    </tr>\n",
       "    <tr>\n",
       "      <td>3</td>\n",
       "      <td>799</td>\n",
       "      <td>799</td>\n",
       "      <td>0.106438</td>\n",
       "      <td>0.106438</td>\n",
       "      <td>0.0</td>\n",
       "      <td>0.038490</td>\n",
       "      <td>1</td>\n",
       "      <td>1</td>\n",
       "    </tr>\n",
       "    <tr>\n",
       "      <td>4</td>\n",
       "      <td>603</td>\n",
       "      <td>799</td>\n",
       "      <td>0.078554</td>\n",
       "      <td>0.093172</td>\n",
       "      <td>0.0</td>\n",
       "      <td>0.037547</td>\n",
       "      <td>1</td>\n",
       "      <td>0</td>\n",
       "    </tr>\n",
       "  </tbody>\n",
       "</table>\n",
       "</div>"
      ],
      "text/plain": [
       "   item_idx  item_idx_action  item_idx_rhat_rewards  action_rhat_rewards  \\\n",
       "0       238              799               0.015205             0.045149   \n",
       "1       809              799               0.092327             0.135926   \n",
       "2       104              799               0.057844             0.121191   \n",
       "3       799              799               0.106438             0.106438   \n",
       "4       603              799               0.078554             0.093172   \n",
       "\n",
       "   rewards        ps  ps_eval  I  \n",
       "0      0.0  0.061792        1  0  \n",
       "1      1.0  0.050305        1  0  \n",
       "2      0.0  0.100533        1  0  \n",
       "3      0.0  0.038490        1  1  \n",
       "4      0.0  0.037547        1  0  "
      ]
     },
     "execution_count": 217,
     "metadata": {},
     "output_type": "execute_result"
    }
   ],
   "source": [
    "import sys, os\n",
    "import numpy as np\n",
    "import pandas as pd\n",
    "import scipy\n",
    "\n",
    "sys.path.insert(0, \"/home/marlesson/deep-reco-gym/\")\n",
    "from recommendation.offpolicy_metrics import eval_IPS, eval_CIPS, eval_SNIPS, eval_doubly_robust\n",
    "\n",
    "_df.head()"
   ]
  },
  {
   "cell_type": "code",
   "execution_count": 218,
   "metadata": {},
   "outputs": [],
   "source": [
    "def _offpolicy_eval(df: pd.DataFrame):\n",
    "    # Filter df used in offpolicy evaluation\n",
    "    ps_column             = 'ps'\n",
    "    e                     = 0.001\n",
    "    df_offpolicy          = df[df[ps_column] > e]\n",
    "\n",
    "    rewards               = df_offpolicy[\"rewards\"].values\n",
    "    ps_eval               = df_offpolicy[\"ps_eval\"].values\n",
    "    ps                    = df_offpolicy[ps_column].values\n",
    "    action_rhat_rewards   = df_offpolicy[\"action_rhat_rewards\"].values\n",
    "    item_idx_rhat_rewards = df_offpolicy[\"item_idx_rhat_rewards\"].values\n",
    "    ps_i = df_offpolicy[\"I\"].values\n",
    "    \n",
    "    return action_rhat_rewards, item_idx_rhat_rewards, rewards, ps_eval, ps, ps_i\n",
    "\n",
    "def _calc_sample_weigths(rewards, t_props, l_props):\n",
    "  # l_props: Coleta\n",
    "  # t_props: Avaliação\n",
    "  #\n",
    "  # Compute the sample weights - propensity ratios\n",
    "  p_ratio = t_props / l_props\n",
    "\n",
    "  # Effective sample size for E_t estimate (from A. Owen)\n",
    "  n_e = len(rewards) * (np.mean(p_ratio) ** 2) / (p_ratio ** 2).mean()\n",
    "\n",
    "  # Critical value from t-distribution as we have unknown variance\n",
    "  alpha = .00125\n",
    "  cv = scipy.stats.t.ppf(1 - alpha, df=int(n_e) - 1)\n",
    "\n",
    "  return p_ratio, n_e, cv\n",
    "\n",
    "\n",
    "def eval_CIPS(rewards, t_props, l_props, cap=15):\n",
    "  # Calculate Sample Weigths\n",
    "  p_ratio, n_e, cv =  _calc_sample_weigths(rewards, t_props, l_props)\n",
    "\n",
    "\n",
    "  ############## \n",
    "  # CAPPED IPS #\n",
    "  ##############\n",
    "  # Cap ratios\n",
    "  p_ratio_capped = np.clip(p_ratio, a_min=None, a_max=cap)\n",
    "\n",
    "  # Expected reward for pi_t\n",
    "  E_t_capped = np.mean(rewards * p_ratio_capped)\n",
    "\n",
    "  # Variance of the estimate\n",
    "  var_capped = ((rewards * p_ratio_capped - E_t_capped) ** 2).mean()\n",
    "  stddev_capped = np.sqrt(var_capped)\n",
    "\n",
    "  # C.I. assuming unknown variance - use t-distribution and effective sample size\n",
    "  c = cv * stddev_capped / np.sqrt(int(n_e))\n",
    "\n",
    "  min_bound_capped = E_t_capped - c\n",
    "  max_bound_capped = E_t_capped + c\n",
    "\n",
    "  result = (E_t_capped, c) # 0.025, 0.500, 0.975\n",
    "\n",
    "  return result"
   ]
  },
  {
   "cell_type": "code",
   "execution_count": null,
   "metadata": {},
   "outputs": [],
   "source": []
  },
  {
   "cell_type": "code",
   "execution_count": 219,
   "metadata": {},
   "outputs": [
    {
     "data": {
      "text/html": [
       "<div>\n",
       "<style scoped>\n",
       "    .dataframe tbody tr th:only-of-type {\n",
       "        vertical-align: middle;\n",
       "    }\n",
       "\n",
       "    .dataframe tbody tr th {\n",
       "        vertical-align: top;\n",
       "    }\n",
       "\n",
       "    .dataframe thead th {\n",
       "        text-align: right;\n",
       "    }\n",
       "</style>\n",
       "<table border=\"1\" class=\"dataframe\">\n",
       "  <thead>\n",
       "    <tr style=\"text-align: right;\">\n",
       "      <th></th>\n",
       "      <th>item_idx</th>\n",
       "      <th>item_idx_action</th>\n",
       "      <th>item_idx_rhat_rewards</th>\n",
       "      <th>action_rhat_rewards</th>\n",
       "      <th>rewards</th>\n",
       "      <th>ps</th>\n",
       "      <th>ps_eval</th>\n",
       "      <th>I</th>\n",
       "    </tr>\n",
       "  </thead>\n",
       "  <tbody>\n",
       "    <tr>\n",
       "      <td>0</td>\n",
       "      <td>238</td>\n",
       "      <td>799</td>\n",
       "      <td>0.015205</td>\n",
       "      <td>0.045149</td>\n",
       "      <td>0.0</td>\n",
       "      <td>0.061792</td>\n",
       "      <td>1</td>\n",
       "      <td>0</td>\n",
       "    </tr>\n",
       "    <tr>\n",
       "      <td>1</td>\n",
       "      <td>809</td>\n",
       "      <td>799</td>\n",
       "      <td>0.092327</td>\n",
       "      <td>0.135926</td>\n",
       "      <td>1.0</td>\n",
       "      <td>0.050305</td>\n",
       "      <td>1</td>\n",
       "      <td>0</td>\n",
       "    </tr>\n",
       "    <tr>\n",
       "      <td>2</td>\n",
       "      <td>104</td>\n",
       "      <td>799</td>\n",
       "      <td>0.057844</td>\n",
       "      <td>0.121191</td>\n",
       "      <td>0.0</td>\n",
       "      <td>0.100533</td>\n",
       "      <td>1</td>\n",
       "      <td>0</td>\n",
       "    </tr>\n",
       "    <tr>\n",
       "      <td>3</td>\n",
       "      <td>799</td>\n",
       "      <td>799</td>\n",
       "      <td>0.106438</td>\n",
       "      <td>0.106438</td>\n",
       "      <td>0.0</td>\n",
       "      <td>0.038490</td>\n",
       "      <td>1</td>\n",
       "      <td>1</td>\n",
       "    </tr>\n",
       "    <tr>\n",
       "      <td>4</td>\n",
       "      <td>603</td>\n",
       "      <td>799</td>\n",
       "      <td>0.078554</td>\n",
       "      <td>0.093172</td>\n",
       "      <td>0.0</td>\n",
       "      <td>0.037547</td>\n",
       "      <td>1</td>\n",
       "      <td>0</td>\n",
       "    </tr>\n",
       "  </tbody>\n",
       "</table>\n",
       "</div>"
      ],
      "text/plain": [
       "   item_idx  item_idx_action  item_idx_rhat_rewards  action_rhat_rewards  \\\n",
       "0       238              799               0.015205             0.045149   \n",
       "1       809              799               0.092327             0.135926   \n",
       "2       104              799               0.057844             0.121191   \n",
       "3       799              799               0.106438             0.106438   \n",
       "4       603              799               0.078554             0.093172   \n",
       "\n",
       "   rewards        ps  ps_eval  I  \n",
       "0      0.0  0.061792        1  0  \n",
       "1      1.0  0.050305        1  0  \n",
       "2      0.0  0.100533        1  0  \n",
       "3      0.0  0.038490        1  1  \n",
       "4      0.0  0.037547        1  0  "
      ]
     },
     "execution_count": 219,
     "metadata": {},
     "output_type": "execute_result"
    }
   ],
   "source": [
    "_df.head()"
   ]
  },
  {
   "cell_type": "code",
   "execution_count": 220,
   "metadata": {
    "scrolled": true
   },
   "outputs": [],
   "source": [
    "#_df[(_df['item_idx'] == _df['item_idx_action'])]"
   ]
  },
  {
   "cell_type": "code",
   "execution_count": 256,
   "metadata": {},
   "outputs": [],
   "source": [
    "action_rhat_rewards, item_idx_rhat_rewards, \\\n",
    "    rewards, ps_eval, ps, ps_i = _offpolicy_eval(_df)"
   ]
  },
  {
   "cell_type": "code",
   "execution_count": 257,
   "metadata": {},
   "outputs": [
    {
     "data": {
      "text/plain": [
       "<matplotlib.axes._subplots.AxesSubplot at 0x7f7303b55b70>"
      ]
     },
     "execution_count": 257,
     "metadata": {},
     "output_type": "execute_result"
    },
    {
     "data": {
      "image/png": "[encoded data removed]",
      "text/plain": [
       "<Figure size 432x288 with 1 Axes>"
      ]
     },
     "metadata": {
      "needs_background": "light"
     },
     "output_type": "display_data"
    }
   ],
   "source": [
    "sns.distplot(ps, kde=False, color=\"b\")"
   ]
  },
  {
   "cell_type": "code",
   "execution_count": 258,
   "metadata": {},
   "outputs": [
    {
     "data": {
      "text/plain": [
       "0.05479851387500983"
      ]
     },
     "execution_count": 258,
     "metadata": {},
     "output_type": "execute_result"
    }
   ],
   "source": [
    "np.mean(ps)"
   ]
  },
  {
   "cell_type": "code",
   "execution_count": 223,
   "metadata": {},
   "outputs": [
    {
     "data": {
      "text/plain": [
       "<matplotlib.axes._subplots.AxesSubplot at 0x7f730c35f208>"
      ]
     },
     "execution_count": 223,
     "metadata": {},
     "output_type": "execute_result"
    },
    {
     "data": {
      "image/png": "[encoded data removed]",
      "text/plain": [
       "<Figure size 432x288 with 1 Axes>"
      ]
     },
     "metadata": {
      "needs_background": "light"
     },
     "output_type": "display_data"
    }
   ],
   "source": [
    "action_rhat_rewards, item_idx_rhat_rewards, \\\n",
    "    rewards, ps_eval, ps, ps_i = _offpolicy_eval(_df[_df['rewards'] == 1])\n",
    "sns.distplot(ps, kde=False, color=\"b\")"
   ]
  },
  {
   "cell_type": "code",
   "execution_count": 224,
   "metadata": {},
   "outputs": [
    {
     "data": {
      "text/plain": [
       "<matplotlib.axes._subplots.AxesSubplot at 0x7f730372ea58>"
      ]
     },
     "execution_count": 224,
     "metadata": {},
     "output_type": "execute_result"
    },
    {
     "data": {
      "image/png": "[encoded data removed]",
      "text/plain": [
       "<Figure size 432x288 with 1 Axes>"
      ]
     },
     "metadata": {
      "needs_background": "light"
     },
     "output_type": "display_data"
    }
   ],
   "source": [
    "action_rhat_rewards, item_idx_rhat_rewards, \\\n",
    "    rewards, ps_eval, ps, ps_i = _offpolicy_eval(_df)\n",
    "sns.distplot(ps_i, kde=False, color=\"b\")"
   ]
  },
  {
   "cell_type": "code",
   "execution_count": 225,
   "metadata": {},
   "outputs": [
    {
     "data": {
      "text/plain": [
       "1.0057929799615557"
      ]
     },
     "execution_count": 225,
     "metadata": {},
     "output_type": "execute_result"
    }
   ],
   "source": [
    "np.mean(ps_eval)"
   ]
  },
  {
   "cell_type": "code",
   "execution_count": 226,
   "metadata": {},
   "outputs": [],
   "source": [
    "action_rhat_rewards, item_idx_rhat_rewards, \\\n",
    "    rewards, ps_eval, ps, ps_i = _offpolicy_eval(_df)"
   ]
  },
  {
   "cell_type": "code",
   "execution_count": 227,
   "metadata": {
    "cell_style": "split"
   },
   "outputs": [
    {
     "data": {
      "text/plain": [
       "<matplotlib.axes._subplots.AxesSubplot at 0x7f730437b898>"
      ]
     },
     "execution_count": 227,
     "metadata": {},
     "output_type": "execute_result"
    },
    {
     "data": {
      "image/png": "[encoded data removed]",
      "text/plain": [
       "<Figure size 432x288 with 1 Axes>"
      ]
     },
     "metadata": {
      "needs_background": "light"
     },
     "output_type": "display_data"
    }
   ],
   "source": [
    "sns.distplot(ps, kde=False, color=\"b\")"
   ]
  },
  {
   "cell_type": "code",
   "execution_count": 228,
   "metadata": {},
   "outputs": [
    {
     "data": {
      "text/plain": [
       "0.05479851387500983"
      ]
     },
     "execution_count": 228,
     "metadata": {},
     "output_type": "execute_result"
    }
   ],
   "source": [
    "np.mean(ps)"
   ]
  },
  {
   "cell_type": "code",
   "execution_count": 229,
   "metadata": {
    "cell_style": "split"
   },
   "outputs": [
    {
     "data": {
      "text/plain": [
       "<matplotlib.axes._subplots.AxesSubplot at 0x7f73042a9710>"
      ]
     },
     "execution_count": 229,
     "metadata": {},
     "output_type": "execute_result"
    },
    {
     "data": {
      "image/png": "[encoded data removed]",
      "text/plain": [
       "<Figure size 432x288 with 1 Axes>"
      ]
     },
     "metadata": {
      "needs_background": "light"
     },
     "output_type": "display_data"
    }
   ],
   "source": [
    "sns.distplot(ps_i, kde=False, color=\"r\")"
   ]
  },
  {
   "cell_type": "code",
   "execution_count": 230,
   "metadata": {},
   "outputs": [
    {
     "data": {
      "text/plain": [
       "0.04113015772704532"
      ]
     },
     "execution_count": 230,
     "metadata": {},
     "output_type": "execute_result"
    }
   ],
   "source": [
    "np.mean(ps_i)"
   ]
  },
  {
   "cell_type": "code",
   "execution_count": 231,
   "metadata": {
    "cell_style": "split"
   },
   "outputs": [
    {
     "data": {
      "text/plain": [
       "<matplotlib.axes._subplots.AxesSubplot at 0x7f73041f2828>"
      ]
     },
     "execution_count": 231,
     "metadata": {},
     "output_type": "execute_result"
    },
    {
     "data": {
      "image/png": "[encoded data removed]",
      "text/plain": [
       "<Figure size 432x288 with 1 Axes>"
      ]
     },
     "metadata": {
      "needs_background": "light"
     },
     "output_type": "display_data"
    }
   ],
   "source": [
    "sw      = ps_i/ps\n",
    "#sw, _, _ = _calc_sample_weigths(rewards,ps_eval, ps)\n",
    "sns.distplot(sw, kde=False, color=\"b\")"
   ]
  },
  {
   "cell_type": "code",
   "execution_count": 232,
   "metadata": {
    "cell_style": "split"
   },
   "outputs": [],
   "source": [
    "# p_ratio = sw*rewards\n",
    "# #p_ratio = np.clip(p_ratio, a_min=None, a_max=1)\n",
    "\n",
    "# sns.distplot(p_ratio, kde=False, color=\"r\")"
   ]
  },
  {
   "cell_type": "code",
   "execution_count": 233,
   "metadata": {},
   "outputs": [
    {
     "name": "stdout",
     "output_type": "stream",
     "text": [
      "0.26349773199158655\n"
     ]
    },
    {
     "data": {
      "text/plain": [
       "<matplotlib.axes._subplots.AxesSubplot at 0x7f73040a8588>"
      ]
     },
     "execution_count": 233,
     "metadata": {},
     "output_type": "execute_result"
    },
    {
     "data": {
      "image/png": "[encoded data removed]",
      "text/plain": [
       "<Figure size 432x288 with 1 Axes>"
      ]
     },
     "metadata": {
      "needs_background": "light"
     },
     "output_type": "display_data"
    }
   ],
   "source": [
    "#p_ratio = sw*rewards\n",
    "p_ratio = np.clip(sw, a_min=None, a_max=15)\n",
    "print(np.mean(p_ratio * rewards))\n",
    "sns.distplot(p_ratio, kde=False, color=\"r\")"
   ]
  },
  {
   "cell_type": "code",
   "execution_count": 234,
   "metadata": {},
   "outputs": [
    {
     "data": {
      "text/plain": [
       "(0.6790156096358897, 1.7640535114364186)"
      ]
     },
     "execution_count": 234,
     "metadata": {},
     "output_type": "execute_result"
    }
   ],
   "source": [
    "eval_IPS(rewards, ps_i, ps)"
   ]
  },
  {
   "cell_type": "code",
   "execution_count": 235,
   "metadata": {},
   "outputs": [],
   "source": [
    "v = []\n",
    "for i in range(1000):\n",
    "   ips, _ =eval_CIPS(rewards, ps_i, ps, cap=i+1)\n",
    "   v.append(ips)"
   ]
  },
  {
   "cell_type": "code",
   "execution_count": 236,
   "metadata": {},
   "outputs": [
    {
     "data": {
      "text/plain": [
       "[<matplotlib.lines.Line2D at 0x7f7303fb8e48>]"
      ]
     },
     "execution_count": 236,
     "metadata": {},
     "output_type": "execute_result"
    },
    {
     "data": {
      "image/png": "[encoded data removed]",
      "text/plain": [
       "<Figure size 432x288 with 1 Axes>"
      ]
     },
     "metadata": {
      "needs_background": "light"
     },
     "output_type": "display_data"
    }
   ],
   "source": [
    "plt.plot(v)\n",
    "\n",
    "#eval_IPS(rewards, ps_i, ps)"
   ]
  },
  {
   "cell_type": "code",
   "execution_count": 172,
   "metadata": {},
   "outputs": [
    {
     "data": {
      "text/plain": [
       "(1.5836157417550232, 0.5098816568526752)"
      ]
     },
     "execution_count": 172,
     "metadata": {},
     "output_type": "execute_result"
    }
   ],
   "source": [
    "eval_IPS(rewards, ps_eval, ps)"
   ]
  },
  {
   "cell_type": "code",
   "execution_count": 173,
   "metadata": {},
   "outputs": [
    {
     "data": {
      "text/plain": [
       "(0.6790156096358897, 1.7640535114364186)"
      ]
     },
     "execution_count": 173,
     "metadata": {},
     "output_type": "execute_result"
    }
   ],
   "source": [
    "eval_IPS(rewards, ps_i, ps)"
   ]
  },
  {
   "cell_type": "code",
   "execution_count": 82,
   "metadata": {},
   "outputs": [
    {
     "data": {
      "text/plain": [
       "(0.0, 0.0)"
      ]
     },
     "execution_count": 82,
     "metadata": {},
     "output_type": "execute_result"
    }
   ],
   "source": [
    "eval_CIPS(rewards, ps_i, ps, cap=1)"
   ]
  },
  {
   "cell_type": "code",
   "execution_count": null,
   "metadata": {},
   "outputs": [],
   "source": []
  },
  {
   "cell_type": "markdown",
   "metadata": {},
   "source": [
    "# DR"
   ]
  },
  {
   "cell_type": "code",
   "execution_count": 237,
   "metadata": {},
   "outputs": [],
   "source": [
    "from IPython.display import Image\n",
    "#Image(\"/home/marlesson/Downloads/Captura de tela de 2020-05-26 10-36-18.png\")"
   ]
  },
  {
   "cell_type": "code",
   "execution_count": 238,
   "metadata": {},
   "outputs": [],
   "source": [
    "def eval_doubly_robust(action_rhat_rewards, item_idx_rhat_rewards, rewards, \n",
    "                       t_props, l_props, cap=None):\n",
    "  # t_props: Avaliação\n",
    "  # l_props: Coleta\n",
    "\n",
    "  # Calculate Sample Weigths\n",
    "  p_ratio, n_e, cv =  _calc_sample_weigths(rewards, t_props, l_props)\n",
    "\n",
    "\n",
    "  # Cap ratios\n",
    "  if cap is not None:\n",
    "    p_ratio = np.clip(p_ratio, a_min=None, a_max=cap)\n",
    "\n",
    "  #################\n",
    "  # Roubly Robust #\n",
    "  #################\n",
    "  dr = (p_ratio*(rewards - item_idx_rhat_rewards)) + action_rhat_rewards\n",
    "  x1 = (rewards - item_idx_rhat_rewards)\n",
    "  x2 = action_rhat_rewards\n",
    "  #dr = (p_ratio*(rewards - item_idx_rhat_rewards)) + action_rhat_rewards\n",
    "\n",
    "  confidence=0.95\n",
    "  n = len(dr)\n",
    "  m, se = np.mean(dr), scipy.stats.sem(dr)\n",
    "  h = se * scipy.stats.t.ppf((1 + confidence) / 2., n-1)\n",
    "\n",
    "  return dr, m, h, x1, x2"
   ]
  },
  {
   "cell_type": "code",
   "execution_count": 239,
   "metadata": {},
   "outputs": [],
   "source": [
    "# sns.distplot(action_rhat_rewards, kde=False, color=\"b\")\n",
    "# sns.distplot(item_idx_rhat_rewards, kde=False, color=\"r\")"
   ]
  },
  {
   "cell_type": "code",
   "execution_count": 242,
   "metadata": {},
   "outputs": [],
   "source": [
    "# CRM\n",
    "action_rhat_rewards, item_idx_rhat_rewards, \\\n",
    "    rewards, ps_eval, ps, ps_i = _offpolicy_eval(ps_model1)\n",
    "\n",
    "crm_val = []\n",
    "for i in range(1000):\n",
    "    dr_r, dr, c, x1, x2 = eval_doubly_robust(action_rhat_rewards, item_idx_rhat_rewards, rewards, ps_i, ps, cap=i)\n",
    "    dr\n",
    "    crm_val.append(dr)\n",
    "    \n"
   ]
  },
  {
   "cell_type": "code",
   "execution_count": 243,
   "metadata": {},
   "outputs": [],
   "source": [
    "# BCE\n",
    "action_rhat_rewards, item_idx_rhat_rewards, \\\n",
    "    rewards, ps_eval, ps, ps_i = _offpolicy_eval(ps_model2)\n",
    "\n",
    "bce_val = []\n",
    "for i in range(1000):\n",
    "    dr_r, dr, c, x1, x2 = eval_doubly_robust(action_rhat_rewards, item_idx_rhat_rewards, rewards, ps_i, ps, cap=i)\n",
    "    dr\n",
    "    bce_val.append(dr)\n"
   ]
  },
  {
   "cell_type": "code",
   "execution_count": 248,
   "metadata": {},
   "outputs": [
    {
     "data": {
      "text/plain": [
       "<matplotlib.legend.Legend at 0x7f7303df2320>"
      ]
     },
     "execution_count": 248,
     "metadata": {},
     "output_type": "execute_result"
    },
    {
     "data": {
      "image/png": "[encoded data removed]",
      "text/plain": [
       "<Figure size 432x288 with 1 Axes>"
      ]
     },
     "metadata": {
      "needs_background": "light"
     },
     "output_type": "display_data"
    }
   ],
   "source": [
    "plt_crm = plt.plot(crm_val, label='CRM')\n",
    "plt_bce = plt.plot(bce_val, label='BCE')\n",
    "plt.legend()"
   ]
  },
  {
   "cell_type": "code",
   "execution_count": 251,
   "metadata": {},
   "outputs": [
    {
     "data": {
      "text/plain": [
       "<matplotlib.legend.Legend at 0x7f7303c95550>"
      ]
     },
     "execution_count": 251,
     "metadata": {},
     "output_type": "execute_result"
    },
    {
     "data": {
      "image/png": "[encoded data removed]",
      "text/plain": [
       "<Figure size 432x288 with 1 Axes>"
      ]
     },
     "metadata": {
      "needs_background": "light"
     },
     "output_type": "display_data"
    }
   ],
   "source": [
    "plt_crm = plt.plot(crm_val[:30], label='CRM')\n",
    "plt_bce = plt.plot(bce_val[:30], label='BCE')\n",
    "plt.legend()"
   ]
  },
  {
   "cell_type": "code",
   "execution_count": null,
   "metadata": {},
   "outputs": [],
   "source": []
  },
  {
   "cell_type": "code",
   "execution_count": 177,
   "metadata": {
    "cell_style": "split"
   },
   "outputs": [
    {
     "data": {
      "text/plain": [
       "<matplotlib.axes._subplots.AxesSubplot at 0x7f730c9c6f28>"
      ]
     },
     "execution_count": 177,
     "metadata": {},
     "output_type": "execute_result"
    },
    {
     "data": {
      "image/png": "[encoded data removed]",
      "text/plain": [
       "<Figure size 432x288 with 1 Axes>"
      ]
     },
     "metadata": {
      "needs_background": "light"
     },
     "output_type": "display_data"
    }
   ],
   "source": [
    "sns.distplot(x1, kde=False, color=\"b\")"
   ]
  },
  {
   "cell_type": "code",
   "execution_count": 178,
   "metadata": {
    "cell_style": "split"
   },
   "outputs": [
    {
     "data": {
      "text/plain": [
       "<matplotlib.axes._subplots.AxesSubplot at 0x7f730c94d710>"
      ]
     },
     "execution_count": 178,
     "metadata": {},
     "output_type": "execute_result"
    },
    {
     "data": {
      "image/png": "[encoded data removed]",
      "text/plain": [
       "<Figure size 432x288 with 1 Axes>"
      ]
     },
     "metadata": {
      "needs_background": "light"
     },
     "output_type": "display_data"
    }
   ],
   "source": [
    "sns.distplot(x2, kde=False, color=\"b\")"
   ]
  },
  {
   "cell_type": "code",
   "execution_count": 179,
   "metadata": {},
   "outputs": [
    {
     "data": {
      "text/plain": [
       "<matplotlib.axes._subplots.AxesSubplot at 0x7f730c8e0048>"
      ]
     },
     "execution_count": 179,
     "metadata": {},
     "output_type": "execute_result"
    },
    {
     "data": {
      "image/png": "[encoded data removed]",
      "text/plain": [
       "<Figure size 432x288 with 1 Axes>"
      ]
     },
     "metadata": {
      "needs_background": "light"
     },
     "output_type": "display_data"
    }
   ],
   "source": [
    "sns.distplot(x1, kde=False, color=\"b\")"
   ]
  },
  {
   "cell_type": "code",
   "execution_count": null,
   "metadata": {},
   "outputs": [],
   "source": []
  },
  {
   "cell_type": "code",
   "execution_count": 180,
   "metadata": {},
   "outputs": [
    {
     "data": {
      "text/plain": [
       "<matplotlib.axes._subplots.AxesSubplot at 0x7f730c7cdba8>"
      ]
     },
     "execution_count": 180,
     "metadata": {},
     "output_type": "execute_result"
    },
    {
     "data": {
      "image/png": "[encoded data removed]",
      "text/plain": [
       "<Figure size 432x288 with 1 Axes>"
      ]
     },
     "metadata": {
      "needs_background": "light"
     },
     "output_type": "display_data"
    }
   ],
   "source": [
    "sns.distplot(dr_r, kde=False, color=\"b\")"
   ]
  },
  {
   "cell_type": "code",
   "execution_count": 181,
   "metadata": {},
   "outputs": [
    {
     "data": {
      "text/plain": [
       "<matplotlib.collections.PathCollection at 0x7f730c9f5cc0>"
      ]
     },
     "execution_count": 181,
     "metadata": {},
     "output_type": "execute_result"
    },
    {
     "data": {
      "image/png": "[encoded data removed]",
      "text/plain": [
       "<Figure size 432x288 with 1 Axes>"
      ]
     },
     "metadata": {
      "needs_background": "light"
     },
     "output_type": "display_data"
    }
   ],
   "source": [
    "plt.scatter(action_rhat_rewards, item_idx_rhat_rewards)"
   ]
  },
  {
   "cell_type": "code",
   "execution_count": 182,
   "metadata": {},
   "outputs": [
    {
     "data": {
      "text/plain": [
       "(0.34936907150936214, 0.34936907150936214, 0.01051716921791203)"
      ]
     },
     "execution_count": 182,
     "metadata": {},
     "output_type": "execute_result"
    }
   ],
   "source": [
    "np.mean(dr_r), dr, c"
   ]
  },
  {
   "cell_type": "code",
   "execution_count": null,
   "metadata": {},
   "outputs": [],
   "source": []
  }
 ],
 "metadata": {
  "kernelspec": {
   "display_name": "Python 3",
   "language": "python",
   "name": "python3"
  },
  "language_info": {
   "codemirror_mode": {
    "name": "ipython",
    "version": 3
   },
   "file_extension": ".py",
   "mimetype": "text/x-python",
   "name": "python",
   "nbconvert_exporter": "python",
   "pygments_lexer": "ipython3",
   "version": "3.6.7"
  },
  "toc": {
   "base_numbering": 1,
   "nav_menu": {},
   "number_sections": true,
   "sideBar": true,
   "skip_h1_title": false,
   "title_cell": "Table of Contents",
   "title_sidebar": "Contents",
   "toc_cell": false,
   "toc_position": {},
   "toc_section_display": true,
   "toc_window_display": false
  }
 },
 "nbformat": 4,
 "nbformat_minor": 4
}
