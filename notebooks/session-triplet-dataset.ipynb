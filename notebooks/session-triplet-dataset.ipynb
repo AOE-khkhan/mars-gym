{
 "cells": [
  {
   "cell_type": "markdown",
   "metadata": {},
   "source": [
    "## Session-Triplet-Dataset\n",
    "\n",
    "Preparação do dataset de triplet para session"
   ]
  },
  {
   "cell_type": "code",
   "execution_count": 1,
   "metadata": {},
   "outputs": [
    {
     "data": {
      "text/html": [
       "\n",
       "            <div>\n",
       "                <p><b>SparkSession - hive</b></p>\n",
       "                \n",
       "        <div>\n",
       "            <p><b>SparkContext</b></p>\n",
       "\n",
       "            <p><a href=\"http://localhost:4040\">Spark UI</a></p>\n",
       "\n",
       "            <dl>\n",
       "              <dt>Version</dt>\n",
       "                <dd><code>v2.3.3</code></dd>\n",
       "              <dt>Master</dt>\n",
       "                <dd><code>local[10]</code></dd>\n",
       "              <dt>AppName</dt>\n",
       "                <dd><code>pyspark-shell</code></dd>\n",
       "            </dl>\n",
       "        </div>\n",
       "        \n",
       "            </div>\n",
       "        "
      ],
      "text/plain": [
       "<pyspark.sql.session.SparkSession at 0x7f5997935128>"
      ]
     },
     "execution_count": 1,
     "metadata": {},
     "output_type": "execute_result"
    }
   ],
   "source": [
    "spark"
   ]
  },
  {
   "cell_type": "code",
   "execution_count": 31,
   "metadata": {},
   "outputs": [],
   "source": [
    "from pyspark.sql.functions import collect_set, collect_list, lit, sum, udf, concat_ws, col, count, abs\n",
    "from pyspark.sql.functions import explode, posexplode"
   ]
  },
  {
   "cell_type": "code",
   "execution_count": 3,
   "metadata": {},
   "outputs": [
    {
     "name": "stdout",
     "output_type": "stream",
     "text": [
      "+--------------------+--------------+--------------+\n",
      "|          session_id|merchant_idx_A|merchant_idx_B|\n",
      "+--------------------+--------------+--------------+\n",
      "|06aa9f97-65f3-45f...|             0|           196|\n",
      "+--------------------+--------------+--------------+\n",
      "only showing top 1 row\n",
      "\n"
     ]
    }
   ],
   "source": [
    "df = spark.read.parquet(\"../output/ifood/dataset/indexed_intra_session_train_0.10/\")\n",
    "df.show(1)"
   ]
  },
  {
   "cell_type": "code",
   "execution_count": 4,
   "metadata": {},
   "outputs": [
    {
     "data": {
      "text/plain": [
       "291163"
      ]
     },
     "execution_count": 4,
     "metadata": {},
     "output_type": "execute_result"
    }
   ],
   "source": [
    "df.count()"
   ]
  },
  {
   "cell_type": "code",
   "execution_count": 5,
   "metadata": {},
   "outputs": [
    {
     "data": {
      "text/plain": [
       "0"
      ]
     },
     "execution_count": 5,
     "metadata": {},
     "output_type": "execute_result"
    }
   ],
   "source": [
    "a = 53\n",
    "b = 1496\n",
    "df.filter(df.merchant_idx_A == a).filter(df.merchant_idx_B == b).count()"
   ]
  },
  {
   "cell_type": "code",
   "execution_count": null,
   "metadata": {},
   "outputs": [],
   "source": []
  },
  {
   "cell_type": "code",
   "execution_count": null,
   "metadata": {},
   "outputs": [],
   "source": []
  },
  {
   "cell_type": "code",
   "execution_count": 7,
   "metadata": {},
   "outputs": [
    {
     "name": "stdout",
     "output_type": "stream",
     "text": [
      "+--------------------+--------------------+--------------------+-------------------+---+------------+\n",
      "|          session_id|          account_id|         merchant_id|    click_timestamp|buy|dt_partition|\n",
      "+--------------------+--------------------+--------------------+-------------------+---+------------+\n",
      "|201b8efb-bf7a-42f...|eefd77bc-2288-472...|83e5a078-2165-4b8...|2019-06-01 00:00:31|  0|  2019-06-01|\n",
      "|201b8efb-bf7a-42f...|eefd77bc-2288-472...|17b17a05-c383-45f...|2019-06-01 00:00:31|  0|  2019-06-01|\n",
      "|97d7c14f-9bcc-4a7...|74246816-23fe-42f...|a5d66080-c059-4c9...|2019-06-01 00:01:10|  0|  2019-06-01|\n",
      "|3977c2b6-b8cf-40a...|51d04693-71e0-493...|2cf13ea7-63be-423...|2019-06-01 00:01:17|  0|  2019-06-01|\n",
      "|3977c2b6-b8cf-40a...|51d04693-71e0-493...|2cf13ea7-63be-423...|2019-06-01 00:01:17|  1|  2019-06-01|\n",
      "|3977c2b6-b8cf-40a...|51d04693-71e0-493...|2cf13ea7-63be-423...|2019-06-01 00:01:17|  0|  2019-06-01|\n",
      "|a80ed5b5-d51e-46a...|5c196c3b-050b-42a...|92c5c3a6-40be-4a8...|2019-06-01 00:01:22|  0|  2019-06-01|\n",
      "|279361c4-8de4-439...|b53fa066-5fda-400...|2cf13ea7-63be-423...|2019-06-01 00:01:31|  0|  2019-06-01|\n",
      "|dbe31134-1c38-460...|bb06b87e-fa2e-491...|33e21e96-1d85-4dc...|2019-06-01 00:01:31|  0|  2019-06-01|\n",
      "|928bc836-71ef-4a1...|3baee5f9-6f4e-4f4...|92c5c3a6-40be-4a8...|2019-06-01 00:01:37|  0|  2019-06-01|\n",
      "+--------------------+--------------------+--------------------+-------------------+---+------------+\n",
      "only showing top 10 rows\n",
      "\n"
     ]
    }
   ],
   "source": [
    "df = spark.read.parquet(\"../output/ifood/ufg_dataset_all/info_session/\")\n",
    "df = df.orderBy(col('click_timestamp'))\n",
    "df.show(10)"
   ]
  },
  {
   "cell_type": "code",
   "execution_count": 11,
   "metadata": {},
   "outputs": [
    {
     "name": "stdout",
     "output_type": "stream",
     "text": [
      "+--------------------+--------------------+--------------------+-------------------+---+------------+\n",
      "|          session_id|          account_id|         merchant_id|    click_timestamp|buy|dt_partition|\n",
      "+--------------------+--------------------+--------------------+-------------------+---+------------+\n",
      "|001347db-8240-4a0...|753e6059-9396-4d7...|3fd04924-5c23-448...|2019-07-10 20:06:08|  1|  2019-07-10|\n",
      "|001347db-8240-4a0...|753e6059-9396-4d7...|3fd04924-5c23-448...|2019-07-10 20:11:06|  1|  2019-07-10|\n",
      "+--------------------+--------------------+--------------------+-------------------+---+------------+\n",
      "\n"
     ]
    }
   ],
   "source": [
    "df.filter(df.session_id == '001347db-8240-4a01-818c-5f255323a6fd').show(10)"
   ]
  },
  {
   "cell_type": "code",
   "execution_count": 10,
   "metadata": {},
   "outputs": [
    {
     "data": {
      "text/plain": [
       "[Row(session_id='000264c8-c999-4639-823a-232db6ca052d', merchant_ids=['517dece4-ffe1-4abb-af89-2b78ad2bc315', '35339dfa-cf09-4943-ad20-a51900600fdd', '92c5c3a6-40be-4a81-8969-3505b7bf16cc', '11234fa1-593b-4781-8fd5-5a7008065bcf'], count(merchant_id)=4),\n",
       " Row(session_id='000e51fa-6215-463c-b316-339501563bb5', merchant_ids=['8110b1bb-e037-4a6e-a1c5-18e95c051ad8', '8110b1bb-e037-4a6e-a1c5-18e95c051ad8', '0de90f03-2e49-44f7-a008-594d01a489e8'], count(merchant_id)=3),\n",
       " Row(session_id='001347db-8240-4a01-818c-5f255323a6fd', merchant_ids=['3fd04924-5c23-4486-95b4-bebd6f9462e3', '3fd04924-5c23-4486-95b4-bebd6f9462e3'], count(merchant_id)=2)]"
      ]
     },
     "execution_count": 10,
     "metadata": {},
     "output_type": "execute_result"
    }
   ],
   "source": [
    "df_session = df.groupby(\"session_id\").agg(collect_list(\"merchant_id\").alias(\"merchant_ids\"), count(\"merchant_id\")).limit(3)\n",
    "df_session.take(3)"
   ]
  },
  {
   "cell_type": "code",
   "execution_count": 19,
   "metadata": {},
   "outputs": [
    {
     "name": "stdout",
     "output_type": "stream",
     "text": [
      "+--------------------+---+--------------------+\n",
      "|         _session_id|pos|                 col|\n",
      "+--------------------+---+--------------------+\n",
      "|000264c8-c999-463...|  0|517dece4-ffe1-4ab...|\n",
      "|000264c8-c999-463...|  1|35339dfa-cf09-494...|\n",
      "|000264c8-c999-463...|  2|92c5c3a6-40be-4a8...|\n",
      "|000264c8-c999-463...|  3|11234fa1-593b-478...|\n",
      "|000e51fa-6215-463...|  0|8110b1bb-e037-4a6...|\n",
      "|000e51fa-6215-463...|  1|8110b1bb-e037-4a6...|\n",
      "|000e51fa-6215-463...|  2|0de90f03-2e49-44f...|\n",
      "|001347db-8240-4a0...|  0|3fd04924-5c23-448...|\n",
      "|001347db-8240-4a0...|  1|3fd04924-5c23-448...|\n",
      "+--------------------+---+--------------------+\n",
      "\n"
     ]
    }
   ],
   "source": [
    "df_session_pos = df_session.select(col('session_id').alias('_session_id'), posexplode(df_session.merchant_ids))\n",
    "df_session_pos.show()"
   ]
  },
  {
   "cell_type": "code",
   "execution_count": 25,
   "metadata": {},
   "outputs": [
    {
     "name": "stdout",
     "output_type": "stream",
     "text": [
      "+--------------------+--------------------+------------------+--------------------+\n",
      "|          session_id|        merchant_ids|count(merchant_id)|       merchant_id_A|\n",
      "+--------------------+--------------------+------------------+--------------------+\n",
      "|000264c8-c999-463...|[517dece4-ffe1-4a...|                 4|517dece4-ffe1-4ab...|\n",
      "|000264c8-c999-463...|[517dece4-ffe1-4a...|                 4|35339dfa-cf09-494...|\n",
      "|000264c8-c999-463...|[517dece4-ffe1-4a...|                 4|92c5c3a6-40be-4a8...|\n",
      "|000264c8-c999-463...|[517dece4-ffe1-4a...|                 4|11234fa1-593b-478...|\n",
      "|000e51fa-6215-463...|[8110b1bb-e037-4a...|                 3|8110b1bb-e037-4a6...|\n",
      "|000e51fa-6215-463...|[8110b1bb-e037-4a...|                 3|8110b1bb-e037-4a6...|\n",
      "|000e51fa-6215-463...|[8110b1bb-e037-4a...|                 3|0de90f03-2e49-44f...|\n",
      "|001347db-8240-4a0...|[3fd04924-5c23-44...|                 2|3fd04924-5c23-448...|\n",
      "|001347db-8240-4a0...|[3fd04924-5c23-44...|                 2|3fd04924-5c23-448...|\n",
      "+--------------------+--------------------+------------------+--------------------+\n",
      "\n"
     ]
    }
   ],
   "source": [
    "df_interaction = df_session.withColumn(\"merchant_id_A\", explode(df_session.merchant_ids))\n",
    "df_interaction.show()"
   ]
  },
  {
   "cell_type": "code",
   "execution_count": 26,
   "metadata": {},
   "outputs": [
    {
     "name": "stdout",
     "output_type": "stream",
     "text": [
      "+--------------------+--------------------+-----+--------------------+\n",
      "|          session_id|       merchant_id_A|pos_A|        merchant_ids|\n",
      "+--------------------+--------------------+-----+--------------------+\n",
      "|000264c8-c999-463...|517dece4-ffe1-4ab...|    0|[517dece4-ffe1-4a...|\n",
      "|000264c8-c999-463...|35339dfa-cf09-494...|    1|[517dece4-ffe1-4a...|\n",
      "|000264c8-c999-463...|92c5c3a6-40be-4a8...|    2|[517dece4-ffe1-4a...|\n",
      "|000264c8-c999-463...|11234fa1-593b-478...|    3|[517dece4-ffe1-4a...|\n",
      "|000e51fa-6215-463...|8110b1bb-e037-4a6...|    1|[8110b1bb-e037-4a...|\n",
      "|000e51fa-6215-463...|8110b1bb-e037-4a6...|    0|[8110b1bb-e037-4a...|\n",
      "|000e51fa-6215-463...|8110b1bb-e037-4a6...|    1|[8110b1bb-e037-4a...|\n",
      "|000e51fa-6215-463...|8110b1bb-e037-4a6...|    0|[8110b1bb-e037-4a...|\n",
      "|000e51fa-6215-463...|0de90f03-2e49-44f...|    2|[8110b1bb-e037-4a...|\n",
      "|001347db-8240-4a0...|3fd04924-5c23-448...|    1|[3fd04924-5c23-44...|\n",
      "|001347db-8240-4a0...|3fd04924-5c23-448...|    0|[3fd04924-5c23-44...|\n",
      "|001347db-8240-4a0...|3fd04924-5c23-448...|    1|[3fd04924-5c23-44...|\n",
      "|001347db-8240-4a0...|3fd04924-5c23-448...|    0|[3fd04924-5c23-44...|\n",
      "+--------------------+--------------------+-----+--------------------+\n",
      "\n"
     ]
    }
   ],
   "source": [
    "df_interaction = df_interaction.join(df_session_pos, \n",
    "                    (df_interaction.session_id == df_session_pos._session_id) & (df_interaction.merchant_id_A == df_session_pos.col))\\\n",
    "    .select('session_id', 'merchant_id_A', 'pos', 'merchant_ids')\n",
    "df_interaction = df_interaction.withColumnRenamed('pos', 'pos_A')\n",
    "df_interaction.show()"
   ]
  },
  {
   "cell_type": "code",
   "execution_count": 27,
   "metadata": {
    "scrolled": true
   },
   "outputs": [
    {
     "name": "stdout",
     "output_type": "stream",
     "text": [
      "+--------------------+--------------------+-----+--------------------+--------------------+\n",
      "|          session_id|       merchant_id_A|pos_A|        merchant_ids|       merchant_id_B|\n",
      "+--------------------+--------------------+-----+--------------------+--------------------+\n",
      "|000264c8-c999-463...|517dece4-ffe1-4ab...|    0|[517dece4-ffe1-4a...|517dece4-ffe1-4ab...|\n",
      "|000264c8-c999-463...|517dece4-ffe1-4ab...|    0|[517dece4-ffe1-4a...|35339dfa-cf09-494...|\n",
      "|000264c8-c999-463...|517dece4-ffe1-4ab...|    0|[517dece4-ffe1-4a...|92c5c3a6-40be-4a8...|\n",
      "|000264c8-c999-463...|517dece4-ffe1-4ab...|    0|[517dece4-ffe1-4a...|11234fa1-593b-478...|\n",
      "|000264c8-c999-463...|35339dfa-cf09-494...|    1|[517dece4-ffe1-4a...|517dece4-ffe1-4ab...|\n",
      "|000264c8-c999-463...|35339dfa-cf09-494...|    1|[517dece4-ffe1-4a...|35339dfa-cf09-494...|\n",
      "|000264c8-c999-463...|35339dfa-cf09-494...|    1|[517dece4-ffe1-4a...|92c5c3a6-40be-4a8...|\n",
      "|000264c8-c999-463...|35339dfa-cf09-494...|    1|[517dece4-ffe1-4a...|11234fa1-593b-478...|\n",
      "|000264c8-c999-463...|92c5c3a6-40be-4a8...|    2|[517dece4-ffe1-4a...|517dece4-ffe1-4ab...|\n",
      "|000264c8-c999-463...|92c5c3a6-40be-4a8...|    2|[517dece4-ffe1-4a...|35339dfa-cf09-494...|\n",
      "|000264c8-c999-463...|92c5c3a6-40be-4a8...|    2|[517dece4-ffe1-4a...|92c5c3a6-40be-4a8...|\n",
      "|000264c8-c999-463...|92c5c3a6-40be-4a8...|    2|[517dece4-ffe1-4a...|11234fa1-593b-478...|\n",
      "|000264c8-c999-463...|11234fa1-593b-478...|    3|[517dece4-ffe1-4a...|517dece4-ffe1-4ab...|\n",
      "|000264c8-c999-463...|11234fa1-593b-478...|    3|[517dece4-ffe1-4a...|35339dfa-cf09-494...|\n",
      "|000264c8-c999-463...|11234fa1-593b-478...|    3|[517dece4-ffe1-4a...|92c5c3a6-40be-4a8...|\n",
      "|000264c8-c999-463...|11234fa1-593b-478...|    3|[517dece4-ffe1-4a...|11234fa1-593b-478...|\n",
      "|000e51fa-6215-463...|8110b1bb-e037-4a6...|    1|[8110b1bb-e037-4a...|8110b1bb-e037-4a6...|\n",
      "|000e51fa-6215-463...|8110b1bb-e037-4a6...|    1|[8110b1bb-e037-4a...|8110b1bb-e037-4a6...|\n",
      "|000e51fa-6215-463...|8110b1bb-e037-4a6...|    1|[8110b1bb-e037-4a...|0de90f03-2e49-44f...|\n",
      "|000e51fa-6215-463...|8110b1bb-e037-4a6...|    0|[8110b1bb-e037-4a...|8110b1bb-e037-4a6...|\n",
      "+--------------------+--------------------+-----+--------------------+--------------------+\n",
      "only showing top 20 rows\n",
      "\n"
     ]
    }
   ],
   "source": [
    "df_interaction2 = df_interaction.withColumn(\"merchant_id_B\", explode(df_session.merchant_ids))\n",
    "df_interaction2.show()"
   ]
  },
  {
   "cell_type": "code",
   "execution_count": 28,
   "metadata": {},
   "outputs": [
    {
     "name": "stdout",
     "output_type": "stream",
     "text": [
      "+--------------------+--------------------+-----+--------------------+-----+\n",
      "|          session_id|       merchant_id_A|pos_A|       merchant_id_B|pos_B|\n",
      "+--------------------+--------------------+-----+--------------------+-----+\n",
      "|000264c8-c999-463...|517dece4-ffe1-4ab...|    0|517dece4-ffe1-4ab...|    0|\n",
      "|000264c8-c999-463...|517dece4-ffe1-4ab...|    0|35339dfa-cf09-494...|    1|\n",
      "|000264c8-c999-463...|517dece4-ffe1-4ab...|    0|92c5c3a6-40be-4a8...|    2|\n",
      "|000264c8-c999-463...|517dece4-ffe1-4ab...|    0|11234fa1-593b-478...|    3|\n",
      "|000264c8-c999-463...|35339dfa-cf09-494...|    1|517dece4-ffe1-4ab...|    0|\n",
      "|000264c8-c999-463...|35339dfa-cf09-494...|    1|35339dfa-cf09-494...|    1|\n",
      "|000264c8-c999-463...|35339dfa-cf09-494...|    1|92c5c3a6-40be-4a8...|    2|\n",
      "|000264c8-c999-463...|35339dfa-cf09-494...|    1|11234fa1-593b-478...|    3|\n",
      "|000264c8-c999-463...|92c5c3a6-40be-4a8...|    2|517dece4-ffe1-4ab...|    0|\n",
      "|000264c8-c999-463...|92c5c3a6-40be-4a8...|    2|35339dfa-cf09-494...|    1|\n",
      "|000264c8-c999-463...|92c5c3a6-40be-4a8...|    2|92c5c3a6-40be-4a8...|    2|\n",
      "|000264c8-c999-463...|92c5c3a6-40be-4a8...|    2|11234fa1-593b-478...|    3|\n",
      "|000264c8-c999-463...|11234fa1-593b-478...|    3|517dece4-ffe1-4ab...|    0|\n",
      "|000264c8-c999-463...|11234fa1-593b-478...|    3|35339dfa-cf09-494...|    1|\n",
      "|000264c8-c999-463...|11234fa1-593b-478...|    3|92c5c3a6-40be-4a8...|    2|\n",
      "|000264c8-c999-463...|11234fa1-593b-478...|    3|11234fa1-593b-478...|    3|\n",
      "|000e51fa-6215-463...|8110b1bb-e037-4a6...|    1|8110b1bb-e037-4a6...|    1|\n",
      "|000e51fa-6215-463...|8110b1bb-e037-4a6...|    1|8110b1bb-e037-4a6...|    0|\n",
      "|000e51fa-6215-463...|8110b1bb-e037-4a6...|    1|8110b1bb-e037-4a6...|    1|\n",
      "|000e51fa-6215-463...|8110b1bb-e037-4a6...|    1|8110b1bb-e037-4a6...|    0|\n",
      "+--------------------+--------------------+-----+--------------------+-----+\n",
      "only showing top 20 rows\n",
      "\n"
     ]
    }
   ],
   "source": [
    "df_interaction2 = df_interaction2.join(df_session_pos, \n",
    "                    (df_interaction2.session_id == df_session_pos._session_id) & (df_interaction2.merchant_id_B == df_session_pos.col))\\\n",
    "    .select('session_id', 'merchant_id_A', 'pos_A', 'merchant_id_B', 'pos')\n",
    "df_interaction2 = df_interaction2.withColumnRenamed('pos', 'pos_B')\n",
    "\n",
    "df_interaction2.show()"
   ]
  },
  {
   "cell_type": "code",
   "execution_count": 32,
   "metadata": {},
   "outputs": [
    {
     "name": "stdout",
     "output_type": "stream",
     "text": [
      "+--------------------+--------------------+-----+--------------------+-----+------------+\n",
      "|          session_id|       merchant_id_A|pos_A|       merchant_id_B|pos_B|relative_pos|\n",
      "+--------------------+--------------------+-----+--------------------+-----+------------+\n",
      "|000264c8-c999-463...|517dece4-ffe1-4ab...|    0|517dece4-ffe1-4ab...|    0|           0|\n",
      "|000264c8-c999-463...|517dece4-ffe1-4ab...|    0|35339dfa-cf09-494...|    1|           1|\n",
      "|000264c8-c999-463...|517dece4-ffe1-4ab...|    0|92c5c3a6-40be-4a8...|    2|           2|\n",
      "|000264c8-c999-463...|517dece4-ffe1-4ab...|    0|11234fa1-593b-478...|    3|           3|\n",
      "|000264c8-c999-463...|35339dfa-cf09-494...|    1|517dece4-ffe1-4ab...|    0|           1|\n",
      "|000264c8-c999-463...|35339dfa-cf09-494...|    1|35339dfa-cf09-494...|    1|           0|\n",
      "|000264c8-c999-463...|35339dfa-cf09-494...|    1|92c5c3a6-40be-4a8...|    2|           1|\n",
      "|000264c8-c999-463...|35339dfa-cf09-494...|    1|11234fa1-593b-478...|    3|           2|\n",
      "|000264c8-c999-463...|92c5c3a6-40be-4a8...|    2|517dece4-ffe1-4ab...|    0|           2|\n",
      "|000264c8-c999-463...|92c5c3a6-40be-4a8...|    2|35339dfa-cf09-494...|    1|           1|\n",
      "|000264c8-c999-463...|92c5c3a6-40be-4a8...|    2|92c5c3a6-40be-4a8...|    2|           0|\n",
      "|000264c8-c999-463...|92c5c3a6-40be-4a8...|    2|11234fa1-593b-478...|    3|           1|\n",
      "|000264c8-c999-463...|11234fa1-593b-478...|    3|517dece4-ffe1-4ab...|    0|           3|\n",
      "|000264c8-c999-463...|11234fa1-593b-478...|    3|35339dfa-cf09-494...|    1|           2|\n",
      "|000264c8-c999-463...|11234fa1-593b-478...|    3|92c5c3a6-40be-4a8...|    2|           1|\n",
      "|000264c8-c999-463...|11234fa1-593b-478...|    3|11234fa1-593b-478...|    3|           0|\n",
      "|000e51fa-6215-463...|8110b1bb-e037-4a6...|    1|8110b1bb-e037-4a6...|    1|           0|\n",
      "|000e51fa-6215-463...|8110b1bb-e037-4a6...|    1|8110b1bb-e037-4a6...|    0|           1|\n",
      "|000e51fa-6215-463...|8110b1bb-e037-4a6...|    1|8110b1bb-e037-4a6...|    1|           0|\n",
      "|000e51fa-6215-463...|8110b1bb-e037-4a6...|    1|8110b1bb-e037-4a6...|    0|           1|\n",
      "+--------------------+--------------------+-----+--------------------+-----+------------+\n",
      "only showing top 20 rows\n",
      "\n"
     ]
    }
   ],
   "source": [
    "df_interaction2 = df_interaction2.withColumn(\"relative_pos\", abs(df_interaction2.pos_A - df_interaction2.pos_B))\n",
    "df_interaction2.show()"
   ]
  },
  {
   "cell_type": "code",
   "execution_count": null,
   "metadata": {},
   "outputs": [],
   "source": []
  },
  {
   "cell_type": "code",
   "execution_count": 29,
   "metadata": {},
   "outputs": [
    {
     "data": {
      "text/plain": [
       "[Row(session_id='000264c8-c999-4639-823a-232db6ca052d', merchant_ids=['517dece4-ffe1-4abb-af89-2b78ad2bc315', '35339dfa-cf09-4943-ad20-a51900600fdd', '92c5c3a6-40be-4a81-8969-3505b7bf16cc', '11234fa1-593b-4781-8fd5-5a7008065bcf'], count(merchant_id)=4),\n",
       " Row(session_id='000e51fa-6215-463c-b316-339501563bb5', merchant_ids=['8110b1bb-e037-4a6e-a1c5-18e95c051ad8', '8110b1bb-e037-4a6e-a1c5-18e95c051ad8', '0de90f03-2e49-44f7-a008-594d01a489e8'], count(merchant_id)=3),\n",
       " Row(session_id='001347db-8240-4a01-818c-5f255323a6fd', merchant_ids=['3fd04924-5c23-4486-95b4-bebd6f9462e3', '3fd04924-5c23-4486-95b4-bebd6f9462e3'], count(merchant_id)=2)]"
      ]
     },
     "execution_count": 29,
     "metadata": {},
     "output_type": "execute_result"
    }
   ],
   "source": [
    "df_session.take(3)"
   ]
  },
  {
   "cell_type": "code",
   "execution_count": null,
   "metadata": {},
   "outputs": [],
   "source": []
  },
  {
   "cell_type": "code",
   "execution_count": 10,
   "metadata": {},
   "outputs": [
    {
     "name": "stdout",
     "output_type": "stream",
     "text": [
      "+--------------------+--------------------+--------------------+\n",
      "|          session_id|       merchant_id_A|       merchant_id_B|\n",
      "+--------------------+--------------------+--------------------+\n",
      "|000264c8-c999-463...|35339dfa-cf09-494...|92c5c3a6-40be-4a8...|\n",
      "|000264c8-c999-463...|35339dfa-cf09-494...|517dece4-ffe1-4ab...|\n",
      "|000264c8-c999-463...|35339dfa-cf09-494...|11234fa1-593b-478...|\n",
      "|000264c8-c999-463...|92c5c3a6-40be-4a8...|35339dfa-cf09-494...|\n",
      "|000264c8-c999-463...|92c5c3a6-40be-4a8...|517dece4-ffe1-4ab...|\n",
      "|000264c8-c999-463...|92c5c3a6-40be-4a8...|11234fa1-593b-478...|\n",
      "|000264c8-c999-463...|517dece4-ffe1-4ab...|35339dfa-cf09-494...|\n",
      "|000264c8-c999-463...|517dece4-ffe1-4ab...|92c5c3a6-40be-4a8...|\n",
      "|000264c8-c999-463...|517dece4-ffe1-4ab...|11234fa1-593b-478...|\n",
      "|000264c8-c999-463...|11234fa1-593b-478...|35339dfa-cf09-494...|\n",
      "|000264c8-c999-463...|11234fa1-593b-478...|92c5c3a6-40be-4a8...|\n",
      "|000264c8-c999-463...|11234fa1-593b-478...|517dece4-ffe1-4ab...|\n",
      "|000e51fa-6215-463...|0de90f03-2e49-44f...|8110b1bb-e037-4a6...|\n",
      "|000e51fa-6215-463...|8110b1bb-e037-4a6...|0de90f03-2e49-44f...|\n",
      "+--------------------+--------------------+--------------------+\n",
      "\n"
     ]
    }
   ],
   "source": [
    "df = df_interaction2.select(\"session_id\", \"merchant_id_A\", \"merchant_id_B\").distinct().filter(df_interaction2.merchant_id_A != df_interaction2.merchant_id_B)\n",
    "df.show(20)"
   ]
  },
  {
   "cell_type": "code",
   "execution_count": 11,
   "metadata": {},
   "outputs": [
    {
     "data": {
      "text/plain": [
       "14"
      ]
     },
     "execution_count": 11,
     "metadata": {},
     "output_type": "execute_result"
    }
   ],
   "source": [
    "df.count()"
   ]
  },
  {
   "cell_type": "code",
   "execution_count": null,
   "metadata": {},
   "outputs": [],
   "source": []
  },
  {
   "cell_type": "code",
   "execution_count": null,
   "metadata": {},
   "outputs": [],
   "source": []
  },
  {
   "cell_type": "code",
   "execution_count": 35,
   "metadata": {},
   "outputs": [
    {
     "ename": "ModuleNotFoundError",
     "evalue": "No module named 'recommendation'",
     "output_type": "error",
     "traceback": [
      "\u001b[0;31m---------------------------------------------------------------------------\u001b[0m",
      "\u001b[0;31mModuleNotFoundError\u001b[0m                       Traceback (most recent call last)",
      "\u001b[0;32m<ipython-input-35-a2c011e70bd6>\u001b[0m in \u001b[0;36m<module>\u001b[0;34m\u001b[0m\n\u001b[1;32m      4\u001b[0m \u001b[0;32mimport\u001b[0m \u001b[0mnumpy\u001b[0m \u001b[0;32mas\u001b[0m \u001b[0mnp\u001b[0m\u001b[0;34m\u001b[0m\u001b[0;34m\u001b[0m\u001b[0m\n\u001b[1;32m      5\u001b[0m \u001b[0;34m\u001b[0m\u001b[0m\n\u001b[0;32m----> 6\u001b[0;31m \u001b[0;32mfrom\u001b[0m \u001b[0mrecommendation\u001b[0m\u001b[0;34m.\u001b[0m\u001b[0mtask\u001b[0m\u001b[0;34m.\u001b[0m\u001b[0mdata_preparation\u001b[0m\u001b[0;34m.\u001b[0m\u001b[0mifood\u001b[0m \u001b[0;32mimport\u001b[0m \u001b[0mCreateIntraSessionInteractionDataset\u001b[0m\u001b[0;34m\u001b[0m\u001b[0;34m\u001b[0m\u001b[0m\n\u001b[0m",
      "\u001b[0;31mModuleNotFoundError\u001b[0m: No module named 'recommendation'"
     ]
    }
   ],
   "source": [
    "from typing import List\n",
    "\n",
    "import luigi\n",
    "import numpy as np\n",
    "\n",
    "from recommendation.task.data_preparation.ifood import CreateIntraSessionInteractionDataset"
   ]
  },
  {
   "cell_type": "code",
   "execution_count": null,
   "metadata": {},
   "outputs": [],
   "source": []
  }
 ],
 "metadata": {
  "kernelspec": {
   "display_name": "Python-with-Pixiedust_Spark-2.3",
   "language": "python",
   "name": "pythonwithpixiedustspark23"
  },
  "language_info": {
   "codemirror_mode": {
    "name": "ipython",
    "version": 3
   },
   "file_extension": ".py",
   "mimetype": "text/x-python",
   "name": "python",
   "nbconvert_exporter": "python",
   "pygments_lexer": "ipython3",
   "version": "3.6.7"
  },
  "toc": {
   "base_numbering": 1,
   "nav_menu": {},
   "number_sections": true,
   "sideBar": true,
   "skip_h1_title": false,
   "title_cell": "Table of Contents",
   "title_sidebar": "Contents",
   "toc_cell": false,
   "toc_position": {},
   "toc_section_display": true,
   "toc_window_display": false
  }
 },
 "nbformat": 4,
 "nbformat_minor": 2
}
