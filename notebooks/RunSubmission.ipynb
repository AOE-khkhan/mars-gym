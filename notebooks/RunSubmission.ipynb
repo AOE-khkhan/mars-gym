{
 "cells": [
  {
   "cell_type": "code",
   "execution_count": 1,
   "metadata": {},
   "outputs": [
    {
     "name": "stderr",
     "output_type": "stream",
     "text": [
      "/home/marlesson/anaconda3/envs/recommendation-system/lib/python3.6/site-packages/sklearn/externals/six.py:31: DeprecationWarning: The module is deprecated in version 0.21 and will be removed in version 0.23 since we've dropped support for Python 2.7. Please rely on the official version of six (https://pypi.org/project/six/).\n",
      "  \"(https://pypi.org/project/six/).\", DeprecationWarning)\n"
     ]
    }
   ],
   "source": [
    "from typing import List\n",
    "import torch\n",
    "import torch.nn as nn\n",
    "\n",
    "import luigi\n",
    "\n",
    "#from recommendation.utils import load_torch_model_training_from_task_dir\n",
    "from recommendation.model.deep import DeepCTR\n",
    "from recommendation.task.meta_config import RecommenderType\n",
    "from recommendation.task.model.base import BaseTorchModelTraining, TORCH_ACTIVATION_FUNCTIONS, TORCH_WEIGHT_INIT, \\\n",
    "    TORCH_DROPOUT_MODULES\n",
    "from recommendation.torch import MaskedZeroesLoss\n",
    "import pandas as pd\n"
   ]
  },
  {
   "cell_type": "code",
   "execution_count": 2,
   "metadata": {},
   "outputs": [],
   "source": [
    "from recommendation.utils import load_torch_model_training_from_task_id\n",
    "from recommendation.task.model.deep import DeepTraining"
   ]
  },
  {
   "cell_type": "code",
   "execution_count": 3,
   "metadata": {},
   "outputs": [
    {
     "data": {
      "text/plain": [
       "DeepTraining(project=criteo, data_transformation=none, data_transformation_params={}, test_size=0.2, dataset_split_method=holdout, val_size=0.2, n_splits=5, split_index=0, data_frames_preparation_extra_params={}, sampling_strategy=none, balance_fields=[], sampling_proportions={}, use_sampling_in_validation=False, eq_filters={}, neq_filters={}, isin_filters={}, seed=42, device=cuda, mode=fit, lr_find_iterations=100, batch_size=500, epochs=20, optimizer=adam, optimizer_params={}, learning_rate=0.001, lr_scheduler=None, lr_scheduler_params={}, loss_function=bce_loss, loss_function_params={}, early_stopping_patience=10, early_stopping_min_delta=1e-06, generator_workers=0, pin_memory=False, metrics=[\"loss\"], input_d_dim=13, input_c_dim=26, n_factors=10, dense_layers=[1024, 512, 256], dropout_prob=None, activation_function=relu, weight_init=lecun_normal, dropout_module=alpha)"
      ]
     },
     "execution_count": 3,
     "metadata": {},
     "output_type": "execute_result"
    }
   ],
   "source": [
    "model_cls = DeepTraining\n",
    "task_dir  = \"DeepTraining_relu____500_27ef511f18\"\n",
    "\n",
    "model = load_torch_model_training_from_task_id(model_cls, task_dir)\n",
    "model._output_path = task_dir\n",
    "model"
   ]
  },
  {
   "cell_type": "code",
   "execution_count": 4,
   "metadata": {
    "scrolled": true
   },
   "outputs": [
    {
     "name": "stderr",
     "output_type": "stream",
     "text": [
      "2019-08-22 17:40:01,303 : INFO : Loaded ['luigi.cfg']\n"
     ]
    },
    {
     "data": {
      "text/plain": [
       "DeepCTR(\n",
       "  (dense_block): Sequential(\n",
       "    (0): Sequential(\n",
       "      (0): Linear(in_features=273, out_features=1024, bias=True)\n",
       "      (1): ReLU()\n",
       "    )\n",
       "    (1): Sequential(\n",
       "      (0): Linear(in_features=1024, out_features=512, bias=True)\n",
       "      (1): ReLU()\n",
       "    )\n",
       "    (2): Sequential(\n",
       "      (0): Linear(in_features=512, out_features=256, bias=True)\n",
       "      (1): ReLU()\n",
       "    )\n",
       "  )\n",
       "  (logistic): Sequential(\n",
       "    (0): Linear(in_features=256, out_features=1, bias=True)\n",
       "    (1): Sigmoid()\n",
       "  )\n",
       "  (emb_c1): Embedding(377, 10)\n",
       "  (emb_c2): Embedding(472, 10)\n",
       "  (emb_c3): Embedding(23346, 10)\n",
       "  (emb_c4): Embedding(14437, 10)\n",
       "  (emb_c5): Embedding(105, 10)\n",
       "  (emb_c6): Embedding(12, 10)\n",
       "  (emb_c7): Embedding(6332, 10)\n",
       "  (emb_c8): Embedding(186, 10)\n",
       "  (emb_c9): Embedding(4, 10)\n",
       "  (emb_c10): Embedding(7724, 10)\n",
       "  (emb_c11): Embedding(3356, 10)\n",
       "  (emb_c12): Embedding(22061, 10)\n",
       "  (emb_c13): Embedding(2555, 10)\n",
       "  (emb_c14): Embedding(27, 10)\n",
       "  (emb_c15): Embedding(4069, 10)\n",
       "  (emb_c16): Embedding(18777, 10)\n",
       "  (emb_c17): Embedding(10, 10)\n",
       "  (emb_c18): Embedding(2067, 10)\n",
       "  (emb_c19): Embedding(1043, 10)\n",
       "  (emb_c20): Embedding(5, 10)\n",
       "  (emb_c21): Embedding(20756, 10)\n",
       "  (emb_c22): Embedding(12, 10)\n",
       "  (emb_c23): Embedding(15, 10)\n",
       "  (emb_c24): Embedding(7732, 10)\n",
       "  (emb_c25): Embedding(48, 10)\n",
       "  (emb_c26): Embedding(5962, 10)\n",
       ")"
      ]
     },
     "execution_count": 4,
     "metadata": {},
     "output_type": "execute_result"
    }
   ],
   "source": [
    "model.get_trained_module()"
   ]
  },
  {
   "cell_type": "code",
   "execution_count": 5,
   "metadata": {},
   "outputs": [
    {
     "data": {
      "text/plain": [
       "6042135"
      ]
     },
     "execution_count": 5,
     "metadata": {},
     "output_type": "execute_result"
    }
   ],
   "source": [
    "len(model.test_dataset)"
   ]
  },
  {
   "cell_type": "code",
   "execution_count": 6,
   "metadata": {},
   "outputs": [
    {
     "data": {
      "text/plain": [
       "['I1',\n",
       " 'I2',\n",
       " 'I3',\n",
       " 'I4',\n",
       " 'I5',\n",
       " 'I6',\n",
       " 'I7',\n",
       " 'I8',\n",
       " 'I9',\n",
       " 'I10',\n",
       " 'I11',\n",
       " 'I12',\n",
       " 'I13']"
      ]
     },
     "execution_count": 6,
     "metadata": {},
     "output_type": "execute_result"
    }
   ],
   "source": [
    "model.test_dataset._dense_columns"
   ]
  },
  {
   "cell_type": "code",
   "execution_count": null,
   "metadata": {},
   "outputs": [],
   "source": []
  },
  {
   "cell_type": "code",
   "execution_count": 7,
   "metadata": {},
   "outputs": [],
   "source": [
    "module = model.get_trained_module()"
   ]
  },
  {
   "cell_type": "code",
   "execution_count": 8,
   "metadata": {},
   "outputs": [],
   "source": [
    "c1 = model.test_dataset._data_frame[model.test_dataset._dense_columns]\n",
    "c2 = model.test_dataset._data_frame[model.test_dataset._categorical_columns]"
   ]
  },
  {
   "cell_type": "code",
   "execution_count": 9,
   "metadata": {},
   "outputs": [
    {
     "data": {
      "text/html": [
       "<div>\n",
       "<style scoped>\n",
       "    .dataframe tbody tr th:only-of-type {\n",
       "        vertical-align: middle;\n",
       "    }\n",
       "\n",
       "    .dataframe tbody tr th {\n",
       "        vertical-align: top;\n",
       "    }\n",
       "\n",
       "    .dataframe thead th {\n",
       "        text-align: right;\n",
       "    }\n",
       "</style>\n",
       "<table border=\"1\" class=\"dataframe\">\n",
       "  <thead>\n",
       "    <tr style=\"text-align: right;\">\n",
       "      <th></th>\n",
       "      <th>I1</th>\n",
       "      <th>I2</th>\n",
       "      <th>I3</th>\n",
       "      <th>I4</th>\n",
       "      <th>I5</th>\n",
       "      <th>I6</th>\n",
       "      <th>I7</th>\n",
       "      <th>I8</th>\n",
       "      <th>I9</th>\n",
       "      <th>I10</th>\n",
       "      <th>I11</th>\n",
       "      <th>I12</th>\n",
       "      <th>I13</th>\n",
       "    </tr>\n",
       "  </thead>\n",
       "  <tbody>\n",
       "    <tr>\n",
       "      <th>0</th>\n",
       "      <td>-1.0</td>\n",
       "      <td>29</td>\n",
       "      <td>50.0</td>\n",
       "      <td>5.0</td>\n",
       "      <td>7260.0</td>\n",
       "      <td>437.0</td>\n",
       "      <td>1.0</td>\n",
       "      <td>4.0</td>\n",
       "      <td>14.0</td>\n",
       "      <td>-1.0</td>\n",
       "      <td>1.0</td>\n",
       "      <td>0.0</td>\n",
       "      <td>6.0</td>\n",
       "    </tr>\n",
       "    <tr>\n",
       "      <th>1</th>\n",
       "      <td>27.0</td>\n",
       "      <td>17</td>\n",
       "      <td>45.0</td>\n",
       "      <td>28.0</td>\n",
       "      <td>2.0</td>\n",
       "      <td>28.0</td>\n",
       "      <td>27.0</td>\n",
       "      <td>29.0</td>\n",
       "      <td>28.0</td>\n",
       "      <td>1.0</td>\n",
       "      <td>1.0</td>\n",
       "      <td>-1.0</td>\n",
       "      <td>23.0</td>\n",
       "    </tr>\n",
       "    <tr>\n",
       "      <th>2</th>\n",
       "      <td>1.0</td>\n",
       "      <td>1</td>\n",
       "      <td>19.0</td>\n",
       "      <td>7.0</td>\n",
       "      <td>1.0</td>\n",
       "      <td>3.0</td>\n",
       "      <td>1.0</td>\n",
       "      <td>7.0</td>\n",
       "      <td>7.0</td>\n",
       "      <td>1.0</td>\n",
       "      <td>1.0</td>\n",
       "      <td>-1.0</td>\n",
       "      <td>2.0</td>\n",
       "    </tr>\n",
       "    <tr>\n",
       "      <th>3</th>\n",
       "      <td>4.0</td>\n",
       "      <td>1</td>\n",
       "      <td>-1.0</td>\n",
       "      <td>6.0</td>\n",
       "      <td>1051.0</td>\n",
       "      <td>134.0</td>\n",
       "      <td>4.0</td>\n",
       "      <td>35.0</td>\n",
       "      <td>72.0</td>\n",
       "      <td>1.0</td>\n",
       "      <td>1.0</td>\n",
       "      <td>-1.0</td>\n",
       "      <td>6.0</td>\n",
       "    </tr>\n",
       "    <tr>\n",
       "      <th>4</th>\n",
       "      <td>7.0</td>\n",
       "      <td>1</td>\n",
       "      <td>25.0</td>\n",
       "      <td>10.0</td>\n",
       "      <td>139.0</td>\n",
       "      <td>74.0</td>\n",
       "      <td>48.0</td>\n",
       "      <td>13.0</td>\n",
       "      <td>44.0</td>\n",
       "      <td>1.0</td>\n",
       "      <td>8.0</td>\n",
       "      <td>2.0</td>\n",
       "      <td>12.0</td>\n",
       "    </tr>\n",
       "  </tbody>\n",
       "</table>\n",
       "</div>"
      ],
      "text/plain": [
       "     I1  I2    I3    I4      I5     I6    I7    I8    I9  I10  I11  I12   I13\n",
       "0  -1.0  29  50.0   5.0  7260.0  437.0   1.0   4.0  14.0 -1.0  1.0  0.0   6.0\n",
       "1  27.0  17  45.0  28.0     2.0   28.0  27.0  29.0  28.0  1.0  1.0 -1.0  23.0\n",
       "2   1.0   1  19.0   7.0     1.0    3.0   1.0   7.0   7.0  1.0  1.0 -1.0   2.0\n",
       "3   4.0   1  -1.0   6.0  1051.0  134.0   4.0  35.0  72.0  1.0  1.0 -1.0   6.0\n",
       "4   7.0   1  25.0  10.0   139.0   74.0  48.0  13.0  44.0  1.0  8.0  2.0  12.0"
      ]
     },
     "execution_count": 9,
     "metadata": {},
     "output_type": "execute_result"
    }
   ],
   "source": [
    "c1.head()"
   ]
  },
  {
   "cell_type": "code",
   "execution_count": 10,
   "metadata": {},
   "outputs": [
    {
     "data": {
      "text/html": [
       "<div>\n",
       "<style scoped>\n",
       "    .dataframe tbody tr th:only-of-type {\n",
       "        vertical-align: middle;\n",
       "    }\n",
       "\n",
       "    .dataframe tbody tr th {\n",
       "        vertical-align: top;\n",
       "    }\n",
       "\n",
       "    .dataframe thead th {\n",
       "        text-align: right;\n",
       "    }\n",
       "</style>\n",
       "<table border=\"1\" class=\"dataframe\">\n",
       "  <thead>\n",
       "    <tr style=\"text-align: right;\">\n",
       "      <th></th>\n",
       "      <th>C1</th>\n",
       "      <th>C2</th>\n",
       "      <th>C3</th>\n",
       "      <th>C4</th>\n",
       "      <th>C5</th>\n",
       "      <th>C6</th>\n",
       "      <th>C7</th>\n",
       "      <th>C8</th>\n",
       "      <th>C9</th>\n",
       "      <th>C10</th>\n",
       "      <th>...</th>\n",
       "      <th>C17</th>\n",
       "      <th>C18</th>\n",
       "      <th>C19</th>\n",
       "      <th>C20</th>\n",
       "      <th>C21</th>\n",
       "      <th>C22</th>\n",
       "      <th>C23</th>\n",
       "      <th>C24</th>\n",
       "      <th>C25</th>\n",
       "      <th>C26</th>\n",
       "    </tr>\n",
       "  </thead>\n",
       "  <tbody>\n",
       "    <tr>\n",
       "      <th>0</th>\n",
       "      <td>8</td>\n",
       "      <td>113</td>\n",
       "      <td>0</td>\n",
       "      <td>1377</td>\n",
       "      <td>1</td>\n",
       "      <td>5</td>\n",
       "      <td>80</td>\n",
       "      <td>6</td>\n",
       "      <td>1</td>\n",
       "      <td>3887</td>\n",
       "      <td>...</td>\n",
       "      <td>7</td>\n",
       "      <td>174</td>\n",
       "      <td>1</td>\n",
       "      <td>2</td>\n",
       "      <td>0</td>\n",
       "      <td>1</td>\n",
       "      <td>10</td>\n",
       "      <td>938</td>\n",
       "      <td>4</td>\n",
       "      <td>384</td>\n",
       "    </tr>\n",
       "    <tr>\n",
       "      <th>1</th>\n",
       "      <td>1</td>\n",
       "      <td>259</td>\n",
       "      <td>0</td>\n",
       "      <td>0</td>\n",
       "      <td>1</td>\n",
       "      <td>1</td>\n",
       "      <td>636</td>\n",
       "      <td>20</td>\n",
       "      <td>1</td>\n",
       "      <td>490</td>\n",
       "      <td>...</td>\n",
       "      <td>1</td>\n",
       "      <td>559</td>\n",
       "      <td>1</td>\n",
       "      <td>2</td>\n",
       "      <td>0</td>\n",
       "      <td>1</td>\n",
       "      <td>2</td>\n",
       "      <td>4507</td>\n",
       "      <td>7</td>\n",
       "      <td>1367</td>\n",
       "    </tr>\n",
       "    <tr>\n",
       "      <th>2</th>\n",
       "      <td>23</td>\n",
       "      <td>29</td>\n",
       "      <td>2682</td>\n",
       "      <td>2081</td>\n",
       "      <td>1</td>\n",
       "      <td>1</td>\n",
       "      <td>3934</td>\n",
       "      <td>20</td>\n",
       "      <td>1</td>\n",
       "      <td>0</td>\n",
       "      <td>...</td>\n",
       "      <td>6</td>\n",
       "      <td>33</td>\n",
       "      <td>23</td>\n",
       "      <td>4</td>\n",
       "      <td>2472</td>\n",
       "      <td>1</td>\n",
       "      <td>2</td>\n",
       "      <td>1384</td>\n",
       "      <td>7</td>\n",
       "      <td>1047</td>\n",
       "    </tr>\n",
       "    <tr>\n",
       "      <th>3</th>\n",
       "      <td>4</td>\n",
       "      <td>323</td>\n",
       "      <td>2437</td>\n",
       "      <td>1904</td>\n",
       "      <td>1</td>\n",
       "      <td>6</td>\n",
       "      <td>619</td>\n",
       "      <td>2</td>\n",
       "      <td>1</td>\n",
       "      <td>0</td>\n",
       "      <td>...</td>\n",
       "      <td>2</td>\n",
       "      <td>784</td>\n",
       "      <td>2</td>\n",
       "      <td>3</td>\n",
       "      <td>2250</td>\n",
       "      <td>2</td>\n",
       "      <td>10</td>\n",
       "      <td>1278</td>\n",
       "      <td>2</td>\n",
       "      <td>3</td>\n",
       "    </tr>\n",
       "    <tr>\n",
       "      <th>4</th>\n",
       "      <td>4</td>\n",
       "      <td>37</td>\n",
       "      <td>1967</td>\n",
       "      <td>1570</td>\n",
       "      <td>1</td>\n",
       "      <td>1</td>\n",
       "      <td>855</td>\n",
       "      <td>2</td>\n",
       "      <td>1</td>\n",
       "      <td>1610</td>\n",
       "      <td>...</td>\n",
       "      <td>8</td>\n",
       "      <td>57</td>\n",
       "      <td>1</td>\n",
       "      <td>4</td>\n",
       "      <td>1833</td>\n",
       "      <td>2</td>\n",
       "      <td>1</td>\n",
       "      <td>1062</td>\n",
       "      <td>5</td>\n",
       "      <td>807</td>\n",
       "    </tr>\n",
       "  </tbody>\n",
       "</table>\n",
       "<p>5 rows × 26 columns</p>\n",
       "</div>"
      ],
      "text/plain": [
       "   C1   C2    C3    C4  C5  C6    C7  C8  C9   C10  ...  C17  C18  C19  C20  \\\n",
       "0   8  113     0  1377   1   5    80   6   1  3887  ...    7  174    1    2   \n",
       "1   1  259     0     0   1   1   636  20   1   490  ...    1  559    1    2   \n",
       "2  23   29  2682  2081   1   1  3934  20   1     0  ...    6   33   23    4   \n",
       "3   4  323  2437  1904   1   6   619   2   1     0  ...    2  784    2    3   \n",
       "4   4   37  1967  1570   1   1   855   2   1  1610  ...    8   57    1    4   \n",
       "\n",
       "    C21  C22  C23   C24  C25   C26  \n",
       "0     0    1   10   938    4   384  \n",
       "1     0    1    2  4507    7  1367  \n",
       "2  2472    1    2  1384    7  1047  \n",
       "3  2250    2   10  1278    2     3  \n",
       "4  1833    2    1  1062    5   807  \n",
       "\n",
       "[5 rows x 26 columns]"
      ]
     },
     "execution_count": 10,
     "metadata": {},
     "output_type": "execute_result"
    }
   ],
   "source": [
    "c2.head()"
   ]
  },
  {
   "cell_type": "code",
   "execution_count": 11,
   "metadata": {},
   "outputs": [
    {
     "name": "stderr",
     "output_type": "stream",
     "text": [
      "100%|██████████| 12085/12085 [01:28<00:00, 136.67it/s]\n"
     ]
    }
   ],
   "source": [
    "model.generate_submission_file()"
   ]
  },
  {
   "cell_type": "code",
   "execution_count": 12,
   "metadata": {},
   "outputs": [
    {
     "ename": "NameError",
     "evalue": "name 'a' is not defined",
     "output_type": "error",
     "traceback": [
      "\u001b[0;31m---------------------------------------------------------------------------\u001b[0m",
      "\u001b[0;31mNameError\u001b[0m                                 Traceback (most recent call last)",
      "\u001b[0;32m<ipython-input-12-3f786850e387>\u001b[0m in \u001b[0;36m<module>\u001b[0;34m\u001b[0m\n\u001b[0;32m----> 1\u001b[0;31m \u001b[0ma\u001b[0m\u001b[0;34m\u001b[0m\u001b[0m\n\u001b[0m",
      "\u001b[0;31mNameError\u001b[0m: name 'a' is not defined"
     ]
    }
   ],
   "source": [
    "a"
   ]
  },
  {
   "cell_type": "code",
   "execution_count": null,
   "metadata": {
    "scrolled": true
   },
   "outputs": [],
   "source": [
    "# data_loader = model.get_test_generator()\n",
    "# data_loader._train = False\n",
    "# module = module.to(torch.device(\"cpu\"))\n",
    "# for batch_idx, (xd, xc) in enumerate(data_loader):\n",
    "#     print(batch_idx, module(xd, xc).reshape(-1))\n",
    "#     \n",
    "\n",
    "#module = module.to(torch.device(\"cpu\"))\n",
    "#module.forward(torch.from_numpy(c1.values), torch.from_numpy(c2.values))"
   ]
  },
  {
   "cell_type": "code",
   "execution_count": null,
   "metadata": {},
   "outputs": [],
   "source": [
    "#model.generate_submission_file(module)\n",
    "\n",
    "model.batch_size = 500\n",
    "model.generator_workers = 0\n",
    "model.device = 'cpu'\n",
    "\n",
    "\n",
    "module      = model.get_trained_module()\n",
    "data_loader = model.get_test_generator()"
   ]
  },
  {
   "cell_type": "code",
   "execution_count": null,
   "metadata": {},
   "outputs": [],
   "source": [
    "from tqdm import tqdm\n",
    "tqdm.pandas()\n",
    "from recommendation.utils import chunks\n",
    "import math\n",
    "import numpy as np\n",
    "\n",
    "df_test = model.test_dataset._data_frame\n",
    "batch_size = 500\n",
    "\n",
    "scores: List[float] = []\n",
    "for indices in tqdm(chunks(range(len(df_test)), batch_size),\n",
    "                    total=math.ceil(len(df_test) / batch_size)):\n",
    "    rows: pd.DataFrame = df_test.iloc[indices]\n",
    "        \n",
    "    dense_columns = torch.tensor(rows[model.test_dataset._dense_columns].values,       dtype=torch.float64)\n",
    "    cat_columns   = torch.tensor(rows[model.test_dataset._categorical_columns].values, dtype=torch.int64)\n",
    "    batch_scores: torch.Tensor = module(dense_columns.to(torch.device(\"cuda\")),\n",
    "                                        cat_columns.to(torch.device(\"cuda\")))\n",
    "    scores.extend(batch_scores.detach().cpu().numpy().tolist())\n",
    "    \n",
    "scores = np.reshape(scores,-1)\n",
    "\n",
    "df = pd.DataFrame({'Predicted': scores})\n",
    "df['Id'] = [60000000+(x) for x in range(len(df))]\n",
    "df.to_csv(os.path.join(output_path, \"submission.csv\"), index=False)\n",
    "\n",
    "df.head()"
   ]
  },
  {
   "cell_type": "code",
   "execution_count": null,
   "metadata": {},
   "outputs": [],
   "source": [
    "%%time\n",
    "\n",
    "import os\n",
    "output_path = '/media/marlesson/Backup/workspace/DeepFood/recommendation-system/output/models/DeepTraining/results/DeepTraining_relu____500_27ef511f18'\n",
    "\n",
    "\n",
    "def generate_submission_file(model, data_loader):\n",
    "    with torch.no_grad():\n",
    "        model  = model#.to(torch.device(\"cpu\"))\n",
    "        probas = []\n",
    "        \n",
    "        for batch_idx, (xd, xc) in enumerate(data_loader):\n",
    "             xd = xd.to(torch.device(\"cuda\"))\n",
    "             xc = xc.to(torch.device(\"cuda\"))\n",
    "             probas.extend(model(xd, xc).reshape(-1).cpu().numpy())\n",
    "             print(batch_idx, xd.shape)\n",
    "\n",
    "             if batch_idx > 10:\n",
    "                break\n",
    "\n",
    "        print(probas[:3])\n",
    "        #df = pd.DataFrame({'Predicted': probas})\n",
    "        #df['Id'] = [60000000+(x) for x in range(len(df))]\n",
    "        #df.to_csv(os.path.join(output_path, \"submission.csv\"), index=False)\n",
    "        \n",
    "\n",
    "generate_submission_file(module, data_loader)        "
   ]
  },
  {
   "cell_type": "code",
   "execution_count": null,
   "metadata": {},
   "outputs": [],
   "source": [
    "#model.device = 'cuda'"
   ]
  },
  {
   "cell_type": "code",
   "execution_count": null,
   "metadata": {},
   "outputs": [],
   "source": []
  },
  {
   "cell_type": "code",
   "execution_count": null,
   "metadata": {},
   "outputs": [],
   "source": [
    "model.batch_size, len(data_loader)"
   ]
  },
  {
   "cell_type": "code",
   "execution_count": null,
   "metadata": {},
   "outputs": [],
   "source": []
  },
  {
   "cell_type": "code",
   "execution_count": null,
   "metadata": {},
   "outputs": [],
   "source": []
  },
  {
   "cell_type": "code",
   "execution_count": null,
   "metadata": {},
   "outputs": [],
   "source": []
  },
  {
   "cell_type": "code",
   "execution_count": null,
   "metadata": {},
   "outputs": [],
   "source": []
  },
  {
   "cell_type": "code",
   "execution_count": null,
   "metadata": {},
   "outputs": [],
   "source": []
  },
  {
   "cell_type": "code",
   "execution_count": null,
   "metadata": {},
   "outputs": [],
   "source": []
  },
  {
   "cell_type": "code",
   "execution_count": null,
   "metadata": {},
   "outputs": [],
   "source": []
  },
  {
   "cell_type": "code",
   "execution_count": null,
   "metadata": {},
   "outputs": [],
   "source": [
    "# Loop over \n",
    "def step(model, inputs):\n",
    "    xd, xc  = inputs # ignore label\n",
    "    preds  = model(xd, xc).reshape(-1).numpy()\n",
    "    return preds\n",
    "\n",
    "\n",
    "def predict(model, dataloader):\n",
    "    model  = model.to(torch.device(\"cpu\", non_blocking=True))\n",
    "    prediction_list = []\n",
    "    for i, (xd, xc) in enumerate(dataloader):\n",
    "        pred = step(model, (xd, xc))\n",
    "        prediction_list.append(pred)\n",
    "        print(i)\n",
    "    return prediction_list"
   ]
  },
  {
   "cell_type": "code",
   "execution_count": null,
   "metadata": {
    "scrolled": true
   },
   "outputs": [],
   "source": [
    "with torch.no_grad():\n",
    "    predict(module, data_loader)"
   ]
  },
  {
   "cell_type": "code",
   "execution_count": null,
   "metadata": {},
   "outputs": [],
   "source": [
    "model.test_dataset._data_frame.shape[0]/500"
   ]
  },
  {
   "cell_type": "code",
   "execution_count": null,
   "metadata": {},
   "outputs": [],
   "source": []
  }
 ],
 "metadata": {
  "kernelspec": {
   "display_name": "Python 3",
   "language": "python",
   "name": "python3"
  },
  "language_info": {
   "codemirror_mode": {
    "name": "ipython",
    "version": 3
   },
   "file_extension": ".py",
   "mimetype": "text/x-python",
   "name": "python",
   "nbconvert_exporter": "python",
   "pygments_lexer": "ipython3",
   "version": "3.6.5"
  },
  "toc": {
   "base_numbering": 1,
   "nav_menu": {},
   "number_sections": true,
   "sideBar": true,
   "skip_h1_title": false,
   "title_cell": "Table of Contents",
   "title_sidebar": "Contents",
   "toc_cell": false,
   "toc_position": {},
   "toc_section_display": true,
   "toc_window_display": false
  }
 },
 "nbformat": 4,
 "nbformat_minor": 2
}
